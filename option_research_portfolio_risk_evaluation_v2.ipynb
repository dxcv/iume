{
 "cells": [
  {
   "cell_type": "code",
   "execution_count": 1,
   "metadata": {
    "ExecuteTime": {
     "end_time": "2019-03-18T02:03:23.674908Z",
     "start_time": "2019-03-18T02:03:21.588453Z"
    },
    "code_folding": [
     0
    ],
    "collapsed": true
   },
   "outputs": [],
   "source": [
    "#import\n",
    "import pandas as pd\n",
    "import numpy as np\n",
    "import scipy.io as sio\n",
    "import os\n",
    "import h5py\n",
    "from datetime import *\n",
    "%matplotlib inline\n",
    "import matplotlib\n",
    "from mpl_toolkits.mplot3d import Axes3D\n",
    "import matplotlib.pyplot as plt\n",
    "from matplotlib import cm\n",
    "from matplotlib.ticker import LinearLocator, FormatStrFormatter\n",
    "import seaborn as sns\n",
    "import matplotlib.gridspec as gridspec\n",
    "from matplotlib.font_manager import FontProperties\n",
    "plt.rcParams['font.sans-serif'] = ['SimHei']\n",
    "plt.rcParams['axes.unicode_minus'] = False\n",
    "myfont = FontProperties(fname=r'C:\\Windows\\Fonts\\simhei.ttf', size=10)\n",
    "sns.set(font=myfont.get_name(),style=\"whitegrid\",palette=\"muted\",color_codes=True)\n",
    "import warnings\n",
    "warnings.filterwarnings(\"ignore\")\n",
    "from statsmodels.regression.linear_model import OLS\n",
    "import random\n",
    "from scipy import stats\n",
    "from scipy.optimize import least_squares\n",
    "import copy\n",
    "import math\n",
    "from sklearn.neighbors import KernelDensity\n",
    "import scipy.stats\n",
    "import statsmodels as sm\n",
    "import QuantLib as ql\n",
    "import requests\n",
    "from lxml import etree\n",
    "from general_function import *"
   ]
  },
  {
   "cell_type": "code",
   "execution_count": 2,
   "metadata": {
    "ExecuteTime": {
     "end_time": "2019-03-18T02:03:48.460596Z",
     "start_time": "2019-03-18T02:03:23.676871Z"
    },
    "code_folding": [
     0
    ],
    "collapsed": true
   },
   "outputs": [],
   "source": [
    "#full_data\n",
    "os.chdir(r'C:/Users/bj/Desktop/刘泽丹/Code/')\n",
    "full = pd.read_csv('full_data_for_generator_from_db.csv')\n",
    "full.columns = [int(i) for i in full.columns]\n",
    "full[4] = [int(str(date.fromordinal(i-366)).replace('-','')) for i in full[4]]\n",
    "full.set_index([0,4],inplace=True)\n",
    "full_nonright = pd.read_csv('full_data_for_mission.csv')\n",
    "full_nonright.columns = [int(i) for i in full_nonright.columns]\n",
    "full_nonright[4] = [int(str(date.fromordinal(int(i)-366)).replace('-','')) for i in full_nonright[4]]\n",
    "full_nonright.set_index([0,4],inplace = True)\n",
    "return_info = pd.read_csv('full_data.csv')\n",
    "return_info.set_index(['S_INFO_WINDCODE','TRADE_DT'],inplace=True)\n",
    "zzIcData = pd.read_csv('zz500_from_db.csv')\n",
    "zzIcData.columns = [int(i) for i in zzIcData.columns]\n",
    "zzIcData[1] = [int(str(date.fromordinal(int(i)-366)).replace('-','')) for i in zzIcData[1]]\n",
    "zzIcData.set_index(1,inplace=True)"
   ]
  },
  {
   "cell_type": "code",
   "execution_count": 4,
   "metadata": {
    "ExecuteTime": {
     "end_time": "2019-03-18T02:08:24.319297Z",
     "start_time": "2019-03-18T02:08:22.850098Z"
    },
    "collapsed": true
   },
   "outputs": [],
   "source": [
    "dividendyield = pd.read_csv('dividendyield2.csv',index_col = 0)\n",
    "dividendyield.columns = [int(i) for i in dividendyield.columns]"
   ]
  },
  {
   "cell_type": "code",
   "execution_count": 5,
   "metadata": {
    "ExecuteTime": {
     "end_time": "2019-03-18T02:08:33.947745Z",
     "start_time": "2019-03-18T02:08:24.321173Z"
    }
   },
   "outputs": [
    {
     "name": "stdout",
     "output_type": "stream",
     "text": [
      "Welcome to use Wind Quant API for Python (WindPy)!\n",
      "\n",
      "COPYRIGHT (C) 2017 WIND INFORMATION CO., LTD. ALL RIGHTS RESERVED.\n",
      "IN NO CIRCUMSTANCE SHALL WIND BE RESPONSIBLE FOR ANY DAMAGES OR LOSSES CAUSED BY USING WIND QUANT API FOR Python.\n"
     ]
    },
    {
     "data": {
      "text/plain": [
       ".ErrorCode=0\n",
       ".Data=[OK!]"
      ]
     },
     "execution_count": 5,
     "metadata": {},
     "output_type": "execute_result"
    }
   ],
   "source": [
    "from WindPy import *\n",
    "w.start()"
   ]
  },
  {
   "cell_type": "code",
   "execution_count": 6,
   "metadata": {
    "ExecuteTime": {
     "end_time": "2019-03-15T09:19:27.531688Z",
     "start_time": "2019-03-15T09:19:27.323250Z"
    },
    "collapsed": true
   },
   "outputs": [],
   "source": [
    "first_date = '2017-01-02'\n",
    "last_date = '2019-03-15'\n",
    "Rdata = w.edb(\"M0017138\", first_date, last_date, \"Fill=Previous\")\n",
    "R = pd.DataFrame(Rdata.Data[0], index=Rdata.Times, columns=['R'])['R']\n",
    "R.index = [int(str(i).replace('-', '')) for i in R.index]\n",
    "R.to_csv('Shibor_overnight.csv')"
   ]
  },
  {
   "cell_type": "code",
   "execution_count": 6,
   "metadata": {
    "ExecuteTime": {
     "end_time": "2019-03-18T02:08:35.990990Z",
     "start_time": "2019-03-18T02:08:35.978995Z"
    },
    "collapsed": true,
    "scrolled": true
   },
   "outputs": [],
   "source": [
    "R = pd.read_csv('Shibor_overnight.csv',header=None,index_col=0)[1]"
   ]
  },
  {
   "cell_type": "code",
   "execution_count": null,
   "metadata": {
    "collapsed": true
   },
   "outputs": [],
   "source": []
  },
  {
   "cell_type": "code",
   "execution_count": null,
   "metadata": {
    "collapsed": true
   },
   "outputs": [],
   "source": []
  },
  {
   "cell_type": "code",
   "execution_count": null,
   "metadata": {
    "collapsed": true
   },
   "outputs": [],
   "source": []
  },
  {
   "cell_type": "code",
   "execution_count": 131,
   "metadata": {
    "ExecuteTime": {
     "end_time": "2019-03-18T06:57:21.565880Z",
     "start_time": "2019-03-18T06:57:18.488083Z"
    },
    "code_folding": [],
    "collapsed": true
   },
   "outputs": [],
   "source": [
    "class portfolio():\n",
    "    #initialize as no stock holding and option holding\n",
    "    #current date is set as real-time today\n",
    "    #read risk-free rate and stocks' dividend rates for futher use\n",
    "    def __init__(self):\n",
    "        self.stock_portfolio = pd.DataFrame()\n",
    "        self.option_portfolio = pd.DataFrame()\n",
    "        self.basic_summary = pd.DataFrame()\n",
    "        self.current_date = datetime.now().year * 10000 + datetime.now().month * 100 + datetime.now().day\n",
    "        self.background_data = {'r':R, 'q':dividendyield}\n",
    "    \n",
    "    #add a stock holding\n",
    "    def add_stock_term(self, stock_code, stock_shares, stock_start_price, start_date):\n",
    "        add_stock_df = pd.DataFrame([[stock_code, stock_shares, stock_start_price, start_date]], index = [len(self.stock_portfolio)], \\\n",
    "            columns = ['stock_code', 'stock_shares', 'stock_start_price', 'start_date'])\n",
    "        self.stock_portfolio = pd.concat([self.stock_portfolio, add_stock_df]).sort_values('stock_code')\n",
    "        self.combine_stockNoption_portfolio()\n",
    "        return\n",
    "    \n",
    "    #add an option holding\n",
    "    def add_option_term(self, stock_code, option_shares, stock_start_price, option_strike_price, option_price, start_date, maturity_date, \\\n",
    "        option_type):\n",
    "        add_option_df = pd.DataFrame([[stock_code, option_shares, stock_start_price, option_strike_price, option_price, start_date, \\\n",
    "            maturity_date, option_type]], index = [len(self.option_portfolio)], columns = ['stock_code', 'option_shares', \\\n",
    "            'stock_start_price', 'option_strike_price', 'option_price', 'start_date', 'maturity_date', 'option_type'])\n",
    "        self.option_portfolio = pd.concat([self.option_portfolio, add_option_df]).sort_values('stock_code')\n",
    "        self.combine_stockNoption_portfolio()\n",
    "        return\n",
    "    \n",
    "    #simply combine stock and option holdings together\n",
    "    def combine_stockNoption_portfolio(self):\n",
    "        self.basic_summary = pd.concat([self.stock_portfolio,self.option_portfolio]).loc[:,['stock_code', 'start_date', 'maturity_date', \\\n",
    "            'stock_start_price', 'stock_shares', 'option_shares', 'option_strike_price', 'option_price', 'option_type']]\\\n",
    "            .sort_values('stock_code').reset_index(drop = True)\n",
    "        return\n",
    "    \n",
    "    #update real-time current price of stocks/underlying stocks from sina\n",
    "    def update_current_price(self):\n",
    "        all_holding_stocks = ''.join(['sz'+'0'*(6 - len(str(stock_code)))+str(stock_code)+',' if stock_code//100000!=6 \\\n",
    "            else 'sh'+str(stock_code)+',' for stock_code in self.basic_summary['stock_code'].unique().tolist()])[:-1]\n",
    "        r = requests.get('http://hq.sinajs.cn/list='+all_holding_stocks)\n",
    "        html = etree.HTML(r.content).xpath('/html/body/p/text()')[0].replace('\\n','').split(';')[:-1]\n",
    "        all_holding_stocks_info = pd.Series()\n",
    "        for stock_info in html:\n",
    "            try:\n",
    "                all_holding_stocks_info.loc[int(stock_info.split('=')[0][-6:])] = float(stock_info.split(',')[3])\n",
    "            except:\n",
    "                all_holding_stocks_info.loc[int(stock_info.split('=')[0][-6:])] = np.nan\n",
    "        self.basic_summary['current_price'] = all_holding_stocks_info.loc[self.basic_summary['stock_code']].tolist()\n",
    "        return\n",
    "    \n",
    "    #update current date\n",
    "    def update_todate(self):\n",
    "        self.current_date = datetime.now().year * 10000 + datetime.now().month * 100 + datetime.now().day\n",
    "        return\n",
    "    \n",
    "    #get stocks/underlying stocks' history volatility from return_info dataframe\n",
    "    def update_historyvolatility(self, back_period = 60):\n",
    "        all_holding_stocks_info = pd.Series()\n",
    "        for stock_code in self.basic_summary['stock_code'].unique():\n",
    "            try:\n",
    "                all_holding_stocks_info.loc[stock_code] = (return_info.xs(stock_code, level = 0)['cc']\\\n",
    "                    [return_info.xs(stock_code, level = 0)['cc'].index<=self.current_date].iloc[-back_period:]/100).std()\n",
    "            except:\n",
    "                all_holding_stocks_info.loc[stock_code] = np.nan\n",
    "        self.basic_summary[str(back_period)+'_history_volatility'] = all_holding_stocks_info.loc[self.basic_summary['stock_code']].tolist()\n",
    "        return\n",
    "    \n",
    "    #update functions all-together\n",
    "    def update(self):\n",
    "        self.update_current_price()\n",
    "        self.update_todate()\n",
    "        self.update_historyvolatility(5)\n",
    "        self.update_historyvolatility(10)\n",
    "        self.update_historyvolatility(20)\n",
    "        self.update_historyvolatility(60)\n",
    "        return\n",
    "    \n",
    "    #calculate a stock term's current profit&loss\n",
    "    def calculate_single_profitNloss_stock(self,stock_shares, stock_start_price, stock_current_price):\n",
    "        return stock_shares * (stock_current_price - stock_start_price)\n",
    "    \n",
    "    #calculate an option term's current profit&loss\n",
    "    def calculate_single_profitNloss_option(self,option_shares, option_strike_price, stock_current_price, option_price, option_type):\n",
    "        if option_type == 'European-Call' or option_type == 'American-Call':\n",
    "            if option_shares > 0:\n",
    "                return option_shares * (max(stock_current_price - option_strike_price, 0) - option_price)\n",
    "            else:\n",
    "                return option_shares * (max(stock_current_price - option_strike_price, 0) - option_price)\n",
    "        elif option_type == 'European-Put' or option_type == 'American-Put':\n",
    "            if option_shares > 0:\n",
    "                return option_shares * (max(option_strike_price - stock_current_price, 0) - option_price)\n",
    "            else:\n",
    "                return option_shares * (max(option_strike_price - stock_current_price, 0) - option_price)\n",
    "        else:\n",
    "            return\n",
    "    \n",
    "    def calculate_single_optionprice(self,stock_start_price, stock_volatility, stock_dividend, option_strike_price, option_type, risk_free, \\\n",
    "        calculation_date, maturity_date):\n",
    "        calculation_date = int(calculation_date)\n",
    "        maturity_date = int(maturity_date)\n",
    "        calculation_date = ql.Date(calculation_date%100, calculation_date%10000//100, calculation_date%100000000//10000)\n",
    "        maturity_date = ql.Date(maturity_date%100, maturity_date%10000//100, maturity_date%100000000//10000)\n",
    "        day_count = ql.Business252()\n",
    "        calendar = ql.China()\n",
    "        ql.Settings.instance().evaluationDate = calculation_date\n",
    "        if option_type == 'American-Call':\n",
    "            option_type = ql.Option.Call\n",
    "            payoff = ql.PlainVanillaPayoff(option_type, option_strike_price)\n",
    "            exercise = ql.AmericanExercise(calculation_date, maturity_date)\n",
    "            option_result = ql.VanillaOption(payoff, exercise)\n",
    "        elif option_type == 'American-Put':\n",
    "            option_type = ql.Option.Put\n",
    "            payoff = ql.PlainVanillaPayoff(option_type, option_strike_price)\n",
    "            exercise = ql.AmericanExercise(calculation_date, maturity_date)\n",
    "            option_result = ql.VanillaOption(payoff, exercise)\n",
    "        elif option_type == 'European-Call':\n",
    "            option_type = ql.Option.Call\n",
    "            payoff = ql.PlainVanillaPayoff(option_type, option_strike_price)\n",
    "            exercise = ql.EuropeanExercise(calculation_date, maturity_date)\n",
    "            option_result = ql.VanillaOption(payoff, exercise)\n",
    "        elif option_type == 'European-Put':\n",
    "            option_type = ql.Option.Put\n",
    "            payoff = ql.PlainVanillaPayoff(option_type, option_strike_price)\n",
    "            exercise = ql.EuropeanExercise(calculation_date, maturity_date)\n",
    "            option_result = ql.VanillaOption(payoff, exercise)\n",
    "        else:\n",
    "            return\n",
    "        spot_handle = ql.QuoteHandle(ql.SimpleQuote(stock_start_price))\n",
    "        riskfree_termstructure = ql.YieldTermStructureHandle(ql.FlatForward(calculation_date, risk_free, day_count))\n",
    "        dividend_termstructure = ql.YieldTermStructureHandle(ql.FlatForward(calculation_date, stock_dividend, day_count))\n",
    "        volatility_termstructure = ql.BlackVolTermStructureHandle(ql.BlackConstantVol(calculation_date, calendar, stock_volatility, \\\n",
    "            day_count))\n",
    "        bsm_process = ql.BlackScholesMertonProcess(spot_handle, dividend_termstructure, riskfree_termstructure, volatility_termstructure)\n",
    "        engine = ql.BinomialVanillaEngine(bsm_process, 'crr', 200)\n",
    "        option_result.setPricingEngine(engine)\n",
    "        return option_result.NPV()\n",
    "    \n",
    "    def calculate_single_greeks(self,stock_start_price, stock_volatility, stock_dividend, option_strike_price, option_type, risk_free, \\\n",
    "        calculation_date, maturity_date):\n",
    "        calculation_date = int(calculation_date)\n",
    "        maturity_date = int(maturity_date)\n",
    "        calculation_date = ql.Date(calculation_date%100, calculation_date%10000//100, calculation_date%100000000//10000)\n",
    "        maturity_date = ql.Date(maturity_date%100, maturity_date%10000//100, maturity_date%100000000//10000)\n",
    "        day_count = ql.Business252()\n",
    "        calendar = ql.China()\n",
    "        ql.Settings.instance().evaluationDate = calculation_date\n",
    "        if option_type == 'American-Call':\n",
    "            option_type = ql.Option.Call\n",
    "            payoff = ql.PlainVanillaPayoff(option_type, option_strike_price)\n",
    "            exercise = ql.AmericanExercise(calculation_date, maturity_date)\n",
    "            option_result = ql.VanillaOption(payoff, exercise)\n",
    "        elif option_type == 'American-Put':\n",
    "            option_type = ql.Option.Put\n",
    "            payoff = ql.PlainVanillaPayoff(option_type, option_strike_price)\n",
    "            exercise = ql.AmericanExercise(calculation_date, maturity_date)\n",
    "            option_result = ql.VanillaOption(payoff, exercise)\n",
    "        elif option_type == 'European-Call':\n",
    "            option_type = ql.Option.Call\n",
    "            payoff = ql.PlainVanillaPayoff(option_type, option_strike_price)\n",
    "            exercise = ql.EuropeanExercise(calculation_date, maturity_date)\n",
    "            option_result = ql.VanillaOption(payoff, exercise)\n",
    "        elif option_type == 'European-Put':\n",
    "            option_type = ql.Option.Put\n",
    "            payoff = ql.PlainVanillaPayoff(option_type, option_strike_price)\n",
    "            exercise = ql.EuropeanExercise(calculation_date, maturity_date)\n",
    "            option_result = ql.VanillaOption(payoff, exercise)\n",
    "        else:\n",
    "            return\n",
    "        spot_handle = ql.QuoteHandle(ql.SimpleQuote(stock_start_price))\n",
    "        riskfree_termstructure = ql.YieldTermStructureHandle(ql.FlatForward(calculation_date, risk_free, day_count))\n",
    "        dividend_termstructure = ql.YieldTermStructureHandle(ql.FlatForward(calculation_date, stock_dividend, day_count))\n",
    "        volatility_termstructure = ql.BlackVolTermStructureHandle(ql.BlackConstantVol(calculation_date, calendar, stock_volatility, \\\n",
    "            day_count))\n",
    "        bsm_process = ql.BlackScholesMertonProcess(spot_handle, dividend_termstructure, riskfree_termstructure, volatility_termstructure)\n",
    "        engine = ql.BinomialVanillaEngine(bsm_process, 'crr', 200)\n",
    "        option_result.setPricingEngine(engine)\n",
    "        return option_result\n",
    "    \n",
    "    def calculate_single_impliedvolatility(self,stock_start_price, stock_dividend, option_price, option_strike_price, option_type, \\\n",
    "        risk_free, start_date, maturity_date):\n",
    "        start_date = int(start_date)\n",
    "        maturity_date = int(maturity_date)\n",
    "        start_date = ql.Date(start_date%100, start_date%10000//100, start_date%100000000//10000)\n",
    "        maturity_date = ql.Date(maturity_date%100, maturity_date%10000//100, maturity_date%100000000//10000)\n",
    "        day_count = ql.Business252()\n",
    "        calendar = ql.China()\n",
    "        ql.Settings.instance().evaluationDate = start_date\n",
    "        if option_type == 'American-Call':\n",
    "            option_type = ql.Option.Call\n",
    "            payoff = ql.PlainVanillaPayoff(option_type, option_strike_price)\n",
    "            exercise = ql.AmericanExercise(start_date, maturity_date)\n",
    "            option_result = ql.VanillaOption(payoff, exercise)\n",
    "        elif option_type == 'American-Put':\n",
    "            option_type = ql.Option.Put\n",
    "            payoff = ql.PlainVanillaPayoff(option_type, option_strike_price)\n",
    "            exercise = ql.AmericanExercise(start_date, maturity_date)\n",
    "            option_result = ql.VanillaOption(payoff, exercise)\n",
    "        elif option_type == 'European-Call':\n",
    "            option_type = ql.Option.Call\n",
    "            payoff = ql.PlainVanillaPayoff(option_type, option_strike_price)\n",
    "            exercise = ql.EuropeanExercise(start_date, maturity_date)\n",
    "            option_result = ql.VanillaOption(payoff, exercise)\n",
    "        elif option_type == 'European-Put':\n",
    "            option_type = ql.Option.Put\n",
    "            payoff = ql.PlainVanillaPayoff(option_type, option_strike_price)\n",
    "            exercise = ql.EuropeanExercise(start_date, maturity_date)\n",
    "            option_result = ql.VanillaOption(payoff, exercise)\n",
    "        else:\n",
    "            return\n",
    "        spot_handle = ql.QuoteHandle(ql.SimpleQuote(stock_start_price))\n",
    "        riskfree_termstructure = ql.YieldTermStructureHandle(ql.FlatForward(start_date, risk_free, day_count))\n",
    "        dividend_termstructure = ql.YieldTermStructureHandle(ql.FlatForward(start_date, stock_dividend, day_count))\n",
    "        volatility_termstructure = ql.BlackVolTermStructureHandle(ql.BlackConstantVol(start_date, calendar, 0.4, day_count))\n",
    "        bsm_process = ql.BlackScholesMertonProcess(spot_handle, dividend_termstructure, riskfree_termstructure, volatility_termstructure)\n",
    "        engine = ql.BinomialVanillaEngine(bsm_process, 'crr', 200)\n",
    "        option_result.setPricingEngine(engine)\n",
    "        return option_result.impliedVolatility(option_price, bsm_process)\n",
    "    \n",
    "    def calculate_profitNloss(self):\n",
    "        profitNloss_list = []\n",
    "        for i in self.basic_summary.index:\n",
    "            if pd.isnull(self.basic_summary.loc[i, 'option_shares']):\n",
    "                profitNloss_list.append(self.calculate_single_profitNloss_stock(\\\n",
    "                    stock_shares = self.basic_summary.loc[i, 'stock_shares'], \\\n",
    "                    stock_start_price = self.basic_summary.loc[i, 'stock_start_price'], \\\n",
    "                    stock_current_price = self.basic_summary.loc[i, 'current_price']))\n",
    "            else:\n",
    "                profitNloss_list.append(self.calculate_single_profitNloss_option(\\\n",
    "                    option_shares = self.basic_summary.loc[i, 'option_shares'], \\\n",
    "                    option_strike_price = self.basic_summary.loc[i, 'option_strike_price'], \\\n",
    "                    stock_current_price = self.basic_summary.loc[i, 'current_price'], \\\n",
    "                    option_price = self.basic_summary.loc[i, 'option_price'], \\\n",
    "                    option_type = self.basic_summary.loc[i, 'option_type']))\n",
    "        self.basic_summary['profit_loss'] = profitNloss_list\n",
    "        return\n",
    "    \n",
    "    def calculate_greeks(self, volatility_type = 'implied_volatility'):\n",
    "        if volatility_type == 'implied_volatility':\n",
    "            self.calculate_impliedvolatility()\n",
    "        elif type(volatility_type) == int and volatility_type > 1:\n",
    "            self.update_historyvolatility(volatility_type)\n",
    "            volatility_type = str(volatility_type) + '_history_volatility'\n",
    "        delta_list = []\n",
    "        gamma_list = []\n",
    "        theta_list = []\n",
    "        vega_list = []\n",
    "        rho_list = []\n",
    "        for i in self.basic_summary.index:\n",
    "            if pd.isnull(self.basic_summary.loc[i, 'option_shares']):\n",
    "                delta_list.append(self.basic_summary.loc[i, 'stock_shares'])\n",
    "                gamma_list.append(0)\n",
    "                theta_list.append(0)\n",
    "                vega_list.append(0)\n",
    "                rho_list.append(0)\n",
    "            else:\n",
    "                option_result = self.calculate_single_greeks(\\\n",
    "                    stock_start_price = self.basic_summary.loc[i, 'stock_start_price'], \\\n",
    "                    stock_volatility = self.basic_summary.loc[i, volatility_type], \\\n",
    "                    stock_dividend = self.background_data['q'].loc[self.basic_summary.loc[i,'start_date'],\\\n",
    "                                                                   self.basic_summary.loc[i,'stock_code']]/100, \\\n",
    "                    option_strike_price = self.basic_summary.loc[i, 'option_strike_price'], \\\n",
    "                    option_type = self.basic_summary.loc[i, 'option_type'], \\\n",
    "                    risk_free = self.background_data['r'].loc[self.basic_summary.loc[i, 'start_date']]/100, \\\n",
    "                    calculation_date = self.current_date, \\\n",
    "                    maturity_date = self.basic_summary.loc[i, 'maturity_date'])\n",
    "                original = self.calculate_single_optionprice(\\\n",
    "                    stock_start_price = self.basic_summary.loc[i, 'stock_start_price'], \\\n",
    "                    stock_volatility = self.basic_summary.loc[i, volatility_type], \\\n",
    "                    stock_dividend = self.background_data['q'].loc[self.basic_summary.loc[i,'start_date'],\\\n",
    "                                                                   self.basic_summary.loc[i,'stock_code']]/100, \\\n",
    "                    option_strike_price = self.basic_summary.loc[i, 'option_strike_price'], \\\n",
    "                    option_type = self.basic_summary.loc[i, 'option_type'], \\\n",
    "                    risk_free = self.background_data['r'].loc[self.basic_summary.loc[i, 'start_date']]/100, \\\n",
    "                    calculation_date = self.current_date, \\\n",
    "                    maturity_date = self.basic_summary.loc[i, 'maturity_date'])\n",
    "                add_volatility = self.calculate_single_optionprice(\\\n",
    "                    stock_start_price = self.basic_summary.loc[i, 'stock_start_price'], \\\n",
    "                    stock_volatility = self.basic_summary.loc[i, volatility_type] + 1e-10, \\\n",
    "                    stock_dividend = self.background_data['q'].loc[self.basic_summary.loc[i,'start_date'],\\\n",
    "                                                                   self.basic_summary.loc[i,'stock_code']]/100, \\\n",
    "                    option_strike_price = self.basic_summary.loc[i, 'option_strike_price'], \\\n",
    "                    option_type = self.basic_summary.loc[i, 'option_type'], \\\n",
    "                    risk_free = self.background_data['r'].loc[self.basic_summary.loc[i, 'start_date']]/100, \\\n",
    "                    calculation_date = self.current_date, \\\n",
    "                    maturity_date = self.basic_summary.loc[i, 'maturity_date'])\n",
    "                add_riskfree = self.calculate_single_optionprice(\\\n",
    "                    stock_start_price = self.basic_summary.loc[i, 'stock_start_price'], \\\n",
    "                    stock_volatility = self.basic_summary.loc[i, volatility_type], \\\n",
    "                    stock_dividend = self.background_data['q'].loc[self.basic_summary.loc[i,'start_date'],\\\n",
    "                                                                   self.basic_summary.loc[i,'stock_code']]/100, \\\n",
    "                    option_strike_price = self.basic_summary.loc[i, 'option_strike_price'], \\\n",
    "                    option_type = self.basic_summary.loc[i, 'option_type'], \\\n",
    "                    risk_free = self.background_data['r'].loc[self.basic_summary.loc[i, 'start_date']]/100 + 1e-10, \\\n",
    "                    calculation_date = self.current_date, \\\n",
    "                    maturity_date = self.basic_summary.loc[i, 'maturity_date'])\n",
    "                \n",
    "                delta_list.append(option_result.delta() * self.basic_summary.loc[i, 'option_shares'])\n",
    "                gamma_list.append(option_result.gamma() * self.basic_summary.loc[i, 'option_shares'])\n",
    "                theta_list.append(option_result.theta() / 365 * self.basic_summary.loc[i, 'option_shares'])\n",
    "                vega_list.append((add_volatility - original) / 1e-8 * self.basic_summary.loc[i, 'option_shares'])\n",
    "                rho_list.append((add_riskfree - original) / 1e-8 * self.basic_summary.loc[i, 'option_shares'])\n",
    "        self.basic_summary['delta'] = delta_list\n",
    "        self.basic_summary['gamma'] = gamma_list\n",
    "        self.basic_summary['theta'] = theta_list\n",
    "        self.basic_summary['vega'] = vega_list\n",
    "        self.basic_summary['rho'] = rho_list\n",
    "        return\n",
    "    \n",
    "    def calculate_impliedvolatility(self):\n",
    "        impliedvolatility_list = []\n",
    "        for i in self.basic_summary.index:\n",
    "            if pd.isnull(self.basic_summary.loc[i, 'option_shares']):\n",
    "                impliedvolatility_list.append(np.nan)\n",
    "            else:\n",
    "                impliedvolatility_list.append(self.calculate_single_impliedvolatility(\\\n",
    "                    stock_start_price = self.basic_summary.loc[i, 'stock_start_price'], \\\n",
    "                    stock_dividend = self.background_data['q'].loc[self.basic_summary.loc[i,'start_date'],\\\n",
    "                                                                   self.basic_summary.loc[i,'stock_code']]/100, \\\n",
    "                    option_price = self.basic_summary.loc[i, 'option_price'], \\\n",
    "                    option_strike_price = self.basic_summary.loc[i, 'option_strike_price'], \\\n",
    "                    option_type = self.basic_summary.loc[i, 'option_type'], \\\n",
    "                    risk_free = self.background_data['r'].loc[self.basic_summary.loc[i, 'start_date']]/100, \\\n",
    "                    start_date = self.basic_summary.loc[i, 'start_date'], \\\n",
    "                    maturity_date = self.basic_summary.loc[i, 'maturity_date']))\n",
    "        self.basic_summary['implied_volatility'] = impliedvolatility_list\n",
    "        return\n",
    "    \n",
    "    def plot_profitNloss(self, stock_code):\n",
    "        self.update_current_price()\n",
    "        sub_basic_summary = self.basic_summary[self.basic_summary['stock_code'] == stock_code]\n",
    "        current_price = sub_basic_summary['current_price'].iloc[0]\n",
    "        price_lower = current_price * 1/2\n",
    "        price_upper = current_price * 3/2\n",
    "        full_profitNloss_list = []\n",
    "        for price in np.linspace(price_lower, price_upper, 100):\n",
    "            profitNloss_list = []\n",
    "            for i in sub_basic_summary.index:\n",
    "                if pd.isnull(sub_basic_summary.loc[i, 'option_shares']):\n",
    "                    profitNloss_list.append(self.calculate_single_profitNloss_stock(\\\n",
    "                        stock_shares = sub_basic_summary.loc[i, 'stock_shares'], \\\n",
    "                        stock_start_price = sub_basic_summary.loc[i, 'stock_start_price'], \\\n",
    "                        stock_current_price = price))\n",
    "                else:\n",
    "                    profitNloss_list.append(self.calculate_single_profitNloss_option(\\\n",
    "                        option_shares = sub_basic_summary.loc[i, 'option_shares'], \\\n",
    "                        option_strike_price = sub_basic_summary.loc[i, 'option_strike_price'], \\\n",
    "                        stock_current_price = price, \\\n",
    "                        option_price = sub_basic_summary.loc[i, 'option_price'], \\\n",
    "                        option_type = sub_basic_summary.loc[i, 'option_type']))\n",
    "            full_profitNloss_list.append(np.sum(profitNloss_list))\n",
    "        full_profitNloss_list = pd.Series(full_profitNloss_list, index = np.linspace(price_lower, price_upper, 100))\n",
    "        plt.plot(full_profitNloss_list)\n",
    "        plt.show()\n",
    "        return\n",
    "    def plot_greeks(self, stock_code):\n",
    "        return\n",
    "    def plot_impliedvolatility(self, stock_code):\n",
    "        return\n",
    "    def record_background_data(self, record_file = None, record_df = None):\n",
    "        return\n",
    "    "
   ]
  },
  {
   "cell_type": "code",
   "execution_count": 132,
   "metadata": {
    "ExecuteTime": {
     "end_time": "2019-03-18T06:57:21.605755Z",
     "start_time": "2019-03-18T06:57:21.568855Z"
    },
    "collapsed": true
   },
   "outputs": [],
   "source": [
    "my_portfolio = portfolio()\n",
    "my_portfolio.add_stock_term(stock_code = 1, stock_shares = 24, stock_start_price = 12.9, start_date = 20190228)\n",
    "my_portfolio.add_option_term(stock_code = 1, option_shares = 100, stock_start_price = 12.98, option_strike_price = 12, \\\n",
    "    option_price = 1.05, start_date = 20190228, maturity_date = 20190601, option_type = 'American-Call')\n",
    "my_portfolio.add_option_term(stock_code = 1, option_shares = -100, stock_start_price = 13.2, option_strike_price = 12, \\\n",
    "    option_price = 0.3, start_date = 20190228, maturity_date = 20190601, option_type = 'American-Put')\n",
    "my_portfolio.add_option_term(stock_code = 1, option_shares = -200, stock_start_price = 13, option_strike_price = 12, \\\n",
    "    option_price = 1.3, start_date = 20190228, maturity_date = 20190601, option_type = 'American-Call')"
   ]
  },
  {
   "cell_type": "code",
   "execution_count": 126,
   "metadata": {
    "ExecuteTime": {
     "end_time": "2019-03-18T06:53:25.947698Z",
     "start_time": "2019-03-18T06:53:25.295451Z"
    },
    "collapsed": true,
    "scrolled": true
   },
   "outputs": [],
   "source": [
    "my_portfolio.update()"
   ]
  },
  {
   "cell_type": "code",
   "execution_count": 127,
   "metadata": {
    "ExecuteTime": {
     "end_time": "2019-03-18T06:53:25.956675Z",
     "start_time": "2019-03-18T06:53:25.948696Z"
    },
    "collapsed": true,
    "scrolled": true
   },
   "outputs": [],
   "source": [
    "my_portfolio.calculate_impliedvolatility()\n",
    "my_portfolio.calculate_profitNloss()\n",
    "my_portfolio.calculate_greeks()"
   ]
  },
  {
   "cell_type": "code",
   "execution_count": 128,
   "metadata": {
    "ExecuteTime": {
     "end_time": "2019-03-18T06:53:25.996568Z",
     "start_time": "2019-03-18T06:53:25.960664Z"
    },
    "scrolled": true
   },
   "outputs": [
    {
     "data": {
      "text/html": [
       "<div>\n",
       "<style scoped>\n",
       "    .dataframe tbody tr th:only-of-type {\n",
       "        vertical-align: middle;\n",
       "    }\n",
       "\n",
       "    .dataframe tbody tr th {\n",
       "        vertical-align: top;\n",
       "    }\n",
       "\n",
       "    .dataframe thead th {\n",
       "        text-align: right;\n",
       "    }\n",
       "</style>\n",
       "<table border=\"1\" class=\"dataframe\">\n",
       "  <thead>\n",
       "    <tr style=\"text-align: right;\">\n",
       "      <th></th>\n",
       "      <th>stock_code</th>\n",
       "      <th>start_date</th>\n",
       "      <th>maturity_date</th>\n",
       "      <th>stock_start_price</th>\n",
       "      <th>stock_shares</th>\n",
       "      <th>option_shares</th>\n",
       "      <th>option_strike_price</th>\n",
       "      <th>option_price</th>\n",
       "      <th>option_type</th>\n",
       "      <th>current_price</th>\n",
       "      <th>...</th>\n",
       "      <th>10_history_volatility</th>\n",
       "      <th>20_history_volatility</th>\n",
       "      <th>60_history_volatility</th>\n",
       "      <th>implied_volatility</th>\n",
       "      <th>profit_loss</th>\n",
       "      <th>delta</th>\n",
       "      <th>gamma</th>\n",
       "      <th>theta</th>\n",
       "      <th>vega</th>\n",
       "      <th>rho</th>\n",
       "    </tr>\n",
       "  </thead>\n",
       "  <tbody>\n",
       "    <tr>\n",
       "      <th>0</th>\n",
       "      <td>1</td>\n",
       "      <td>20190228</td>\n",
       "      <td>NaN</td>\n",
       "      <td>12.9</td>\n",
       "      <td>24</td>\n",
       "      <td>NaN</td>\n",
       "      <td>NaN</td>\n",
       "      <td>NaN</td>\n",
       "      <td>NaN</td>\n",
       "      <td>12.86</td>\n",
       "      <td>...</td>\n",
       "      <td>0.015832</td>\n",
       "      <td>0.026137</td>\n",
       "      <td>0.02098</td>\n",
       "      <td>NaN</td>\n",
       "      <td>-0.96</td>\n",
       "      <td>24</td>\n",
       "      <td>0</td>\n",
       "      <td>0</td>\n",
       "      <td>0</td>\n",
       "      <td>0</td>\n",
       "    </tr>\n",
       "  </tbody>\n",
       "</table>\n",
       "<p>1 rows × 21 columns</p>\n",
       "</div>"
      ],
      "text/plain": [
       "   stock_code  start_date  maturity_date  stock_start_price  stock_shares  \\\n",
       "0           1    20190228            NaN               12.9            24   \n",
       "\n",
       "   option_shares  option_strike_price  option_price  option_type  \\\n",
       "0            NaN                  NaN           NaN          NaN   \n",
       "\n",
       "   current_price ...   10_history_volatility  20_history_volatility  \\\n",
       "0          12.86 ...                0.015832               0.026137   \n",
       "\n",
       "   60_history_volatility  implied_volatility  profit_loss  delta  gamma  \\\n",
       "0                0.02098                 NaN        -0.96     24      0   \n",
       "\n",
       "   theta  vega  rho  \n",
       "0      0     0    0  \n",
       "\n",
       "[1 rows x 21 columns]"
      ]
     },
     "execution_count": 128,
     "metadata": {},
     "output_type": "execute_result"
    }
   ],
   "source": [
    "my_portfolio.basic_summary"
   ]
  },
  {
   "cell_type": "code",
   "execution_count": 133,
   "metadata": {
    "ExecuteTime": {
     "end_time": "2019-03-18T06:57:26.042913Z",
     "start_time": "2019-03-18T06:57:24.622679Z"
    }
   },
   "outputs": [
    {
     "data": {
      "image/png": "[encoded data removed]",
      "text/plain": [
       "<matplotlib.figure.Figure at 0x1c21493a588>"
      ]
     },
     "metadata": {},
     "output_type": "display_data"
    }
   ],
   "source": [
    "my_portfolio.plot_profitNloss(1)"
   ]
  },
  {
   "cell_type": "code",
   "execution_count": null,
   "metadata": {
    "collapsed": true
   },
   "outputs": [],
   "source": []
  },
  {
   "cell_type": "code",
   "execution_count": null,
   "metadata": {
    "collapsed": true
   },
   "outputs": [],
   "source": []
  }
 ],
 "metadata": {
  "kernelspec": {
   "display_name": "Python 3",
   "language": "python",
   "name": "python3"
  },
  "language_info": {
   "codemirror_mode": {
    "name": "ipython",
    "version": 3
   },
   "file_extension": ".py",
   "mimetype": "text/x-python",
   "name": "python",
   "nbconvert_exporter": "python",
   "pygments_lexer": "ipython3",
   "version": "3.6.4"
  }
 },
 "nbformat": 4,
 "nbformat_minor": 2
}
