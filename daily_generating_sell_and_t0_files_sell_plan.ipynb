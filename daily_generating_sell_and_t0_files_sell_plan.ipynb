{
 "cells": [
  {
   "cell_type": "code",
   "execution_count": 1,
   "metadata": {
    "ExecuteTime": {
     "end_time": "2019-08-22T09:37:19.372157Z",
     "start_time": "2019-08-22T09:37:17.980851Z"
    },
    "code_folding": [
     0
    ],
    "collapsed": true
   },
   "outputs": [],
   "source": [
    "#import\n",
    "import warnings\n",
    "warnings.filterwarnings(\"ignore\")\n",
    "%matplotlib inline\n",
    "import matplotlib.pyplot as plt\n",
    "import datetime\n",
    "import pandas as pd\n",
    "import numpy as np\n",
    "import pymysql\n",
    "import operator\n",
    "import os\n",
    "from scipy import stats\n",
    "from statsmodels.regression.linear_model import OLS\n",
    "from datetime import *\n",
    "import scipy.io as sio\n",
    "import h5py\n",
    "import copy\n",
    "import shutil\n",
    "import rarfile\n",
    "import scipy.stats as scs\n",
    "from general_function import *\n",
    "from matplotlib_venn import venn3\n",
    "from matplotlib_venn import venn2\n",
    "import seaborn as sns\n",
    "import matplotlib.pyplot as plt\n",
    "import matplotlib.gridspec as gridspec\n",
    "from matplotlib.font_manager import FontProperties\n",
    "plt.rcParams['font.sans-serif'] = ['SimHei']  #用来正常显示中文标签\n",
    "plt.rcParams['axes.unicode_minus'] = False  #用来正常显示负号\n",
    "sns.set(style=\"whitegrid\")\n",
    "myfont = FontProperties(fname=r'C:\\Windows\\Fonts\\simhei.ttf', size=10)\n",
    "sns.set(\n",
    "    font=myfont.get_name(),\n",
    "    style=\"whitegrid\",\n",
    "    palette=\"muted\",\n",
    "    color_codes=True)"
   ]
  },
  {
   "cell_type": "code",
   "execution_count": 2,
   "metadata": {
    "ExecuteTime": {
     "end_time": "2019-08-22T09:37:19.700278Z",
     "start_time": "2019-08-22T09:37:19.385094Z"
    },
    "code_folding": [
     0
    ],
    "collapsed": true
   },
   "outputs": [],
   "source": [
    "#data\n",
    "STcode = pd.read_csv('STcode_by_date_for_generator.csv',index_col=0).iloc[-1].dropna().tolist()\n",
    "code_to_name = pd.read_csv('code_to_name.csv',encoding='gbk',index_col=0)['SEC_NAME']\n",
    "code_to_name.index = code_to_name.index.str[:6].astype(int)\n",
    "account_code_to_name = pd.read_excel('account_info.xlsx').set_index('产品标识')['账户备注']\n",
    "account_code_to_name.index = [i.split(',')[0] if type(i)==str else np.nan for i in account_code_to_name.index]\n",
    "account_name_to_t0code = pd.read_excel('t0编号.xlsx',index_col=0)['T0代码']"
   ]
  },
  {
   "cell_type": "code",
   "execution_count": 3,
   "metadata": {
    "ExecuteTime": {
     "end_time": "2019-08-22T09:37:19.734160Z",
     "start_time": "2019-08-22T09:37:19.709226Z"
    },
    "code_folding": [
     0
    ],
    "collapsed": true
   },
   "outputs": [],
   "source": [
    "#today\n",
    "today = datetime.today()\n",
    "year = str(today.year)\n",
    "month = today.month\n",
    "if month < 10:\n",
    "    month = '0' + str(month)\n",
    "else:\n",
    "    month = str(month)\n",
    "day = today.day\n",
    "if day < 10:\n",
    "    day = '0' + str(day)\n",
    "else:\n",
    "    day = str(day)    \n",
    "today_nodot = year + month + day\n",
    "tomorrow_nodot = get_n_week_date_after(today_nodot)\n",
    "yesterday_nodot = get_n_week_date_before(today_nodot)"
   ]
  },
  {
   "cell_type": "code",
   "execution_count": 4,
   "metadata": {
    "ExecuteTime": {
     "end_time": "2019-08-22T09:37:19.769080Z",
     "start_time": "2019-08-22T09:37:19.750117Z"
    },
    "scrolled": true
   },
   "outputs": [
    {
     "data": {
      "text/plain": [
       "('20190822', '20190823', '20190821')"
      ]
     },
     "execution_count": 4,
     "metadata": {},
     "output_type": "execute_result"
    }
   ],
   "source": [
    "today_nodot,tomorrow_nodot,yesterday_nodot"
   ]
  },
  {
   "cell_type": "markdown",
   "metadata": {
    "ExecuteTime": {
     "end_time": "2019-08-16T02:52:49.279148Z",
     "start_time": "2019-08-16T02:52:49.267181Z"
    },
    "collapsed": true
   },
   "source": [
    "today_nodot = '20190815';tomorrow_nodot = '20190816';yesterday_nodot = '20190814'"
   ]
  },
  {
   "cell_type": "code",
   "execution_count": 5,
   "metadata": {
    "ExecuteTime": {
     "end_time": "2019-08-22T09:37:19.849856Z",
     "start_time": "2019-08-22T09:37:19.781035Z"
    },
    "collapsed": true,
    "scrolled": true
   },
   "outputs": [],
   "source": [
    "model_update = '模型分配表.xlsx'  #用的模型记录\n",
    "total_capital = pd.read_excel('账户资金列表_'+tomorrow_nodot+'.xlsx',index_col=0)\n",
    "total_model = pd.read_excel(model_update,index_col=1).iloc[:,1:]\n",
    "sxf = pd.read_excel('分析师买入金额.xlsx',index_col=0)"
   ]
  },
  {
   "cell_type": "code",
   "execution_count": 6,
   "metadata": {
    "ExecuteTime": {
     "end_time": "2019-08-22T09:37:19.887790Z",
     "start_time": "2019-08-22T09:37:19.854857Z"
    },
    "code_folding": [
     0
    ],
    "collapsed": true,
    "scrolled": true
   },
   "outputs": [],
   "source": [
    "for account_code in sxf.index.tolist():\n",
    "    try:\n",
    "        sub_sxf_capital = sxf.iloc[:,1].xs(account_code)\n",
    "        total_capital.loc[account_code,'可 用'] = total_capital.loc[account_code,'可 用'] - sub_sxf_capital\n",
    "        total_capital.loc[account_code,'资 产'] = total_capital.loc[account_code,'资 产'] - 5 * sub_sxf_capital\n",
    "    except:\n",
    "        pass"
   ]
  },
  {
   "cell_type": "code",
   "execution_count": 7,
   "metadata": {
    "ExecuteTime": {
     "end_time": "2019-08-22T09:37:19.911711Z",
     "start_time": "2019-08-22T09:37:19.901732Z"
    },
    "collapsed": true
   },
   "outputs": [],
   "source": [
    "back_checking_days = 12"
   ]
  },
  {
   "cell_type": "code",
   "execution_count": 8,
   "metadata": {
    "ExecuteTime": {
     "end_time": "2019-08-22T09:37:23.632876Z",
     "start_time": "2019-08-22T09:37:19.917692Z"
    },
    "code_folding": [
     0
    ],
    "scrolled": true
   },
   "outputs": [
    {
     "name": "stdout",
     "output_type": "stream",
     "text": [
      "20190822\n",
      "['A2', 'A3', 'A4', 'A5', 'B1', 'B3', 'B4', 'C2', 'C3', 'C4', 'C5', 'D1', 'D2', 'K1', 'K2', 'K3', 'K4', 'K5', 'K6', 'K7', 'G1', 'sxf', 'E1', 'E2', 'E3', 'E4', 'F1', 'H1', 'H2', 'H3', 'I1', 'I2', 'I3', 'I4', 'I5', 'J2', 20190902, 20190829, 20190830, 20190823, 20190826, 20190827, 20190828, 20190903, 20190904, 20190905, 20190906, 2, 3, 4, 5, 6, 7, 8, 9, 10, 11, 12]\n",
      "20190821\n",
      "['G1', 'sxf', 'E1', 'E2', 'E3', 'E4', 'F1', 'H1', 'H2', 'H3', 'I1', 'I2', 'I3', 'I4', 'I5', 'J2', 20190830, 20190829, 20190823, 20190826, 20190827, 20190828, 20190902, 3, 4, 5, 6, 7, 8, 9, 10, 11, 12]\n",
      "20190820\n",
      "['sxf', 'E1', 'E2', 'E3', 'E4', 'F1', 'H1', 'H2', 'H3', 'I1', 'I2', 'I3', 'I4', 'I5', 'J2', 20190829, 20190828, 20190823, 4, 5, 6, 7, 8, 9, 10, 11, 12]\n",
      "20190819\n",
      "['sxf', 'E1', 'E2', 'E3', 'E4', 'F1', 'H1', 'H2', 'H3', 'I1', 'I2', 'I3', 'I4', 'I5', 'J2', 20190828, 20190827, 20190823, 5, 6, 7, 8, 9, 10, 11, 12]\n",
      "20190816\n",
      "['E1', 'E2', 'E3', 'E4', 'F1', 'H1', 'H2', 'H3', 'I1', 'I2', 'I3', 'I4', 'I5', 'J2', 20190827, 20190826, 20190828, 20190823, 6, 7, 8, 9, 10, 11, 12]\n",
      "20190815\n",
      "['H1', 'H2', 'H3', 'I1', 'I2', 'I3', 'I4', 'I5', 'J2', 20190826, 20190827, 7, 8, 9, 10, 11, 12]\n",
      "20190814\n",
      "['I1', 'I2', 'I3', 'I4', 'I5', 'J2', 20190823, 8, 9, 10, 11, 12]\n",
      "20190813\n",
      "['I1', 'I2', 'I3', 'I4', 'I5', 'J2', 9, 10, 11, 12]\n",
      "20190812\n",
      "['J2', 10, 11, 12]\n",
      "20190809\n",
      "['J2', 11, 12]\n",
      "20190808\n",
      "['J2', 12]\n"
     ]
    }
   ],
   "source": [
    "#理论的总持仓，即如*七天以内（含整七天）*买入标记为H的，*六天以内（含整六天）*买入标记为E的等，买入记录为‘实验_总任务管理表_买入_完成_DATE.xlsx’表格\n",
    "theoretical_total_holding = pd.DataFrame()\n",
    "for i in range(0, back_checking_days-1):\n",
    "    print(get_n_week_date_before(today_nodot,i))\n",
    "    back_updated_buy = pd.read_excel('实验_总任务管理表_买入_完成_'+get_n_week_date_before(today_nodot,i)+'.xlsx')\n",
    "    date_model_list = [date_model for date_model in back_updated_buy['模型'].unique().tolist() \\\n",
    "                       if type(date_model) == int and date_model>=int(tomorrow_nodot)]\n",
    "    total_holding_list = []\n",
    "    total_holding_list = preset_n_days_model_combined(range(i+2,back_checking_days+1)) + date_model_list\n",
    "    total_holding_list += list(range(i+2,back_checking_days+1))\n",
    "    print(total_holding_list)\n",
    "    sub_theoretical_total_holding = back_updated_buy[back_updated_buy['模型'].isin(total_holding_list)]\n",
    "    sub_theoretical_total_holding['买入日期'] = get_n_week_date_before(today_nodot,i)\n",
    "    theoretical_total_holding = pd.concat([theoretical_total_holding,sub_theoretical_total_holding])\n",
    "theoretical_total_holding['任务资金'] = np.nan\n",
    "theoretical_total_holding['任务股数'] = theoretical_total_holding['完成股数']\n",
    "theoretical_total_holding['方向'] = '空'\n",
    "theoretical_total_holding = theoretical_total_holding.loc[:,['产品标识','股票代码','任务资金','任务股数','方向','模型','买入日期']].reset_index(drop = True)"
   ]
  },
  {
   "cell_type": "code",
   "execution_count": 9,
   "metadata": {
    "ExecuteTime": {
     "end_time": "2019-08-22T09:37:25.953672Z",
     "start_time": "2019-08-22T09:37:23.638861Z"
    },
    "code_folding": [
     1
    ],
    "collapsed": true
   },
   "outputs": [],
   "source": [
    "sell_date = []\n",
    "for i in theoretical_total_holding.index:\n",
    "    model = theoretical_total_holding.loc[i,'模型']\n",
    "    buy_date = str(theoretical_total_holding.loc[i,'买入日期'])\n",
    "    if type(model) == str:\n",
    "        model = preset_hold_days(model)\n",
    "        sell_date.append(int(get_n_week_date_after(buy_date,model-1)))\n",
    "    elif type(model) == int:\n",
    "        if model > 20000000:\n",
    "            sell_date.append(model)\n",
    "        else:\n",
    "            sell_date.append(int(get_n_week_date_after(buy_date,model-1)))\n",
    "theoretical_total_holding['卖出日期'] = sell_date\n",
    "todclose = pd.read_csv('tsdata_nonright_'+today_nodot+'.csv',encoding='gbk',index_col=0).iloc[:,5].replace('<NIL>',np.nan).astype(float)\n",
    "todclose.index = todclose.index.str[2:].astype(int)\n",
    "theoretical_total_holding['close'] = todclose.loc[theoretical_total_holding['股票代码']].tolist()\n",
    "theoretical_total_holding['mkt'] = theoretical_total_holding['close'] * theoretical_total_holding['任务股数']"
   ]
  },
  {
   "cell_type": "markdown",
   "metadata": {
    "ExecuteTime": {
     "end_time": "2019-05-15T07:45:41.202566Z",
     "start_time": "2019-05-15T07:45:40.374672Z"
    },
    "code_folding": [
     3
    ],
    "collapsed": true
   },
   "source": [
    "today_buy = pd.read_excel('实验_总任务管理表_买入_'+today_nodot+'.xlsx')\n",
    "today_buy['买入日期'] = int(tomorrow_nodot)\n",
    "sell_date = []\n",
    "for i in today_buy.index:\n",
    "    model = today_buy.loc[i,'模型']\n",
    "    buy_date = str(today_buy.loc[i,'买入日期'])\n",
    "    if type(model) == str:\n",
    "        model = 9 if model[0] in 'I' else \\\n",
    "                7 if model[0] in 'H' else \\\n",
    "                6 if model[0] in 'EF' else \\\n",
    "                3 if model[0] in 'G' else \\\n",
    "                2 if model[0] in 'ABCD' else \\\n",
    "                5 if model[0] in 's' else 'wtf'\n",
    "        sell_date.append(int(get_n_week_date_after(buy_date,model-1)))\n",
    "    elif type(model) == int:\n",
    "        if model > 20000000:\n",
    "            sell_date.append(model)\n",
    "        else:\n",
    "            sell_date.append(int(get_n_week_date_after(buy_date,model-1)))\n",
    "today_buy['卖出日期'] = sell_date\n",
    "today_buy['mkt'] = today_buy['任务资金']"
   ]
  },
  {
   "cell_type": "markdown",
   "metadata": {
    "ExecuteTime": {
     "end_time": "2019-05-14T22:29:21.150205Z",
     "start_time": "2019-05-14T22:29:21.128258Z"
    },
    "collapsed": true
   },
   "source": [
    "result = pd.concat([theoretical_total_holding[['产品标识','股票代码','买入日期','卖出日期','模型','mkt']],\\\n",
    "                    today_buy[['产品标识','股票代码','买入日期','卖出日期','模型','mkt']]]).reset_index(drop=True)"
   ]
  },
  {
   "cell_type": "code",
   "execution_count": 10,
   "metadata": {
    "ExecuteTime": {
     "end_time": "2019-08-22T09:37:25.978628Z",
     "start_time": "2019-08-22T09:37:25.957657Z"
    },
    "collapsed": true
   },
   "outputs": [],
   "source": [
    "result = theoretical_total_holding[['产品标识','股票代码','买入日期','卖出日期','模型','mkt']]\n",
    "result = result[result['模型']!='sxf']"
   ]
  },
  {
   "cell_type": "code",
   "execution_count": 11,
   "metadata": {
    "ExecuteTime": {
     "end_time": "2019-08-22T09:37:26.055400Z",
     "start_time": "2019-08-22T09:37:25.986578Z"
    },
    "collapsed": true
   },
   "outputs": [],
   "source": [
    "result = result.set_index(['产品标识','股票代码']).sort_index()\n",
    "result['mkt_pct'] = result['mkt']/(result.groupby(level=[0,1]).sum()['mkt'])"
   ]
  },
  {
   "cell_type": "code",
   "execution_count": 12,
   "metadata": {
    "ExecuteTime": {
     "end_time": "2019-08-22T09:37:26.415459Z",
     "start_time": "2019-08-22T09:37:26.060381Z"
    },
    "collapsed": true
   },
   "outputs": [],
   "source": [
    "current_holding = pd.read_excel(today_nodot + '持仓.xlsx')\n",
    "current_holding['close'] = todclose.loc[current_holding['股票代码']].tolist()\n",
    "current_holding['mkt'] = current_holding['close'] * current_holding['任务股数']\n",
    "current_holding = current_holding[current_holding['任务股数']>=100]\n",
    "current_holding = current_holding[['产品标识','股票代码','mkt']]\n",
    "current_holding = current_holding.groupby(['产品标识','股票代码']).sum()[['mkt']].sort_index()"
   ]
  },
  {
   "cell_type": "code",
   "execution_count": 13,
   "metadata": {
    "ExecuteTime": {
     "end_time": "2019-08-22T09:37:26.476269Z",
     "start_time": "2019-08-22T09:37:26.421416Z"
    },
    "collapsed": true
   },
   "outputs": [],
   "source": [
    "result = result.loc[current_holding.index].copy()"
   ]
  },
  {
   "cell_type": "code",
   "execution_count": 14,
   "metadata": {
    "ExecuteTime": {
     "end_time": "2019-08-22T09:37:26.505230Z",
     "start_time": "2019-08-22T09:37:26.484248Z"
    },
    "collapsed": true
   },
   "outputs": [],
   "source": [
    "result['买入日期'] = result['买入日期'].fillna(today_nodot)\n",
    "result['卖出日期'] = result['卖出日期'].fillna(int(tomorrow_nodot))\n",
    "result['模型'] = result['模型'].fillna('2')\n",
    "result['mkt'] = result['mkt'].fillna(1)\n",
    "result['mkt_pct'] = result['mkt_pct'].fillna(1)"
   ]
  },
  {
   "cell_type": "code",
   "execution_count": 15,
   "metadata": {
    "ExecuteTime": {
     "end_time": "2019-08-22T09:37:26.619890Z",
     "start_time": "2019-08-22T09:37:26.519154Z"
    },
    "collapsed": true
   },
   "outputs": [],
   "source": [
    "result['real_mkt'] = result['mkt_pct'] * current_holding.loc[result.index]['mkt']"
   ]
  },
  {
   "cell_type": "markdown",
   "metadata": {
    "ExecuteTime": {
     "end_time": "2019-08-15T09:09:29.245986Z",
     "start_time": "2019-08-15T09:09:29.060483Z"
    },
    "collapsed": true,
    "scrolled": true
   },
   "source": [
    "today_unifinished = pd.read_excel('实验_总任务管理表_买入_未完成_'+today_nodot+'.xlsx', index_col = [0,1])\\\n",
    ".loc[pd.read_excel('买入_未完成_'+today_nodot+'.xlsx', index_col = [0,1]).index]\n",
    "today_unifinished = today_unifinished[today_unifinished['模型']>int(tomorrow_nodot)]\n",
    "today_unifinished['买入日期'] = today_nodot\n",
    "today_unifinished['卖出日期'] = today_unifinished['模型'].astype(int)\n",
    "today_unifinished['mkt'] = today_unifinished['完成资金']\n",
    "today_unifinished['mkt_pct'] = 1\n",
    "today_unifinished['real_mkt'] = today_unifinished['完成资金']\n",
    "today_unifinished = today_unifinished[['买入日期','卖出日期','模型','mkt','mkt_pct','real_mkt']].reset_index()"
   ]
  },
  {
   "cell_type": "code",
   "execution_count": 16,
   "metadata": {
    "ExecuteTime": {
     "end_time": "2019-08-22T09:37:26.646813Z",
     "start_time": "2019-08-22T09:37:26.628863Z"
    },
    "collapsed": true
   },
   "outputs": [],
   "source": [
    "result = result.reset_index()\n",
    "result.columns = ['产品标识','股票代码','买入日期','卖出日期','模型','mkt','mkt_pct','real_mkt']"
   ]
  },
  {
   "cell_type": "markdown",
   "metadata": {
    "ExecuteTime": {
     "end_time": "2019-08-15T09:09:29.275890Z",
     "start_time": "2019-08-15T09:09:29.262913Z"
    },
    "collapsed": true
   },
   "source": [
    "result = pd.concat([result, today_unifinished]).reset_index(drop = True)"
   ]
  },
  {
   "cell_type": "code",
   "execution_count": 17,
   "metadata": {
    "ExecuteTime": {
     "end_time": "2019-08-22T09:37:26.844796Z",
     "start_time": "2019-08-22T09:37:26.654791Z"
    },
    "code_folding": [
     1
    ],
    "collapsed": true,
    "scrolled": true
   },
   "outputs": [],
   "source": [
    "theory_df = []\n",
    "for account_code in total_capital.index.tolist():\n",
    "    if account_code in ['HQCC5','HQDB3','HQHF9','HQHF10','HQHT11','HQHZ7','HQYH25','HQYH1','HQYH23','HQYH28','HQGX8','HQYH19','HQCT5','HQDB2']:\n",
    "        base = 0.96\n",
    "    elif account_code in ['HQHZ20']:\n",
    "        base = 0.93\n",
    "    else:\n",
    "        base = 1\n",
    "    current_date = tomorrow_nodot\n",
    "    date_count = 0\n",
    "    try:\n",
    "        sub_model = total_model.xs(account_code)\n",
    "    except:\n",
    "        continue\n",
    "    while(True):\n",
    "        current_date_weight = 0\n",
    "        for model_num in range(1,6+1):\n",
    "            single_model_str = sub_model.xs('第'+str(model_num)+'模型')\n",
    "            if pd.notnull(single_model_str):\n",
    "                single_model = single_model_str.split(' * ')[0].replace('(','').replace(')','')\n",
    "                single_allocation = float(single_model_str.split(' * ')[-1].replace('%',''))/100\n",
    "                n_hold = preset_hold_days(single_model.split(' ')[0])\n",
    "                if n_hold > date_count + 1:\n",
    "                    current_date_weight += base * single_allocation / n_hold  * total_capital.xs(account_code).xs('资 产')\n",
    "        date_count += 1\n",
    "        if current_date_weight == 0:\n",
    "            break\n",
    "        theory_df.append([account_code, current_date, round(current_date_weight)])\n",
    "        current_date = get_n_week_date_after(current_date)\n",
    "theory_df = pd.DataFrame(theory_df)\n",
    "theory_df.columns = ['产品标识','卖出日期','the_mkt']\n",
    "theory_df['卖出日期'] = theory_df['卖出日期'].astype(int)\n",
    "theory_df.set_index(['产品标识','卖出日期'],inplace=True)"
   ]
  },
  {
   "cell_type": "code",
   "execution_count": 18,
   "metadata": {
    "ExecuteTime": {
     "end_time": "2019-08-22T09:37:26.884748Z",
     "start_time": "2019-08-22T09:37:26.852775Z"
    },
    "collapsed": true,
    "scrolled": true
   },
   "outputs": [],
   "source": [
    "final = pd.concat([result.groupby(['产品标识','卖出日期']).sum()[['real_mkt']],theory_df],axis=1).reset_index()"
   ]
  },
  {
   "cell_type": "code",
   "execution_count": 19,
   "metadata": {
    "ExecuteTime": {
     "end_time": "2019-08-22T09:37:27.039347Z",
     "start_time": "2019-08-22T09:37:26.894734Z"
    },
    "collapsed": true
   },
   "outputs": [],
   "source": [
    "two_days = pd.read_excel('两日模型要买资金.xlsx')\n",
    "two_days = two_days.groupby('代码').sum()['买入资金']\n",
    "two_days.index = two_days.index.str.replace('TH','HQ')"
   ]
  },
  {
   "cell_type": "code",
   "execution_count": 20,
   "metadata": {
    "ExecuteTime": {
     "end_time": "2019-08-22T09:37:27.083233Z",
     "start_time": "2019-08-22T09:37:27.053311Z"
    },
    "code_folding": [
     1
    ],
    "collapsed": true
   },
   "outputs": [],
   "source": [
    "final = final.set_index(['产品标识','卖出日期'])\n",
    "for i in two_days.index:\n",
    "    try:\n",
    "        final.loc[(i,int(tomorrow_nodot)),'real_mkt'] += two_days.xs(i)\n",
    "    except:\n",
    "        print(i)"
   ]
  },
  {
   "cell_type": "code",
   "execution_count": 21,
   "metadata": {
    "ExecuteTime": {
     "end_time": "2019-08-22T09:37:27.818683Z",
     "start_time": "2019-08-22T09:37:27.094201Z"
    },
    "collapsed": true
   },
   "outputs": [],
   "source": [
    "final = final.reset_index()\n",
    "final['diff'] = np.abs(final['real_mkt'] - final['the_mkt'])/final['the_mkt']\n",
    "final.to_excel('selling_plan_with_theory'+today_nodot+'.xlsx',index = False)"
   ]
  },
  {
   "cell_type": "code",
   "execution_count": null,
   "metadata": {
    "collapsed": true
   },
   "outputs": [],
   "source": []
  },
  {
   "cell_type": "code",
   "execution_count": null,
   "metadata": {
    "collapsed": true
   },
   "outputs": [],
   "source": []
  },
  {
   "cell_type": "code",
   "execution_count": null,
   "metadata": {
    "collapsed": true
   },
   "outputs": [],
   "source": []
  },
  {
   "cell_type": "code",
   "execution_count": null,
   "metadata": {
    "collapsed": true
   },
   "outputs": [],
   "source": []
  }
 ],
 "metadata": {
  "kernelspec": {
   "display_name": "Python 3",
   "language": "python",
   "name": "python3"
  },
  "language_info": {
   "codemirror_mode": {
    "name": "ipython",
    "version": 3
   },
   "file_extension": ".py",
   "mimetype": "text/x-python",
   "name": "python",
   "nbconvert_exporter": "python",
   "pygments_lexer": "ipython3",
   "version": "3.6.4"
  },
  "varInspector": {
   "cols": {
    "lenName": 16,
    "lenType": 16,
    "lenVar": 40
   },
   "kernels_config": {
    "python": {
     "delete_cmd_postfix": "",
     "delete_cmd_prefix": "del ",
     "library": "var_list.py",
     "varRefreshCmd": "print(var_dic_list())"
    },
    "r": {
     "delete_cmd_postfix": ") ",
     "delete_cmd_prefix": "rm(",
     "library": "var_list.r",
     "varRefreshCmd": "cat(var_dic_list()) "
    }
   },
   "types_to_exclude": [
    "module",
    "function",
    "builtin_function_or_method",
    "instance",
    "_Feature"
   ],
   "window_display": false
  }
 },
 "nbformat": 4,
 "nbformat_minor": 2
}
