{
 "cells": [
  {
   "cell_type": "code",
   "execution_count": 1,
   "metadata": {
    "ExecuteTime": {
     "end_time": "2019-08-23T00:47:05.722750Z",
     "start_time": "2019-08-23T00:47:05.307865Z"
    },
    "collapsed": true
   },
   "outputs": [],
   "source": [
    "import pandas as pd\n",
    "from urllib import request, parse\n",
    "import http.cookiejar\n",
    "from datetime import *"
   ]
  },
  {
   "cell_type": "code",
   "execution_count": 2,
   "metadata": {
    "ExecuteTime": {
     "end_time": "2019-08-23T00:47:05.747707Z",
     "start_time": "2019-08-23T00:47:05.728732Z"
    },
    "code_folding": [
     0
    ],
    "collapsed": true
   },
   "outputs": [],
   "source": [
    "#today\n",
    "today = datetime.today()\n",
    "year = str(today.year)\n",
    "month = today.month\n",
    "if month < 10:\n",
    "    month = '0' + str(month)\n",
    "else:\n",
    "    month = str(month)\n",
    "day = today.day\n",
    "if day < 10:\n",
    "    day = '0' + str(day)\n",
    "else:\n",
    "    day = str(day)    \n",
    "date = year + month + day"
   ]
  },
  {
   "cell_type": "code",
   "execution_count": 3,
   "metadata": {
    "ExecuteTime": {
     "end_time": "2019-08-23T00:47:05.771617Z",
     "start_time": "2019-08-23T00:47:05.751669Z"
    }
   },
   "outputs": [
    {
     "data": {
      "text/plain": [
       "'20190823'"
      ]
     },
     "execution_count": 3,
     "metadata": {},
     "output_type": "execute_result"
    }
   ],
   "source": [
    "date"
   ]
  },
  {
   "cell_type": "markdown",
   "metadata": {
    "ExecuteTime": {
     "end_time": "2019-05-11T01:05:48.910834Z",
     "start_time": "2019-05-11T01:05:48.902846Z"
    },
    "collapsed": true
   },
   "source": [
    "date = '20190513'"
   ]
  },
  {
   "cell_type": "code",
   "execution_count": 4,
   "metadata": {
    "ExecuteTime": {
     "end_time": "2019-08-23T00:47:05.946294Z",
     "start_time": "2019-08-23T00:47:05.936319Z"
    },
    "collapsed": true
   },
   "outputs": [],
   "source": [
    "#爬华福"
   ]
  },
  {
   "cell_type": "code",
   "execution_count": 5,
   "metadata": {
    "ExecuteTime": {
     "end_time": "2019-08-23T00:47:10.975455Z",
     "start_time": "2019-08-23T00:47:06.115842Z"
    },
    "code_folding": [
     2,
     9,
     14,
     22
    ]
   },
   "outputs": [
    {
     "name": "stdout",
     "output_type": "stream",
     "text": [
      "ASP.NET_SessionId=nrtjxzkqf1t2l2h5t0mkzwbd\n"
     ]
    }
   ],
   "source": [
    "file_name = \"temp.csv\"\n",
    "url = 'http://www.gfhfzq.com.cn/start/rzrq_down.aspx?web=%e6%8b%85%e4%bf%9d'\n",
    "user_agent = 'Mozilla/5.0 (Windows NT 10.0; WOW64) AppleWebKit/537.36 (KHTML, like Gecko) \\\n",
    "    Chrome/58.0.3029.110 Safari/537.36 SE 2.X MetaSr 1.0'\n",
    "#first we have to get to the first url to get the cookie\n",
    "cookies = http.cookiejar.MozillaCookieJar()\n",
    "cookieHandler = request.HTTPCookieProcessor(cookiejar=cookies)\n",
    "opener = request.build_opener(cookieHandler)\n",
    "request.install_opener(opener)\n",
    "req = request.Request('http://www.gfhfzq.com.cn/start/rzrq_dbcx.aspx', headers = {'User-Agent' : user_agent,\\\n",
    "                                                                                  'Host': 'www.hfzq.com.cn',\\\n",
    "                                                                                  'Referer': 'https://www.gfhfzq.com.cn/start/rzrq_dbcx.aspx',})\n",
    "request.urlopen(req)\n",
    "needed_cookie = ''\n",
    "for ck in cookies:\n",
    "    needed_cookie += ck.name\n",
    "    needed_cookie += '='\n",
    "    needed_cookie += ck.value\n",
    "    needed_cookie += '; '\n",
    "needed_cookie = needed_cookie[:-2]\n",
    "print(needed_cookie)\n",
    "#then we use the cookie to request a copy of the csv file\n",
    "u = request.Request(url, headers = {'User-Agent' : user_agent,\\\n",
    "                                    'Cookie':needed_cookie,\\\n",
    "                                    'Host': 'www.hfzq.com.cn',})\n",
    "req = request.urlopen(u)\n",
    "f = open(file_name, 'wb')\n",
    "f.write(req.read())\n",
    "f.close()\n",
    "test = pd.read_csv(file_name,encoding='gbk')\n",
    "test.to_excel('华福证券.xlsx',encoding='gbk',index=False)"
   ]
  },
  {
   "cell_type": "code",
   "execution_count": null,
   "metadata": {
    "collapsed": true
   },
   "outputs": [],
   "source": []
  },
  {
   "cell_type": "code",
   "execution_count": null,
   "metadata": {
    "collapsed": true
   },
   "outputs": [],
   "source": []
  },
  {
   "cell_type": "code",
   "execution_count": 6,
   "metadata": {
    "ExecuteTime": {
     "end_time": "2019-08-23T00:47:10.989388Z",
     "start_time": "2019-08-23T00:47:10.980411Z"
    },
    "collapsed": true
   },
   "outputs": [],
   "source": [
    "#在担保品券单后面加下日期，方便使用和记录"
   ]
  },
  {
   "cell_type": "code",
   "execution_count": 7,
   "metadata": {
    "ExecuteTime": {
     "end_time": "2019-08-23T00:47:12.760676Z",
     "start_time": "2019-08-23T00:47:10.999369Z"
    },
    "collapsed": true
   },
   "outputs": [],
   "source": [
    "huafu = pd.read_excel('华福证券.xlsx')\n",
    "yinhe = pd.read_excel('银河证券.xlsx')\n",
    "haitong = pd.read_excel('海通证券.xlsx')\n",
    "lianxun = pd.read_excel('联讯证券.xlsx')\n",
    "guoxin = pd.read_excel('国信证券.xlsx')\n",
    "huatai = pd.read_excel('华泰证券.xlsx')\n",
    "caitong = pd.read_excel('财通证券.xlsx')\n",
    "pingan = pd.read_excel('平安证券.xlsx')\n",
    "guosheng = pd.read_excel('国盛证券.xlsx')\n",
    "zhongxin = pd.read_excel('中信证券.xlsx')\n",
    "changcheng = pd.read_excel('长城证券.xlsx')"
   ]
  },
  {
   "cell_type": "code",
   "execution_count": null,
   "metadata": {
    "collapsed": true
   },
   "outputs": [],
   "source": []
  },
  {
   "cell_type": "code",
   "execution_count": 8,
   "metadata": {
    "ExecuteTime": {
     "end_time": "2019-08-23T00:47:15.568168Z",
     "start_time": "2019-08-23T00:47:12.764638Z"
    },
    "collapsed": true
   },
   "outputs": [],
   "source": [
    "huafu.to_excel('华福证券'+date+'.xlsx',index=False)\n",
    "yinhe.to_excel('银河证券'+date+'.xlsx',index=False)\n",
    "haitong.to_excel('海通证券'+date+'.xlsx',index=False)\n",
    "lianxun.to_excel('联讯证券'+date+'.xlsx',index=False)\n",
    "guoxin.to_excel('国信证券'+date+'.xlsx',index=False)\n",
    "huatai.to_excel('华泰证券'+date+'.xlsx',index=False)\n",
    "caitong.to_excel('财通证券'+date+'.xlsx',index=False)\n",
    "pingan.to_excel('平安证券'+date+'.xlsx',index=False)\n",
    "guosheng.to_excel('国盛证券'+date+'.xlsx',index=False)\n",
    "zhongxin.to_excel('中信证券'+date+'.xlsx',index=False)\n",
    "changcheng.to_excel('长城证券'+date+'.xlsx',index=False)"
   ]
  },
  {
   "cell_type": "code",
   "execution_count": null,
   "metadata": {
    "collapsed": true
   },
   "outputs": [],
   "source": []
  },
  {
   "cell_type": "code",
   "execution_count": 10,
   "metadata": {
    "ExecuteTime": {
     "end_time": "2019-08-23T00:59:09.065080Z",
     "start_time": "2019-08-23T00:59:08.956370Z"
    },
    "collapsed": true
   },
   "outputs": [],
   "source": [
    "for model in ['A3','B3','B4','C2','C4','I4','I5','J2']:\n",
    "    pd.read_csv('prospect_'+model+'.csv').to_csv('prospect_'+model+'_'+date+'.csv',index=False,encoding='gbk')"
   ]
  },
  {
   "cell_type": "code",
   "execution_count": null,
   "metadata": {
    "collapsed": true
   },
   "outputs": [],
   "source": []
  },
  {
   "cell_type": "code",
   "execution_count": null,
   "metadata": {
    "collapsed": true
   },
   "outputs": [],
   "source": []
  },
  {
   "cell_type": "code",
   "execution_count": null,
   "metadata": {
    "collapsed": true
   },
   "outputs": [],
   "source": []
  }
 ],
 "metadata": {
  "kernelspec": {
   "display_name": "Python 3",
   "language": "python",
   "name": "python3"
  },
  "language_info": {
   "codemirror_mode": {
    "name": "ipython",
    "version": 3
   },
   "file_extension": ".py",
   "mimetype": "text/x-python",
   "name": "python",
   "nbconvert_exporter": "python",
   "pygments_lexer": "ipython3",
   "version": "3.6.4"
  }
 },
 "nbformat": 4,
 "nbformat_minor": 2
}
