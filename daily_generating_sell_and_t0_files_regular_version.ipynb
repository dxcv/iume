{
 "cells": [
  {
   "cell_type": "code",
   "execution_count": 1,
   "metadata": {
    "ExecuteTime": {
     "end_time": "2019-08-22T09:34:39.146689Z",
     "start_time": "2019-08-22T09:34:37.774358Z"
    },
    "code_folding": [
     0
    ],
    "collapsed": true
   },
   "outputs": [],
   "source": [
    "#import\n",
    "import warnings\n",
    "warnings.filterwarnings(\"ignore\")\n",
    "%matplotlib inline\n",
    "import matplotlib.pyplot as plt\n",
    "import datetime\n",
    "import pandas as pd\n",
    "import numpy as np\n",
    "import pymysql\n",
    "import operator\n",
    "import os\n",
    "from scipy import stats\n",
    "from statsmodels.regression.linear_model import OLS\n",
    "from datetime import *\n",
    "import scipy.io as sio\n",
    "import h5py\n",
    "import copy\n",
    "import shutil\n",
    "import rarfile\n",
    "import scipy.stats as scs\n",
    "from general_function import *\n",
    "from matplotlib_venn import venn3\n",
    "from matplotlib_venn import venn2\n",
    "import seaborn as sns\n",
    "import matplotlib.pyplot as plt\n",
    "import matplotlib.gridspec as gridspec\n",
    "from matplotlib.font_manager import FontProperties\n",
    "plt.rcParams['font.sans-serif'] = ['SimHei']  #用来正常显示中文标签\n",
    "plt.rcParams['axes.unicode_minus'] = False  #用来正常显示负号\n",
    "sns.set(style=\"whitegrid\")\n",
    "myfont = FontProperties(fname=r'C:\\Windows\\Fonts\\simhei.ttf', size=10)\n",
    "sns.set(\n",
    "    font=myfont.get_name(),\n",
    "    style=\"whitegrid\",\n",
    "    palette=\"muted\",\n",
    "    color_codes=True)"
   ]
  },
  {
   "cell_type": "code",
   "execution_count": 2,
   "metadata": {
    "ExecuteTime": {
     "end_time": "2019-08-22T09:34:39.489771Z",
     "start_time": "2019-08-22T09:34:39.153677Z"
    },
    "code_folding": [
     0
    ],
    "collapsed": true
   },
   "outputs": [],
   "source": [
    "#data\n",
    "os.chdir(r'C:/Users/bj/Desktop/刘泽丹/Code/')\n",
    "STcode = pd.read_csv('STcode_by_date_for_generator.csv',index_col=0).iloc[-1].dropna().tolist()\n",
    "code_to_name = pd.read_csv('code_to_name.csv',encoding='gbk',index_col=0)['SEC_NAME']\n",
    "code_to_name.index = code_to_name.index.str[:6].astype(int)\n",
    "account_code_to_name = pd.read_excel('account_info.xlsx').set_index('产品标识')['账户备注']\n",
    "account_code_to_name.index = [i.split(',')[0] if type(i)==str else np.nan for i in account_code_to_name.index]\n",
    "account_name_to_t0code = pd.read_excel('t0编号.xlsx',index_col=0)['T0代码']"
   ]
  },
  {
   "cell_type": "code",
   "execution_count": 3,
   "metadata": {
    "ExecuteTime": {
     "end_time": "2019-08-22T09:34:39.510716Z",
     "start_time": "2019-08-22T09:34:39.494759Z"
    },
    "code_folding": [
     0
    ],
    "collapsed": true
   },
   "outputs": [],
   "source": [
    "#today\n",
    "today = datetime.today()\n",
    "year = str(today.year)\n",
    "month = today.month\n",
    "if month < 10:\n",
    "    month = '0' + str(month)\n",
    "else:\n",
    "    month = str(month)\n",
    "day = today.day\n",
    "if day < 10:\n",
    "    day = '0' + str(day)\n",
    "else:\n",
    "    day = str(day)    \n",
    "today_nodot = year + month + day\n",
    "tomorrow_nodot = get_n_week_date_after(today_nodot)\n",
    "yesterday_nodot = get_n_week_date_before(today_nodot)"
   ]
  },
  {
   "cell_type": "code",
   "execution_count": 4,
   "metadata": {
    "ExecuteTime": {
     "end_time": "2019-08-22T09:34:39.540637Z",
     "start_time": "2019-08-22T09:34:39.520689Z"
    }
   },
   "outputs": [
    {
     "data": {
      "text/plain": [
       "('20190822', '20190823', '20190821')"
      ]
     },
     "execution_count": 4,
     "metadata": {},
     "output_type": "execute_result"
    }
   ],
   "source": [
    "today_nodot,tomorrow_nodot,yesterday_nodot"
   ]
  },
  {
   "cell_type": "markdown",
   "metadata": {
    "ExecuteTime": {
     "end_time": "2019-08-14T01:34:28.152577Z",
     "start_time": "2019-08-14T01:34:28.148587Z"
    },
    "collapsed": true
   },
   "source": [
    "today_nodot = '20190813';tomorrow_nodot = '20190814';yesterday_nodot = '20190812'"
   ]
  },
  {
   "cell_type": "code",
   "execution_count": 5,
   "metadata": {
    "ExecuteTime": {
     "end_time": "2019-08-22T09:34:39.554614Z",
     "start_time": "2019-08-22T09:34:39.547617Z"
    },
    "collapsed": true
   },
   "outputs": [],
   "source": [
    "back_checking_days = 12"
   ]
  },
  {
   "cell_type": "code",
   "execution_count": 6,
   "metadata": {
    "ExecuteTime": {
     "end_time": "2019-08-22T09:34:43.244726Z",
     "start_time": "2019-08-22T09:34:39.566567Z"
    },
    "code_folding": [
     0
    ]
   },
   "outputs": [
    {
     "name": "stdout",
     "output_type": "stream",
     "text": [
      "20190822\n",
      "['A2', 'A3', 'A4', 'A5', 'B1', 'B3', 'B4', 'C2', 'C3', 'C4', 'C5', 'D1', 'D2', 'K1', 'K2', 'K3', 'K4', 'K5', 'K6', 'K7', 2, '2', 20190823]\n",
      "20190821\n",
      "['G1', 3, '3', 20190823]\n",
      "20190820\n",
      "[4, '4', 20190823]\n",
      "20190819\n",
      "['sxf', 5, '5', 20190823]\n",
      "20190816\n",
      "['E1', 'E2', 'E3', 'E4', 'F1', 6, '6', 20190823]\n",
      "20190815\n",
      "['H1', 'H2', 'H3', 7, '7']\n",
      "20190814\n",
      "[8, '8', 20190823]\n",
      "20190813\n",
      "['I1', 'I2', 'I3', 'I4', 'I5', 9, '9']\n",
      "20190812\n",
      "[10, '10']\n",
      "20190809\n",
      "[11, '11']\n",
      "20190808\n",
      "['J2', 12, '12']\n"
     ]
    }
   ],
   "source": [
    "#理论的卖出任务，即如*整七天前*买入标记为H的，*整六天前*买入标记为E的等，买入记录为‘实验_总任务管理表_买入_完成_DATE.xlsx’表格\n",
    "theoretical_sell = pd.DataFrame()\n",
    "for i in range(0, back_checking_days-1):\n",
    "    print(get_n_week_date_before(today_nodot,i))\n",
    "    back_updated_buy = pd.read_excel('实验_总任务管理表_买入_完成_'+get_n_week_date_before(today_nodot,i)+'.xlsx')\n",
    "    date_model_list = [date_model for date_model in back_updated_buy['模型'].unique().tolist() \\\n",
    "                       if type(date_model) == int and date_model == int(tomorrow_nodot)]\n",
    "    sell_list = []\n",
    "    sell_list = preset_n_days_model(i+2, add_num=True) + date_model_list\n",
    "    print(sell_list)\n",
    "    sub_theoretical_sell = back_updated_buy[back_updated_buy['模型'].isin(sell_list)]\n",
    "    sub_theoretical_sell['买入日期'] = get_n_week_date_before(today_nodot,i)\n",
    "    theoretical_sell = pd.concat([theoretical_sell,sub_theoretical_sell])\n",
    "theoretical_sell['任务资金'] = np.nan\n",
    "theoretical_sell['任务股数'] = theoretical_sell['完成股数']\n",
    "theoretical_sell['方向'] = '空'\n",
    "theoretical_sell = theoretical_sell.loc[:,['产品标识','股票代码','任务资金','任务股数','方向','模型','买入日期']].reset_index(drop = True)"
   ]
  },
  {
   "cell_type": "code",
   "execution_count": 7,
   "metadata": {
    "ExecuteTime": {
     "end_time": "2019-08-22T09:34:46.456137Z",
     "start_time": "2019-08-22T09:34:43.256694Z"
    },
    "code_folding": [
     0
    ]
   },
   "outputs": [
    {
     "name": "stdout",
     "output_type": "stream",
     "text": [
      "20190822\n",
      "['G1', 'sxf', 'E1', 'E2', 'E3', 'E4', 'F1', 'H1', 'H2', 'H3', 'I1', 'I2', 'I3', 'I4', 'I5', 'J2', 20190902, 20190829, 20190830, 20190826, 20190827, 20190828, 20190903, 20190904, 20190905, 20190906, 3, 4, 5, 6, 7, 8, 9, 10, 11, 12]\n",
      "20190821\n",
      "['sxf', 'E1', 'E2', 'E3', 'E4', 'F1', 'H1', 'H2', 'H3', 'I1', 'I2', 'I3', 'I4', 'I5', 'J2', 20190830, 20190829, 20190826, 20190827, 20190828, 20190902, 4, 5, 6, 7, 8, 9, 10, 11, 12]\n",
      "20190820\n",
      "['sxf', 'E1', 'E2', 'E3', 'E4', 'F1', 'H1', 'H2', 'H3', 'I1', 'I2', 'I3', 'I4', 'I5', 'J2', 20190829, 20190828, 5, 6, 7, 8, 9, 10, 11, 12]\n",
      "20190819\n",
      "['E1', 'E2', 'E3', 'E4', 'F1', 'H1', 'H2', 'H3', 'I1', 'I2', 'I3', 'I4', 'I5', 'J2', 20190828, 20190827, 6, 7, 8, 9, 10, 11, 12]\n",
      "20190816\n",
      "['H1', 'H2', 'H3', 'I1', 'I2', 'I3', 'I4', 'I5', 'J2', 20190827, 20190826, 20190828, 7, 8, 9, 10, 11, 12]\n",
      "20190815\n",
      "['I1', 'I2', 'I3', 'I4', 'I5', 'J2', 20190826, 20190827, 8, 9, 10, 11, 12]\n",
      "20190814\n",
      "['I1', 'I2', 'I3', 'I4', 'I5', 'J2', 9, 10, 11, 12]\n",
      "20190813\n",
      "['J2', 10, 11, 12]\n",
      "20190812\n",
      "['J2', 11, 12]\n",
      "20190809\n",
      "['J2', 12]\n"
     ]
    }
   ],
   "source": [
    "#理论的可T任务，即如*七天以内（不含整七天）*买入标记为H的，*六天以内（不含整六天）*买入标记为E的等，买入记录为‘实验_总任务管理表_买入_完成_DATE.xlsx’表格\n",
    "theoretical_t0 = pd.DataFrame()\n",
    "for i in range(0, back_checking_days-2):\n",
    "    print(get_n_week_date_before(today_nodot,i))\n",
    "    back_updated_buy = pd.read_excel('实验_总任务管理表_买入_完成_'+get_n_week_date_before(today_nodot,i)+'.xlsx')\n",
    "    date_model_list = [date_model for date_model in back_updated_buy['模型'].unique().tolist() \\\n",
    "                       if type(date_model) == int and date_model > int(tomorrow_nodot)]\n",
    "    t0_list = preset_n_days_model_combined(range(i+3,back_checking_days+1)) + date_model_list\n",
    "    t0_list += list(range(i+3,back_checking_days+1))\n",
    "    print(t0_list)\n",
    "    sub_theoretical_t0 = back_updated_buy[back_updated_buy['模型'].isin(t0_list)]\n",
    "    sub_theoretical_t0['买入日期'] = get_n_week_date_before(today_nodot,i)\n",
    "    theoretical_t0 = pd.concat([theoretical_t0,sub_theoretical_t0])\n",
    "theoretical_t0['任务资金'] = np.nan\n",
    "theoretical_t0['任务股数'] = theoretical_t0['完成股数']\n",
    "theoretical_t0['方向'] = '空'\n",
    "theoretical_t0 = theoretical_t0.loc[:,['产品标识','股票代码','任务资金','任务股数','方向','模型','买入日期']].reset_index(drop = True)"
   ]
  },
  {
   "cell_type": "code",
   "execution_count": 8,
   "metadata": {
    "ExecuteTime": {
     "end_time": "2019-08-22T09:34:50.347725Z",
     "start_time": "2019-08-22T09:34:46.461121Z"
    },
    "code_folding": [
     0
    ]
   },
   "outputs": [
    {
     "name": "stdout",
     "output_type": "stream",
     "text": [
      "20190822\n",
      "['A2', 'A3', 'A4', 'A5', 'B1', 'B3', 'B4', 'C2', 'C3', 'C4', 'C5', 'D1', 'D2', 'K1', 'K2', 'K3', 'K4', 'K5', 'K6', 'K7', 'G1', 'sxf', 'E1', 'E2', 'E3', 'E4', 'F1', 'H1', 'H2', 'H3', 'I1', 'I2', 'I3', 'I4', 'I5', 'J2', 20190902, 20190829, 20190830, 20190823, 20190826, 20190827, 20190828, 20190903, 20190904, 20190905, 20190906, 2, 3, 4, 5, 6, 7, 8, 9, 10, 11, 12]\n",
      "20190821\n",
      "['G1', 'sxf', 'E1', 'E2', 'E3', 'E4', 'F1', 'H1', 'H2', 'H3', 'I1', 'I2', 'I3', 'I4', 'I5', 'J2', 20190830, 20190829, 20190823, 20190826, 20190827, 20190828, 20190902, 3, 4, 5, 6, 7, 8, 9, 10, 11, 12]\n",
      "20190820\n",
      "['sxf', 'E1', 'E2', 'E3', 'E4', 'F1', 'H1', 'H2', 'H3', 'I1', 'I2', 'I3', 'I4', 'I5', 'J2', 20190829, 20190828, 20190823, 4, 5, 6, 7, 8, 9, 10, 11, 12]\n",
      "20190819\n",
      "['sxf', 'E1', 'E2', 'E3', 'E4', 'F1', 'H1', 'H2', 'H3', 'I1', 'I2', 'I3', 'I4', 'I5', 'J2', 20190828, 20190827, 20190823, 5, 6, 7, 8, 9, 10, 11, 12]\n",
      "20190816\n",
      "['E1', 'E2', 'E3', 'E4', 'F1', 'H1', 'H2', 'H3', 'I1', 'I2', 'I3', 'I4', 'I5', 'J2', 20190827, 20190826, 20190828, 20190823, 6, 7, 8, 9, 10, 11, 12]\n",
      "20190815\n",
      "['H1', 'H2', 'H3', 'I1', 'I2', 'I3', 'I4', 'I5', 'J2', 20190826, 20190827, 7, 8, 9, 10, 11, 12]\n",
      "20190814\n",
      "['I1', 'I2', 'I3', 'I4', 'I5', 'J2', 20190823, 8, 9, 10, 11, 12]\n",
      "20190813\n",
      "['I1', 'I2', 'I3', 'I4', 'I5', 'J2', 9, 10, 11, 12]\n",
      "20190812\n",
      "['J2', 10, 11, 12]\n",
      "20190809\n",
      "['J2', 11, 12]\n",
      "20190808\n",
      "['J2', 12]\n"
     ]
    }
   ],
   "source": [
    "#理论的总持仓，即如*七天以内（含整七天）*买入标记为H的，*六天以内（含整六天）*买入标记为E的等，买入记录为‘实验_总任务管理表_买入_完成_DATE.xlsx’表格\n",
    "theoretical_total_holding = pd.DataFrame()\n",
    "for i in range(0, back_checking_days-1):\n",
    "    print(get_n_week_date_before(today_nodot,i))\n",
    "    back_updated_buy = pd.read_excel('实验_总任务管理表_买入_完成_'+get_n_week_date_before(today_nodot,i)+'.xlsx')\n",
    "    date_model_list = [date_model for date_model in back_updated_buy['模型'].unique().tolist() \\\n",
    "                       if type(date_model) == int and date_model>=int(tomorrow_nodot)]\n",
    "    total_holding_list = []\n",
    "    total_holding_list = preset_n_days_model_combined(range(i+2,back_checking_days+1)) + date_model_list\n",
    "    total_holding_list += list(range(i+2,back_checking_days+1))\n",
    "    print(total_holding_list)\n",
    "    sub_theoretical_total_holding = back_updated_buy[back_updated_buy['模型'].isin(total_holding_list)]\n",
    "    sub_theoretical_total_holding['买入日期'] = get_n_week_date_before(today_nodot,i)\n",
    "    theoretical_total_holding = pd.concat([theoretical_total_holding,sub_theoretical_total_holding])\n",
    "theoretical_total_holding['任务资金'] = np.nan\n",
    "theoretical_total_holding['任务股数'] = theoretical_total_holding['完成股数']\n",
    "theoretical_total_holding['方向'] = '空'\n",
    "theoretical_total_holding = theoretical_total_holding.loc[:,['产品标识','股票代码','任务资金','任务股数','方向','模型','买入日期']].reset_index(drop = True)"
   ]
  },
  {
   "cell_type": "code",
   "execution_count": 9,
   "metadata": {
    "ExecuteTime": {
     "end_time": "2019-08-22T09:34:50.367676Z",
     "start_time": "2019-08-22T09:34:50.355704Z"
    },
    "code_folding": [
     0
    ],
    "collapsed": true
   },
   "outputs": [],
   "source": [
    "#make a copy for future usage\n",
    "theoretical_sell_origin = theoretical_sell.copy()\n",
    "theoretical_t0_origin = theoretical_t0.copy()\n",
    "theoretical_total_holding_origin = theoretical_total_holding.copy()"
   ]
  },
  {
   "cell_type": "code",
   "execution_count": 10,
   "metadata": {
    "ExecuteTime": {
     "end_time": "2019-08-22T09:34:50.392637Z",
     "start_time": "2019-08-22T09:34:50.373655Z"
    },
    "code_folding": [
     0
    ],
    "scrolled": true
   },
   "outputs": [
    {
     "data": {
      "text/html": [
       "<div>\n",
       "<style scoped>\n",
       "    .dataframe tbody tr th:only-of-type {\n",
       "        vertical-align: middle;\n",
       "    }\n",
       "\n",
       "    .dataframe tbody tr th {\n",
       "        vertical-align: top;\n",
       "    }\n",
       "\n",
       "    .dataframe thead th {\n",
       "        text-align: right;\n",
       "    }\n",
       "</style>\n",
       "<table border=\"1\" class=\"dataframe\">\n",
       "  <thead>\n",
       "    <tr style=\"text-align: right;\">\n",
       "      <th></th>\n",
       "      <th>产品标识</th>\n",
       "      <th>股票代码</th>\n",
       "      <th>任务资金</th>\n",
       "      <th>任务股数</th>\n",
       "      <th>方向</th>\n",
       "      <th>模型</th>\n",
       "      <th>买入日期</th>\n",
       "    </tr>\n",
       "  </thead>\n",
       "  <tbody>\n",
       "  </tbody>\n",
       "</table>\n",
       "</div>"
      ],
      "text/plain": [
       "Empty DataFrame\n",
       "Columns: [产品标识, 股票代码, 任务资金, 任务股数, 方向, 模型, 买入日期]\n",
       "Index: []"
      ]
     },
     "execution_count": 10,
     "metadata": {},
     "output_type": "execute_result"
    }
   ],
   "source": [
    "#卖出任务中的st股\n",
    "theoretical_sell[theoretical_sell['股票代码'].isin(STcode)]"
   ]
  },
  {
   "cell_type": "code",
   "execution_count": 11,
   "metadata": {
    "ExecuteTime": {
     "end_time": "2019-08-22T09:34:50.444466Z",
     "start_time": "2019-08-22T09:34:50.407567Z"
    },
    "code_folding": [],
    "scrolled": true
   },
   "outputs": [
    {
     "data": {
      "text/html": [
       "<div>\n",
       "<style scoped>\n",
       "    .dataframe tbody tr th:only-of-type {\n",
       "        vertical-align: middle;\n",
       "    }\n",
       "\n",
       "    .dataframe tbody tr th {\n",
       "        vertical-align: top;\n",
       "    }\n",
       "\n",
       "    .dataframe thead th {\n",
       "        text-align: right;\n",
       "    }\n",
       "</style>\n",
       "<table border=\"1\" class=\"dataframe\">\n",
       "  <thead>\n",
       "    <tr style=\"text-align: right;\">\n",
       "      <th></th>\n",
       "      <th>产品标识</th>\n",
       "      <th>股票代码</th>\n",
       "      <th>任务资金</th>\n",
       "      <th>任务股数</th>\n",
       "      <th>方向</th>\n",
       "      <th>模型</th>\n",
       "      <th>买入日期</th>\n",
       "    </tr>\n",
       "  </thead>\n",
       "  <tbody>\n",
       "    <tr>\n",
       "      <th>29</th>\n",
       "      <td>HQCC3</td>\n",
       "      <td>300431</td>\n",
       "      <td>NaN</td>\n",
       "      <td>3600</td>\n",
       "      <td>空</td>\n",
       "      <td>I4</td>\n",
       "      <td>20190822</td>\n",
       "    </tr>\n",
       "    <tr>\n",
       "      <th>76</th>\n",
       "      <td>HQCC3</td>\n",
       "      <td>300431</td>\n",
       "      <td>NaN</td>\n",
       "      <td>3500</td>\n",
       "      <td>空</td>\n",
       "      <td>I5</td>\n",
       "      <td>20190822</td>\n",
       "    </tr>\n",
       "    <tr>\n",
       "      <th>140</th>\n",
       "      <td>HQCC4</td>\n",
       "      <td>300431</td>\n",
       "      <td>NaN</td>\n",
       "      <td>2500</td>\n",
       "      <td>空</td>\n",
       "      <td>I4</td>\n",
       "      <td>20190822</td>\n",
       "    </tr>\n",
       "    <tr>\n",
       "      <th>187</th>\n",
       "      <td>HQCC4</td>\n",
       "      <td>300431</td>\n",
       "      <td>NaN</td>\n",
       "      <td>2500</td>\n",
       "      <td>空</td>\n",
       "      <td>I5</td>\n",
       "      <td>20190822</td>\n",
       "    </tr>\n",
       "    <tr>\n",
       "      <th>252</th>\n",
       "      <td>HQCC5</td>\n",
       "      <td>300431</td>\n",
       "      <td>NaN</td>\n",
       "      <td>27600</td>\n",
       "      <td>空</td>\n",
       "      <td>I4</td>\n",
       "      <td>20190822</td>\n",
       "    </tr>\n",
       "    <tr>\n",
       "      <th>300</th>\n",
       "      <td>HQDB2</td>\n",
       "      <td>300431</td>\n",
       "      <td>NaN</td>\n",
       "      <td>8300</td>\n",
       "      <td>空</td>\n",
       "      <td>I5</td>\n",
       "      <td>20190822</td>\n",
       "    </tr>\n",
       "    <tr>\n",
       "      <th>350</th>\n",
       "      <td>HQDB3</td>\n",
       "      <td>300431</td>\n",
       "      <td>NaN</td>\n",
       "      <td>2100</td>\n",
       "      <td>空</td>\n",
       "      <td>I5</td>\n",
       "      <td>20190822</td>\n",
       "    </tr>\n",
       "    <tr>\n",
       "      <th>410</th>\n",
       "      <td>HQDF1</td>\n",
       "      <td>300431</td>\n",
       "      <td>NaN</td>\n",
       "      <td>4100</td>\n",
       "      <td>空</td>\n",
       "      <td>I5</td>\n",
       "      <td>20190822</td>\n",
       "    </tr>\n",
       "    <tr>\n",
       "      <th>464</th>\n",
       "      <td>HQDT1</td>\n",
       "      <td>300431</td>\n",
       "      <td>NaN</td>\n",
       "      <td>2600</td>\n",
       "      <td>空</td>\n",
       "      <td>I4</td>\n",
       "      <td>20190822</td>\n",
       "    </tr>\n",
       "    <tr>\n",
       "      <th>511</th>\n",
       "      <td>HQDT1</td>\n",
       "      <td>300431</td>\n",
       "      <td>NaN</td>\n",
       "      <td>2500</td>\n",
       "      <td>空</td>\n",
       "      <td>I5</td>\n",
       "      <td>20190822</td>\n",
       "    </tr>\n",
       "    <tr>\n",
       "      <th>562</th>\n",
       "      <td>HQGD1</td>\n",
       "      <td>300431</td>\n",
       "      <td>NaN</td>\n",
       "      <td>7600</td>\n",
       "      <td>空</td>\n",
       "      <td>I5</td>\n",
       "      <td>20190822</td>\n",
       "    </tr>\n",
       "    <tr>\n",
       "      <th>627</th>\n",
       "      <td>HQGX1</td>\n",
       "      <td>300431</td>\n",
       "      <td>NaN</td>\n",
       "      <td>4100</td>\n",
       "      <td>空</td>\n",
       "      <td>I4</td>\n",
       "      <td>20190822</td>\n",
       "    </tr>\n",
       "    <tr>\n",
       "      <th>704</th>\n",
       "      <td>HQGX1</td>\n",
       "      <td>300431</td>\n",
       "      <td>NaN</td>\n",
       "      <td>4200</td>\n",
       "      <td>空</td>\n",
       "      <td>I5</td>\n",
       "      <td>20190822</td>\n",
       "    </tr>\n",
       "    <tr>\n",
       "      <th>770</th>\n",
       "      <td>HQGX8</td>\n",
       "      <td>300431</td>\n",
       "      <td>NaN</td>\n",
       "      <td>22000</td>\n",
       "      <td>空</td>\n",
       "      <td>I4</td>\n",
       "      <td>20190822</td>\n",
       "    </tr>\n",
       "    <tr>\n",
       "      <th>820</th>\n",
       "      <td>HQHF1</td>\n",
       "      <td>300431</td>\n",
       "      <td>NaN</td>\n",
       "      <td>700</td>\n",
       "      <td>空</td>\n",
       "      <td>I4</td>\n",
       "      <td>20190822</td>\n",
       "    </tr>\n",
       "    <tr>\n",
       "      <th>867</th>\n",
       "      <td>HQHF1</td>\n",
       "      <td>300431</td>\n",
       "      <td>NaN</td>\n",
       "      <td>1700</td>\n",
       "      <td>空</td>\n",
       "      <td>I5</td>\n",
       "      <td>20190822</td>\n",
       "    </tr>\n",
       "    <tr>\n",
       "      <th>921</th>\n",
       "      <td>HQHF10</td>\n",
       "      <td>300431</td>\n",
       "      <td>NaN</td>\n",
       "      <td>28800</td>\n",
       "      <td>空</td>\n",
       "      <td>I4</td>\n",
       "      <td>20190822</td>\n",
       "    </tr>\n",
       "    <tr>\n",
       "      <th>968</th>\n",
       "      <td>HQHF11</td>\n",
       "      <td>300431</td>\n",
       "      <td>NaN</td>\n",
       "      <td>4300</td>\n",
       "      <td>空</td>\n",
       "      <td>I5</td>\n",
       "      <td>20190822</td>\n",
       "    </tr>\n",
       "    <tr>\n",
       "      <th>1018</th>\n",
       "      <td>HQHF12</td>\n",
       "      <td>300431</td>\n",
       "      <td>NaN</td>\n",
       "      <td>1900</td>\n",
       "      <td>空</td>\n",
       "      <td>I5</td>\n",
       "      <td>20190822</td>\n",
       "    </tr>\n",
       "    <tr>\n",
       "      <th>1089</th>\n",
       "      <td>HQHF6</td>\n",
       "      <td>300431</td>\n",
       "      <td>NaN</td>\n",
       "      <td>2500</td>\n",
       "      <td>空</td>\n",
       "      <td>I5</td>\n",
       "      <td>20190822</td>\n",
       "    </tr>\n",
       "    <tr>\n",
       "      <th>1143</th>\n",
       "      <td>HQHF7</td>\n",
       "      <td>300431</td>\n",
       "      <td>NaN</td>\n",
       "      <td>4400</td>\n",
       "      <td>空</td>\n",
       "      <td>I4</td>\n",
       "      <td>20190822</td>\n",
       "    </tr>\n",
       "    <tr>\n",
       "      <th>1191</th>\n",
       "      <td>HQHF9</td>\n",
       "      <td>300431</td>\n",
       "      <td>NaN</td>\n",
       "      <td>26900</td>\n",
       "      <td>空</td>\n",
       "      <td>I5</td>\n",
       "      <td>20190822</td>\n",
       "    </tr>\n",
       "    <tr>\n",
       "      <th>1244</th>\n",
       "      <td>HQHT12</td>\n",
       "      <td>300431</td>\n",
       "      <td>NaN</td>\n",
       "      <td>16000</td>\n",
       "      <td>空</td>\n",
       "      <td>I4</td>\n",
       "      <td>20190822</td>\n",
       "    </tr>\n",
       "    <tr>\n",
       "      <th>1316</th>\n",
       "      <td>HQHT14</td>\n",
       "      <td>300431</td>\n",
       "      <td>NaN</td>\n",
       "      <td>6400</td>\n",
       "      <td>空</td>\n",
       "      <td>I4</td>\n",
       "      <td>20190822</td>\n",
       "    </tr>\n",
       "    <tr>\n",
       "      <th>1374</th>\n",
       "      <td>HQHT3</td>\n",
       "      <td>300431</td>\n",
       "      <td>NaN</td>\n",
       "      <td>20500</td>\n",
       "      <td>空</td>\n",
       "      <td>I5</td>\n",
       "      <td>20190822</td>\n",
       "    </tr>\n",
       "    <tr>\n",
       "      <th>1537</th>\n",
       "      <td>HQHT7</td>\n",
       "      <td>300431</td>\n",
       "      <td>NaN</td>\n",
       "      <td>11200</td>\n",
       "      <td>空</td>\n",
       "      <td>I5</td>\n",
       "      <td>20190822</td>\n",
       "    </tr>\n",
       "    <tr>\n",
       "      <th>1823</th>\n",
       "      <td>HQHV1</td>\n",
       "      <td>300362</td>\n",
       "      <td>NaN</td>\n",
       "      <td>6100</td>\n",
       "      <td>空</td>\n",
       "      <td>8</td>\n",
       "      <td>20190822</td>\n",
       "    </tr>\n",
       "    <tr>\n",
       "      <th>1957</th>\n",
       "      <td>HQHZ18</td>\n",
       "      <td>300431</td>\n",
       "      <td>NaN</td>\n",
       "      <td>2500</td>\n",
       "      <td>空</td>\n",
       "      <td>I4</td>\n",
       "      <td>20190822</td>\n",
       "    </tr>\n",
       "    <tr>\n",
       "      <th>2004</th>\n",
       "      <td>HQHZ18</td>\n",
       "      <td>300431</td>\n",
       "      <td>NaN</td>\n",
       "      <td>2500</td>\n",
       "      <td>空</td>\n",
       "      <td>I5</td>\n",
       "      <td>20190822</td>\n",
       "    </tr>\n",
       "    <tr>\n",
       "      <th>2032</th>\n",
       "      <td>HQHZ20</td>\n",
       "      <td>300362</td>\n",
       "      <td>NaN</td>\n",
       "      <td>0</td>\n",
       "      <td>空</td>\n",
       "      <td>20190902</td>\n",
       "      <td>20190822</td>\n",
       "    </tr>\n",
       "    <tr>\n",
       "      <th>...</th>\n",
       "      <td>...</td>\n",
       "      <td>...</td>\n",
       "      <td>...</td>\n",
       "      <td>...</td>\n",
       "      <td>...</td>\n",
       "      <td>...</td>\n",
       "      <td>...</td>\n",
       "    </tr>\n",
       "    <tr>\n",
       "      <th>11869</th>\n",
       "      <td>HQYH15</td>\n",
       "      <td>300362</td>\n",
       "      <td>NaN</td>\n",
       "      <td>5700</td>\n",
       "      <td>空</td>\n",
       "      <td>I5</td>\n",
       "      <td>20190821</td>\n",
       "    </tr>\n",
       "    <tr>\n",
       "      <th>11870</th>\n",
       "      <td>HQYH15</td>\n",
       "      <td>300431</td>\n",
       "      <td>NaN</td>\n",
       "      <td>3600</td>\n",
       "      <td>空</td>\n",
       "      <td>I5</td>\n",
       "      <td>20190821</td>\n",
       "    </tr>\n",
       "    <tr>\n",
       "      <th>11919</th>\n",
       "      <td>HQYH18</td>\n",
       "      <td>300362</td>\n",
       "      <td>NaN</td>\n",
       "      <td>14500</td>\n",
       "      <td>空</td>\n",
       "      <td>I5</td>\n",
       "      <td>20190821</td>\n",
       "    </tr>\n",
       "    <tr>\n",
       "      <th>11920</th>\n",
       "      <td>HQYH18</td>\n",
       "      <td>300431</td>\n",
       "      <td>NaN</td>\n",
       "      <td>9245</td>\n",
       "      <td>空</td>\n",
       "      <td>I5</td>\n",
       "      <td>20190821</td>\n",
       "    </tr>\n",
       "    <tr>\n",
       "      <th>11968</th>\n",
       "      <td>HQYH2</td>\n",
       "      <td>300431</td>\n",
       "      <td>NaN</td>\n",
       "      <td>9600</td>\n",
       "      <td>空</td>\n",
       "      <td>I5</td>\n",
       "      <td>20190821</td>\n",
       "    </tr>\n",
       "    <tr>\n",
       "      <th>12019</th>\n",
       "      <td>HQYH21</td>\n",
       "      <td>300362</td>\n",
       "      <td>NaN</td>\n",
       "      <td>2100</td>\n",
       "      <td>空</td>\n",
       "      <td>I5</td>\n",
       "      <td>20190821</td>\n",
       "    </tr>\n",
       "    <tr>\n",
       "      <th>12020</th>\n",
       "      <td>HQYH21</td>\n",
       "      <td>300431</td>\n",
       "      <td>NaN</td>\n",
       "      <td>1300</td>\n",
       "      <td>空</td>\n",
       "      <td>I5</td>\n",
       "      <td>20190821</td>\n",
       "    </tr>\n",
       "    <tr>\n",
       "      <th>12082</th>\n",
       "      <td>HQYH23</td>\n",
       "      <td>300431</td>\n",
       "      <td>NaN</td>\n",
       "      <td>30900</td>\n",
       "      <td>空</td>\n",
       "      <td>I4</td>\n",
       "      <td>20190821</td>\n",
       "    </tr>\n",
       "    <tr>\n",
       "      <th>12158</th>\n",
       "      <td>HQYH23</td>\n",
       "      <td>300431</td>\n",
       "      <td>NaN</td>\n",
       "      <td>31400</td>\n",
       "      <td>空</td>\n",
       "      <td>I5</td>\n",
       "      <td>20190821</td>\n",
       "    </tr>\n",
       "    <tr>\n",
       "      <th>12238</th>\n",
       "      <td>HQYH25</td>\n",
       "      <td>300431</td>\n",
       "      <td>NaN</td>\n",
       "      <td>30900</td>\n",
       "      <td>空</td>\n",
       "      <td>I4</td>\n",
       "      <td>20190821</td>\n",
       "    </tr>\n",
       "    <tr>\n",
       "      <th>12314</th>\n",
       "      <td>HQYH25</td>\n",
       "      <td>300431</td>\n",
       "      <td>NaN</td>\n",
       "      <td>31300</td>\n",
       "      <td>空</td>\n",
       "      <td>I5</td>\n",
       "      <td>20190821</td>\n",
       "    </tr>\n",
       "    <tr>\n",
       "      <th>12380</th>\n",
       "      <td>HQYH28</td>\n",
       "      <td>300362</td>\n",
       "      <td>NaN</td>\n",
       "      <td>22600</td>\n",
       "      <td>空</td>\n",
       "      <td>I5</td>\n",
       "      <td>20190821</td>\n",
       "    </tr>\n",
       "    <tr>\n",
       "      <th>12381</th>\n",
       "      <td>HQYH28</td>\n",
       "      <td>300431</td>\n",
       "      <td>NaN</td>\n",
       "      <td>14400</td>\n",
       "      <td>空</td>\n",
       "      <td>I5</td>\n",
       "      <td>20190821</td>\n",
       "    </tr>\n",
       "    <tr>\n",
       "      <th>12424</th>\n",
       "      <td>HQYH4</td>\n",
       "      <td>300362</td>\n",
       "      <td>NaN</td>\n",
       "      <td>3800</td>\n",
       "      <td>空</td>\n",
       "      <td>I4</td>\n",
       "      <td>20190821</td>\n",
       "    </tr>\n",
       "    <tr>\n",
       "      <th>12480</th>\n",
       "      <td>HQYH4</td>\n",
       "      <td>300362</td>\n",
       "      <td>NaN</td>\n",
       "      <td>6300</td>\n",
       "      <td>空</td>\n",
       "      <td>I5</td>\n",
       "      <td>20190821</td>\n",
       "    </tr>\n",
       "    <tr>\n",
       "      <th>12481</th>\n",
       "      <td>HQYH4</td>\n",
       "      <td>300431</td>\n",
       "      <td>NaN</td>\n",
       "      <td>4000</td>\n",
       "      <td>空</td>\n",
       "      <td>I5</td>\n",
       "      <td>20190821</td>\n",
       "    </tr>\n",
       "    <tr>\n",
       "      <th>12545</th>\n",
       "      <td>HQYH6</td>\n",
       "      <td>300431</td>\n",
       "      <td>NaN</td>\n",
       "      <td>6900</td>\n",
       "      <td>空</td>\n",
       "      <td>I4</td>\n",
       "      <td>20190821</td>\n",
       "    </tr>\n",
       "    <tr>\n",
       "      <th>12653</th>\n",
       "      <td>HQYH7</td>\n",
       "      <td>300431</td>\n",
       "      <td>NaN</td>\n",
       "      <td>700</td>\n",
       "      <td>空</td>\n",
       "      <td>I5</td>\n",
       "      <td>20190821</td>\n",
       "    </tr>\n",
       "    <tr>\n",
       "      <th>12720</th>\n",
       "      <td>HQYH9</td>\n",
       "      <td>300431</td>\n",
       "      <td>NaN</td>\n",
       "      <td>500</td>\n",
       "      <td>空</td>\n",
       "      <td>8</td>\n",
       "      <td>20190821</td>\n",
       "    </tr>\n",
       "    <tr>\n",
       "      <th>12767</th>\n",
       "      <td>HQYH9</td>\n",
       "      <td>300362</td>\n",
       "      <td>NaN</td>\n",
       "      <td>6400</td>\n",
       "      <td>空</td>\n",
       "      <td>I5</td>\n",
       "      <td>20190821</td>\n",
       "    </tr>\n",
       "    <tr>\n",
       "      <th>12768</th>\n",
       "      <td>HQYH9</td>\n",
       "      <td>300431</td>\n",
       "      <td>NaN</td>\n",
       "      <td>4000</td>\n",
       "      <td>空</td>\n",
       "      <td>I5</td>\n",
       "      <td>20190821</td>\n",
       "    </tr>\n",
       "    <tr>\n",
       "      <th>12811</th>\n",
       "      <td>HQZJ3</td>\n",
       "      <td>300362</td>\n",
       "      <td>NaN</td>\n",
       "      <td>800</td>\n",
       "      <td>空</td>\n",
       "      <td>I4</td>\n",
       "      <td>20190821</td>\n",
       "    </tr>\n",
       "    <tr>\n",
       "      <th>12867</th>\n",
       "      <td>HQZJ3</td>\n",
       "      <td>300362</td>\n",
       "      <td>NaN</td>\n",
       "      <td>700</td>\n",
       "      <td>空</td>\n",
       "      <td>I5</td>\n",
       "      <td>20190821</td>\n",
       "    </tr>\n",
       "    <tr>\n",
       "      <th>12868</th>\n",
       "      <td>HQZJ3</td>\n",
       "      <td>300431</td>\n",
       "      <td>NaN</td>\n",
       "      <td>400</td>\n",
       "      <td>空</td>\n",
       "      <td>I5</td>\n",
       "      <td>20190821</td>\n",
       "    </tr>\n",
       "    <tr>\n",
       "      <th>13462</th>\n",
       "      <td>HQYH23</td>\n",
       "      <td>300431</td>\n",
       "      <td>NaN</td>\n",
       "      <td>7600</td>\n",
       "      <td>空</td>\n",
       "      <td>20190829</td>\n",
       "      <td>20190821</td>\n",
       "    </tr>\n",
       "    <tr>\n",
       "      <th>14090</th>\n",
       "      <td>HQYH25</td>\n",
       "      <td>300431</td>\n",
       "      <td>NaN</td>\n",
       "      <td>7600</td>\n",
       "      <td>空</td>\n",
       "      <td>20190829</td>\n",
       "      <td>20190821</td>\n",
       "    </tr>\n",
       "    <tr>\n",
       "      <th>14312</th>\n",
       "      <td>HQZS2</td>\n",
       "      <td>300431</td>\n",
       "      <td>NaN</td>\n",
       "      <td>1800</td>\n",
       "      <td>空</td>\n",
       "      <td>20190829</td>\n",
       "      <td>20190821</td>\n",
       "    </tr>\n",
       "    <tr>\n",
       "      <th>14361</th>\n",
       "      <td>HQZS2</td>\n",
       "      <td>300431</td>\n",
       "      <td>NaN</td>\n",
       "      <td>1800</td>\n",
       "      <td>空</td>\n",
       "      <td>20190830</td>\n",
       "      <td>20190821</td>\n",
       "    </tr>\n",
       "    <tr>\n",
       "      <th>14407</th>\n",
       "      <td>HQZS2</td>\n",
       "      <td>300431</td>\n",
       "      <td>NaN</td>\n",
       "      <td>3500</td>\n",
       "      <td>空</td>\n",
       "      <td>20190902</td>\n",
       "      <td>20190821</td>\n",
       "    </tr>\n",
       "    <tr>\n",
       "      <th>14422</th>\n",
       "      <td>HQZS2</td>\n",
       "      <td>300362</td>\n",
       "      <td>NaN</td>\n",
       "      <td>5400</td>\n",
       "      <td>空</td>\n",
       "      <td>20190902</td>\n",
       "      <td>20190821</td>\n",
       "    </tr>\n",
       "  </tbody>\n",
       "</table>\n",
       "<p>146 rows × 7 columns</p>\n",
       "</div>"
      ],
      "text/plain": [
       "         产品标识    股票代码  任务资金   任务股数 方向        模型      买入日期\n",
       "29      HQCC3  300431   NaN   3600  空        I4  20190822\n",
       "76      HQCC3  300431   NaN   3500  空        I5  20190822\n",
       "140     HQCC4  300431   NaN   2500  空        I4  20190822\n",
       "187     HQCC4  300431   NaN   2500  空        I5  20190822\n",
       "252     HQCC5  300431   NaN  27600  空        I4  20190822\n",
       "300     HQDB2  300431   NaN   8300  空        I5  20190822\n",
       "350     HQDB3  300431   NaN   2100  空        I5  20190822\n",
       "410     HQDF1  300431   NaN   4100  空        I5  20190822\n",
       "464     HQDT1  300431   NaN   2600  空        I4  20190822\n",
       "511     HQDT1  300431   NaN   2500  空        I5  20190822\n",
       "562     HQGD1  300431   NaN   7600  空        I5  20190822\n",
       "627     HQGX1  300431   NaN   4100  空        I4  20190822\n",
       "704     HQGX1  300431   NaN   4200  空        I5  20190822\n",
       "770     HQGX8  300431   NaN  22000  空        I4  20190822\n",
       "820     HQHF1  300431   NaN    700  空        I4  20190822\n",
       "867     HQHF1  300431   NaN   1700  空        I5  20190822\n",
       "921    HQHF10  300431   NaN  28800  空        I4  20190822\n",
       "968    HQHF11  300431   NaN   4300  空        I5  20190822\n",
       "1018   HQHF12  300431   NaN   1900  空        I5  20190822\n",
       "1089    HQHF6  300431   NaN   2500  空        I5  20190822\n",
       "1143    HQHF7  300431   NaN   4400  空        I4  20190822\n",
       "1191    HQHF9  300431   NaN  26900  空        I5  20190822\n",
       "1244   HQHT12  300431   NaN  16000  空        I4  20190822\n",
       "1316   HQHT14  300431   NaN   6400  空        I4  20190822\n",
       "1374    HQHT3  300431   NaN  20500  空        I5  20190822\n",
       "1537    HQHT7  300431   NaN  11200  空        I5  20190822\n",
       "1823    HQHV1  300362   NaN   6100  空         8  20190822\n",
       "1957   HQHZ18  300431   NaN   2500  空        I4  20190822\n",
       "2004   HQHZ18  300431   NaN   2500  空        I5  20190822\n",
       "2032   HQHZ20  300362   NaN      0  空  20190902  20190822\n",
       "...       ...     ...   ...    ... ..       ...       ...\n",
       "11869  HQYH15  300362   NaN   5700  空        I5  20190821\n",
       "11870  HQYH15  300431   NaN   3600  空        I5  20190821\n",
       "11919  HQYH18  300362   NaN  14500  空        I5  20190821\n",
       "11920  HQYH18  300431   NaN   9245  空        I5  20190821\n",
       "11968   HQYH2  300431   NaN   9600  空        I5  20190821\n",
       "12019  HQYH21  300362   NaN   2100  空        I5  20190821\n",
       "12020  HQYH21  300431   NaN   1300  空        I5  20190821\n",
       "12082  HQYH23  300431   NaN  30900  空        I4  20190821\n",
       "12158  HQYH23  300431   NaN  31400  空        I5  20190821\n",
       "12238  HQYH25  300431   NaN  30900  空        I4  20190821\n",
       "12314  HQYH25  300431   NaN  31300  空        I5  20190821\n",
       "12380  HQYH28  300362   NaN  22600  空        I5  20190821\n",
       "12381  HQYH28  300431   NaN  14400  空        I5  20190821\n",
       "12424   HQYH4  300362   NaN   3800  空        I4  20190821\n",
       "12480   HQYH4  300362   NaN   6300  空        I5  20190821\n",
       "12481   HQYH4  300431   NaN   4000  空        I5  20190821\n",
       "12545   HQYH6  300431   NaN   6900  空        I4  20190821\n",
       "12653   HQYH7  300431   NaN    700  空        I5  20190821\n",
       "12720   HQYH9  300431   NaN    500  空         8  20190821\n",
       "12767   HQYH9  300362   NaN   6400  空        I5  20190821\n",
       "12768   HQYH9  300431   NaN   4000  空        I5  20190821\n",
       "12811   HQZJ3  300362   NaN    800  空        I4  20190821\n",
       "12867   HQZJ3  300362   NaN    700  空        I5  20190821\n",
       "12868   HQZJ3  300431   NaN    400  空        I5  20190821\n",
       "13462  HQYH23  300431   NaN   7600  空  20190829  20190821\n",
       "14090  HQYH25  300431   NaN   7600  空  20190829  20190821\n",
       "14312   HQZS2  300431   NaN   1800  空  20190829  20190821\n",
       "14361   HQZS2  300431   NaN   1800  空  20190830  20190821\n",
       "14407   HQZS2  300431   NaN   3500  空  20190902  20190821\n",
       "14422   HQZS2  300362   NaN   5400  空  20190902  20190821\n",
       "\n",
       "[146 rows x 7 columns]"
      ]
     },
     "execution_count": 11,
     "metadata": {},
     "output_type": "execute_result"
    }
   ],
   "source": [
    "#可T任务中的st股\n",
    "theoretical_t0[theoretical_t0['股票代码'].isin(STcode)]"
   ]
  },
  {
   "cell_type": "code",
   "execution_count": 12,
   "metadata": {
    "ExecuteTime": {
     "end_time": "2019-08-22T09:34:50.477377Z",
     "start_time": "2019-08-22T09:34:50.454439Z"
    },
    "code_folding": [
     0
    ],
    "collapsed": true
   },
   "outputs": [],
   "source": [
    "#将st股全部转至卖出任务中\n",
    "theoretical_sell = pd.concat([theoretical_sell,theoretical_t0[theoretical_t0['股票代码'].isin(STcode)]])\n",
    "theoretical_t0 = theoretical_t0[~theoretical_t0['股票代码'].isin(STcode)]"
   ]
  },
  {
   "cell_type": "code",
   "execution_count": 13,
   "metadata": {
    "ExecuteTime": {
     "end_time": "2019-08-22T09:34:50.690806Z",
     "start_time": "2019-08-22T09:34:50.482365Z"
    },
    "code_folding": [
     0
    ],
    "scrolled": true
   },
   "outputs": [
    {
     "data": {
      "text/plain": [
       "Series([], Name: 任务股数, dtype: float64)"
      ]
     },
     "execution_count": 13,
     "metadata": {},
     "output_type": "execute_result"
    }
   ],
   "source": [
    "#验证：理论卖出+可T = 持仓，输出应为一个空Series\n",
    "(theoretical_total_holding.groupby(['产品标识','股票代码']).sum()['任务股数'] - \\\n",
    "(theoretical_t0.groupby(['产品标识','股票代码']).sum()['任务股数']\\\n",
    ".loc[theoretical_total_holding.groupby(['产品标识','股票代码']).sum()['任务股数'].index].fillna(0) + \\\n",
    "theoretical_sell.groupby(['产品标识','股票代码']).sum()['任务股数']\\\n",
    ".loc[theoretical_total_holding.groupby(['产品标识','股票代码']).sum()['任务股数'].index].fillna(0)))[\\\n",
    "(theoretical_total_holding.groupby(['产品标识','股票代码']).sum()['任务股数'] - \\\n",
    "(theoretical_t0.groupby(['产品标识','股票代码']).sum()['任务股数']\\\n",
    ".loc[theoretical_total_holding.groupby(['产品标识','股票代码']).sum()['任务股数'].index].fillna(0) + \\\n",
    "theoretical_sell.groupby(['产品标识','股票代码']).sum()['任务股数']\\\n",
    ".loc[theoretical_total_holding.groupby(['产品标识','股票代码']).sum()['任务股数'].index].fillna(0)))!=0]"
   ]
  },
  {
   "cell_type": "code",
   "execution_count": 14,
   "metadata": {
    "ExecuteTime": {
     "end_time": "2019-08-22T09:34:50.756630Z",
     "start_time": "2019-08-22T09:34:50.699786Z"
    },
    "code_folding": [
     0
    ],
    "collapsed": true
   },
   "outputs": [],
   "source": [
    "#股数整合，即不同日期、以不同模型买入的相同股票进行加总\n",
    "theoretical_sell_sum = theoretical_sell.groupby(['产品标识','股票代码']).sum()['任务股数'].reset_index()\n",
    "theoretical_sell_sum['股票名称'] = code_to_name.loc[theoretical_sell_sum['股票代码']].tolist()\n",
    "theoretical_t0_sum = theoretical_t0.groupby(['产品标识','股票代码']).sum()['任务股数'].reset_index()\n",
    "theoretical_t0_sum['股票名称'] = code_to_name.loc[theoretical_t0_sum['股票代码']].tolist()\n",
    "theoretical_total_holding_sum = theoretical_total_holding.groupby(['产品标识','股票代码']).sum()['任务股数'].reset_index()\n",
    "theoretical_total_holding_sum['股票名称'] = code_to_name.loc[theoretical_total_holding_sum['股票代码']].tolist()"
   ]
  },
  {
   "cell_type": "code",
   "execution_count": 15,
   "metadata": {
    "ExecuteTime": {
     "end_time": "2019-08-22T09:34:50.790539Z",
     "start_time": "2019-08-22T09:34:50.768599Z"
    },
    "code_folding": [
     0
    ],
    "collapsed": true
   },
   "outputs": [],
   "source": [
    "#筛选掉某些特殊的产品标识等，一般没有用\n",
    "theoretical_total_holding_sum = theoretical_total_holding_sum[~theoretical_total_holding_sum['产品标识'].isin([])]\n",
    "theoretical_sell_sum = theoretical_sell_sum[~theoretical_sell_sum['产品标识'].isin([])]\n",
    "theoretical_t0_sum = theoretical_t0_sum[~theoretical_t0_sum['产品标识'].isin([])]\n",
    "theoretical_total_holding_sum = theoretical_total_holding_sum[theoretical_total_holding_sum['任务股数']!=0]\n",
    "theoretical_sell_sum = theoretical_sell_sum[theoretical_sell_sum['任务股数']!=0]\n",
    "theoretical_t0_sum = theoretical_t0_sum[theoretical_t0_sum['任务股数']!=0]"
   ]
  },
  {
   "cell_type": "code",
   "execution_count": 16,
   "metadata": {
    "ExecuteTime": {
     "end_time": "2019-08-22T09:34:53.137265Z",
     "start_time": "2019-08-22T09:34:50.795526Z"
    },
    "code_folding": [
     0
    ],
    "collapsed": true
   },
   "outputs": [],
   "source": [
    "#进行一下记录，一般没有用\n",
    "theoretical_sell_normal_output = theoretical_sell_sum.copy()\n",
    "theoretical_sell_normal_output['任务资金'] = ''\n",
    "theoretical_sell_normal_output['方向'] = '空'\n",
    "theoretical_sell_normal_output = theoretical_sell_normal_output.loc[:,['产品标识','股票代码','任务资金','任务股数','方向']]\n",
    "theoretical_total_holding_sum.to_excel('理论持仓.xlsx',encoding='gbk',index=False)\n",
    "theoretical_sell_normal_output.to_excel('理论明日卖出.xlsx',encoding='gbk',index=False)\n",
    "theoretical_t0_sum.to_excel('理论明日可T.xlsx',encoding='gbk',index=False)"
   ]
  },
  {
   "cell_type": "code",
   "execution_count": 17,
   "metadata": {
    "ExecuteTime": {
     "end_time": "2019-08-22T09:34:53.184174Z",
     "start_time": "2019-08-22T09:34:53.142248Z"
    },
    "code_folding": [
     0
    ],
    "collapsed": true
   },
   "outputs": [],
   "source": [
    "#卖出、可T、持仓变为以产品标识和股票代码为index的任务股数Series\n",
    "theoretical_total_holding_sum = theoretical_total_holding_sum.set_index(['产品标识','股票代码'])['任务股数'].sort_index()\n",
    "theoretical_sell_sum = theoretical_sell_sum.set_index(['产品标识','股票代码'])['任务股数'].sort_index()\n",
    "theoretical_t0_sum = theoretical_t0_sum.set_index(['产品标识','股票代码'])['任务股数'].sort_index()"
   ]
  },
  {
   "cell_type": "code",
   "execution_count": null,
   "metadata": {
    "collapsed": true
   },
   "outputs": [],
   "source": []
  },
  {
   "cell_type": "code",
   "execution_count": null,
   "metadata": {
    "collapsed": true
   },
   "outputs": [],
   "source": []
  },
  {
   "cell_type": "code",
   "execution_count": null,
   "metadata": {
    "collapsed": true
   },
   "outputs": [],
   "source": []
  },
  {
   "cell_type": "code",
   "execution_count": null,
   "metadata": {
    "ExecuteTime": {
     "end_time": "2019-08-22T09:31:16.434666Z",
     "start_time": "2019-08-22T09:31:16.430647Z"
    },
    "code_folding": [],
    "collapsed": true
   },
   "outputs": [],
   "source": [
    "#如第一次运行，运行第1,2,3步，不运行第4步！\n",
    "#第一次运行/对持仓文件手动修改后，不运行第1步！按顺序运行第4,2,3步！"
   ]
  },
  {
   "cell_type": "code",
   "execution_count": null,
   "metadata": {
    "ExecuteTime": {
     "end_time": "2019-08-22T09:31:18.778394Z",
     "start_time": "2019-08-22T09:31:17.159698Z"
    },
    "code_folding": [
     0
    ],
    "collapsed": true,
    "scrolled": true
   },
   "outputs": [],
   "source": [
    "#1读取昨天的持仓，加减今日的买入和卖出\n",
    "os.chdir(r'C:/Users/bj/Desktop/刘泽丹/Code')\n",
    "real_total_holding = pd.read_excel(yesterday_nodot+'持仓.xlsx',encoding='gbk')\n",
    "real_total_holding.to_excel(today_nodot+'持仓.xlsx',encoding='gbk',index = False)\n",
    "real_total_holding = pd.read_excel(today_nodot+'持仓.xlsx',encoding='gbk')\n",
    "todate_buyNsell = pd.read_excel('任务管理_管理员_'+today_nodot[:4]+'-'+today_nodot[4:6]+'-'+today_nodot[6:]+'.xlsx')\n",
    "todate_buyNsell['方向'] = todate_buyNsell['方向'].replace('多',1).replace('空',-1)\n",
    "todate_buyNsell = todate_buyNsell.set_index(['产品标识','股票代码'])['方向'] * todate_buyNsell.set_index(['产品标识','股票代码'])['完成股数']\n",
    "todate_buyNsell.name = '任务股数'\n",
    "todate_buyNsell = todate_buyNsell.reset_index()\n",
    "real_total_holding = pd.concat([real_total_holding,todate_buyNsell])"
   ]
  },
  {
   "cell_type": "code",
   "execution_count": 19,
   "metadata": {
    "ExecuteTime": {
     "end_time": "2019-08-22T09:34:53.697763Z",
     "start_time": "2019-08-22T09:34:53.662870Z"
    },
    "code_folding": [
     0
    ],
    "collapsed": true
   },
   "outputs": [],
   "source": [
    "#2股数整合\n",
    "real_total_holding = real_total_holding.set_index(['产品标识','股票代码'])['任务股数'].sort_index()\n",
    "real_total_holding = real_total_holding.groupby(level=[0,1]).sum()\n",
    "real_total_holding = real_total_holding.replace(0,np.nan).dropna()\n",
    "os.chdir(r'C:/Users/bj/Desktop/刘泽丹/Code')\n",
    "real_total_holding.name = '任务股数'"
   ]
  },
  {
   "cell_type": "code",
   "execution_count": 20,
   "metadata": {
    "ExecuteTime": {
     "end_time": "2019-08-22T09:34:53.723708Z",
     "start_time": "2019-08-22T09:34:53.703748Z"
    },
    "scrolled": true
   },
   "outputs": [
    {
     "data": {
      "text/plain": [
       "产品标识    股票代码  \n",
       "HQHF1   2442           3.0\n",
       "HQHZ7   2010           3.0\n",
       "HQCC5   600585         4.0\n",
       "HQHZ20  300552         5.0\n",
       "        300648         6.0\n",
       "        300554         6.0\n",
       "HQCC5   300375         8.0\n",
       "HQCC4   2484          10.0\n",
       "HQHF9   2422          10.0\n",
       "HQHZ20  300191        10.0\n",
       "        300578        10.0\n",
       "HQYH25  600161        12.0\n",
       "HQHZ7   300206        20.0\n",
       "        601229        20.0\n",
       "HQXB2   603816        20.0\n",
       "HQHZ20  2035          25.0\n",
       "HQHZ7   600570        27.0\n",
       "HQHZ20  2530          30.0\n",
       "HQCC5   300536        36.0\n",
       "HQHZ20  600338        39.0\n",
       "HQYH23  600155        39.0\n",
       "HQGX1   2761          40.0\n",
       "HQYH11  600751        40.0\n",
       "HQHZ20  300029        40.0\n",
       "HQYH23  300346        40.0\n",
       "HQGD1   655           40.0\n",
       "HQGX1   600984        40.0\n",
       "HQHZ20  300033        43.0\n",
       "        2869          43.0\n",
       "HQYH9   2640          44.0\n",
       "                    ...   \n",
       "HQGX8   300325    388800.0\n",
       "HQYH23  600300    390400.0\n",
       "        300459    396500.0\n",
       "HQGX8   601777    402500.0\n",
       "        2239      406800.0\n",
       "HQYH25  600744    415500.0\n",
       "        600393    437600.0\n",
       "HQGX8   2662      448500.0\n",
       "        600393    450700.0\n",
       "HQCC5   600157    462800.0\n",
       "HQGX8   716       477900.0\n",
       "HQYH23  600744    485600.0\n",
       "HQGX8   2622      504500.0\n",
       "        2470      507300.0\n",
       "        2502      522100.0\n",
       "HQYH23  600393    527700.0\n",
       "HQHF9   600157    537300.0\n",
       "HQGX8   673       556400.0\n",
       "HQHF10  600157    578700.0\n",
       "HQYH23  600157    598900.0\n",
       "HQYH25  600157    599100.0\n",
       "        601777    659700.0\n",
       "HQGX8   300156    717500.0\n",
       "HQYH25  600166    744800.0\n",
       "HQYH23  601777    747100.0\n",
       "HQGX8   600157    809200.0\n",
       "HQYH23  600166    873600.0\n",
       "HQGX8   300090    936000.0\n",
       "        2509      965600.0\n",
       "        600568    965600.0\n",
       "Name: 任务股数, Length: 9533, dtype: float64"
      ]
     },
     "execution_count": 20,
     "metadata": {},
     "output_type": "execute_result"
    }
   ],
   "source": [
    "real_total_holding.sort_values()"
   ]
  },
  {
   "cell_type": "code",
   "execution_count": 21,
   "metadata": {
    "ExecuteTime": {
     "end_time": "2019-08-22T09:34:53.739651Z",
     "start_time": "2019-08-22T09:34:53.731672Z"
    }
   },
   "outputs": [
    {
     "name": "stdout",
     "output_type": "stream",
     "text": [
      "176839989\n"
     ]
    }
   ],
   "source": [
    "print(int(real_total_holding.sum()))"
   ]
  },
  {
   "cell_type": "code",
   "execution_count": 22,
   "metadata": {
    "ExecuteTime": {
     "end_time": "2019-08-22T09:34:54.389919Z",
     "start_time": "2019-08-22T09:34:53.751617Z"
    },
    "code_folding": [
     0
    ],
    "collapsed": true,
    "scrolled": true
   },
   "outputs": [],
   "source": [
    "#3\n",
    "real_total_holding.reset_index().to_excel(today_nodot+'持仓.xlsx',encoding='gbk',index = False)"
   ]
  },
  {
   "cell_type": "code",
   "execution_count": 18,
   "metadata": {
    "ExecuteTime": {
     "end_time": "2019-08-22T09:34:53.656921Z",
     "start_time": "2019-08-22T09:34:53.188153Z"
    },
    "code_folding": [
     0
    ],
    "collapsed": true
   },
   "outputs": [],
   "source": [
    "#4\n",
    "real_total_holding = pd.read_excel(today_nodot+'持仓.xlsx',encoding='gbk')"
   ]
  },
  {
   "cell_type": "code",
   "execution_count": null,
   "metadata": {
    "collapsed": true
   },
   "outputs": [],
   "source": []
  },
  {
   "cell_type": "code",
   "execution_count": null,
   "metadata": {
    "collapsed": true
   },
   "outputs": [],
   "source": []
  },
  {
   "cell_type": "code",
   "execution_count": null,
   "metadata": {
    "collapsed": true
   },
   "outputs": [],
   "source": []
  },
  {
   "cell_type": "code",
   "execution_count": null,
   "metadata": {
    "collapsed": true
   },
   "outputs": [],
   "source": []
  },
  {
   "cell_type": "code",
   "execution_count": null,
   "metadata": {
    "ExecuteTime": {
     "end_time": "2019-08-22T09:31:22.164373Z",
     "start_time": "2019-08-22T09:31:22.153392Z"
    },
    "collapsed": true
   },
   "outputs": [],
   "source": [
    "yesteryesterday_nodot = get_n_week_date_before(yesterday_nodot)"
   ]
  },
  {
   "cell_type": "code",
   "execution_count": null,
   "metadata": {
    "ExecuteTime": {
     "end_time": "2019-08-22T09:31:23.727830Z",
     "start_time": "2019-08-22T09:31:22.343555Z"
    },
    "code_folding": [
     0
    ],
    "collapsed": true
   },
   "outputs": [],
   "source": [
    "#今天和昨天的买入卖出任务\n",
    "todate_buyNsell = pd.read_excel('任务管理_管理员_'+today_nodot[:4]+'-'+today_nodot[4:6]+'-'+today_nodot[6:]+'.xlsx')\n",
    "yesterdate_buyNsell = pd.read_excel('任务管理_管理员_'+yesterday_nodot[:4]+'-'+yesterday_nodot[4:6]+'-'+yesterday_nodot[6:]+'.xlsx')\n",
    "yesteryesterdate_buyNsell = pd.read_excel('任务管理_管理员_'+yesteryesterday_nodot[:4]+'-'+yesteryesterday_nodot[4:6]+'-'+yesteryesterday_nodot[6:]+'.xlsx')"
   ]
  },
  {
   "cell_type": "code",
   "execution_count": null,
   "metadata": {
    "ExecuteTime": {
     "end_time": "2019-08-22T09:31:23.779719Z",
     "start_time": "2019-08-22T09:31:23.732818Z"
    },
    "code_folding": [
     0
    ],
    "collapsed": true
   },
   "outputs": [],
   "source": [
    "#标记今天和昨天的卖出未完成部分\n",
    "todate_unfinished = todate_buyNsell[(todate_buyNsell['方向']=='空') & (todate_buyNsell['任务进度']!=1)]\\\n",
    "    .set_index(['产品标识','股票代码']).loc[:,['任务股数','完成股数','产品别称','股票名称']]\n",
    "yesterdate_unfinished = yesterdate_buyNsell[(yesterdate_buyNsell['方向']=='空') & (yesterdate_buyNsell['任务进度']!=1)]\\\n",
    "    .set_index(['产品标识','股票代码']).loc[:,['任务股数','完成股数','产品别称','股票名称']]\n",
    "yesteryesterdate_unfinished = yesteryesterdate_buyNsell[(yesteryesterdate_buyNsell['方向']=='空') & (yesteryesterdate_buyNsell['任务进度']!=1)]\\\n",
    "    .set_index(['产品标识','股票代码']).loc[:,['任务股数','完成股数','产品别称','股票名称']]\n",
    "todate_unfinished['今日未完成股数'] = todate_unfinished['任务股数'] - todate_unfinished['完成股数']\n",
    "yesterdate_unfinished['昨日未完成股数'] = yesterdate_unfinished['任务股数'] - yesterdate_unfinished['完成股数']\n",
    "yesteryesterdate_unfinished['前日未完成股数'] = yesteryesterdate_unfinished['任务股数'] - yesteryesterdate_unfinished['完成股数']\n",
    "unfinished_compare = pd.concat([yesteryesterdate_unfinished,yesterdate_unfinished,todate_unfinished],axis=1).dropna()"
   ]
  },
  {
   "cell_type": "code",
   "execution_count": null,
   "metadata": {
    "ExecuteTime": {
     "end_time": "2019-08-22T09:31:23.795650Z",
     "start_time": "2019-08-22T09:31:23.783703Z"
    },
    "code_folding": [
     0
    ],
    "collapsed": true
   },
   "outputs": [],
   "source": [
    "#如果今天和昨天的卖出未完成部分完全相同，则可能是真实持仓和理论持仓的差异造成的\n",
    "unfinished_compare = unfinished_compare[(unfinished_compare['今日未完成股数']==unfinished_compare['昨日未完成股数'])&\\\n",
    "                                        (unfinished_compare['今日未完成股数']==unfinished_compare['前日未完成股数'])].reset_index()"
   ]
  },
  {
   "cell_type": "code",
   "execution_count": null,
   "metadata": {
    "ExecuteTime": {
     "end_time": "2019-08-22T09:31:23.814598Z",
     "start_time": "2019-08-22T09:31:23.803627Z"
    },
    "code_folding": [
     0
    ],
    "scrolled": true
   },
   "outputs": [],
   "source": [
    "#输出一下，可在同花顺等软件内进行一下验证，如果是因为跌停、停牌等原因真的不能卖出的则不能算是记录错误\n",
    "['0'*(6-len(str(i)))+str(i) for i in sorted(unfinished_compare['股票代码'].unique().tolist())]"
   ]
  },
  {
   "cell_type": "code",
   "execution_count": null,
   "metadata": {
    "ExecuteTime": {
     "end_time": "2019-08-22T09:31:23.854518Z",
     "start_time": "2019-08-22T09:31:23.821580Z"
    },
    "scrolled": true
   },
   "outputs": [],
   "source": [
    "unfinished_compare"
   ]
  },
  {
   "cell_type": "code",
   "execution_count": null,
   "metadata": {
    "ExecuteTime": {
     "end_time": "2019-08-22T09:31:26.335906Z",
     "start_time": "2019-08-22T09:31:26.325933Z"
    },
    "code_folding": [],
    "collapsed": true
   },
   "outputs": [],
   "source": [
    "#去掉上述特殊处理的\n",
    "unfinished_compare = unfinished_compare[~unfinished_compare['产品标识'].isin([])]\n",
    "unfinished_compare = unfinished_compare[~unfinished_compare['股票代码'].isin([895,])]"
   ]
  },
  {
   "cell_type": "code",
   "execution_count": null,
   "metadata": {
    "ExecuteTime": {
     "end_time": "2019-08-22T09:31:29.412706Z",
     "start_time": "2019-08-22T09:31:29.382785Z"
    },
    "scrolled": true
   },
   "outputs": [],
   "source": [
    "unfinished_compare.reset_index(drop=True)"
   ]
  },
  {
   "cell_type": "code",
   "execution_count": null,
   "metadata": {
    "ExecuteTime": {
     "end_time": "2019-08-22T09:31:30.136694Z",
     "start_time": "2019-08-22T09:31:29.808922Z"
    },
    "code_folding": [
     0
    ],
    "collapsed": true
   },
   "outputs": [],
   "source": [
    "#从持仓记录中去掉推测的记录错误内容\n",
    "inferred_actually_sold = unfinished_compare.loc[:,['产品标识','股票代码','今日未完成股数']]\n",
    "real_total_holding = pd.read_excel(today_nodot+'持仓.xlsx',encoding='gbk')\n",
    "inferred_actually_sold.columns = ['产品标识','股票代码','任务股数']\n",
    "inferred_actually_sold['任务股数'] = -inferred_actually_sold['任务股数']\n",
    "real_total_holding = pd.concat([real_total_holding,inferred_actually_sold])\n",
    "real_total_holding = real_total_holding.set_index(['产品标识','股票代码'])['任务股数'].sort_index()\n",
    "real_total_holding = real_total_holding.groupby(level=[0,1]).sum()\n",
    "real_total_holding = real_total_holding.replace(0,np.nan).dropna()\n",
    "os.chdir(r'C:/Users/bj/Desktop/刘泽丹/Code')\n",
    "real_total_holding.name = '任务股数'"
   ]
  },
  {
   "cell_type": "code",
   "execution_count": null,
   "metadata": {
    "ExecuteTime": {
     "end_time": "2019-08-22T09:31:30.667422Z",
     "start_time": "2019-08-22T09:31:30.647474Z"
    },
    "scrolled": true
   },
   "outputs": [],
   "source": [
    "real_total_holding.sort_values()"
   ]
  },
  {
   "cell_type": "code",
   "execution_count": null,
   "metadata": {
    "ExecuteTime": {
     "end_time": "2019-08-22T09:31:30.903791Z",
     "start_time": "2019-08-22T09:31:30.891822Z"
    }
   },
   "outputs": [],
   "source": [
    "int(real_total_holding.sum())"
   ]
  },
  {
   "cell_type": "code",
   "execution_count": null,
   "metadata": {
    "ExecuteTime": {
     "end_time": "2019-08-22T09:31:31.599939Z",
     "start_time": "2019-08-22T09:31:31.080318Z"
    },
    "collapsed": true
   },
   "outputs": [],
   "source": [
    "real_total_holding.reset_index().to_excel(today_nodot+'持仓.xlsx',encoding='gbk',index = False)"
   ]
  },
  {
   "cell_type": "code",
   "execution_count": null,
   "metadata": {
    "collapsed": true
   },
   "outputs": [],
   "source": []
  },
  {
   "cell_type": "code",
   "execution_count": null,
   "metadata": {
    "collapsed": true
   },
   "outputs": [],
   "source": []
  },
  {
   "cell_type": "code",
   "execution_count": null,
   "metadata": {
    "collapsed": true
   },
   "outputs": [],
   "source": []
  },
  {
   "cell_type": "code",
   "execution_count": 23,
   "metadata": {
    "ExecuteTime": {
     "end_time": "2019-08-22T09:35:01.670433Z",
     "start_time": "2019-08-22T09:35:01.536791Z"
    },
    "code_folding": [
     0
    ],
    "collapsed": true,
    "scrolled": true
   },
   "outputs": [],
   "source": [
    "#理论持仓、理论卖出、理论可T和真实持仓的df\n",
    "result = pd.concat([theoretical_total_holding_sum,theoretical_sell_sum,theoretical_t0_sum,real_total_holding],axis=1).fillna(0)\n",
    "result.columns = ['ty_hold','ty_sell','ty_t0','real_hold']"
   ]
  },
  {
   "cell_type": "code",
   "execution_count": 24,
   "metadata": {
    "ExecuteTime": {
     "end_time": "2019-08-22T09:35:01.775180Z",
     "start_time": "2019-08-22T09:35:01.736257Z"
    },
    "scrolled": true
   },
   "outputs": [
    {
     "data": {
      "text/html": [
       "<div>\n",
       "<style scoped>\n",
       "    .dataframe tbody tr th:only-of-type {\n",
       "        vertical-align: middle;\n",
       "    }\n",
       "\n",
       "    .dataframe tbody tr th {\n",
       "        vertical-align: top;\n",
       "    }\n",
       "\n",
       "    .dataframe thead th {\n",
       "        text-align: right;\n",
       "    }\n",
       "</style>\n",
       "<table border=\"1\" class=\"dataframe\">\n",
       "  <thead>\n",
       "    <tr style=\"text-align: right;\">\n",
       "      <th></th>\n",
       "      <th></th>\n",
       "      <th>ty_hold</th>\n",
       "      <th>ty_sell</th>\n",
       "      <th>ty_t0</th>\n",
       "      <th>real_hold</th>\n",
       "    </tr>\n",
       "    <tr>\n",
       "      <th>产品标识</th>\n",
       "      <th>股票代码</th>\n",
       "      <th></th>\n",
       "      <th></th>\n",
       "      <th></th>\n",
       "      <th></th>\n",
       "    </tr>\n",
       "  </thead>\n",
       "  <tbody>\n",
       "    <tr>\n",
       "      <th rowspan=\"30\" valign=\"top\">HQCC3</th>\n",
       "      <th>1</th>\n",
       "      <td>12800.0</td>\n",
       "      <td>2400.0</td>\n",
       "      <td>10400.0</td>\n",
       "      <td>12800.0</td>\n",
       "    </tr>\n",
       "    <tr>\n",
       "      <th>35</th>\n",
       "      <td>0.0</td>\n",
       "      <td>0.0</td>\n",
       "      <td>0.0</td>\n",
       "      <td>100.0</td>\n",
       "    </tr>\n",
       "    <tr>\n",
       "      <th>46</th>\n",
       "      <td>20300.0</td>\n",
       "      <td>4300.0</td>\n",
       "      <td>16000.0</td>\n",
       "      <td>20300.0</td>\n",
       "    </tr>\n",
       "    <tr>\n",
       "      <th>56</th>\n",
       "      <td>13500.0</td>\n",
       "      <td>0.0</td>\n",
       "      <td>13500.0</td>\n",
       "      <td>13500.0</td>\n",
       "    </tr>\n",
       "    <tr>\n",
       "      <th>69</th>\n",
       "      <td>2800.0</td>\n",
       "      <td>0.0</td>\n",
       "      <td>2800.0</td>\n",
       "      <td>2800.0</td>\n",
       "    </tr>\n",
       "    <tr>\n",
       "      <th>150</th>\n",
       "      <td>3600.0</td>\n",
       "      <td>0.0</td>\n",
       "      <td>3600.0</td>\n",
       "      <td>3600.0</td>\n",
       "    </tr>\n",
       "    <tr>\n",
       "      <th>157</th>\n",
       "      <td>12700.0</td>\n",
       "      <td>0.0</td>\n",
       "      <td>12700.0</td>\n",
       "      <td>12700.0</td>\n",
       "    </tr>\n",
       "    <tr>\n",
       "      <th>159</th>\n",
       "      <td>23200.0</td>\n",
       "      <td>6000.0</td>\n",
       "      <td>17200.0</td>\n",
       "      <td>23200.0</td>\n",
       "    </tr>\n",
       "    <tr>\n",
       "      <th>401</th>\n",
       "      <td>10200.0</td>\n",
       "      <td>2400.0</td>\n",
       "      <td>7800.0</td>\n",
       "      <td>10200.0</td>\n",
       "    </tr>\n",
       "    <tr>\n",
       "      <th>425</th>\n",
       "      <td>18800.0</td>\n",
       "      <td>0.0</td>\n",
       "      <td>18800.0</td>\n",
       "      <td>18800.0</td>\n",
       "    </tr>\n",
       "    <tr>\n",
       "      <th>503</th>\n",
       "      <td>5600.0</td>\n",
       "      <td>0.0</td>\n",
       "      <td>5600.0</td>\n",
       "      <td>5600.0</td>\n",
       "    </tr>\n",
       "    <tr>\n",
       "      <th>507</th>\n",
       "      <td>6100.0</td>\n",
       "      <td>0.0</td>\n",
       "      <td>6100.0</td>\n",
       "      <td>6100.0</td>\n",
       "    </tr>\n",
       "    <tr>\n",
       "      <th>513</th>\n",
       "      <td>700.0</td>\n",
       "      <td>0.0</td>\n",
       "      <td>700.0</td>\n",
       "      <td>700.0</td>\n",
       "    </tr>\n",
       "    <tr>\n",
       "      <th>516</th>\n",
       "      <td>13700.0</td>\n",
       "      <td>13700.0</td>\n",
       "      <td>0.0</td>\n",
       "      <td>13700.0</td>\n",
       "    </tr>\n",
       "    <tr>\n",
       "      <th>568</th>\n",
       "      <td>2400.0</td>\n",
       "      <td>400.0</td>\n",
       "      <td>2000.0</td>\n",
       "      <td>2400.0</td>\n",
       "    </tr>\n",
       "    <tr>\n",
       "      <th>576</th>\n",
       "      <td>2100.0</td>\n",
       "      <td>0.0</td>\n",
       "      <td>2100.0</td>\n",
       "      <td>2100.0</td>\n",
       "    </tr>\n",
       "    <tr>\n",
       "      <th>596</th>\n",
       "      <td>1700.0</td>\n",
       "      <td>200.0</td>\n",
       "      <td>1500.0</td>\n",
       "      <td>1700.0</td>\n",
       "    </tr>\n",
       "    <tr>\n",
       "      <th>598</th>\n",
       "      <td>14800.0</td>\n",
       "      <td>14800.0</td>\n",
       "      <td>0.0</td>\n",
       "      <td>14800.0</td>\n",
       "    </tr>\n",
       "    <tr>\n",
       "      <th>610</th>\n",
       "      <td>6100.0</td>\n",
       "      <td>0.0</td>\n",
       "      <td>6100.0</td>\n",
       "      <td>6100.0</td>\n",
       "    </tr>\n",
       "    <tr>\n",
       "      <th>612</th>\n",
       "      <td>4200.0</td>\n",
       "      <td>4200.0</td>\n",
       "      <td>0.0</td>\n",
       "      <td>4200.0</td>\n",
       "    </tr>\n",
       "    <tr>\n",
       "      <th>655</th>\n",
       "      <td>14000.0</td>\n",
       "      <td>7400.0</td>\n",
       "      <td>6600.0</td>\n",
       "      <td>14000.0</td>\n",
       "    </tr>\n",
       "    <tr>\n",
       "      <th>656</th>\n",
       "      <td>2500.0</td>\n",
       "      <td>0.0</td>\n",
       "      <td>2500.0</td>\n",
       "      <td>2500.0</td>\n",
       "    </tr>\n",
       "    <tr>\n",
       "      <th>661</th>\n",
       "      <td>200.0</td>\n",
       "      <td>0.0</td>\n",
       "      <td>200.0</td>\n",
       "      <td>200.0</td>\n",
       "    </tr>\n",
       "    <tr>\n",
       "      <th>708</th>\n",
       "      <td>3700.0</td>\n",
       "      <td>0.0</td>\n",
       "      <td>3700.0</td>\n",
       "      <td>3700.0</td>\n",
       "    </tr>\n",
       "    <tr>\n",
       "      <th>716</th>\n",
       "      <td>10700.0</td>\n",
       "      <td>0.0</td>\n",
       "      <td>10700.0</td>\n",
       "      <td>10700.0</td>\n",
       "    </tr>\n",
       "    <tr>\n",
       "      <th>723</th>\n",
       "      <td>3800.0</td>\n",
       "      <td>0.0</td>\n",
       "      <td>3800.0</td>\n",
       "      <td>3800.0</td>\n",
       "    </tr>\n",
       "    <tr>\n",
       "      <th>729</th>\n",
       "      <td>11200.0</td>\n",
       "      <td>0.0</td>\n",
       "      <td>11200.0</td>\n",
       "      <td>11200.0</td>\n",
       "    </tr>\n",
       "    <tr>\n",
       "      <th>732</th>\n",
       "      <td>8400.0</td>\n",
       "      <td>0.0</td>\n",
       "      <td>8400.0</td>\n",
       "      <td>8400.0</td>\n",
       "    </tr>\n",
       "    <tr>\n",
       "      <th>786</th>\n",
       "      <td>3100.0</td>\n",
       "      <td>0.0</td>\n",
       "      <td>3100.0</td>\n",
       "      <td>3100.0</td>\n",
       "    </tr>\n",
       "    <tr>\n",
       "      <th>799</th>\n",
       "      <td>600.0</td>\n",
       "      <td>0.0</td>\n",
       "      <td>600.0</td>\n",
       "      <td>600.0</td>\n",
       "    </tr>\n",
       "    <tr>\n",
       "      <th>...</th>\n",
       "      <th>...</th>\n",
       "      <td>...</td>\n",
       "      <td>...</td>\n",
       "      <td>...</td>\n",
       "      <td>...</td>\n",
       "    </tr>\n",
       "    <tr>\n",
       "      <th rowspan=\"30\" valign=\"top\">HQZS2</th>\n",
       "      <th>600278</th>\n",
       "      <td>1500.0</td>\n",
       "      <td>0.0</td>\n",
       "      <td>1500.0</td>\n",
       "      <td>1500.0</td>\n",
       "    </tr>\n",
       "    <tr>\n",
       "      <th>600300</th>\n",
       "      <td>16000.0</td>\n",
       "      <td>0.0</td>\n",
       "      <td>16000.0</td>\n",
       "      <td>16000.0</td>\n",
       "    </tr>\n",
       "    <tr>\n",
       "      <th>600393</th>\n",
       "      <td>50400.0</td>\n",
       "      <td>7300.0</td>\n",
       "      <td>43100.0</td>\n",
       "      <td>50400.0</td>\n",
       "    </tr>\n",
       "    <tr>\n",
       "      <th>600410</th>\n",
       "      <td>1600.0</td>\n",
       "      <td>1600.0</td>\n",
       "      <td>0.0</td>\n",
       "      <td>1600.0</td>\n",
       "    </tr>\n",
       "    <tr>\n",
       "      <th>600552</th>\n",
       "      <td>3600.0</td>\n",
       "      <td>0.0</td>\n",
       "      <td>3600.0</td>\n",
       "      <td>3600.0</td>\n",
       "    </tr>\n",
       "    <tr>\n",
       "      <th>600600</th>\n",
       "      <td>1800.0</td>\n",
       "      <td>200.0</td>\n",
       "      <td>1600.0</td>\n",
       "      <td>1800.0</td>\n",
       "    </tr>\n",
       "    <tr>\n",
       "      <th>600604</th>\n",
       "      <td>15200.0</td>\n",
       "      <td>1900.0</td>\n",
       "      <td>13300.0</td>\n",
       "      <td>15200.0</td>\n",
       "    </tr>\n",
       "    <tr>\n",
       "      <th>600677</th>\n",
       "      <td>7200.0</td>\n",
       "      <td>1200.0</td>\n",
       "      <td>6000.0</td>\n",
       "      <td>7200.0</td>\n",
       "    </tr>\n",
       "    <tr>\n",
       "      <th>600682</th>\n",
       "      <td>4400.0</td>\n",
       "      <td>0.0</td>\n",
       "      <td>4400.0</td>\n",
       "      <td>4400.0</td>\n",
       "    </tr>\n",
       "    <tr>\n",
       "      <th>600720</th>\n",
       "      <td>5900.0</td>\n",
       "      <td>0.0</td>\n",
       "      <td>5900.0</td>\n",
       "      <td>5900.0</td>\n",
       "    </tr>\n",
       "    <tr>\n",
       "      <th>600744</th>\n",
       "      <td>26400.0</td>\n",
       "      <td>0.0</td>\n",
       "      <td>26400.0</td>\n",
       "      <td>26400.0</td>\n",
       "    </tr>\n",
       "    <tr>\n",
       "      <th>600855</th>\n",
       "      <td>1800.0</td>\n",
       "      <td>0.0</td>\n",
       "      <td>1800.0</td>\n",
       "      <td>1800.0</td>\n",
       "    </tr>\n",
       "    <tr>\n",
       "      <th>600864</th>\n",
       "      <td>2500.0</td>\n",
       "      <td>0.0</td>\n",
       "      <td>2500.0</td>\n",
       "      <td>2500.0</td>\n",
       "    </tr>\n",
       "    <tr>\n",
       "      <th>600895</th>\n",
       "      <td>8000.0</td>\n",
       "      <td>1000.0</td>\n",
       "      <td>7000.0</td>\n",
       "      <td>8000.0</td>\n",
       "    </tr>\n",
       "    <tr>\n",
       "      <th>601038</th>\n",
       "      <td>13000.0</td>\n",
       "      <td>2600.0</td>\n",
       "      <td>10400.0</td>\n",
       "      <td>13000.0</td>\n",
       "    </tr>\n",
       "    <tr>\n",
       "      <th>601200</th>\n",
       "      <td>1400.0</td>\n",
       "      <td>1400.0</td>\n",
       "      <td>0.0</td>\n",
       "      <td>1400.0</td>\n",
       "    </tr>\n",
       "    <tr>\n",
       "      <th>601211</th>\n",
       "      <td>3300.0</td>\n",
       "      <td>0.0</td>\n",
       "      <td>3300.0</td>\n",
       "      <td>3300.0</td>\n",
       "    </tr>\n",
       "    <tr>\n",
       "      <th>601777</th>\n",
       "      <td>44300.0</td>\n",
       "      <td>5600.0</td>\n",
       "      <td>38700.0</td>\n",
       "      <td>44300.0</td>\n",
       "    </tr>\n",
       "    <tr>\n",
       "      <th>601857</th>\n",
       "      <td>11200.0</td>\n",
       "      <td>0.0</td>\n",
       "      <td>11200.0</td>\n",
       "      <td>11200.0</td>\n",
       "    </tr>\n",
       "    <tr>\n",
       "      <th>601888</th>\n",
       "      <td>900.0</td>\n",
       "      <td>200.0</td>\n",
       "      <td>700.0</td>\n",
       "      <td>900.0</td>\n",
       "    </tr>\n",
       "    <tr>\n",
       "      <th>601919</th>\n",
       "      <td>3700.0</td>\n",
       "      <td>0.0</td>\n",
       "      <td>3700.0</td>\n",
       "      <td>3700.0</td>\n",
       "    </tr>\n",
       "    <tr>\n",
       "      <th>603106</th>\n",
       "      <td>3600.0</td>\n",
       "      <td>0.0</td>\n",
       "      <td>3600.0</td>\n",
       "      <td>3600.0</td>\n",
       "    </tr>\n",
       "    <tr>\n",
       "      <th>603128</th>\n",
       "      <td>2300.0</td>\n",
       "      <td>0.0</td>\n",
       "      <td>2300.0</td>\n",
       "      <td>2300.0</td>\n",
       "    </tr>\n",
       "    <tr>\n",
       "      <th>603369</th>\n",
       "      <td>4600.0</td>\n",
       "      <td>600.0</td>\n",
       "      <td>4000.0</td>\n",
       "      <td>4600.0</td>\n",
       "    </tr>\n",
       "    <tr>\n",
       "      <th>603508</th>\n",
       "      <td>400.0</td>\n",
       "      <td>0.0</td>\n",
       "      <td>400.0</td>\n",
       "      <td>400.0</td>\n",
       "    </tr>\n",
       "    <tr>\n",
       "      <th>603648</th>\n",
       "      <td>8400.0</td>\n",
       "      <td>0.0</td>\n",
       "      <td>8400.0</td>\n",
       "      <td>8400.0</td>\n",
       "    </tr>\n",
       "    <tr>\n",
       "      <th>603686</th>\n",
       "      <td>5000.0</td>\n",
       "      <td>1000.0</td>\n",
       "      <td>4000.0</td>\n",
       "      <td>5000.0</td>\n",
       "    </tr>\n",
       "    <tr>\n",
       "      <th>603777</th>\n",
       "      <td>1400.0</td>\n",
       "      <td>0.0</td>\n",
       "      <td>1400.0</td>\n",
       "      <td>1400.0</td>\n",
       "    </tr>\n",
       "    <tr>\n",
       "      <th>603797</th>\n",
       "      <td>6000.0</td>\n",
       "      <td>1500.0</td>\n",
       "      <td>4500.0</td>\n",
       "      <td>6000.0</td>\n",
       "    </tr>\n",
       "    <tr>\n",
       "      <th>603882</th>\n",
       "      <td>200.0</td>\n",
       "      <td>200.0</td>\n",
       "      <td>0.0</td>\n",
       "      <td>200.0</td>\n",
       "    </tr>\n",
       "  </tbody>\n",
       "</table>\n",
       "<p>9558 rows × 4 columns</p>\n",
       "</div>"
      ],
      "text/plain": [
       "              ty_hold  ty_sell    ty_t0  real_hold\n",
       "产品标识  股票代码                                        \n",
       "HQCC3 1       12800.0   2400.0  10400.0    12800.0\n",
       "      35          0.0      0.0      0.0      100.0\n",
       "      46      20300.0   4300.0  16000.0    20300.0\n",
       "      56      13500.0      0.0  13500.0    13500.0\n",
       "      69       2800.0      0.0   2800.0     2800.0\n",
       "      150      3600.0      0.0   3600.0     3600.0\n",
       "      157     12700.0      0.0  12700.0    12700.0\n",
       "      159     23200.0   6000.0  17200.0    23200.0\n",
       "      401     10200.0   2400.0   7800.0    10200.0\n",
       "      425     18800.0      0.0  18800.0    18800.0\n",
       "      503      5600.0      0.0   5600.0     5600.0\n",
       "      507      6100.0      0.0   6100.0     6100.0\n",
       "      513       700.0      0.0    700.0      700.0\n",
       "      516     13700.0  13700.0      0.0    13700.0\n",
       "      568      2400.0    400.0   2000.0     2400.0\n",
       "      576      2100.0      0.0   2100.0     2100.0\n",
       "      596      1700.0    200.0   1500.0     1700.0\n",
       "      598     14800.0  14800.0      0.0    14800.0\n",
       "      610      6100.0      0.0   6100.0     6100.0\n",
       "      612      4200.0   4200.0      0.0     4200.0\n",
       "      655     14000.0   7400.0   6600.0    14000.0\n",
       "      656      2500.0      0.0   2500.0     2500.0\n",
       "      661       200.0      0.0    200.0      200.0\n",
       "      708      3700.0      0.0   3700.0     3700.0\n",
       "      716     10700.0      0.0  10700.0    10700.0\n",
       "      723      3800.0      0.0   3800.0     3800.0\n",
       "      729     11200.0      0.0  11200.0    11200.0\n",
       "      732      8400.0      0.0   8400.0     8400.0\n",
       "      786      3100.0      0.0   3100.0     3100.0\n",
       "      799       600.0      0.0    600.0      600.0\n",
       "...               ...      ...      ...        ...\n",
       "HQZS2 600278   1500.0      0.0   1500.0     1500.0\n",
       "      600300  16000.0      0.0  16000.0    16000.0\n",
       "      600393  50400.0   7300.0  43100.0    50400.0\n",
       "      600410   1600.0   1600.0      0.0     1600.0\n",
       "      600552   3600.0      0.0   3600.0     3600.0\n",
       "      600600   1800.0    200.0   1600.0     1800.0\n",
       "      600604  15200.0   1900.0  13300.0    15200.0\n",
       "      600677   7200.0   1200.0   6000.0     7200.0\n",
       "      600682   4400.0      0.0   4400.0     4400.0\n",
       "      600720   5900.0      0.0   5900.0     5900.0\n",
       "      600744  26400.0      0.0  26400.0    26400.0\n",
       "      600855   1800.0      0.0   1800.0     1800.0\n",
       "      600864   2500.0      0.0   2500.0     2500.0\n",
       "      600895   8000.0   1000.0   7000.0     8000.0\n",
       "      601038  13000.0   2600.0  10400.0    13000.0\n",
       "      601200   1400.0   1400.0      0.0     1400.0\n",
       "      601211   3300.0      0.0   3300.0     3300.0\n",
       "      601777  44300.0   5600.0  38700.0    44300.0\n",
       "      601857  11200.0      0.0  11200.0    11200.0\n",
       "      601888    900.0    200.0    700.0      900.0\n",
       "      601919   3700.0      0.0   3700.0     3700.0\n",
       "      603106   3600.0      0.0   3600.0     3600.0\n",
       "      603128   2300.0      0.0   2300.0     2300.0\n",
       "      603369   4600.0    600.0   4000.0     4600.0\n",
       "      603508    400.0      0.0    400.0      400.0\n",
       "      603648   8400.0      0.0   8400.0     8400.0\n",
       "      603686   5000.0   1000.0   4000.0     5000.0\n",
       "      603777   1400.0      0.0   1400.0     1400.0\n",
       "      603797   6000.0   1500.0   4500.0     6000.0\n",
       "      603882    200.0    200.0      0.0      200.0\n",
       "\n",
       "[9558 rows x 4 columns]"
      ]
     },
     "execution_count": 24,
     "metadata": {},
     "output_type": "execute_result"
    }
   ],
   "source": [
    "result"
   ]
  },
  {
   "cell_type": "code",
   "execution_count": 25,
   "metadata": {
    "ExecuteTime": {
     "end_time": "2019-08-22T09:35:02.063382Z",
     "start_time": "2019-08-22T09:35:02.057420Z"
    },
    "collapsed": true
   },
   "outputs": [],
   "source": [
    "pd.set_option('display.max_rows',None)"
   ]
  },
  {
   "cell_type": "code",
   "execution_count": 26,
   "metadata": {
    "ExecuteTime": {
     "end_time": "2019-08-22T09:35:02.627873Z",
     "start_time": "2019-08-22T09:35:02.600943Z"
    },
    "scrolled": true
   },
   "outputs": [
    {
     "data": {
      "text/plain": [
       "HQYH23    15\n",
       "HQDB3      3\n",
       "HQGX1      2\n",
       "HQYH21     2\n",
       "HQDF1      2\n",
       "HQHF9      2\n",
       "HQYH4      2\n",
       "HQHF6      2\n",
       "HQHF1      2\n",
       "HQCC4      2\n",
       "HQYH28     2\n",
       "HQHF12     2\n",
       "HQGD1      2\n",
       "HQDT1      2\n",
       "HQYH18     2\n",
       "HQYH15     2\n",
       "HQCC3      2\n",
       "HQZJ3      2\n",
       "HQDB2      2\n",
       "HQHT3      2\n",
       "HQHT7      2\n",
       "HQHF11     2\n",
       "HQYH9      2\n",
       "HQHZ18     2\n",
       "HQHT14     2\n",
       "HQXB1      1\n",
       "HQXB2      1\n",
       "HQHF10     1\n",
       "HQHZ7      1\n",
       "HQHZ21     1\n",
       "HQCC5      1\n",
       "HQYH6      1\n",
       "HQYH7      1\n",
       "HQYH25     1\n",
       "HQHZ20     1\n",
       "HQHT12     1\n",
       "HQYH2      1\n",
       "Name: 产品标识, dtype: int64"
      ]
     },
     "execution_count": 26,
     "metadata": {},
     "output_type": "execute_result"
    }
   ],
   "source": [
    "(result['real_hold'] - result['ty_hold'])\\\n",
    "[(result['real_hold'] - result['ty_hold']<-100)|(result['real_hold'] - result['ty_hold']>100)].sort_values()[\\\n",
    "(result['real_hold'] - result['ty_hold'])\\\n",
    "[(result['real_hold'] - result['ty_hold']<-100)|(result['real_hold'] - result['ty_hold']>100)].sort_values()<0]\\\n",
    ".reset_index()['产品标识'].value_counts()"
   ]
  },
  {
   "cell_type": "code",
   "execution_count": 27,
   "metadata": {
    "ExecuteTime": {
     "end_time": "2019-08-22T09:35:03.662107Z",
     "start_time": "2019-08-22T09:35:03.630190Z"
    },
    "scrolled": true
   },
   "outputs": [
    {
     "data": {
      "text/plain": [
       "HQHT3     18\n",
       "HQHX1     11\n",
       "HQHT6     10\n",
       "HQYH18     7\n",
       "HQYH25     6\n",
       "HQHT12     5\n",
       "HQYH11     5\n",
       "HQYH2      5\n",
       "HQYH7      4\n",
       "HQCC3      4\n",
       "HQHZ18     3\n",
       "HQDT1      3\n",
       "HQCC4      3\n",
       "HQYH15     2\n",
       "HQHZ7      2\n",
       "HQZJ3      2\n",
       "HQHZ20     1\n",
       "HQYH23     1\n",
       "Name: 产品标识, dtype: int64"
      ]
     },
     "execution_count": 27,
     "metadata": {},
     "output_type": "execute_result"
    }
   ],
   "source": [
    "(result['real_hold'] - result['ty_hold'])\\\n",
    "[(result['real_hold'] - result['ty_hold']<-100)|(result['real_hold'] - result['ty_hold']>100)].sort_values()[\\\n",
    "(result['real_hold'] - result['ty_hold'])\\\n",
    "[(result['real_hold'] - result['ty_hold']<-100)|(result['real_hold'] - result['ty_hold']>100)].sort_values()>0]\\\n",
    ".reset_index()['产品标识'].value_counts()"
   ]
  },
  {
   "cell_type": "code",
   "execution_count": 28,
   "metadata": {
    "ExecuteTime": {
     "end_time": "2019-08-22T09:35:06.021792Z",
     "start_time": "2019-08-22T09:35:05.990876Z"
    },
    "scrolled": true
   },
   "outputs": [
    {
     "data": {
      "text/plain": [
       "产品标识\n",
       "HQHT3     116600.0\n",
       "HQHX1      46100.0\n",
       "HQYH2      44400.0\n",
       "HQHT6      34300.0\n",
       "HQHZ7      25900.0\n",
       "HQYH25     18798.0\n",
       "HQYH18     14600.0\n",
       "HQYH7       6700.0\n",
       "HQYH23      4659.0\n",
       "HQCC3       3800.0\n",
       "HQCC4       2600.0\n",
       "HQDT1       2000.0\n",
       "HQYH11      2000.0\n",
       "HQHZ18      1500.0\n",
       "HQHT12      1100.0\n",
       "HQHZ20       972.0\n",
       "HQYH15       900.0\n",
       "HQZJ3        400.0\n",
       "Name: 0, dtype: float64"
      ]
     },
     "execution_count": 28,
     "metadata": {},
     "output_type": "execute_result"
    }
   ],
   "source": [
    "(result['real_hold'] - result['ty_hold'])\\\n",
    "[(result['real_hold'] - result['ty_hold']<-100)|(result['real_hold'] - result['ty_hold']>100)].sort_values()[\\\n",
    "(result['real_hold'] - result['ty_hold'])\\\n",
    "[(result['real_hold'] - result['ty_hold']<-100)|(result['real_hold'] - result['ty_hold']>100)].sort_values()>0]\\\n",
    ".reset_index().groupby('产品标识').sum()[0].sort_values(ascending = False)"
   ]
  },
  {
   "cell_type": "code",
   "execution_count": 29,
   "metadata": {
    "ExecuteTime": {
     "end_time": "2019-08-22T09:35:06.658100Z",
     "start_time": "2019-08-22T09:35:06.639141Z"
    },
    "code_folding": [
     0
    ],
    "scrolled": true
   },
   "outputs": [
    {
     "data": {
      "text/plain": [
       "产品标识    股票代码  \n",
       "HQYH23  300431   -69900.0\n",
       "HQYH25  300431   -69600.0\n",
       "HQHZ7   300362   -48700.0\n",
       "HQHF10  300362   -44100.0\n",
       "HQCC5   300362   -42200.0\n",
       "HQHF9   300362   -41300.0\n",
       "HQHZ21  300431   -36540.0\n",
       "HQHT3   300362   -31400.0\n",
       "HQHF9   300431   -26300.0\n",
       "HQHT12  300362   -24400.0\n",
       "HQYH28  300362   -22600.0\n",
       "HQHT3   300431   -20100.0\n",
       "HQHT7   300362   -17700.0\n",
       "HQXB2   300362   -16600.0\n",
       "HQYH23  2256     -15600.0\n",
       "HQYH18  300362   -14500.0\n",
       "HQYH28  300431   -14400.0\n",
       "HQDB2   300362   -12700.0\n",
       "HQGX1   300362   -12700.0\n",
       "HQGD1   300362   -11500.0\n",
       "HQHT7   300431   -11300.0\n",
       "HQCC3   300362   -10900.0\n",
       "HQYH4   300362   -10100.0\n",
       "HQHT14  300362    -9600.0\n",
       "HQYH2   300431    -9600.0\n",
       "HQYH23  600157    -9300.0\n",
       "HQYH18  300431    -9200.0\n",
       "HQHF12  300431    -8400.0\n",
       "HQGX1   300431    -8100.0\n",
       "HQDB2   300431    -8100.0\n",
       "HQCC4   300362    -7800.0\n",
       "HQHZ18  300362    -7700.0\n",
       "HQDT1   300362    -7700.0\n",
       "HQGD1   300431    -7300.0\n",
       "HQYH6   300431    -6900.0\n",
       "HQHF11  300362    -6800.0\n",
       "HQYH23  300278    -6666.0\n",
       "HQYH9   300362    -6400.0\n",
       "HQHT14  300431    -6100.0\n",
       "HQDF1   300362    -5900.0\n",
       "HQYH15  300362    -5700.0\n",
       "HQHF11  300431    -4800.0\n",
       "HQYH9   300431    -4500.0\n",
       "HQHF12  300362    -4400.0\n",
       "HQYH15  300431    -4100.0\n",
       "HQYH4   300431    -4000.0\n",
       "HQHF6   300362    -4000.0\n",
       "HQDF1   300431    -3800.0\n",
       "HQHF1   300362    -3700.0\n",
       "HQHZ20  300431    -3600.0\n",
       "HQCC3   300431    -3300.0\n",
       "HQDB3   300362    -3200.0\n",
       "HQHF6   300431    -3000.0\n",
       "HQXB1   300362    -2600.0\n",
       "HQYH23  300178    -2500.0\n",
       "HQDT1   300431    -2500.0\n",
       "HQCC4   300431    -2500.0\n",
       "HQHZ18  300431    -2400.0\n",
       "HQYH21  300362    -2100.0\n",
       "HQYH23  600758    -2000.0\n",
       "HQDB3   300431    -1800.0\n",
       "HQYH23  600748    -1800.0\n",
       "        2813      -1600.0\n",
       "HQHF1   300431    -1600.0\n",
       "HQZJ3   300362    -1400.0\n",
       "HQYH21  300431    -1300.0\n",
       "HQYH23  600763    -1000.0\n",
       "        300471     -790.0\n",
       "        732        -780.0\n",
       "HQYH7   300431     -500.0\n",
       "HQDB3   600069     -500.0\n",
       "HQYH23  300357     -419.0\n",
       "HQZJ3   300431     -400.0\n",
       "HQYH23  300459     -300.0\n",
       "        603026     -300.0\n",
       "        300584     -250.0\n",
       "HQYH25  300301      200.0\n",
       "HQYH15  300033      200.0\n",
       "HQYH18  922         200.0\n",
       "        300554      200.0\n",
       "HQYH25  2915        200.0\n",
       "        300370      200.0\n",
       "HQZJ3   2243        200.0\n",
       "        300085      200.0\n",
       "HQYH11  600290      200.0\n",
       "HQHZ18  2442        200.0\n",
       "HQCC3   2127        200.0\n",
       "HQHT12  2442        200.0\n",
       "        2149        200.0\n",
       "        922         200.0\n",
       "        35          200.0\n",
       "HQCC4   922         200.0\n",
       "HQYH25  300346      300.0\n",
       "HQHT12  2127        300.0\n",
       "HQHT3   603383      300.0\n",
       "HQYH7   2243        300.0\n",
       "HQYH2   922         300.0\n",
       "HQYH18  2002        300.0\n",
       "HQYH11  601678      300.0\n",
       "        150         300.0\n",
       "HQYH7   300085      400.0\n",
       "HQYH11  2798        400.0\n",
       "HQHT3   596         400.0\n",
       "HQCC3   300090      500.0\n",
       "HQDT1   2243        500.0\n",
       "HQYH18  300176      500.0\n",
       "HQHZ18  2243        600.0\n",
       "HQDT1   300085      600.0\n",
       "HQHT6   300363      700.0\n",
       "HQHZ18  300085      700.0\n",
       "HQYH15  300191      700.0\n",
       "HQHT6   300568      700.0\n",
       "HQYH11  600984      800.0\n",
       "HQHT6   2243        800.0\n",
       "HQDT1   2530        900.0\n",
       "HQHZ20  300090      972.0\n",
       "HQHT6   300085     1000.0\n",
       "        2798       1000.0\n",
       "        300176     1100.0\n",
       "HQCC4   2243       1100.0\n",
       "        300085     1300.0\n",
       "HQHX1   603816     1400.0\n",
       "HQCC3   2243       1400.0\n",
       "HQHX1   300657     1500.0\n",
       "        2465       1500.0\n",
       "HQCC3   300085     1700.0\n",
       "HQHX1   603026     1700.0\n",
       "        2568       2100.0\n",
       "        2242       2300.0\n",
       "HQHT3   300191     2600.0\n",
       "HQHX1   2798       2700.0\n",
       "HQYH7   300090     2800.0\n",
       "HQHT6   300108     2900.0\n",
       "HQYH7   1          3200.0\n",
       "HQYH18  2243       3400.0\n",
       "HQHT3   401        3500.0\n",
       "HQYH2   2243       3600.0\n",
       "HQHT3   300168     4000.0\n",
       "HQYH18  300085     4200.0\n",
       "HQHT3   600352     4200.0\n",
       "        2243       4300.0\n",
       "HQYH2   300085     4400.0\n",
       "HQHZ7   895        4400.0\n",
       "HQYH23  300190     4659.0\n",
       "HQHT3   603000     4700.0\n",
       "        600338     5100.0\n",
       "        300029     5200.0\n",
       "HQYH25  600078     5200.0\n",
       "HQHX1   300274     5400.0\n",
       "        600720     5800.0\n",
       "HQYH18  2530       5800.0\n",
       "HQYH2   2530       6100.0\n",
       "HQHT3   600604     6500.0\n",
       "        600155     6800.0\n",
       "HQHX1   656        7000.0\n",
       "HQHT6   300152     7200.0\n",
       "        300090     7300.0\n",
       "HQHT3   922        7500.0\n",
       "        300190     8800.0\n",
       "        300459     9100.0\n",
       "HQHT6   600175    11600.0\n",
       "HQHT3   2195      12600.0\n",
       "HQYH25  300561    12698.0\n",
       "HQHT3   300471    13600.0\n",
       "HQHX1   600439    14700.0\n",
       "HQHT3   600175    17400.0\n",
       "HQHZ7   2256      21500.0\n",
       "HQYH2   300090    30000.0\n",
       "dtype: float64"
      ]
     },
     "execution_count": 29,
     "metadata": {},
     "output_type": "execute_result"
    }
   ],
   "source": [
    "#真实持仓和理论持仓的分账户股数差距\n",
    "(result['real_hold'] - result['ty_hold'])\\\n",
    "[(result['real_hold'] - result['ty_hold']<-100)|(result['real_hold'] - result['ty_hold']>100)].sort_values()"
   ]
  },
  {
   "cell_type": "markdown",
   "metadata": {
    "ExecuteTime": {
     "end_time": "2019-07-23T10:43:10.187542Z",
     "start_time": "2019-07-23T10:43:10.065844Z"
    },
    "collapsed": true
   },
   "source": [
    "a = (result['real_hold'] - result['ty_hold'])\\\n",
    "[(result['real_hold'] - result['ty_hold']<-100)|(result['real_hold'] - result['ty_hold']>100)].sort_values().reset_index()[\\\n",
    "(result['real_hold'] - result['ty_hold'])\\\n",
    "[(result['real_hold'] - result['ty_hold']<-100)|(result['real_hold'] - result['ty_hold']>100)].sort_values().reset_index()['产品标识'].isin(['HQDB2','HQYH9'])                                                                                                                           \n",
    "]\n",
    "a['证券名称'] = code_to_name.loc[a['股票代码']].tolist()\n",
    "a.to_excel('dsd.xlsx',index=False)"
   ]
  },
  {
   "cell_type": "code",
   "execution_count": 30,
   "metadata": {
    "ExecuteTime": {
     "end_time": "2019-08-22T09:35:08.560019Z",
     "start_time": "2019-08-22T09:35:08.556051Z"
    },
    "collapsed": true
   },
   "outputs": [],
   "source": [
    "pd.set_option('display.max_rows',60)"
   ]
  },
  {
   "cell_type": "code",
   "execution_count": 31,
   "metadata": {
    "ExecuteTime": {
     "end_time": "2019-08-22T09:35:09.104558Z",
     "start_time": "2019-08-22T09:35:09.087634Z"
    },
    "code_folding": [
     0
    ]
   },
   "outputs": [
    {
     "data": {
      "text/plain": [
       "1167474.0"
      ]
     },
     "execution_count": 31,
     "metadata": {},
     "output_type": "execute_result"
    }
   ],
   "source": [
    "#真实持仓和理论持仓的总股数差距\n",
    "np.abs((result['real_hold'] - result['ty_hold'])\\\n",
    "[(result['real_hold'] - result['ty_hold']<-100)|(result['real_hold'] - result['ty_hold']>100)].sort_values()).sum()"
   ]
  },
  {
   "cell_type": "code",
   "execution_count": null,
   "metadata": {
    "collapsed": true
   },
   "outputs": [],
   "source": []
  },
  {
   "cell_type": "code",
   "execution_count": null,
   "metadata": {
    "collapsed": true
   },
   "outputs": [],
   "source": []
  },
  {
   "cell_type": "code",
   "execution_count": null,
   "metadata": {
    "collapsed": true
   },
   "outputs": [],
   "source": []
  },
  {
   "cell_type": "code",
   "execution_count": 32,
   "metadata": {
    "ExecuteTime": {
     "end_time": "2019-08-22T09:35:10.993503Z",
     "start_time": "2019-08-22T09:35:10.987544Z"
    }
   },
   "outputs": [
    {
     "name": "stdout",
     "output_type": "stream",
     "text": [
      "\n"
     ]
    }
   ],
   "source": [
    "'''\n",
    "制作卖出的逻辑！！！\n",
    "以可T为校准目标，即，max(真实持仓 - 理论可T, 0) 作为明日的卖出部分，余下的为明日可T部分。\n",
    "此方法下明日可T会基本与理论可T保持一致，除非股数不够。\n",
    "****不会进行补足****\n",
    "****不建议补足，除非对卖出日期可以有明确的记录****\n",
    "'''\n",
    "print()"
   ]
  },
  {
   "cell_type": "code",
   "execution_count": 33,
   "metadata": {
    "ExecuteTime": {
     "end_time": "2019-08-22T09:35:11.181002Z",
     "start_time": "2019-08-22T09:35:11.159092Z"
    },
    "code_folding": [
     0
    ],
    "collapsed": true
   },
   "outputs": [],
   "source": [
    "#上述的正常处理\n",
    "sell = result['real_hold'] - result['ty_t0']\n",
    "sell = sell[sell>0]\n",
    "sell = sell.loc[result.index].fillna(0)\n",
    "t0 = result['real_hold'] - sell"
   ]
  },
  {
   "cell_type": "code",
   "execution_count": 34,
   "metadata": {
    "ExecuteTime": {
     "end_time": "2019-08-22T09:35:11.371832Z",
     "start_time": "2019-08-22T09:35:11.355871Z"
    },
    "collapsed": true
   },
   "outputs": [],
   "source": [
    "sell = sell[sell>99]\n",
    "t0 = t0[t0>0]\n",
    "sell = sell//100*100"
   ]
  },
  {
   "cell_type": "code",
   "execution_count": 35,
   "metadata": {
    "ExecuteTime": {
     "end_time": "2019-08-22T09:35:11.575305Z",
     "start_time": "2019-08-22T09:35:11.559352Z"
    },
    "collapsed": true
   },
   "outputs": [],
   "source": [
    "t0 = t0.reset_index()\n",
    "sell = sell.reset_index()"
   ]
  },
  {
   "cell_type": "code",
   "execution_count": null,
   "metadata": {
    "collapsed": true
   },
   "outputs": [],
   "source": []
  },
  {
   "cell_type": "code",
   "execution_count": null,
   "metadata": {
    "collapsed": true
   },
   "outputs": [],
   "source": []
  },
  {
   "cell_type": "code",
   "execution_count": null,
   "metadata": {
    "collapsed": true
   },
   "outputs": [],
   "source": []
  },
  {
   "cell_type": "code",
   "execution_count": 36,
   "metadata": {
    "ExecuteTime": {
     "end_time": "2019-08-22T09:35:12.372346Z",
     "start_time": "2019-08-22T09:35:12.368328Z"
    },
    "collapsed": true
   },
   "outputs": [],
   "source": [
    "os.chdir(r'C:/Users/bj/Desktop/刘泽丹/Code/')"
   ]
  },
  {
   "cell_type": "code",
   "execution_count": 37,
   "metadata": {
    "ExecuteTime": {
     "end_time": "2019-08-22T09:35:14.727612Z",
     "start_time": "2019-08-22T09:35:12.591732Z"
    },
    "code_folding": [
     0
    ],
    "scrolled": true
   },
   "outputs": [
    {
     "name": "stdout",
     "output_type": "stream",
     "text": [
      "金湖聚乐盈1号 HQCC3 1874620.0\n",
      "金湖聚乐盈3号 HQCC4 1443100.0\n",
      "金湖AI对冲五十三期长城 HQCC5 8425765.0\n",
      "金湖增强二期 HQDB2 2049700.0\n",
      "红墙泰和指数增强六期 HQDB3 1261000.0\n",
      "稳健二十五期 HQDF1 953900.0\n",
      "千广一号 HQDT1 1295484.0\n",
      "金湖AI对冲五十九期 HQGD1 1153700.0\n",
      "金湖AI增强指数三期 HQGX1 3038750.0\n",
      "红墙泰和私享一号 HQGX8 19672900.0\n",
      "陈德英 HQHF1 582809.0\n",
      "敖麓谷雅二期 HQHF10 6540700.0\n",
      "敖麓谷雅三期 HQHF11 1098000.0\n",
      "少伯二号华福 HQHF12 1403300.0\n",
      "红墙泰和私享三号 HQHF13 135600.0\n",
      "金湖AI对冲二十八期 HQHF6 647400.0\n",
      "金湖AI对冲十八期 HQHF7 881200.0\n",
      "敖麓谷雅一期 HQHF9 6431111.0\n",
      "金湖宏观量化一期 HQHT11 799700.0\n",
      "金湖AI对冲五十八期分仓 HQHT12 3637300.0\n",
      "无量稳健九号 HQHT14 2243409.0\n",
      "金湖AI对冲十三期 HQHT3 5175401.0\n",
      "金湖一号 HQHT6 957400.0\n",
      "金湖AI对冲二十九期 HQHT7 2715500.0\n",
      "红墙对冲九号 HQHV1 899100.0\n",
      "红墙泰和稳健十六期 HQHX1 122700.0\n",
      "红墙泰和私享四号 HQHZ15 101100.0\n",
      "红墙泰和私享五号 HQHZ16 137000.0\n",
      "红墙泰和私享六号 HQHZ17 141000.0\n",
      "黎悦一号 HQHZ18 1148158.0\n",
      "金湖AI对冲三十六期华泰 HQHZ20 899740.0\n",
      "元涞阿尔法一号 HQHZ21 2573000.0\n",
      "金湖AI对冲五十一期 HQHZ7 6473303.0\n",
      "圭源金湖启航 HQHZ8 78500.0\n",
      "红墙泰和山丹丹私募 HQXB1 382300.0\n",
      "无量私享增强指数西部 HQXB2 2707900.0\n",
      "金湖AI对冲五十期 HQYH11 3278000.0\n",
      "金湖AI对冲三十七期 HQYH15 902100.0\n",
      "私享六号 HQYH18 3247300.0\n",
      "私享二号 HQYH19 5575400.0\n",
      "金湖AI对冲二十二期 HQYH2 3283900.0\n",
      "祉含永福私募基金 HQYH21 268700.0\n",
      "金湖中性对冲六号 HQYH23 21047310.0\n",
      "私享五号信用 HQYH25 18660181.0\n",
      "红墙泰和指数增强十九期 HQYH28 3564800.0\n",
      "金湖AI对冲三十五期 HQYH4 1760550.0\n",
      "九期龙哥 HQYH6 1875300.0\n",
      "金湖AI对冲十期 HQYH7 547500.0\n",
      "增强二期银河 HQYH9 1021100.0\n",
      "宁波梅山 HQZJ3 338000.0\n",
      "红墙泰和私享十六 HQZS2 812600.0\n"
     ]
    }
   ],
   "source": [
    "#输出可T文件，为Code文件夹下名为‘DATE可T券单’的文件夹\n",
    "t0.columns = ['产品标识','股票代码','任务股数']\n",
    "os.chdir(r'C:/Users/bj/Desktop/刘泽丹/Code/')\n",
    "try:\n",
    "    os.chdir(tomorrow_nodot+'可T券单')\n",
    "except FileNotFoundError:\n",
    "    os.mkdir(tomorrow_nodot+'可T券单')\n",
    "    os.chdir(tomorrow_nodot+'可T券单')\n",
    "for code in t0['产品标识'].unique():\n",
    "    if 'A52' not in account_name_to_t0code.xs(account_code_to_name.xs(code)):\n",
    "        sub_t0 = t0[t0['产品标识'] == code]\\\n",
    "            .loc[:,['股票代码','股票名称','任务股数']].sort_values('任务股数',ascending=False)\n",
    "        sub_t0.columns = ['股票代码','股票名称','可T+0股数']\n",
    "        sub_t0['股票名称'] = code_to_name.loc[sub_t0['股票代码']].tolist()\n",
    "        try:\n",
    "            sub_t0.to_excel(tomorrow_nodot+'_'+account_name_to_t0code.xs(account_code_to_name.xs(code))+\\\n",
    "                          ' 可T股数查询.xlsx',encoding='gbk',index=False)\n",
    "            print(account_code_to_name.xs(code),code,sub_t0['可T+0股数'].sum())\n",
    "        except:\n",
    "            print('******************',account_code_to_name.xs(code))\n",
    "    else:\n",
    "        sub_t0 = t0[t0['产品标识'] == code]\\\n",
    "            .loc[:,['股票代码','股票名称','任务股数']].sort_values('任务股数',ascending=False)\n",
    "        sub_t0.columns = ['股票代码','股票名称','可T+0股数']\n",
    "        sub_t0['股票名称'] = code_to_name.loc[sub_t0['股票代码']].tolist()\n",
    "        sub_t0['股票代码'] = ['0'*(6-len(str(i)))+str(i) for i in sub_t0['股票代码']]\n",
    "        sub_t0[''] = ''\n",
    "        sub_t0['资源类型'] = '股票'\n",
    "        sub_t0['券商账户标识'] = account_name_to_t0code.xs(account_code_to_name.xs(code))\n",
    "        sub_t0 = sub_t0[['券商账户标识','股票代码','可T+0股数','','资源类型']]\n",
    "        sub_t0.columns = ['券商账户标识','股票代码','总券数','','资源类型']\n",
    "        try:\n",
    "            sub_t0.to_excel(tomorrow_nodot+'_'+account_name_to_t0code.xs(account_code_to_name.xs(code))+\\\n",
    "                          ' 可T股数查询.xlsx',encoding='gbk',index=False)\n",
    "            print(account_code_to_name.xs(code),code,sub_t0['总券数'].sum())\n",
    "        except:\n",
    "            print('******************',account_code_to_name.xs(code))\n",
    "os.chdir(r'C:/Users/bj/Desktop/刘泽丹/Code/')"
   ]
  },
  {
   "cell_type": "code",
   "execution_count": 38,
   "metadata": {
    "ExecuteTime": {
     "end_time": "2019-08-22T09:35:15.111590Z",
     "start_time": "2019-08-22T09:35:14.732599Z"
    },
    "code_folding": [
     0
    ],
    "collapsed": true
   },
   "outputs": [],
   "source": [
    "#输出卖出文件，为Code文件夹下名为‘总卖出_DATE.xlsx’的文件\n",
    "os.chdir(r'C:/Users/bj/Desktop/刘泽丹/Code/')\n",
    "sell.columns = ['产品标识','股票代码','任务股数']\n",
    "sell['任务资金'] = np.nan\n",
    "sell['方向'] = '空'\n",
    "sell = sell.loc[:,['产品标识','股票代码','任务资金','任务股数','方向']]\n",
    "sell = sell[sell['任务股数']!=0]\n",
    "sell.to_excel('总任务管理表_卖出.xlsx',encoding='gbk',index=False)"
   ]
  },
  {
   "cell_type": "code",
   "execution_count": 39,
   "metadata": {
    "ExecuteTime": {
     "end_time": "2019-08-22T09:35:15.121558Z",
     "start_time": "2019-08-22T09:35:15.116574Z"
    },
    "collapsed": true
   },
   "outputs": [],
   "source": [
    "os.chdir(r'C:/Users/bj/Desktop/刘泽丹/Code/')"
   ]
  },
  {
   "cell_type": "code",
   "execution_count": 40,
   "metadata": {
    "ExecuteTime": {
     "end_time": "2019-08-22T09:35:15.138515Z",
     "start_time": "2019-08-22T09:35:15.127543Z"
    },
    "code_folding": [],
    "collapsed": true
   },
   "outputs": [],
   "source": [
    "#检查卖出、可T文件中是否包含记录中应已清仓的"
   ]
  },
  {
   "cell_type": "code",
   "execution_count": 41,
   "metadata": {
    "ExecuteTime": {
     "end_time": "2019-08-22T09:35:15.157463Z",
     "start_time": "2019-08-22T09:35:15.149484Z"
    },
    "code_folding": [],
    "collapsed": true
   },
   "outputs": [],
   "source": [
    "cleared = ['HQAX1','HQAX3','HQCC2','HQCT1','HQCT2','HQCT4','HQDB1','HQGD2','HQGJ1','HQGJ2','HQGS1',\\\n",
    "           'HQGS2','HQGX5','HQGX6','HQGX7','HQHF4','HQHF8','HQHT17','HQHT19','HQHT8','HQHY1',\\\n",
    "           'HQHZ11','HQHZ13','HQHZ14','HQHZ19','HQHZ2','HQHZ3','HQHZ4','HQHZ6','HQHZ9','HQLX1','HQPA1','HQPA2','HQYH1',\\\n",
    "           'HQYH14','HQYH16','HQYH17','HQYH20','HQYH22','HQYH27','HQYH5','HQZT1','HQZX3',\\\n",
    "           'HQHT4','HQCT5','HQXXX1']"
   ]
  },
  {
   "cell_type": "code",
   "execution_count": 42,
   "metadata": {
    "ExecuteTime": {
     "end_time": "2019-08-22T09:35:15.194364Z",
     "start_time": "2019-08-22T09:35:15.169430Z"
    },
    "scrolled": true
   },
   "outputs": [
    {
     "data": {
      "text/html": [
       "<div>\n",
       "<style scoped>\n",
       "    .dataframe tbody tr th:only-of-type {\n",
       "        vertical-align: middle;\n",
       "    }\n",
       "\n",
       "    .dataframe tbody tr th {\n",
       "        vertical-align: top;\n",
       "    }\n",
       "\n",
       "    .dataframe thead th {\n",
       "        text-align: right;\n",
       "    }\n",
       "</style>\n",
       "<table border=\"1\" class=\"dataframe\">\n",
       "  <thead>\n",
       "    <tr style=\"text-align: right;\">\n",
       "      <th></th>\n",
       "      <th>产品标识</th>\n",
       "      <th>股票代码</th>\n",
       "      <th>任务股数</th>\n",
       "    </tr>\n",
       "  </thead>\n",
       "  <tbody>\n",
       "  </tbody>\n",
       "</table>\n",
       "</div>"
      ],
      "text/plain": [
       "Empty DataFrame\n",
       "Columns: [产品标识, 股票代码, 任务股数]\n",
       "Index: []"
      ]
     },
     "execution_count": 42,
     "metadata": {},
     "output_type": "execute_result"
    }
   ],
   "source": [
    "t0[t0['产品标识'].isin(cleared)]"
   ]
  },
  {
   "cell_type": "code",
   "execution_count": 43,
   "metadata": {
    "ExecuteTime": {
     "end_time": "2019-08-22T09:35:15.229270Z",
     "start_time": "2019-08-22T09:35:15.205343Z"
    },
    "scrolled": true
   },
   "outputs": [
    {
     "data": {
      "text/html": [
       "<div>\n",
       "<style scoped>\n",
       "    .dataframe tbody tr th:only-of-type {\n",
       "        vertical-align: middle;\n",
       "    }\n",
       "\n",
       "    .dataframe tbody tr th {\n",
       "        vertical-align: top;\n",
       "    }\n",
       "\n",
       "    .dataframe thead th {\n",
       "        text-align: right;\n",
       "    }\n",
       "</style>\n",
       "<table border=\"1\" class=\"dataframe\">\n",
       "  <thead>\n",
       "    <tr style=\"text-align: right;\">\n",
       "      <th></th>\n",
       "      <th>产品标识</th>\n",
       "      <th>股票代码</th>\n",
       "      <th>任务资金</th>\n",
       "      <th>任务股数</th>\n",
       "      <th>方向</th>\n",
       "    </tr>\n",
       "  </thead>\n",
       "  <tbody>\n",
       "  </tbody>\n",
       "</table>\n",
       "</div>"
      ],
      "text/plain": [
       "Empty DataFrame\n",
       "Columns: [产品标识, 股票代码, 任务资金, 任务股数, 方向]\n",
       "Index: []"
      ]
     },
     "execution_count": 43,
     "metadata": {},
     "output_type": "execute_result"
    }
   ],
   "source": [
    "sell[sell['产品标识'].isin(cleared)]"
   ]
  },
  {
   "cell_type": "code",
   "execution_count": 44,
   "metadata": {
    "ExecuteTime": {
     "end_time": "2019-08-22T09:35:15.294096Z",
     "start_time": "2019-08-22T09:35:15.236252Z"
    },
    "scrolled": true
   },
   "outputs": [
    {
     "data": {
      "text/html": [
       "<div>\n",
       "<style scoped>\n",
       "    .dataframe tbody tr th:only-of-type {\n",
       "        vertical-align: middle;\n",
       "    }\n",
       "\n",
       "    .dataframe tbody tr th {\n",
       "        vertical-align: top;\n",
       "    }\n",
       "\n",
       "    .dataframe thead th {\n",
       "        text-align: right;\n",
       "    }\n",
       "</style>\n",
       "<table border=\"1\" class=\"dataframe\">\n",
       "  <thead>\n",
       "    <tr style=\"text-align: right;\">\n",
       "      <th></th>\n",
       "      <th>产品标识</th>\n",
       "      <th>股票代码</th>\n",
       "      <th>任务资金</th>\n",
       "      <th>任务股数</th>\n",
       "      <th>方向</th>\n",
       "    </tr>\n",
       "  </thead>\n",
       "  <tbody>\n",
       "  </tbody>\n",
       "</table>\n",
       "</div>"
      ],
      "text/plain": [
       "Empty DataFrame\n",
       "Columns: [产品标识, 股票代码, 任务资金, 任务股数, 方向]\n",
       "Index: []"
      ]
     },
     "execution_count": 44,
     "metadata": {},
     "output_type": "execute_result"
    }
   ],
   "source": [
    "pd.read_excel('买入_未完成_'+today_nodot+'.xlsx')\\\n",
    "[pd.read_excel('买入_未完成_'+today_nodot+'.xlsx')['产品标识'].isin(cleared)]"
   ]
  },
  {
   "cell_type": "code",
   "execution_count": 45,
   "metadata": {
    "ExecuteTime": {
     "end_time": "2019-08-22T09:35:15.677072Z",
     "start_time": "2019-08-22T09:35:15.300081Z"
    },
    "scrolled": true
   },
   "outputs": [
    {
     "data": {
      "text/html": [
       "<div>\n",
       "<style scoped>\n",
       "    .dataframe tbody tr th:only-of-type {\n",
       "        vertical-align: middle;\n",
       "    }\n",
       "\n",
       "    .dataframe tbody tr th {\n",
       "        vertical-align: top;\n",
       "    }\n",
       "\n",
       "    .dataframe thead th {\n",
       "        text-align: right;\n",
       "    }\n",
       "</style>\n",
       "<table border=\"1\" class=\"dataframe\">\n",
       "  <thead>\n",
       "    <tr style=\"text-align: right;\">\n",
       "      <th></th>\n",
       "      <th>产品标识</th>\n",
       "      <th>股票代码</th>\n",
       "      <th>模型</th>\n",
       "      <th>任务资金</th>\n",
       "      <th>完成资金</th>\n",
       "    </tr>\n",
       "  </thead>\n",
       "  <tbody>\n",
       "  </tbody>\n",
       "</table>\n",
       "</div>"
      ],
      "text/plain": [
       "Empty DataFrame\n",
       "Columns: [产品标识, 股票代码, 模型, 任务资金, 完成资金]\n",
       "Index: []"
      ]
     },
     "execution_count": 45,
     "metadata": {},
     "output_type": "execute_result"
    }
   ],
   "source": [
    "pd.read_excel('实验_总任务管理表_买入_未完成_'+today_nodot+'.xlsx')\\\n",
    "[pd.read_excel('实验_总任务管理表_买入_未完成_'+today_nodot+'.xlsx')['产品标识'].isin(cleared)]"
   ]
  },
  {
   "cell_type": "code",
   "execution_count": null,
   "metadata": {
    "collapsed": true
   },
   "outputs": [],
   "source": []
  },
  {
   "cell_type": "code",
   "execution_count": null,
   "metadata": {
    "collapsed": true
   },
   "outputs": [],
   "source": []
  },
  {
   "cell_type": "code",
   "execution_count": 46,
   "metadata": {
    "ExecuteTime": {
     "end_time": "2019-08-22T09:35:15.710982Z",
     "start_time": "2019-08-22T09:35:15.681079Z"
    },
    "code_folding": [
     0
    ],
    "scrolled": true
   },
   "outputs": [
    {
     "data": {
      "text/plain": [
       "股票代码\n",
       "300362     12100.0\n",
       "300431    518700.0\n",
       "Name: real_hold, dtype: float64"
      ]
     },
     "execution_count": 46,
     "metadata": {},
     "output_type": "execute_result"
    }
   ],
   "source": [
    "#卖出中的ST\n",
    "((result//100*100).reset_index()[result.reset_index()['股票代码'].isin(STcode)].groupby('股票代码').sum()['real_hold']).replace(0,np.nan).dropna()"
   ]
  },
  {
   "cell_type": "code",
   "execution_count": null,
   "metadata": {
    "collapsed": true
   },
   "outputs": [],
   "source": []
  },
  {
   "cell_type": "code",
   "execution_count": null,
   "metadata": {
    "collapsed": true
   },
   "outputs": [],
   "source": []
  },
  {
   "cell_type": "code",
   "execution_count": null,
   "metadata": {
    "collapsed": true
   },
   "outputs": [],
   "source": []
  }
 ],
 "metadata": {
  "kernelspec": {
   "display_name": "Python 3",
   "language": "python",
   "name": "python3"
  },
  "language_info": {
   "codemirror_mode": {
    "name": "ipython",
    "version": 3
   },
   "file_extension": ".py",
   "mimetype": "text/x-python",
   "name": "python",
   "nbconvert_exporter": "python",
   "pygments_lexer": "ipython3",
   "version": "3.6.4"
  }
 },
 "nbformat": 4,
 "nbformat_minor": 2
}
