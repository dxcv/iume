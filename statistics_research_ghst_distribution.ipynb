{
 "cells": [
  {
   "cell_type": "code",
   "execution_count": 1,
   "metadata": {
    "ExecuteTime": {
     "end_time": "2019-04-04T03:19:05.591390Z",
     "start_time": "2019-04-04T03:19:02.215392Z"
    },
    "code_folding": [
     0
    ],
    "collapsed": true
   },
   "outputs": [],
   "source": [
    "#import\n",
    "import warnings\n",
    "warnings.filterwarnings(\"ignore\")\n",
    "%matplotlib inline\n",
    "import pandas as pd\n",
    "import numpy as np\n",
    "import pymysql\n",
    "import operator\n",
    "import os\n",
    "import math\n",
    "import scipy\n",
    "from scipy import stats\n",
    "import statsmodels\n",
    "import statsmodels.api as sm\n",
    "from statsmodels.regression.linear_model import OLS\n",
    "from datetime import *\n",
    "import scipy.io as sio\n",
    "import h5py\n",
    "import copy\n",
    "import shutil\n",
    "import rarfile\n",
    "import random\n",
    "from general_function import *\n",
    "import seaborn as sns\n",
    "import matplotlib.pyplot as plt\n",
    "import matplotlib.gridspec as gridspec\n",
    "from matplotlib.font_manager import FontProperties\n",
    "plt.rcParams['font.sans-serif'] = ['SimHei']  #用来正常显示中文标签\n",
    "plt.rcParams['axes.unicode_minus'] = False  #用来正常显示负号\n",
    "sns.set(style=\"whitegrid\")\n",
    "myfont = FontProperties(fname=r'C:\\Windows\\Fonts\\simhei.ttf', size=10)\n",
    "sns.set(font=myfont.get_name(),style=\"whitegrid\",palette=\"muted\",color_codes=True)"
   ]
  },
  {
   "cell_type": "code",
   "execution_count": 2,
   "metadata": {
    "ExecuteTime": {
     "end_time": "2019-04-04T03:19:05.670153Z",
     "start_time": "2019-04-04T03:19:05.593356Z"
    },
    "code_folding": [
     0,
     9,
     23
    ],
    "collapsed": true
   },
   "outputs": [],
   "source": [
    "def multivariate_t_rvs(m, S, df=np.inf, n=1):\n",
    "    m = np.asarray(m)\n",
    "    d = len(m)\n",
    "    if df == np.inf:\n",
    "        x = 1.\n",
    "    else:\n",
    "        x = np.random.chisquare(df, n)/df\n",
    "    z = np.random.multivariate_normal(np.zeros(d),S,(n,))\n",
    "    return m + z/np.sqrt(x)[:,None]   # same output format as random.multivariate_normal\n",
    "def calc(data):\n",
    "    n = len(data)\n",
    "    mu = 0.0\n",
    "    mu2 = 0.0\n",
    "    mu3 = 0.0\n",
    "    for a in data:\n",
    "        mu += a\n",
    "        mu2 += a**2\n",
    "        mu3 += a**3\n",
    "    mu/= n   #这是求E(X)\n",
    "    mu2 /= n #这是E(X^2)\n",
    "    mu3 /= n #这是E(X^3)\n",
    "    sigma = math.sqrt(mu2 - mu*mu)\n",
    "    return [mu,sigma,mu3]\n",
    "def calc_stat(data):\n",
    "    [mu,sigma,mu3] = calc(data)\n",
    "    n = len(data)\n",
    "    mu4 = 0.0\n",
    "    for a in data:\n",
    "        a -= mu\n",
    "        mu4 += a ** 4\n",
    "    mu4 /= n   \n",
    "    skew = (mu3 - 3*mu*sigma**2 - mu**3)/(sigma**3)\n",
    "    kurt =  mu4/(sigma**4)-3\n",
    "    return [mu,sigma,skew,kurt]"
   ]
  },
  {
   "cell_type": "code",
   "execution_count": 3,
   "metadata": {
    "ExecuteTime": {
     "end_time": "2019-04-04T03:19:05.693092Z",
     "start_time": "2019-04-04T03:19:05.675149Z"
    },
    "code_folding": [
     0,
     2
    ],
    "collapsed": true
   },
   "outputs": [],
   "source": [
    "def density_gig(x, lamda, sigma, gamma):\n",
    "    return (gamma/sigma)**lamda*(x**(lamda-1))/(2*scipy.special.kn(lamda,gamma*sigma))*np.exp(-1/2*(sigma**2*x**-1+gamma**2*x))\n",
    "def sample_from_gig(lamda, sigma, gamma, size):\n",
    "    x = np.linspace(0,1,1000000)\n",
    "    density = density_gig(x, lamda, sigma, gamma)\n",
    "    density[pd.isnull(density)]=0\n",
    "    return np.random.choice(x, p = density/density.sum(), size = size)"
   ]
  },
  {
   "cell_type": "code",
   "execution_count": 4,
   "metadata": {
    "ExecuteTime": {
     "end_time": "2019-04-04T03:19:18.408083Z",
     "start_time": "2019-04-04T03:19:05.707054Z"
    },
    "collapsed": true
   },
   "outputs": [],
   "source": [
    "full_result = pd.read_csv('ghst_density.csv',index_col=0)"
   ]
  },
  {
   "cell_type": "code",
   "execution_count": 5,
   "metadata": {
    "ExecuteTime": {
     "end_time": "2019-04-04T03:20:30.308339Z",
     "start_time": "2019-04-04T03:19:18.412072Z"
    },
    "scrolled": true
   },
   "outputs": [
    {
     "name": "stdout",
     "output_type": "stream",
     "text": [
      "0\n",
      "1\n",
      "2\n",
      "3\n",
      "4\n",
      "5\n",
      "6\n",
      "7\n",
      "8\n",
      "9\n",
      "10\n",
      "11\n",
      "12\n",
      "13\n",
      "14\n",
      "15\n",
      "16\n",
      "17\n"
     ]
    }
   ],
   "source": [
    "Y = stats.norm.rvs(loc=0,scale=1,size=2000)\n",
    "count = 0\n",
    "beta_list = np.append(np.linspace(-20,-2,19),np.linspace(2,20,19))\n",
    "v_list = np.linspace(8.01,10,21)\n",
    "sigma_list = np.linspace(0.01,0.1,19)\n",
    "\n",
    "beta_list = np.linspace(-2,2,21)[(np.linspace(-2,2,21)!=-2)&(np.linspace(-2,2,21)!=0)&(np.linspace(-2,2,21)!=2)]\n",
    "v_list = [8.01]\n",
    "sigma_list = [0.06]\n",
    "for beta in beta_list:\n",
    "    gamma = np.sqrt((np.abs(beta)+0.0001)**2 - beta**2)\n",
    "    for v in v_list:\n",
    "        for sigma in sigma_list:\n",
    "            Z = sample_from_gig(-v/2,sigma,gamma,2000)\n",
    "            X = beta*Z+np.sqrt(Z)*Y\n",
    "            result = pd.Series(stats.probplot(X,dist=\"norm\")[0][1],index = stats.probplot(X,dist=\"norm\")[0][0])\n",
    "            result.name = (beta,v,sigma)\n",
    "            full_result = pd.concat([full_result,result],axis=1)\n",
    "        print(count)\n",
    "        count+=1\n",
    "full_result.to_csv('ghst_density1.csv')"
   ]
  },
  {
   "cell_type": "code",
   "execution_count": 6,
   "metadata": {
    "ExecuteTime": {
     "end_time": "2019-04-04T03:20:30.554655Z",
     "start_time": "2019-04-04T03:20:30.310308Z"
    }
   },
   "outputs": [
    {
     "data": {
      "image/png": "[encoded data removed]",
      "text/plain": [
       "<matplotlib.figure.Figure at 0x2607fc1d080>"
      ]
     },
     "metadata": {},
     "output_type": "display_data"
    },
    {
     "data": {
      "image/png": "[encoded data removed]",
      "text/plain": [
       "<matplotlib.figure.Figure at 0x260151ff358>"
      ]
     },
     "metadata": {},
     "output_type": "display_data"
    }
   ],
   "source": [
    "fig, ax = plt.subplots(1, 1)\n",
    "ax.hist(X, density=True,bins = 100,histtype='stepfilled', alpha=0.2)\n",
    "plt.show()\n",
    "stats.probplot(X,dist=\"norm\", plot=plt)\n",
    "plt.show()"
   ]
  },
  {
   "cell_type": "code",
   "execution_count": null,
   "metadata": {
    "collapsed": true
   },
   "outputs": [],
   "source": []
  },
  {
   "cell_type": "code",
   "execution_count": null,
   "metadata": {
    "collapsed": true
   },
   "outputs": [],
   "source": []
  }
 ],
 "metadata": {
  "kernelspec": {
   "display_name": "Python 3",
   "language": "python",
   "name": "python3"
  },
  "language_info": {
   "codemirror_mode": {
    "name": "ipython",
    "version": 3
   },
   "file_extension": ".py",
   "mimetype": "text/x-python",
   "name": "python",
   "nbconvert_exporter": "python",
   "pygments_lexer": "ipython3",
   "version": "3.6.4"
  }
 },
 "nbformat": 4,
 "nbformat_minor": 2
}
