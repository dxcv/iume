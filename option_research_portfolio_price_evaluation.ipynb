{
 "cells": [
  {
   "cell_type": "code",
   "execution_count": 1,
   "metadata": {
    "ExecuteTime": {
     "end_time": "2019-01-22T08:23:13.508545Z",
     "start_time": "2019-01-22T08:23:05.377497Z"
    },
    "code_folding": [
     0
    ],
    "collapsed": true
   },
   "outputs": [],
   "source": [
    "#import\n",
    "import pandas as pd\n",
    "import numpy as np\n",
    "import scipy.io as sio\n",
    "import os\n",
    "import h5py\n",
    "from datetime import *\n",
    "%matplotlib inline\n",
    "import matplotlib\n",
    "from mpl_toolkits.mplot3d import Axes3D\n",
    "import matplotlib.pyplot as plt\n",
    "import seaborn as sns\n",
    "import matplotlib.gridspec as gridspec\n",
    "from matplotlib.font_manager import FontProperties\n",
    "plt.rcParams['font.sans-serif'] = ['SimHei']\n",
    "plt.rcParams['axes.unicode_minus'] = False\n",
    "myfont = FontProperties(fname=r'C:\\Windows\\Fonts\\simhei.ttf', size=10)\n",
    "sns.set(font=myfont.get_name(),style=\"whitegrid\",palette=\"muted\",color_codes=True)\n",
    "import warnings\n",
    "warnings.filterwarnings(\"ignore\")\n",
    "from statsmodels.regression.linear_model import OLS\n",
    "import random\n",
    "from scipy import stats\n",
    "from scipy.optimize import least_squares\n",
    "import copy\n",
    "import math\n",
    "from sklearn.neighbors import KernelDensity\n",
    "import scipy.stats as st\n",
    "import statsmodels as sm"
   ]
  },
  {
   "cell_type": "code",
   "execution_count": 2,
   "metadata": {
    "ExecuteTime": {
     "end_time": "2019-01-22T08:23:39.332502Z",
     "start_time": "2019-01-22T08:23:13.511447Z"
    },
    "code_folding": [
     0
    ],
    "collapsed": true
   },
   "outputs": [],
   "source": [
    "#full_data\n",
    "os.chdir(r'C:/Users/bj/Desktop/刘泽丹/Code/')\n",
    "full = pd.read_csv('full_data_for_generator_from_db.csv')\n",
    "full.columns = [int(i) for i in full.columns]\n",
    "full[4] = [int(str(date.fromordinal(i-366)).replace('-','')) for i in full[4]]\n",
    "full.set_index([0,4],inplace=True)\n",
    "full_nonright = pd.read_csv('full_data_for_mission.csv')\n",
    "full_nonright.columns = [int(i) for i in full_nonright.columns]\n",
    "full_nonright[4] = [int(str(date.fromordinal(int(i)-366)).replace('-','')) for i in full_nonright[4]]\n",
    "full_nonright.set_index([0,4],inplace = True)\n",
    "return_info = pd.read_csv('full_data.csv')\n",
    "return_info.set_index(['S_INFO_WINDCODE','TRADE_DT'],inplace=True)"
   ]
  },
  {
   "cell_type": "code",
   "execution_count": 3,
   "metadata": {
    "ExecuteTime": {
     "end_time": "2019-01-22T08:23:39.722908Z",
     "start_time": "2019-01-22T08:23:39.334447Z"
    },
    "code_folding": [
     0,
     34,
     66
    ],
    "collapsed": true
   },
   "outputs": [],
   "source": [
    "def how_many_week_date_between(now_date,future_date):\n",
    "    flag = 0\n",
    "    if now_date > future_date:\n",
    "        flag = 1\n",
    "        now_date,future_date = future_date,now_date\n",
    "    year = int(now_date[:4])\n",
    "    month = int(now_date[4:6])\n",
    "    day = int(now_date[6:])\n",
    "    now = date(year,month,day)\n",
    "    year = int(future_date[:4])\n",
    "    month = int(future_date[4:6])\n",
    "    day = int(future_date[6:])\n",
    "    future = date(year,month,day)\n",
    "    days = 0\n",
    "    while(now<future):\n",
    "        now = now + timedelta(days=1)\n",
    "        if now.isoweekday() == 6 or now.isoweekday() == 7:\n",
    "            pass\n",
    "        elif now == date(2018,1,1) or now == date(2018,2,15) or now == date(2018,2,16) or now == date(2018,2,19)\\\n",
    "            or now == date(2018,2,20) or now == date(2018,2,21) or now == date(2018,4,5) or now == date(2018,4,6)\\\n",
    "            or now == date(2018,4,30) or now == date(2018,5,1) or now == date(2018,6,18) or now == date(2018,9,24)\\\n",
    "            or now == date(2018,10,1) or now == date(2018,10,2) or now == date(2018,10,3) or now == date(2018,10,4)\\\n",
    "            or now == date(2018,10,5) or now == date(2018,12,31) or now == date(2019,1,1) or now == date(2019,2,4)\\\n",
    "            or now == date(2019,2,5) or now == date(2019,2,6) or now == date(2019,2,7) or now == date(2019,2,8)\\\n",
    "            or now == date(2019,2,9) or now == date(2019,2,10) or now == date(2019,4,5) or now == date(2019,5,1)\\\n",
    "            or now == date(2019,6,7) or now == date(2019,9,13) or now == date(2019,10,1) or now == date(2019,10,2)\\\n",
    "            or now == date(2019,10,3) or now == date(2019,10,4) or now == date(2019,10,5) or now == date(2019,10,6)\\\n",
    "            or now == date(2019,10,7):\n",
    "            pass\n",
    "        else:\n",
    "            days += 1\n",
    "    if flag == 1:\n",
    "        days = -days\n",
    "    return days\n",
    "def get_n_week_date_before(now_date,days=1):\n",
    "    year = int(now_date[:4])\n",
    "    month = int(now_date[4:6])\n",
    "    day = int(now_date[6:])\n",
    "    today = date(year,month,day)\n",
    "    while(days>0):\n",
    "        today = today - timedelta(days=1)\n",
    "        if today.isoweekday() == 6 or today.isoweekday() == 7:\n",
    "            pass\n",
    "        elif today == date(2018,1,1) or today == date(2018,2,15) or today == date(2018,2,16) or today == date(2018,2,19)\\\n",
    "            or today == date(2018,2,20) or today == date(2018,2,21) or today == date(2018,4,5) or today == date(2018,4,6)\\\n",
    "            or today == date(2018,4,30) or today == date(2018,5,1) or today == date(2018,6,18) or today == date(2018,9,24)\\\n",
    "            or today == date(2018,10,1) or today == date(2018,10,2) or today == date(2018,10,3) or today == date(2018,10,4)\\\n",
    "            or today == date(2018,10,5) or today == date(2018,12,31) or today == date(2019,1,1) or today == date(2019,2,4)\\\n",
    "            or today == date(2019,2,5) or today == date(2019,2,6) or today == date(2019,2,7) or today == date(2019,2,8)\\\n",
    "            or today == date(2019,2,9) or today == date(2019,2,10) or today == date(2019,4,5) or today == date(2019,5,1)\\\n",
    "            or today == date(2019,6,7) or today == date(2019,9,13) or today == date(2019,10,1) or today == date(2019,10,2)\\\n",
    "            or today == date(2019,10,3) or today == date(2019,10,4) or today == date(2019,10,5) or today == date(2019,10,6)\\\n",
    "            or today == date(2019,10,7):\n",
    "            pass\n",
    "        else:\n",
    "            days -= 1\n",
    "    year = str(today.year)\n",
    "    if today.month < 10:\n",
    "        month = '0' + str(today.month)\n",
    "    else:\n",
    "        month = str(today.month)\n",
    "    if today.day < 10:\n",
    "        day = '0' + str(today.day)\n",
    "    else:\n",
    "        day = str(today.day)\n",
    "    return year + month + day\n",
    "def get_n_week_date_after(now_date,days=1):\n",
    "    year = int(now_date[:4])\n",
    "    month = int(now_date[4:6])\n",
    "    day = int(now_date[6:])\n",
    "    today = date(year,month,day)\n",
    "    while(days>0):\n",
    "        today = today + timedelta(days=1)\n",
    "        if today.isoweekday() == 6 or today.isoweekday() == 7:\n",
    "            pass\n",
    "        elif today == date(2018,1,1) or today == date(2018,2,15) or today == date(2018,2,16) or today == date(2018,2,19)\\\n",
    "            or today == date(2018,2,20) or today == date(2018,2,21) or today == date(2018,4,5) or today == date(2018,4,6)\\\n",
    "            or today == date(2018,4,30) or today == date(2018,5,1) or today == date(2018,6,18) or today == date(2018,9,24)\\\n",
    "            or today == date(2018,10,1) or today == date(2018,10,2) or today == date(2018,10,3) or today == date(2018,10,4)\\\n",
    "            or today == date(2018,10,5) or today == date(2018,12,31) or today == date(2019,1,1) or today == date(2019,2,4)\\\n",
    "            or today == date(2019,2,5) or today == date(2019,2,6) or today == date(2019,2,7) or today == date(2019,2,8)\\\n",
    "            or today == date(2019,2,9) or today == date(2019,2,10) or today == date(2019,4,5) or today == date(2019,5,1)\\\n",
    "            or today == date(2019,6,7) or today == date(2019,9,13) or today == date(2019,10,1) or today == date(2019,10,2)\\\n",
    "            or today == date(2019,10,3) or today == date(2019,10,4) or today == date(2019,10,5) or today == date(2019,10,6)\\\n",
    "            or today == date(2019,10,7):\n",
    "            pass\n",
    "        else:\n",
    "            days -= 1\n",
    "    year = str(today.year)\n",
    "    if today.month < 10:\n",
    "        month = '0' + str(today.month)\n",
    "    else:\n",
    "        month = str(today.month)\n",
    "    if today.day < 10:\n",
    "        day = '0' + str(today.day)\n",
    "    else:\n",
    "        day = str(today.day)\n",
    "    return year + month + day"
   ]
  },
  {
   "cell_type": "code",
   "execution_count": 4,
   "metadata": {
    "ExecuteTime": {
     "end_time": "2019-01-22T08:23:40.482208Z",
     "start_time": "2019-01-22T08:23:39.724833Z"
    }
   },
   "outputs": [
    {
     "name": "stdout",
     "output_type": "stream",
     "text": [
      "Welcome to use Wind Quant API for Python (WindPy)!\n",
      "\n",
      "COPYRIGHT (C) 2017 WIND INFORMATION CO., LTD. ALL RIGHTS RESERVED.\n",
      "IN NO CIRCUMSTANCE SHALL WIND BE RESPONSIBLE FOR ANY DAMAGES OR LOSSES CAUSED BY USING WIND QUANT API FOR Python.\n"
     ]
    },
    {
     "data": {
      "text/plain": [
       ".ErrorCode=0\n",
       ".Data=[OK!]"
      ]
     },
     "execution_count": 4,
     "metadata": {},
     "output_type": "execute_result"
    }
   ],
   "source": [
    "from WindPy import *\n",
    "w.start()"
   ]
  },
  {
   "cell_type": "code",
   "execution_count": 5,
   "metadata": {
    "ExecuteTime": {
     "end_time": "2019-01-22T08:23:40.490993Z",
     "start_time": "2019-01-22T08:23:40.485144Z"
    },
    "collapsed": true
   },
   "outputs": [],
   "source": [
    "first_date = '2017-01-02'\n",
    "last_date = '2019-01-22'\n",
    "annualize_factor = 250\n",
    "profitreturn_factor = 0.4"
   ]
  },
  {
   "cell_type": "code",
   "execution_count": 6,
   "metadata": {
    "ExecuteTime": {
     "end_time": "2019-01-22T08:23:40.810602Z",
     "start_time": "2019-01-22T08:23:40.493921Z"
    },
    "collapsed": true
   },
   "outputs": [],
   "source": [
    "Rdata = w.edb(\"M0017138\", first_date, last_date, \"Fill=Previous\")\n",
    "R = pd.DataFrame(Rdata.Data[0], index=Rdata.Times, columns=['R'])['R']\n",
    "R.index = [int(str(i).replace('-', '')) for i in R.index]\n",
    "R.to_csv('Shibor_overnight.csv')"
   ]
  },
  {
   "cell_type": "code",
   "execution_count": 7,
   "metadata": {
    "ExecuteTime": {
     "end_time": "2019-01-22T08:23:41.374727Z",
     "start_time": "2019-01-22T08:23:40.813526Z"
    },
    "collapsed": true
   },
   "outputs": [],
   "source": [
    "data = w.wsd(\"000905.SH\", \"pct_chg\", first_date, last_date, \"PriceAdj=B\")\n",
    "zz500 = pd.DataFrame(data.Data[0], index=data.Times, columns=['zz500'])['zz500']\n",
    "zz500.index = [int(str(i).replace('-', '')) for i in zz500.index]\n",
    "zz500.to_csv('zz500.csv')"
   ]
  },
  {
   "cell_type": "code",
   "execution_count": 8,
   "metadata": {
    "ExecuteTime": {
     "end_time": "2019-01-22T08:23:41.392296Z",
     "start_time": "2019-01-22T08:23:41.377655Z"
    },
    "collapsed": true,
    "scrolled": true
   },
   "outputs": [],
   "source": [
    "R = pd.read_csv('Shibor_overnight.csv',header=None,index_col=0)[1]\n",
    "zz500 = pd.read_csv('zz500.csv', index_col=0, header=None)[1]"
   ]
  },
  {
   "cell_type": "code",
   "execution_count": null,
   "metadata": {
    "collapsed": true
   },
   "outputs": [],
   "source": []
  },
  {
   "cell_type": "code",
   "execution_count": null,
   "metadata": {
    "collapsed": true
   },
   "outputs": [],
   "source": []
  },
  {
   "cell_type": "code",
   "execution_count": null,
   "metadata": {
    "collapsed": true
   },
   "outputs": [],
   "source": []
  },
  {
   "cell_type": "code",
   "execution_count": 9,
   "metadata": {
    "ExecuteTime": {
     "end_time": "2019-01-22T08:23:41.409399Z",
     "start_time": "2019-01-22T08:23:41.395740Z"
    },
    "code_folding": [
     0,
     5,
     7
    ],
    "collapsed": true
   },
   "outputs": [],
   "source": [
    "def get_history_volatility(stock, check_date, window = 20):\n",
    "    sub = full.xs(stock,level = 0)[8]\n",
    "    pct_chg = (sub/sub.shift(1) - 1)\n",
    "    pct_chg = pct_chg[pct_chg.index <= check_date].iloc[-window:]\n",
    "    return pct_chg.std() * np.sqrt(annualize_factor)\n",
    "def get_dividendyield(stock, check_date):\n",
    "    return dividendyield.loc[check_date,stock]/100\n",
    "def get_history_ShiborON(check_date):\n",
    "    return R.loc[check_date]/100"
   ]
  },
  {
   "cell_type": "code",
   "execution_count": 10,
   "metadata": {
    "ExecuteTime": {
     "end_time": "2019-01-22T08:23:41.471863Z",
     "start_time": "2019-01-22T08:23:41.414281Z"
    },
    "code_folding": [
     0
    ],
    "collapsed": true
   },
   "outputs": [],
   "source": [
    "def European_option(type_of_option, S_0, K, sigma, q, r, T, percent = False):\n",
    "    d_1 = (np.log(S_0/K) + (r - q + (sigma ** 2)/2) * T) / (sigma * np.sqrt(T))\n",
    "    d_2 = (np.log(S_0/K) + (r - q - (sigma ** 2)/2) * T) / (sigma * np.sqrt(T))\n",
    "    percent = (S_0 if percent else 1)\n",
    "    if type_of_option == 'call':\n",
    "        price = (S_0 * np.exp( -q * T) * stats.norm.cdf(d_1) - K * np.exp( -r * T) * stats.norm.cdf(d_2))/percent\n",
    "        delta = np.exp( -q * T) * stats.norm.cdf(d_1)\n",
    "        gamma = (stats.norm.pdf(d_1) * np.exp( -q * T)) / (S_0 * sigma * np.sqrt(T))\n",
    "        vega = S_0 * np.sqrt(T) * stats.norm.pdf(d_1) * np.exp( -q * T) /100\n",
    "        theta = ((-S_0 * stats.norm.pdf(d_1) * sigma * np.exp( -q * T)) / (2 * np.sqrt(T)) +\\\n",
    "                     q * S_0 * stats.norm.cdf(d_1) * np.exp( -q * T) - r * K * np.exp( -r * T) * stats.norm.cdf(d_2)) / 365\n",
    "        rho = K * T * np.exp( -r * T) * stats.norm.cdf(d_2) /100\n",
    "    elif type_of_option == 'put':\n",
    "        price = (K * np.exp( -r * T) * stats.norm.cdf( -d_2) - S_0 * np.exp( -q * T) * stats.norm.cdf( -d_1))/percent\n",
    "        delta = np.exp( -q * T) * (stats.norm.cdf(d_1) - 1)\n",
    "        gamma = (stats.norm.pdf(d_1) * np.exp( -q * T)) / (S_0 * sigma * np.sqrt(T))\n",
    "        vega = S_0 * np.sqrt(T) * stats.norm.pdf(d_1) * np.exp( -q * T) /100\n",
    "        theta = ((-S_0 * stats.norm.pdf( -d_1) * sigma * np.exp( -q * T)) / (2 * np.sqrt(T)) -\\\n",
    "                     q * S_0 * stats.norm.cdf( -d_1) * np.exp( -q * T) + r * K * np.exp( -r * T) * stats.norm.cdf( -d_2)) / 365\n",
    "        rho = -K * T * np.exp( -r * T) * stats.norm.cdf( -d_2) /100\n",
    "    result = {'price':price, 'delta':delta, 'gamma':gamma, 'vega':vega, 'theta':theta, 'rho':rho}\n",
    "    return result"
   ]
  },
  {
   "cell_type": "code",
   "execution_count": 11,
   "metadata": {
    "ExecuteTime": {
     "end_time": "2019-01-22T08:23:41.491383Z",
     "start_time": "2019-01-22T08:23:41.473816Z"
    },
    "code_folding": [
     0
    ],
    "collapsed": true
   },
   "outputs": [],
   "source": [
    "def implied_volatility(known_price, type_of_option, S_0, K, q, r, T, percent = False):\n",
    "    ori_low = 0.05\n",
    "    ori_high = 3\n",
    "    while(True):\n",
    "        volatility_cycle = np.linspace(ori_low,ori_high,10)\n",
    "        step = volatility_cycle[1] - volatility_cycle[0]\n",
    "        best_diff = np.inf\n",
    "        for volatility in volatility_cycle:\n",
    "            price_diff = np.abs(European_option(type_of_option, S_0, K, volatility, q, r, T, percent)['price'] - known_price)\n",
    "            if price_diff < best_diff:\n",
    "                best_diff = price_diff\n",
    "                new_low = max(ori_low,volatility - step)\n",
    "                new_high = min(ori_high,volatility + step)\n",
    "            if price_diff < 1e-10:\n",
    "                return {'know_price':known_price,'type_of_option':type_of_option,'implied_volatility':(new_low+new_high)/2}\n",
    "        ori_low = new_low\n",
    "        ori_high = new_high"
   ]
  },
  {
   "cell_type": "code",
   "execution_count": 12,
   "metadata": {
    "ExecuteTime": {
     "end_time": "2019-01-22T08:23:41.517759Z",
     "start_time": "2019-01-22T08:23:41.496266Z"
    },
    "code_folding": [
     0
    ],
    "collapsed": true
   },
   "outputs": [],
   "source": [
    "def implied_drift(known_price, type_of_option, S_0, K, sigma, q, T, percent = False):\n",
    "    ori_low = 0.01\n",
    "    ori_high = 1000\n",
    "    while(True):\n",
    "        r_cycle = np.linspace(ori_low,ori_high,10)\n",
    "        step = r_cycle[1] - r_cycle[0]\n",
    "        best_diff = np.inf\n",
    "        for r in r_cycle:\n",
    "            price_diff = np.abs(European_option(type_of_option, S_0, K, sigma, q, r, T, percent)['price'] - known_price)\n",
    "            if price_diff < best_diff:\n",
    "                best_diff = price_diff\n",
    "                new_low = max(ori_low,r - step)\n",
    "                new_high = min(ori_high,r + step)\n",
    "            if price_diff < 1e-10 or np.isclose((new_low+new_high)/2,(ori_low+ori_high)/2):\n",
    "                return {'know_price':known_price,'type_of_option':type_of_option,'implied_r':(new_low+new_high)/2}\n",
    "        ori_low = new_low\n",
    "        ori_high = new_high"
   ]
  },
  {
   "cell_type": "code",
   "execution_count": 13,
   "metadata": {
    "ExecuteTime": {
     "end_time": "2019-01-22T08:23:41.529449Z",
     "start_time": "2019-01-22T08:23:41.520666Z"
    },
    "collapsed": true
   },
   "outputs": [],
   "source": [
    "pd.set_option('display.max_rows',50)\n",
    "pd.set_option('display.max_columns',None)"
   ]
  },
  {
   "cell_type": "code",
   "execution_count": null,
   "metadata": {
    "collapsed": true
   },
   "outputs": [],
   "source": []
  },
  {
   "cell_type": "code",
   "execution_count": null,
   "metadata": {
    "code_folding": [
     6,
     27,
     30
    ],
    "collapsed": true
   },
   "outputs": [],
   "source": [
    "start_date = 20190122\n",
    "start_date_r = R.xs(start_date)/100\n",
    "ask_price_data_0122 = pd.read_excel('0122报价.xlsx',index_col=0)\n",
    "ask_price_data_0122.index = [int(i[:6]) for i in ask_price_data_0122.index]\n",
    "ask_price_data_0122['open'] = full_nonright.xs(start_date,level = 4).loc[ask_price_data_0122.index][8]\n",
    "ask_price_data_0122['101'] = ask_price_data_0122['open'] * 1.01\n",
    "def process(df,period):\n",
    "    if period not in df.index:\n",
    "        return\n",
    "    known_price = df.xs(period)\n",
    "    S_0 = df.xs('open')\n",
    "    K_101 = df.xs('101')\n",
    "    q = 0\n",
    "    r = start_date_r\n",
    "    if period == '两周':\n",
    "        T = 10/250\n",
    "    elif period == '一个月':\n",
    "        T = 21/250\n",
    "    elif period == '两个月':\n",
    "        T = 42/250\n",
    "    elif period == '三个月':\n",
    "        T = 63/250\n",
    "    try:\n",
    "        return implied_volatility(known_price, 'call', S_0, K_101, q, r, T, True)['implied_volatility']\n",
    "    except:\n",
    "        return\n",
    "ask_price_data_0122['两周隐含波动率'] = ask_price_data_0122.apply(process,args=['两周',],axis=1)\n",
    "def process(df, window):\n",
    "    return get_history_volatility(df.name,start_date,window)\n",
    "ask_price_data_0122['30天真实波动率'] = ask_price_data_0122.apply(process,args=[30,],axis=1)\n",
    "def process(df,period):\n",
    "    if period not in df.index:\n",
    "        return\n",
    "    known_price = df.xs(period)\n",
    "    S_0 = df.xs('open')\n",
    "    K_101 = df.xs('101')\n",
    "    q = 0\n",
    "    sigma = df.xs('30天真实波动率')\n",
    "    if period == '两周':\n",
    "        T = 10/250\n",
    "    elif period == '一个月':\n",
    "        T = 21/250\n",
    "    elif period == '两个月':\n",
    "        T = 42/250\n",
    "    elif period == '三个月':\n",
    "        T = 63/250\n",
    "    try:\n",
    "        return implied_drift(known_price, 'call', S_0, K_101, sigma, q, T, True)['implied_r']\n",
    "    except:\n",
    "        return\n",
    "ask_price_data_0122['两周隐含偏移'] = ask_price_data_0122.apply(process,args=['两周',],axis=1)\n",
    "ask_price_data_0122['两周倍率'] = ask_price_data_0122['两周隐含波动率']/ask_price_data_0122['30天真实波动率']"
   ]
  },
  {
   "cell_type": "code",
   "execution_count": null,
   "metadata": {
    "ExecuteTime": {
     "end_time": "2019-01-22T01:45:24.603207Z",
     "start_time": "2019-01-22T01:42:42.865798Z"
    },
    "code_folding": [
     6,
     27,
     30
    ],
    "collapsed": true
   },
   "outputs": [],
   "source": [
    "start_date = 20190121\n",
    "start_date_r = R.xs(start_date)/100\n",
    "ask_price_data_0121 = pd.read_excel('0121报价.xlsx',index_col=0)\n",
    "ask_price_data_0121.index = [int(i[:6]) for i in ask_price_data_0121.index]\n",
    "ask_price_data_0121['open'] = full_nonright.xs(start_date,level = 4).loc[ask_price_data_0121.index][8]\n",
    "ask_price_data_0121['101'] = ask_price_data_0121['open'] * 1.01\n",
    "def process(df,period):\n",
    "    if period not in df.index:\n",
    "        return\n",
    "    known_price = df.xs(period)\n",
    "    S_0 = df.xs('open')\n",
    "    K_101 = df.xs('101')\n",
    "    q = 0\n",
    "    r = start_date_r\n",
    "    if period == '两周':\n",
    "        T = 10/250\n",
    "    elif period == '一个月':\n",
    "        T = 21/250\n",
    "    elif period == '两个月':\n",
    "        T = 42/250\n",
    "    elif period == '三个月':\n",
    "        T = 63/250\n",
    "    try:\n",
    "        return implied_volatility(known_price, 'call', S_0, K_101, q, r, T, True)['implied_volatility']\n",
    "    except:\n",
    "        return\n",
    "ask_price_data_0121['两周隐含波动率'] = ask_price_data_0121.apply(process,args=['两周',],axis=1)\n",
    "def process(df, window):\n",
    "    return get_history_volatility(df.name,start_date,window)\n",
    "ask_price_data_0121['30天真实波动率'] = ask_price_data_0121.apply(process,args=[30,],axis=1)\n",
    "def process(df,period):\n",
    "    if period not in df.index:\n",
    "        return\n",
    "    known_price = df.xs(period)\n",
    "    S_0 = df.xs('open')\n",
    "    K_101 = df.xs('101')\n",
    "    q = 0\n",
    "    sigma = df.xs('30天真实波动率')\n",
    "    if period == '两周':\n",
    "        T = 10/250\n",
    "    elif period == '一个月':\n",
    "        T = 21/250\n",
    "    elif period == '两个月':\n",
    "        T = 42/250\n",
    "    elif period == '三个月':\n",
    "        T = 63/250\n",
    "    try:\n",
    "        return implied_drift(known_price, 'call', S_0, K_101, sigma, q, T, True)['implied_r']\n",
    "    except:\n",
    "        return\n",
    "ask_price_data_0121['两周隐含偏移'] = ask_price_data_0121.apply(process,args=['两周',],axis=1)\n",
    "ask_price_data_0121['两周倍率'] = ask_price_data_0121['两周隐含波动率']/ask_price_data_0121['30天真实波动率']"
   ]
  },
  {
   "cell_type": "code",
   "execution_count": 58,
   "metadata": {
    "ExecuteTime": {
     "end_time": "2019-01-22T09:16:29.784640Z",
     "start_time": "2019-01-22T09:16:29.062375Z"
    },
    "collapsed": true
   },
   "outputs": [],
   "source": [
    "idx = pd.IndexSlice\n",
    "average_price_0109 = \\\n",
    "full_nonright.loc[idx[:,[20190109,20190110,20190111,20190114,20190115,20190116,20190117,20190118,20190121,20190122]],:].groupby(level=0).sum()[10]/\\\n",
    "full_nonright.loc[idx[:,[20190109,20190110,20190111,20190114,20190115,20190116,20190117,20190118,20190121,20190122]],:].groupby(level=0).sum()[13]\n",
    "average_price_0109_second = \\\n",
    "full_nonright.loc[idx[:,[20190116,20190117,20190118,20190121,20190122]],:].groupby(level=0).sum()[10]/\\\n",
    "full_nonright.loc[idx[:,[20190116,20190117,20190118,20190121,20190122]],:].groupby(level=0).sum()[13]"
   ]
  },
  {
   "cell_type": "code",
   "execution_count": 59,
   "metadata": {
    "ExecuteTime": {
     "end_time": "2019-01-22T09:19:18.862571Z",
     "start_time": "2019-01-22T09:16:29.786573Z"
    },
    "code_folding": [
     10,
     31,
     34
    ],
    "collapsed": true
   },
   "outputs": [],
   "source": [
    "start_date = 20190109\n",
    "start_date_r = R.xs(start_date)/100\n",
    "end_date = 20190122\n",
    "ask_price_data_0109 = pd.read_excel('0109报价.xlsx',index_col=0)\n",
    "ask_price_data_0109.index = [int(i[:6]) for i in ask_price_data_0109.index]\n",
    "ask_price_data_0109['open'] = full_nonright.xs(start_date,level = 4).loc[ask_price_data_0109.index][5]\n",
    "ask_price_data_0109['close'] = full_nonright.xs(end_date,level = 4).loc[ask_price_data_0109.index][8]\n",
    "ask_price_data_0109['ave'] = average_price_0109.loc[ask_price_data_0109.index]\n",
    "ask_price_data_0109['ave_second'] = average_price_0109_second.loc[ask_price_data_0109.index]\n",
    "ask_price_data_0109['101'] = ask_price_data_0109['open'] * 1.01\n",
    "def process(df,period):\n",
    "    if period not in df.index:\n",
    "        return\n",
    "    known_price = df.xs(period)\n",
    "    S_0 = df.xs('open')\n",
    "    K_101 = df.xs('101')\n",
    "    q = 0\n",
    "    r = start_date_r\n",
    "    if period == '两周':\n",
    "        T = 10/250\n",
    "    elif period == '一个月':\n",
    "        T = 21/250\n",
    "    elif period == '两个月':\n",
    "        T = 42/250\n",
    "    elif period == '三个月':\n",
    "        T = 63/250\n",
    "    try:\n",
    "        return implied_volatility(known_price, 'call', S_0, K_101, q, r, T, True)['implied_volatility']\n",
    "    except:\n",
    "        return\n",
    "ask_price_data_0109['两周隐含波动率'] = ask_price_data_0109.apply(process,args=['两周',],axis=1)\n",
    "def process(df, window):\n",
    "    return get_history_volatility(df.name,start_date,window)\n",
    "ask_price_data_0109['30天真实波动率'] = ask_price_data_0109.apply(process,args=[30,],axis=1)\n",
    "def process(df,period):\n",
    "    if period not in df.index:\n",
    "        return\n",
    "    known_price = df.xs(period)\n",
    "    S_0 = df.xs('open')\n",
    "    K_101 = df.xs('101')\n",
    "    q = 0\n",
    "    sigma = df.xs('30天真实波动率')\n",
    "    if period == '两周':\n",
    "        T = 10/250\n",
    "    elif period == '一个月':\n",
    "        T = 21/250\n",
    "    elif period == '两个月':\n",
    "        T = 42/250\n",
    "    elif period == '三个月':\n",
    "        T = 63/250\n",
    "    try:\n",
    "        return implied_drift(known_price, 'call', S_0, K_101, sigma, q, T, True)['implied_r']\n",
    "    except:\n",
    "        return\n",
    "ask_price_data_0109['两周隐含偏移'] = ask_price_data_0109.apply(process,args=['两周',],axis=1)\n",
    "ask_price_data_0109['两周倍率'] = ask_price_data_0109['两周隐含波动率']/ask_price_data_0109['30天真实波动率']"
   ]
  },
  {
   "cell_type": "code",
   "execution_count": 60,
   "metadata": {
    "ExecuteTime": {
     "end_time": "2019-01-22T09:19:18.872332Z",
     "start_time": "2019-01-22T09:19:18.864523Z"
    },
    "collapsed": true
   },
   "outputs": [],
   "source": [
    "ask_price_data_0109['p&l'] = (ask_price_data_0109['close']/ask_price_data_0109['open'] - 1 - ask_price_data_0109['两周']).sort_values()"
   ]
  },
  {
   "cell_type": "code",
   "execution_count": 61,
   "metadata": {
    "ExecuteTime": {
     "end_time": "2019-01-22T09:19:19.532133Z",
     "start_time": "2019-01-22T09:19:18.875280Z"
    },
    "collapsed": true,
    "scrolled": true
   },
   "outputs": [],
   "source": [
    "idx = pd.IndexSlice\n",
    "average_price_1225 = \\\n",
    "full_nonright.loc[idx[:,[20181225,20181226,20181227,20181228,20190102,20190103,20190104,20190107,20190108,20190109]],:].groupby(level=0).sum()[10]/\\\n",
    "full_nonright.loc[idx[:,[20181225,20181226,20181227,20181228,20190102,20190103,20190104,20190107,20190108,20190109]],:].groupby(level=0).sum()[13]\n",
    "average_price_1225_second = \\\n",
    "full_nonright.loc[idx[:,[20190103,20190104,20190107,20190108,20190109]],:].groupby(level=0).sum()[10]/\\\n",
    "full_nonright.loc[idx[:,[20190103,20190104,20190107,20190108,20190109]],:].groupby(level=0).sum()[13]"
   ]
  },
  {
   "cell_type": "code",
   "execution_count": 62,
   "metadata": {
    "ExecuteTime": {
     "end_time": "2019-01-22T09:22:04.968186Z",
     "start_time": "2019-01-22T09:19:19.535035Z"
    },
    "code_folding": [
     10,
     31,
     34
    ],
    "collapsed": true
   },
   "outputs": [],
   "source": [
    "start_date = 20181225\n",
    "start_date_r = R.xs(start_date)/100\n",
    "end_date = 20190109\n",
    "ask_price_data_1225 = pd.read_excel('1225报价.xlsx',index_col=0)\n",
    "ask_price_data_1225.index = [int(i[:6]) for i in ask_price_data_1225.index]\n",
    "ask_price_data_1225['open'] = full_nonright.xs(start_date,level = 4).loc[ask_price_data_1225.index][5]\n",
    "ask_price_data_1225['close'] = full_nonright.xs(end_date,level = 4).loc[ask_price_data_1225.index][8]\n",
    "ask_price_data_1225['ave'] = average_price_1225.loc[ask_price_data_1225.index]\n",
    "ask_price_data_1225['ave_second'] = average_price_1225_second.loc[ask_price_data_1225.index]\n",
    "ask_price_data_1225['101'] = ask_price_data_1225['open'] * 1.01\n",
    "def process(df,period):\n",
    "    if period not in df.index:\n",
    "        return\n",
    "    known_price = df.xs(period)\n",
    "    S_0 = df.xs('open')\n",
    "    K_101 = df.xs('101')\n",
    "    q = 0\n",
    "    r = start_date_r\n",
    "    if period == '两周':\n",
    "        T = 10/250\n",
    "    elif period == '一个月':\n",
    "        T = 21/250\n",
    "    elif period == '两个月':\n",
    "        T = 42/250\n",
    "    elif period == '三个月':\n",
    "        T = 63/250\n",
    "    try:\n",
    "        return implied_volatility(known_price, 'call', S_0, K_101, q, r, T, True)['implied_volatility']\n",
    "    except:\n",
    "        return\n",
    "ask_price_data_1225['两周隐含波动率'] = ask_price_data_1225.apply(process,args=['两周',],axis=1)\n",
    "def process(df, window):\n",
    "    return get_history_volatility(df.name,start_date,window)\n",
    "ask_price_data_1225['30天真实波动率'] = ask_price_data_1225.apply(process,args=[30,],axis=1)\n",
    "def process(df,period):\n",
    "    if period not in df.index:\n",
    "        return\n",
    "    known_price = df.xs(period)\n",
    "    S_0 = df.xs('open')\n",
    "    K_101 = df.xs('101')\n",
    "    q = 0\n",
    "    sigma = df.xs('30天真实波动率')\n",
    "    if period == '两周':\n",
    "        T = 10/250\n",
    "    elif period == '一个月':\n",
    "        T = 21/250\n",
    "    elif period == '两个月':\n",
    "        T = 42/250\n",
    "    elif period == '三个月':\n",
    "        T = 63/250\n",
    "    try:\n",
    "        return implied_drift(known_price, 'call', S_0, K_101, sigma, q, T, True)['implied_r']\n",
    "    except:\n",
    "        return\n",
    "ask_price_data_1225['两周隐含偏移'] = ask_price_data_1225.apply(process,args=['两周',],axis=1)\n",
    "ask_price_data_1225['两周倍率'] = ask_price_data_1225['两周隐含波动率']/ask_price_data_1225['30天真实波动率']"
   ]
  },
  {
   "cell_type": "code",
   "execution_count": 63,
   "metadata": {
    "ExecuteTime": {
     "end_time": "2019-01-22T09:22:04.979915Z",
     "start_time": "2019-01-22T09:22:04.971133Z"
    },
    "collapsed": true,
    "scrolled": true
   },
   "outputs": [],
   "source": [
    "ask_price_data_1225['p&l'] = (ask_price_data_1225['close']/ask_price_data_1225['open'] - 1 - ask_price_data_1225['两周']).sort_values()"
   ]
  },
  {
   "cell_type": "code",
   "execution_count": null,
   "metadata": {
    "collapsed": true
   },
   "outputs": [],
   "source": []
  },
  {
   "cell_type": "code",
   "execution_count": null,
   "metadata": {
    "collapsed": true
   },
   "outputs": [],
   "source": []
  },
  {
   "cell_type": "code",
   "execution_count": 95,
   "metadata": {
    "ExecuteTime": {
     "end_time": "2019-01-22T09:40:11.413067Z",
     "start_time": "2019-01-22T09:40:08.650966Z"
    },
    "collapsed": true
   },
   "outputs": [],
   "source": [
    "Adjusted_Amihud_score = pd.read_csv('Adjusted_Amihud_score.csv',index_col=0)\n",
    "Adjusted_Amihud_score.columns = [int(i) for i in Adjusted_Amihud_score.columns]\n",
    "EL_score = pd.read_csv('EL_score.csv',index_col=0)\n",
    "EL_score.columns = [int(i) for i in EL_score.columns]\n",
    "mkt_cap_ard = pd.read_csv('mkt_cap_ard.csv',index_col=0)\n",
    "mkt_cap_ard.columns = [int(i) for i in mkt_cap_ard.columns]"
   ]
  },
  {
   "cell_type": "code",
   "execution_count": 67,
   "metadata": {
    "ExecuteTime": {
     "end_time": "2019-01-22T09:23:52.317667Z",
     "start_time": "2019-01-22T09:23:52.159527Z"
    },
    "collapsed": true
   },
   "outputs": [],
   "source": [
    "ask_price_data_1225['history_EL'] = EL_score[EL_score.index<20181225].mean()\n",
    "ask_price_data_1225['history_AA'] = Adjusted_Amihud_score[Adjusted_Amihud_score.index<20181225].mean()\n",
    "ask_price_data_0109['history_EL'] = EL_score[EL_score.index<20190109].mean()\n",
    "ask_price_data_0109['history_AA'] = Adjusted_Amihud_score[Adjusted_Amihud_score.index<20190109].mean()"
   ]
  },
  {
   "cell_type": "code",
   "execution_count": 72,
   "metadata": {
    "ExecuteTime": {
     "end_time": "2019-01-22T09:25:39.058242Z",
     "start_time": "2019-01-22T09:25:38.955760Z"
    }
   },
   "outputs": [
    {
     "data": {
      "text/plain": [
       "(0, 0.1)"
      ]
     },
     "execution_count": 72,
     "metadata": {},
     "output_type": "execute_result"
    },
    {
     "data": {
      "image/png": "[encoded data removed]",
      "text/plain": [
       "<matplotlib.figure.Figure at 0x21bac4e1b00>"
      ]
     },
     "metadata": {},
     "output_type": "display_data"
    }
   ],
   "source": [
    "plt.plot(ask_price_data_1225['p&l'],ask_price_data_1225['history_EL'],'.')\n",
    "plt.ylim(0,0.1)"
   ]
  },
  {
   "cell_type": "code",
   "execution_count": 166,
   "metadata": {
    "ExecuteTime": {
     "end_time": "2019-01-22T10:11:55.167020Z",
     "start_time": "2019-01-22T10:11:55.132836Z"
    },
    "collapsed": true
   },
   "outputs": [],
   "source": [
    "data = pd.read_excel('已到期账户0119.xlsx')"
   ]
  },
  {
   "cell_type": "code",
   "execution_count": 167,
   "metadata": {
    "ExecuteTime": {
     "end_time": "2019-01-22T10:11:55.785805Z",
     "start_time": "2019-01-22T10:11:55.331966Z"
    },
    "collapsed": true
   },
   "outputs": [],
   "source": [
    "EL_score_list = []\n",
    "AA_score_list = []\n",
    "EL_score_std_list = []\n",
    "AA_score_std_list = []\n",
    "mkt_cap_ard_list = []\n",
    "for i in data.index:\n",
    "    stock = data.loc[i,'股票代码']\n",
    "    start_date = data.loc[i,'收款日期']\n",
    "    EL_score_list.append(EL_score[stock][EL_score[stock].index<start_date].mean())\n",
    "    AA_score_list.append(Adjusted_Amihud_score[stock][Adjusted_Amihud_score[stock].index<start_date].mean())\n",
    "    EL_score_std_list.append(EL_score[stock][EL_score[stock].index<start_date].std())\n",
    "    AA_score_std_list.append(Adjusted_Amihud_score[stock][Adjusted_Amihud_score[stock].index<start_date].std())\n",
    "    mkt_cap_ard_list.append(mkt_cap_ard[stock][mkt_cap_ard[stock].index<start_date].iloc[-5:].mean())"
   ]
  },
  {
   "cell_type": "code",
   "execution_count": 168,
   "metadata": {
    "ExecuteTime": {
     "end_time": "2019-01-22T10:11:57.890052Z",
     "start_time": "2019-01-22T10:11:57.882227Z"
    },
    "collapsed": true
   },
   "outputs": [],
   "source": [
    "data['EL'] = EL_score_list\n",
    "data['AA'] = AA_score_list\n",
    "data['ELstd'] = EL_score_std_list\n",
    "data['AAstd'] = AA_score_std_list\n",
    "data['MCA'] = mkt_cap_ard_list"
   ]
  },
  {
   "cell_type": "code",
   "execution_count": 169,
   "metadata": {
    "ExecuteTime": {
     "end_time": "2019-01-22T10:12:00.890254Z",
     "start_time": "2019-01-22T10:12:00.832671Z"
    }
   },
   "outputs": [
    {
     "data": {
      "text/plain": [
       "1.9698536491564036"
      ]
     },
     "execution_count": 169,
     "metadata": {},
     "output_type": "execute_result"
    }
   ],
   "source": [
    "data['完成净利润'] = [i if i <=0 else 0.6 * i for i in data['净利润']]\n",
    "data['名义本金'] = data['保证金']/0.15\n",
    "data['持有时间'] = [1+how_many_week_date_between(str(data.xs(i).xs('收款日期')), str(data.xs(i).xs('出金日期'))) for i in data.index]\n",
    "((data['完成净利润']/data['保证金'])/data['持有时间']).mean()*250"
   ]
  },
  {
   "cell_type": "code",
   "execution_count": 163,
   "metadata": {
    "ExecuteTime": {
     "end_time": "2019-01-22T10:02:57.211311Z",
     "start_time": "2019-01-22T10:02:57.206432Z"
    },
    "collapsed": true
   },
   "outputs": [],
   "source": [
    "sub = data[(data['名义本金']<=750000)]"
   ]
  },
  {
   "cell_type": "code",
   "execution_count": 164,
   "metadata": {
    "ExecuteTime": {
     "end_time": "2019-01-22T10:02:57.545110Z",
     "start_time": "2019-01-22T10:02:57.371375Z"
    }
   },
   "outputs": [
    {
     "data": {
      "text/plain": [
       "2.6919737589068986"
      ]
     },
     "execution_count": 164,
     "metadata": {},
     "output_type": "execute_result"
    }
   ],
   "source": [
    "sub['完成净利润'] = [i if i <=0 else 0.6 * i for i in sub['净利润']]\n",
    "sub['持有时间'] = [1+how_many_week_date_between(str(sub.xs(i).xs('收款日期')), str(sub.xs(i).xs('出金日期'))) for i in sub.index]\n",
    "((sub['完成净利润']/sub['保证金'])/sub['持有时间']).mean()*250"
   ]
  },
  {
   "cell_type": "code",
   "execution_count": 165,
   "metadata": {
    "ExecuteTime": {
     "end_time": "2019-01-22T10:02:57.587085Z",
     "start_time": "2019-01-22T10:02:57.580240Z"
    }
   },
   "outputs": [
    {
     "data": {
      "text/plain": [
       "0.8037383177570093"
      ]
     },
     "execution_count": 165,
     "metadata": {},
     "output_type": "execute_result"
    }
   ],
   "source": [
    "len(sub)/len(data)"
   ]
  },
  {
   "cell_type": "code",
   "execution_count": 171,
   "metadata": {
    "ExecuteTime": {
     "end_time": "2019-01-22T10:12:40.326481Z",
     "start_time": "2019-01-22T10:12:40.287437Z"
    },
    "scrolled": true
   },
   "outputs": [
    {
     "data": {
      "text/html": [
       "<div>\n",
       "<style scoped>\n",
       "    .dataframe tbody tr th:only-of-type {\n",
       "        vertical-align: middle;\n",
       "    }\n",
       "\n",
       "    .dataframe tbody tr th {\n",
       "        vertical-align: top;\n",
       "    }\n",
       "\n",
       "    .dataframe thead th {\n",
       "        text-align: right;\n",
       "    }\n",
       "</style>\n",
       "<table border=\"1\" class=\"dataframe\">\n",
       "  <thead>\n",
       "    <tr style=\"text-align: right;\">\n",
       "      <th></th>\n",
       "      <th>股票代码</th>\n",
       "      <th>收款日期</th>\n",
       "      <th>收款金额</th>\n",
       "      <th>付款日期</th>\n",
       "      <th>付款金额</th>\n",
       "      <th>南华虚值</th>\n",
       "      <th>出金日期</th>\n",
       "      <th>兑付金额</th>\n",
       "      <th>净利润</th>\n",
       "      <th>保证金</th>\n",
       "      <th>合计款</th>\n",
       "      <th>EL</th>\n",
       "      <th>AA</th>\n",
       "      <th>ELstd</th>\n",
       "      <th>AAstd</th>\n",
       "      <th>MCA</th>\n",
       "      <th>完成净利润</th>\n",
       "      <th>名义本金</th>\n",
       "      <th>持有时间</th>\n",
       "    </tr>\n",
       "  </thead>\n",
       "  <tbody>\n",
       "    <tr>\n",
       "      <th>股票代码</th>\n",
       "      <td>1.000000</td>\n",
       "      <td>0.135992</td>\n",
       "      <td>-0.010165</td>\n",
       "      <td>0.135992</td>\n",
       "      <td>-0.011673</td>\n",
       "      <td>-0.022695</td>\n",
       "      <td>-0.007461</td>\n",
       "      <td>-0.137360</td>\n",
       "      <td>0.097001</td>\n",
       "      <td>0.150830</td>\n",
       "      <td>0.153213</td>\n",
       "      <td>-0.088143</td>\n",
       "      <td>-0.004447</td>\n",
       "      <td>-0.146512</td>\n",
       "      <td>-0.063073</td>\n",
       "      <td>0.378793</td>\n",
       "      <td>0.121256</td>\n",
       "      <td>0.150830</td>\n",
       "      <td>0.008102</td>\n",
       "    </tr>\n",
       "    <tr>\n",
       "      <th>收款日期</th>\n",
       "      <td>0.135992</td>\n",
       "      <td>1.000000</td>\n",
       "      <td>-0.088630</td>\n",
       "      <td>1.000000</td>\n",
       "      <td>-0.093904</td>\n",
       "      <td>-0.090564</td>\n",
       "      <td>0.343145</td>\n",
       "      <td>0.077063</td>\n",
       "      <td>-0.115999</td>\n",
       "      <td>-0.004445</td>\n",
       "      <td>-0.070616</td>\n",
       "      <td>-0.042459</td>\n",
       "      <td>-0.025844</td>\n",
       "      <td>-0.032299</td>\n",
       "      <td>-0.011238</td>\n",
       "      <td>-0.126636</td>\n",
       "      <td>-0.087394</td>\n",
       "      <td>-0.004445</td>\n",
       "      <td>-0.362082</td>\n",
       "    </tr>\n",
       "    <tr>\n",
       "      <th>收款金额</th>\n",
       "      <td>-0.010165</td>\n",
       "      <td>-0.088630</td>\n",
       "      <td>1.000000</td>\n",
       "      <td>-0.088630</td>\n",
       "      <td>0.999875</td>\n",
       "      <td>0.998523</td>\n",
       "      <td>0.059871</td>\n",
       "      <td>0.009440</td>\n",
       "      <td>0.587656</td>\n",
       "      <td>0.744061</td>\n",
       "      <td>0.819579</td>\n",
       "      <td>-0.029860</td>\n",
       "      <td>-0.078781</td>\n",
       "      <td>-0.023153</td>\n",
       "      <td>-0.062030</td>\n",
       "      <td>-0.103087</td>\n",
       "      <td>0.439534</td>\n",
       "      <td>0.744061</td>\n",
       "      <td>0.203031</td>\n",
       "    </tr>\n",
       "    <tr>\n",
       "      <th>付款日期</th>\n",
       "      <td>0.135992</td>\n",
       "      <td>1.000000</td>\n",
       "      <td>-0.088630</td>\n",
       "      <td>1.000000</td>\n",
       "      <td>-0.093904</td>\n",
       "      <td>-0.090564</td>\n",
       "      <td>0.343145</td>\n",
       "      <td>0.077063</td>\n",
       "      <td>-0.115999</td>\n",
       "      <td>-0.004445</td>\n",
       "      <td>-0.070616</td>\n",
       "      <td>-0.042459</td>\n",
       "      <td>-0.025844</td>\n",
       "      <td>-0.032299</td>\n",
       "      <td>-0.011238</td>\n",
       "      <td>-0.126636</td>\n",
       "      <td>-0.087394</td>\n",
       "      <td>-0.004445</td>\n",
       "      <td>-0.362082</td>\n",
       "    </tr>\n",
       "    <tr>\n",
       "      <th>付款金额</th>\n",
       "      <td>-0.011673</td>\n",
       "      <td>-0.093904</td>\n",
       "      <td>0.999875</td>\n",
       "      <td>-0.093904</td>\n",
       "      <td>1.000000</td>\n",
       "      <td>0.998766</td>\n",
       "      <td>0.046806</td>\n",
       "      <td>0.005050</td>\n",
       "      <td>0.591333</td>\n",
       "      <td>0.739027</td>\n",
       "      <td>0.818505</td>\n",
       "      <td>-0.030202</td>\n",
       "      <td>-0.079247</td>\n",
       "      <td>-0.023476</td>\n",
       "      <td>-0.062887</td>\n",
       "      <td>-0.104052</td>\n",
       "      <td>0.443235</td>\n",
       "      <td>0.739027</td>\n",
       "      <td>0.209057</td>\n",
       "    </tr>\n",
       "    <tr>\n",
       "      <th>南华虚值</th>\n",
       "      <td>-0.022695</td>\n",
       "      <td>-0.090564</td>\n",
       "      <td>0.998523</td>\n",
       "      <td>-0.090564</td>\n",
       "      <td>0.998766</td>\n",
       "      <td>1.000000</td>\n",
       "      <td>0.057460</td>\n",
       "      <td>0.002998</td>\n",
       "      <td>0.593720</td>\n",
       "      <td>0.707051</td>\n",
       "      <td>0.799433</td>\n",
       "      <td>-0.023287</td>\n",
       "      <td>-0.073706</td>\n",
       "      <td>-0.014295</td>\n",
       "      <td>-0.057343</td>\n",
       "      <td>-0.119622</td>\n",
       "      <td>0.445687</td>\n",
       "      <td>0.707051</td>\n",
       "      <td>0.216449</td>\n",
       "    </tr>\n",
       "    <tr>\n",
       "      <th>出金日期</th>\n",
       "      <td>-0.007461</td>\n",
       "      <td>0.343145</td>\n",
       "      <td>0.059871</td>\n",
       "      <td>0.343145</td>\n",
       "      <td>0.046806</td>\n",
       "      <td>0.057460</td>\n",
       "      <td>1.000000</td>\n",
       "      <td>0.235490</td>\n",
       "      <td>-0.155239</td>\n",
       "      <td>0.095367</td>\n",
       "      <td>-0.029656</td>\n",
       "      <td>0.163265</td>\n",
       "      <td>0.144312</td>\n",
       "      <td>0.153876</td>\n",
       "      <td>0.130782</td>\n",
       "      <td>-0.008649</td>\n",
       "      <td>-0.163413</td>\n",
       "      <td>0.095367</td>\n",
       "      <td>-0.308304</td>\n",
       "    </tr>\n",
       "    <tr>\n",
       "      <th>兑付金额</th>\n",
       "      <td>-0.137360</td>\n",
       "      <td>0.077063</td>\n",
       "      <td>0.009440</td>\n",
       "      <td>0.077063</td>\n",
       "      <td>0.005050</td>\n",
       "      <td>0.002998</td>\n",
       "      <td>0.235490</td>\n",
       "      <td>1.000000</td>\n",
       "      <td>-0.802888</td>\n",
       "      <td>0.110094</td>\n",
       "      <td>-0.398612</td>\n",
       "      <td>-0.052380</td>\n",
       "      <td>-0.041715</td>\n",
       "      <td>-0.050087</td>\n",
       "      <td>-0.048602</td>\n",
       "      <td>-0.017024</td>\n",
       "      <td>-0.889615</td>\n",
       "      <td>0.110094</td>\n",
       "      <td>-0.223663</td>\n",
       "    </tr>\n",
       "    <tr>\n",
       "      <th>净利润</th>\n",
       "      <td>0.097001</td>\n",
       "      <td>-0.115999</td>\n",
       "      <td>0.587656</td>\n",
       "      <td>-0.115999</td>\n",
       "      <td>0.591333</td>\n",
       "      <td>0.593720</td>\n",
       "      <td>-0.155239</td>\n",
       "      <td>-0.802888</td>\n",
       "      <td>1.000000</td>\n",
       "      <td>0.332907</td>\n",
       "      <td>0.797321</td>\n",
       "      <td>0.028267</td>\n",
       "      <td>-0.010371</td>\n",
       "      <td>0.031782</td>\n",
       "      <td>0.004925</td>\n",
       "      <td>-0.057612</td>\n",
       "      <td>0.981540</td>\n",
       "      <td>0.332907</td>\n",
       "      <td>0.309008</td>\n",
       "    </tr>\n",
       "    <tr>\n",
       "      <th>保证金</th>\n",
       "      <td>0.150830</td>\n",
       "      <td>-0.004445</td>\n",
       "      <td>0.744061</td>\n",
       "      <td>-0.004445</td>\n",
       "      <td>0.739027</td>\n",
       "      <td>0.707051</td>\n",
       "      <td>0.095367</td>\n",
       "      <td>0.110094</td>\n",
       "      <td>0.332907</td>\n",
       "      <td>1.000000</td>\n",
       "      <td>0.834562</td>\n",
       "      <td>-0.100179</td>\n",
       "      <td>-0.116867</td>\n",
       "      <td>-0.120724</td>\n",
       "      <td>-0.095683</td>\n",
       "      <td>0.104699</td>\n",
       "      <td>0.223018</td>\n",
       "      <td>1.000000</td>\n",
       "      <td>-0.052009</td>\n",
       "    </tr>\n",
       "    <tr>\n",
       "      <th>合计款</th>\n",
       "      <td>0.153213</td>\n",
       "      <td>-0.070616</td>\n",
       "      <td>0.819579</td>\n",
       "      <td>-0.070616</td>\n",
       "      <td>0.818505</td>\n",
       "      <td>0.799433</td>\n",
       "      <td>-0.029656</td>\n",
       "      <td>-0.398612</td>\n",
       "      <td>0.797321</td>\n",
       "      <td>0.834562</td>\n",
       "      <td>1.000000</td>\n",
       "      <td>-0.047606</td>\n",
       "      <td>-0.080862</td>\n",
       "      <td>-0.058703</td>\n",
       "      <td>-0.058366</td>\n",
       "      <td>0.033355</td>\n",
       "      <td>0.716201</td>\n",
       "      <td>0.834562</td>\n",
       "      <td>0.147246</td>\n",
       "    </tr>\n",
       "    <tr>\n",
       "      <th>EL</th>\n",
       "      <td>-0.088143</td>\n",
       "      <td>-0.042459</td>\n",
       "      <td>-0.029860</td>\n",
       "      <td>-0.042459</td>\n",
       "      <td>-0.030202</td>\n",
       "      <td>-0.023287</td>\n",
       "      <td>0.163265</td>\n",
       "      <td>-0.052380</td>\n",
       "      <td>0.028267</td>\n",
       "      <td>-0.100179</td>\n",
       "      <td>-0.047606</td>\n",
       "      <td>1.000000</td>\n",
       "      <td>0.969418</td>\n",
       "      <td>0.935366</td>\n",
       "      <td>0.899537</td>\n",
       "      <td>-0.179807</td>\n",
       "      <td>0.039479</td>\n",
       "      <td>-0.100179</td>\n",
       "      <td>0.029167</td>\n",
       "    </tr>\n",
       "    <tr>\n",
       "      <th>AA</th>\n",
       "      <td>-0.004447</td>\n",
       "      <td>-0.025844</td>\n",
       "      <td>-0.078781</td>\n",
       "      <td>-0.025844</td>\n",
       "      <td>-0.079247</td>\n",
       "      <td>-0.073706</td>\n",
       "      <td>0.144312</td>\n",
       "      <td>-0.041715</td>\n",
       "      <td>-0.010371</td>\n",
       "      <td>-0.116867</td>\n",
       "      <td>-0.080862</td>\n",
       "      <td>0.969418</td>\n",
       "      <td>1.000000</td>\n",
       "      <td>0.899924</td>\n",
       "      <td>0.919948</td>\n",
       "      <td>-0.164750</td>\n",
       "      <td>0.008827</td>\n",
       "      <td>-0.116867</td>\n",
       "      <td>0.029630</td>\n",
       "    </tr>\n",
       "    <tr>\n",
       "      <th>ELstd</th>\n",
       "      <td>-0.146512</td>\n",
       "      <td>-0.032299</td>\n",
       "      <td>-0.023153</td>\n",
       "      <td>-0.032299</td>\n",
       "      <td>-0.023476</td>\n",
       "      <td>-0.014295</td>\n",
       "      <td>0.153876</td>\n",
       "      <td>-0.050087</td>\n",
       "      <td>0.031782</td>\n",
       "      <td>-0.120724</td>\n",
       "      <td>-0.058703</td>\n",
       "      <td>0.935366</td>\n",
       "      <td>0.899924</td>\n",
       "      <td>1.000000</td>\n",
       "      <td>0.944986</td>\n",
       "      <td>-0.229749</td>\n",
       "      <td>0.040968</td>\n",
       "      <td>-0.120724</td>\n",
       "      <td>0.069320</td>\n",
       "    </tr>\n",
       "    <tr>\n",
       "      <th>AAstd</th>\n",
       "      <td>-0.063073</td>\n",
       "      <td>-0.011238</td>\n",
       "      <td>-0.062030</td>\n",
       "      <td>-0.011238</td>\n",
       "      <td>-0.062887</td>\n",
       "      <td>-0.057343</td>\n",
       "      <td>0.130782</td>\n",
       "      <td>-0.048602</td>\n",
       "      <td>0.004925</td>\n",
       "      <td>-0.095683</td>\n",
       "      <td>-0.058366</td>\n",
       "      <td>0.899537</td>\n",
       "      <td>0.919948</td>\n",
       "      <td>0.944986</td>\n",
       "      <td>1.000000</td>\n",
       "      <td>-0.216820</td>\n",
       "      <td>0.021860</td>\n",
       "      <td>-0.095683</td>\n",
       "      <td>0.047451</td>\n",
       "    </tr>\n",
       "    <tr>\n",
       "      <th>MCA</th>\n",
       "      <td>0.378793</td>\n",
       "      <td>-0.126636</td>\n",
       "      <td>-0.103087</td>\n",
       "      <td>-0.126636</td>\n",
       "      <td>-0.104052</td>\n",
       "      <td>-0.119622</td>\n",
       "      <td>-0.008649</td>\n",
       "      <td>-0.017024</td>\n",
       "      <td>-0.057612</td>\n",
       "      <td>0.104699</td>\n",
       "      <td>0.033355</td>\n",
       "      <td>-0.179807</td>\n",
       "      <td>-0.164750</td>\n",
       "      <td>-0.229749</td>\n",
       "      <td>-0.216820</td>\n",
       "      <td>1.000000</td>\n",
       "      <td>-0.028305</td>\n",
       "      <td>0.104699</td>\n",
       "      <td>0.014379</td>\n",
       "    </tr>\n",
       "    <tr>\n",
       "      <th>完成净利润</th>\n",
       "      <td>0.121256</td>\n",
       "      <td>-0.087394</td>\n",
       "      <td>0.439534</td>\n",
       "      <td>-0.087394</td>\n",
       "      <td>0.443235</td>\n",
       "      <td>0.445687</td>\n",
       "      <td>-0.163413</td>\n",
       "      <td>-0.889615</td>\n",
       "      <td>0.981540</td>\n",
       "      <td>0.223018</td>\n",
       "      <td>0.716201</td>\n",
       "      <td>0.039479</td>\n",
       "      <td>0.008827</td>\n",
       "      <td>0.040968</td>\n",
       "      <td>0.021860</td>\n",
       "      <td>-0.028305</td>\n",
       "      <td>1.000000</td>\n",
       "      <td>0.223018</td>\n",
       "      <td>0.290150</td>\n",
       "    </tr>\n",
       "    <tr>\n",
       "      <th>名义本金</th>\n",
       "      <td>0.150830</td>\n",
       "      <td>-0.004445</td>\n",
       "      <td>0.744061</td>\n",
       "      <td>-0.004445</td>\n",
       "      <td>0.739027</td>\n",
       "      <td>0.707051</td>\n",
       "      <td>0.095367</td>\n",
       "      <td>0.110094</td>\n",
       "      <td>0.332907</td>\n",
       "      <td>1.000000</td>\n",
       "      <td>0.834562</td>\n",
       "      <td>-0.100179</td>\n",
       "      <td>-0.116867</td>\n",
       "      <td>-0.120724</td>\n",
       "      <td>-0.095683</td>\n",
       "      <td>0.104699</td>\n",
       "      <td>0.223018</td>\n",
       "      <td>1.000000</td>\n",
       "      <td>-0.052009</td>\n",
       "    </tr>\n",
       "    <tr>\n",
       "      <th>持有时间</th>\n",
       "      <td>0.008102</td>\n",
       "      <td>-0.362082</td>\n",
       "      <td>0.203031</td>\n",
       "      <td>-0.362082</td>\n",
       "      <td>0.209057</td>\n",
       "      <td>0.216449</td>\n",
       "      <td>-0.308304</td>\n",
       "      <td>-0.223663</td>\n",
       "      <td>0.309008</td>\n",
       "      <td>-0.052009</td>\n",
       "      <td>0.147246</td>\n",
       "      <td>0.029167</td>\n",
       "      <td>0.029630</td>\n",
       "      <td>0.069320</td>\n",
       "      <td>0.047451</td>\n",
       "      <td>0.014379</td>\n",
       "      <td>0.290150</td>\n",
       "      <td>-0.052009</td>\n",
       "      <td>1.000000</td>\n",
       "    </tr>\n",
       "  </tbody>\n",
       "</table>\n",
       "</div>"
      ],
      "text/plain": [
       "           股票代码      收款日期      收款金额      付款日期      付款金额      南华虚值      出金日期  \\\n",
       "股票代码   1.000000  0.135992 -0.010165  0.135992 -0.011673 -0.022695 -0.007461   \n",
       "收款日期   0.135992  1.000000 -0.088630  1.000000 -0.093904 -0.090564  0.343145   \n",
       "收款金额  -0.010165 -0.088630  1.000000 -0.088630  0.999875  0.998523  0.059871   \n",
       "付款日期   0.135992  1.000000 -0.088630  1.000000 -0.093904 -0.090564  0.343145   \n",
       "付款金额  -0.011673 -0.093904  0.999875 -0.093904  1.000000  0.998766  0.046806   \n",
       "南华虚值  -0.022695 -0.090564  0.998523 -0.090564  0.998766  1.000000  0.057460   \n",
       "出金日期  -0.007461  0.343145  0.059871  0.343145  0.046806  0.057460  1.000000   \n",
       "兑付金额  -0.137360  0.077063  0.009440  0.077063  0.005050  0.002998  0.235490   \n",
       "净利润    0.097001 -0.115999  0.587656 -0.115999  0.591333  0.593720 -0.155239   \n",
       "保证金    0.150830 -0.004445  0.744061 -0.004445  0.739027  0.707051  0.095367   \n",
       "合计款    0.153213 -0.070616  0.819579 -0.070616  0.818505  0.799433 -0.029656   \n",
       "EL    -0.088143 -0.042459 -0.029860 -0.042459 -0.030202 -0.023287  0.163265   \n",
       "AA    -0.004447 -0.025844 -0.078781 -0.025844 -0.079247 -0.073706  0.144312   \n",
       "ELstd -0.146512 -0.032299 -0.023153 -0.032299 -0.023476 -0.014295  0.153876   \n",
       "AAstd -0.063073 -0.011238 -0.062030 -0.011238 -0.062887 -0.057343  0.130782   \n",
       "MCA    0.378793 -0.126636 -0.103087 -0.126636 -0.104052 -0.119622 -0.008649   \n",
       "完成净利润  0.121256 -0.087394  0.439534 -0.087394  0.443235  0.445687 -0.163413   \n",
       "名义本金   0.150830 -0.004445  0.744061 -0.004445  0.739027  0.707051  0.095367   \n",
       "持有时间   0.008102 -0.362082  0.203031 -0.362082  0.209057  0.216449 -0.308304   \n",
       "\n",
       "           兑付金额       净利润       保证金       合计款        EL        AA     ELstd  \\\n",
       "股票代码  -0.137360  0.097001  0.150830  0.153213 -0.088143 -0.004447 -0.146512   \n",
       "收款日期   0.077063 -0.115999 -0.004445 -0.070616 -0.042459 -0.025844 -0.032299   \n",
       "收款金额   0.009440  0.587656  0.744061  0.819579 -0.029860 -0.078781 -0.023153   \n",
       "付款日期   0.077063 -0.115999 -0.004445 -0.070616 -0.042459 -0.025844 -0.032299   \n",
       "付款金额   0.005050  0.591333  0.739027  0.818505 -0.030202 -0.079247 -0.023476   \n",
       "南华虚值   0.002998  0.593720  0.707051  0.799433 -0.023287 -0.073706 -0.014295   \n",
       "出金日期   0.235490 -0.155239  0.095367 -0.029656  0.163265  0.144312  0.153876   \n",
       "兑付金额   1.000000 -0.802888  0.110094 -0.398612 -0.052380 -0.041715 -0.050087   \n",
       "净利润   -0.802888  1.000000  0.332907  0.797321  0.028267 -0.010371  0.031782   \n",
       "保证金    0.110094  0.332907  1.000000  0.834562 -0.100179 -0.116867 -0.120724   \n",
       "合计款   -0.398612  0.797321  0.834562  1.000000 -0.047606 -0.080862 -0.058703   \n",
       "EL    -0.052380  0.028267 -0.100179 -0.047606  1.000000  0.969418  0.935366   \n",
       "AA    -0.041715 -0.010371 -0.116867 -0.080862  0.969418  1.000000  0.899924   \n",
       "ELstd -0.050087  0.031782 -0.120724 -0.058703  0.935366  0.899924  1.000000   \n",
       "AAstd -0.048602  0.004925 -0.095683 -0.058366  0.899537  0.919948  0.944986   \n",
       "MCA   -0.017024 -0.057612  0.104699  0.033355 -0.179807 -0.164750 -0.229749   \n",
       "完成净利润 -0.889615  0.981540  0.223018  0.716201  0.039479  0.008827  0.040968   \n",
       "名义本金   0.110094  0.332907  1.000000  0.834562 -0.100179 -0.116867 -0.120724   \n",
       "持有时间  -0.223663  0.309008 -0.052009  0.147246  0.029167  0.029630  0.069320   \n",
       "\n",
       "          AAstd       MCA     完成净利润      名义本金      持有时间  \n",
       "股票代码  -0.063073  0.378793  0.121256  0.150830  0.008102  \n",
       "收款日期  -0.011238 -0.126636 -0.087394 -0.004445 -0.362082  \n",
       "收款金额  -0.062030 -0.103087  0.439534  0.744061  0.203031  \n",
       "付款日期  -0.011238 -0.126636 -0.087394 -0.004445 -0.362082  \n",
       "付款金额  -0.062887 -0.104052  0.443235  0.739027  0.209057  \n",
       "南华虚值  -0.057343 -0.119622  0.445687  0.707051  0.216449  \n",
       "出金日期   0.130782 -0.008649 -0.163413  0.095367 -0.308304  \n",
       "兑付金额  -0.048602 -0.017024 -0.889615  0.110094 -0.223663  \n",
       "净利润    0.004925 -0.057612  0.981540  0.332907  0.309008  \n",
       "保证金   -0.095683  0.104699  0.223018  1.000000 -0.052009  \n",
       "合计款   -0.058366  0.033355  0.716201  0.834562  0.147246  \n",
       "EL     0.899537 -0.179807  0.039479 -0.100179  0.029167  \n",
       "AA     0.919948 -0.164750  0.008827 -0.116867  0.029630  \n",
       "ELstd  0.944986 -0.229749  0.040968 -0.120724  0.069320  \n",
       "AAstd  1.000000 -0.216820  0.021860 -0.095683  0.047451  \n",
       "MCA   -0.216820  1.000000 -0.028305  0.104699  0.014379  \n",
       "完成净利润  0.021860 -0.028305  1.000000  0.223018  0.290150  \n",
       "名义本金  -0.095683  0.104699  0.223018  1.000000 -0.052009  \n",
       "持有时间   0.047451  0.014379  0.290150 -0.052009  1.000000  "
      ]
     },
     "execution_count": 171,
     "metadata": {},
     "output_type": "execute_result"
    }
   ],
   "source": [
    "data.corr()"
   ]
  },
  {
   "cell_type": "code",
   "execution_count": 155,
   "metadata": {
    "ExecuteTime": {
     "end_time": "2019-01-22T09:53:20.146376Z",
     "start_time": "2019-01-22T09:53:20.141500Z"
    }
   },
   "outputs": [
    {
     "data": {
      "text/plain": [
       "20000000000.0"
      ]
     },
     "execution_count": 155,
     "metadata": {},
     "output_type": "execute_result"
    }
   ],
   "source": [
    "2e10"
   ]
  },
  {
   "cell_type": "code",
   "execution_count": null,
   "metadata": {
    "collapsed": true
   },
   "outputs": [],
   "source": []
  }
 ],
 "metadata": {
  "kernelspec": {
   "display_name": "Python 3",
   "language": "python",
   "name": "python3"
  },
  "language_info": {
   "codemirror_mode": {
    "name": "ipython",
    "version": 3
   },
   "file_extension": ".py",
   "mimetype": "text/x-python",
   "name": "python",
   "nbconvert_exporter": "python",
   "pygments_lexer": "ipython3",
   "version": "3.6.4"
  }
 },
 "nbformat": 4,
 "nbformat_minor": 2
}
