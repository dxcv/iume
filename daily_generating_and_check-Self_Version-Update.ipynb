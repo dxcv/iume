{
 "cells": [
  {
   "cell_type": "code",
   "execution_count": null,
   "metadata": {
    "ExecuteTime": {
     "end_time": "2019-08-23T01:00:07.336532Z",
     "start_time": "2019-08-23T01:00:07.313594Z"
    },
    "collapsed": true
   },
   "outputs": [],
   "source": [
    "out = True"
   ]
  },
  {
   "cell_type": "code",
   "execution_count": null,
   "metadata": {
    "ExecuteTime": {
     "end_time": "2019-08-23T01:02:49.696346Z",
     "start_time": "2019-08-23T01:02:49.683352Z"
    },
    "code_folding": [],
    "collapsed": true
   },
   "outputs": [],
   "source": [
    "special_treat = ['HQHZ8','HQYH7','HQHT6','HQYH6','HQHF7','HQHF4','HQYH1','HQYH2','HQLX1','HQGX3','HQYH11','HQHT11','HQHZ13','HQYH16',\\\n",
    "                 'HQHZ12','HQCT4','HQHT13','HQPA2','HQYH25','HQYH23','HQZX3','HQCC3','HQZT1','HQGJ1','HQHT16','HQGS2','HQYH27',\\\n",
    "                 'HQHT20','HQHT19',]\n",
    "new_treat = []\n",
    "new_treat_model = []"
   ]
  },
  {
   "cell_type": "code",
   "execution_count": null,
   "metadata": {
    "ExecuteTime": {
     "end_time": "2019-08-23T01:00:07.777371Z",
     "start_time": "2019-08-23T01:00:07.771368Z"
    },
    "collapsed": true
   },
   "outputs": [],
   "source": [
    "use_excel = 1"
   ]
  },
  {
   "cell_type": "code",
   "execution_count": null,
   "metadata": {
    "ExecuteTime": {
     "end_time": "2019-08-23T01:00:09.455862Z",
     "start_time": "2019-08-23T01:00:08.022697Z"
    },
    "code_folding": [
     0
    ],
    "collapsed": true
   },
   "outputs": [],
   "source": [
    "#import\n",
    "import warnings\n",
    "warnings.filterwarnings(\"ignore\")\n",
    "%matplotlib inline\n",
    "import matplotlib.pyplot as plt\n",
    "import datetime\n",
    "import pandas as pd\n",
    "import numpy as np\n",
    "import pymysql\n",
    "import operator\n",
    "import os\n",
    "from scipy import stats\n",
    "from statsmodels.regression.linear_model import OLS\n",
    "from datetime import *\n",
    "import scipy.io as sio\n",
    "import h5py\n",
    "import copy\n",
    "import shutil\n",
    "import rarfile\n",
    "from general_function import *\n",
    "import scipy.stats as scs\n",
    "from matplotlib_venn import venn3\n",
    "from matplotlib_venn import venn2\n",
    "import seaborn as sns\n",
    "import matplotlib.pyplot as plt\n",
    "import matplotlib.gridspec as gridspec\n",
    "from matplotlib.font_manager import FontProperties\n",
    "plt.rcParams['font.sans-serif'] = ['SimHei']  #用来正常显示中文标签\n",
    "plt.rcParams['axes.unicode_minus'] = False  #用来正常显示负号\n",
    "sns.set(style=\"whitegrid\")\n",
    "myfont = FontProperties(fname=r'C:\\Windows\\Fonts\\simhei.ttf', size=10)\n",
    "sns.set(\n",
    "    font=myfont.get_name(),\n",
    "    style=\"whitegrid\",\n",
    "    palette=\"muted\",\n",
    "    color_codes=True)"
   ]
  },
  {
   "cell_type": "code",
   "execution_count": null,
   "metadata": {
    "ExecuteTime": {
     "end_time": "2019-08-23T01:00:09.484784Z",
     "start_time": "2019-08-23T01:00:09.465835Z"
    },
    "code_folding": [
     0
    ],
    "collapsed": true
   },
   "outputs": [],
   "source": [
    "#today\n",
    "today = datetime.today()\n",
    "year = str(today.year)\n",
    "month = today.month\n",
    "if month < 10:\n",
    "    month = '0' + str(month)\n",
    "else:\n",
    "    month = str(month)\n",
    "day = today.day\n",
    "if day < 10:\n",
    "    day = '0' + str(day)\n",
    "else:\n",
    "    day = str(day)    \n",
    "today_nodot = year + month + day\n",
    "today = year + '.' + month + '.' + day\n",
    "today_for_mat = today[-5:]\n",
    "int_today = int(today.replace('.',''))\n",
    "int_yesterday = int(get_n_week_date_before(today_nodot))"
   ]
  },
  {
   "cell_type": "code",
   "execution_count": null,
   "metadata": {
    "ExecuteTime": {
     "end_time": "2019-08-23T01:00:09.505728Z",
     "start_time": "2019-08-23T01:00:09.492764Z"
    },
    "scrolled": true
   },
   "outputs": [],
   "source": [
    "today,today_for_mat,int_today,today_nodot,int_yesterday"
   ]
  },
  {
   "cell_type": "markdown",
   "metadata": {
    "ExecuteTime": {
     "end_time": "2019-08-08T07:59:36.213172Z",
     "start_time": "2019-08-08T07:59:36.207188Z"
    },
    "collapsed": true
   },
   "source": [
    "today = '2019.08.07'\n",
    "today_for_mat = '08.07'\n",
    "int_today = 20190807\n",
    "today_nodot = '20190807'\n",
    "int_yesterday = 20190806"
   ]
  },
  {
   "cell_type": "code",
   "execution_count": null,
   "metadata": {
    "ExecuteTime": {
     "end_time": "2019-08-23T01:00:09.543664Z",
     "start_time": "2019-08-23T01:00:09.509717Z"
    },
    "code_folding": [
     0
    ],
    "collapsed": true,
    "scrolled": true
   },
   "outputs": [],
   "source": [
    "if not use_excel:\n",
    "    print('in track')\n",
    "    os.chdir(r'C:/Users/bj/Documents/WeChat Files/C10623912/FileStorage/File/2019-'+today.split('.')[1]+'/')\n",
    "    for mat_rar_file in ['A~D mat ','G mat ','E，F mat文件 ','H mat ','I mat ','J mat ','k mat ']:\n",
    "        mat_rar_file = mat_rar_file + '('+today_for_mat+').rar'\n",
    "        f = rarfile.RarFile(mat_rar_file)\n",
    "        f.extractall('C:/Users/bj/Documents/WeChat Files/C10623912/FileStorage/File/2019-'+today.split('.')[1]+'/')\n",
    "    os.chdir('原始mat文件/')\n",
    "    for file in [file for file in os.listdir()]:\n",
    "        #print(file)\n",
    "        shutil.copy2(file, r'F:/金湖回测系统/6日循环/要测文件/')\n",
    "    os.chdir(r'C:/Users/bj/Documents/WeChat Files/C10623912/FileStorage/File/2019-'+today.split('.')[1]+'/')\n",
    "    del_file('原始mat文件')\n",
    "    os.rmdir('原始mat文件')"
   ]
  },
  {
   "cell_type": "code",
   "execution_count": null,
   "metadata": {
    "ExecuteTime": {
     "end_time": "2019-08-23T01:00:18.122685Z",
     "start_time": "2019-08-23T01:00:09.555598Z"
    },
    "code_folding": [
     0
    ],
    "collapsed": true
   },
   "outputs": [],
   "source": [
    "#FULL CONT 读取mat文件里的选股记录\n",
    "os.chdir(r'F:\\金湖回测系统\\6日循环\\要测文件')\n",
    "filenames = listdir(file_type='.mat')\n",
    "filenames_ = [[i.split('.\\\\')[-1].split('_')[0],i[5:9],0] if '万' not in i else \\\n",
    "              [i.split('.\\\\')[-1].split('_')[0],i[5:9],i.split('万')[0][-4:]] for i in filenames]\n",
    "def process(df):\n",
    "    return df.index.tolist()\n",
    "by_model = pd.DataFrame(filenames_).groupby([0,2]).apply(process)\n",
    "full_cont = {}\n",
    "version_num = {}\n",
    "for (model,limit) in by_model.index:\n",
    "    if model in ['A2','A3','B4','C3','E2','F1']:\n",
    "        model_list = by_model.loc[(model,limit)]\n",
    "        filenames_model = []\n",
    "        for i in model_list:\n",
    "            filenames_model.append(filenames[i])\n",
    "        already_date = []\n",
    "        already_rank = []\n",
    "        for name in sorted(filenames_model)[::-1]:\n",
    "            os.chdir(r'F:\\金湖回测系统\\6日循环\\要测文件')\n",
    "            try:\n",
    "                file = sio.loadmat(name)\n",
    "                date_in_this_file = [i[0][0] for i in file['table'][1]]\n",
    "                if name == sorted(filenames_model)[0] or date_in_this_file[0] >= 737392:\n",
    "                    new = [i for i in date_in_this_file if i not in already_date][::-1]\n",
    "                    new_index = [index for index,value in enumerate(date_in_this_file) if value not in already_date][::-1]\n",
    "                else:\n",
    "                    new = [i for i in date_in_this_file if i not in already_date][::-1][:-1]\n",
    "                    new_index = [index for index,value in enumerate(date_in_this_file) if value not in already_date][::-1][:-1]\n",
    "                old_length = len(already_date)\n",
    "                already_date += new\n",
    "                new_length = len(already_date)\n",
    "                for i in new_index:\n",
    "                    already_rank.append([j[0] for j in file['table'][0][i]])\n",
    "            except:\n",
    "                pass\n",
    "        cont = pd.concat([pd.Series(already_date),pd.Series(already_rank)],axis=1).sort_values(0).reset_index(drop=True)\n",
    "        cont = cont.set_index(0)[1]\n",
    "        cont.index = [int(str(date.fromordinal(int(cci)-366)).replace('-','')) for cci in cont.index]\n",
    "        version_num[model] = sorted(filenames_model)[-1].split('_')[1]\n",
    "        full_cont[model] = cont\n",
    "    elif model in ['I1']:\n",
    "        model_list = by_model.loc[(model,limit)]\n",
    "        filenames_model = []\n",
    "        for i in model_list:\n",
    "            filenames_model.append(filenames[i])\n",
    "        already_date = []\n",
    "        already_rank = []\n",
    "        for name in sorted(filenames_model):\n",
    "            os.chdir(r'F:\\金湖回测系统\\6日循环\\要测文件')\n",
    "            file = sio.loadmat(name)\n",
    "            date_in_this_file = [i[0][0] for i in file['table'][1]]\n",
    "            new = [i for i in date_in_this_file if i not in already_date][::-1]\n",
    "            new_index = [index for index,value in enumerate(date_in_this_file) if value not in already_date][::-1]\n",
    "            old_length = len(already_date)\n",
    "            already_date += new\n",
    "            new_length = len(already_date)\n",
    "            for i in new_index:\n",
    "                already_rank.append([j[0] for j in file['table'][0][i]])\n",
    "        cont = pd.concat([pd.Series(already_date),pd.Series(already_rank)],axis=1).sort_values(0).reset_index(drop=True)\n",
    "        cont = cont.set_index(0)[1]\n",
    "        cont.index = [int(str(date.fromordinal(int(cci)-366)).replace('-','')) for cci in cont.index]\n",
    "        version_num[model] = sorted(filenames_model)[-1].split('_')[1]\n",
    "        full_cont[model] = cont\n",
    "        \n",
    "        model_list = by_model.loc[(model,limit)]\n",
    "        filenames_model = []\n",
    "        for i in model_list:\n",
    "            filenames_model.append(filenames[i])\n",
    "        already_date = []\n",
    "        already_rank = []\n",
    "        for name in sorted(filenames_model)[::-1]:\n",
    "            os.chdir(r'F:\\金湖回测系统\\6日循环\\要测文件')\n",
    "            try:\n",
    "                file = sio.loadmat(name)\n",
    "                date_in_this_file = [i[0][0] for i in file['table'][1]]\n",
    "                new = [i for i in date_in_this_file if i not in already_date][::-1]\n",
    "                new_index = [index for index,value in enumerate(date_in_this_file) if value not in already_date][::-1]\n",
    "                old_length = len(already_date)\n",
    "                already_date += new\n",
    "                new_length = len(already_date)\n",
    "                for i in new_index:\n",
    "                    already_rank.append([j[0] for j in file['table'][0][i]])\n",
    "            except:\n",
    "                pass\n",
    "        cont = pd.concat([pd.Series(already_date),pd.Series(already_rank)],axis=1).sort_values(0).reset_index(drop=True)\n",
    "        cont = cont.set_index(0)[1]\n",
    "        cont.index = [int(str(date.fromordinal(int(cci)-366)).replace('-','')) for cci in cont.index]\n",
    "        version_num[model+'new'] = sorted(filenames_model)[-1].split('_')[1]\n",
    "        full_cont[model+'new'] = cont\n",
    "    else:\n",
    "        model_list = by_model.loc[(model,limit)]\n",
    "        filenames_model = []\n",
    "        for i in model_list:\n",
    "            filenames_model.append(filenames[i])\n",
    "        already_date = []\n",
    "        already_rank = []\n",
    "        for name in sorted(filenames_model)[::-1]:\n",
    "            os.chdir(r'F:\\金湖回测系统\\6日循环\\要测文件')\n",
    "            try:\n",
    "                file = sio.loadmat(name)\n",
    "                date_in_this_file = [i[0][0] for i in file['table'][1]]\n",
    "                new = [i for i in date_in_this_file if i not in already_date][::-1]\n",
    "                new_index = [index for index,value in enumerate(date_in_this_file) if value not in already_date][::-1]\n",
    "                old_length = len(already_date)\n",
    "                already_date += new\n",
    "                new_length = len(already_date)\n",
    "                for i in new_index:\n",
    "                    already_rank.append([j[0] for j in file['table'][0][i]])\n",
    "            except:\n",
    "                pass\n",
    "        cont = pd.concat([pd.Series(already_date),pd.Series(already_rank)],axis=1).sort_values(0).reset_index(drop=True)\n",
    "        cont = cont.set_index(0)[1]\n",
    "        cont.index = [int(str(date.fromordinal(int(cci)-366)).replace('-','')) for cci in cont.index]\n",
    "        version_num[model] = sorted(filenames_model)[-1].split('_')[1]\n",
    "        full_cont[model] = cont"
   ]
  },
  {
   "cell_type": "code",
   "execution_count": null,
   "metadata": {
    "ExecuteTime": {
     "end_time": "2019-08-23T01:00:18.148615Z",
     "start_time": "2019-08-23T01:00:18.135651Z"
    },
    "collapsed": true,
    "scrolled": true
   },
   "outputs": [],
   "source": [
    "#J2 有一个文件有重复日期，给删了\n",
    "full_cont['J2'] = full_cont['J2'].reset_index().drop_duplicates(subset = ['index']).set_index('index')[1]"
   ]
  },
  {
   "cell_type": "code",
   "execution_count": null,
   "metadata": {
    "ExecuteTime": {
     "end_time": "2019-08-23T01:00:18.290238Z",
     "start_time": "2019-08-23T01:00:18.161582Z"
    },
    "code_folding": [],
    "scrolled": true
   },
   "outputs": [],
   "source": [
    "if use_excel:\n",
    "    print('in track')\n",
    "    os.chdir(r'C:/Users/bj/Desktop/刘泽丹/Code/')\n",
    "    full_cont['A3'].loc[int_today] = pd.read_csv('prospect_A3.csv',header = None).iloc[:,-1].tolist()\n",
    "    full_cont['C2'].loc[int_today] = pd.read_csv('prospect_C2.csv',header = None).iloc[:,-1].tolist()\n",
    "    full_cont['C4'].loc[int_today] = pd.read_csv('prospect_C4.csv',header = None).iloc[:,-1].tolist()\n",
    "    full_cont['B3'].loc[int_today] = pd.read_csv('prospect_B3.csv',header = None).iloc[:,-1].tolist()\n",
    "    full_cont['B4'].loc[int_today] = pd.read_csv('prospect_B4.csv',header = None).iloc[:,-1].tolist()\n",
    "    full_cont['I4'].loc[int_today] = pd.read_csv('prospect_I4.csv',header = None).iloc[:,-1].tolist()\n",
    "    full_cont['I5'].loc[int_today] = pd.read_csv('prospect_I5.csv',header = None).iloc[:,-1].tolist()\n",
    "    full_cont['J2'].loc[int_today] = pd.read_csv('prospect_J2.csv',header = None).iloc[:,-1].tolist()"
   ]
  },
  {
   "cell_type": "code",
   "execution_count": null,
   "metadata": {
    "ExecuteTime": {
     "end_time": "2019-08-23T01:00:37.248528Z",
     "start_time": "2019-08-23T01:00:18.298230Z"
    },
    "code_folding": [
     0
    ],
    "collapsed": true
   },
   "outputs": [],
   "source": [
    "#data\n",
    "os.chdir(r'C:/Users/bj/Desktop/刘泽丹/Code/')\n",
    "industry_full = pd.read_excel('sw_industry_full.xlsx',index_col = 0)\n",
    "industry = industry_full.loc[[int_yesterday]] if int_yesterday in industry_full.index.tolist() else industry_full.loc[[20190211]]\n",
    "industry_ind = industry.T\n",
    "industry_ind.columns = ['ind']\n",
    "STcode_by_date = pd.read_csv('STcode_by_date_for_generator.csv',index_col=0)\n",
    "mkt_cap_ard = pd.read_csv('mkt_cap_ard.csv',index_col=0)\n",
    "mkt_cap_ard.columns = [int(i) for i in mkt_cap_ard.columns]\n",
    "mkt_cap_ard.fillna(method='ffill',inplace=True)\n",
    "amt = pd.read_csv('amt.csv',index_col=0)\n",
    "amt.columns = [int(i) for i in amt.columns]\n",
    "close = pd.read_csv('close.csv',index_col=0)\n",
    "close.columns = [int(i) for i in close.columns]\n",
    "code_to_name = pd.read_csv('code_to_name.csv',index_col=0,encoding='gbk')['SEC_NAME']\n",
    "code_to_name.index = [int(i[:6]) for i in code_to_name.index]\n",
    "hs300members = pd.read_csv('hs300members.csv',index_col=0).T\n",
    "hs300members.index = [int(i) for i in hs300members.index]\n",
    "adjfactor = pd.read_csv('adjfactor.csv',index_col=0)\n",
    "adjfactor.columns = [int(i) for i in adjfactor.columns]\n",
    "free_float_shares = pd.read_csv('free_float_shares.csv',index_col=0)\n",
    "free_float_shares.columns = [int(i) for i in free_float_shares.columns]\n",
    "adjusted_weight_coef = free_float_shares * close\n",
    "total_shares = pd.read_csv('total_shares.csv',index_col=0)\n",
    "total_shares.columns = [int(i) for i in total_shares.columns]\n",
    "prest_kick = pd.read_csv('prest_kick.csv',index_col = 0)\n",
    "prest_kick.columns = [int(i) for i in prest_kick.columns]"
   ]
  },
  {
   "cell_type": "code",
   "execution_count": null,
   "metadata": {
    "ExecuteTime": {
     "end_time": "2019-08-23T01:00:39.684010Z",
     "start_time": "2019-08-23T01:00:37.261491Z"
    },
    "code_folding": [
     0
    ],
    "collapsed": true
   },
   "outputs": [],
   "source": [
    "#rongzirongquan\n",
    "os.chdir(r'C:\\Users\\bj\\Desktop\\刘泽丹\\Code')\n",
    "huafu = pd.read_excel('华福证券'+today_nodot+'.xlsx')\n",
    "yinhe = pd.read_excel('银河证券'+today_nodot+'.xlsx')\n",
    "haitong = pd.read_excel('海通证券'+today_nodot+'.xlsx')\n",
    "lianxun = pd.read_excel('联讯证券'+today_nodot+'.xlsx')\n",
    "guoxin = pd.read_excel('国信证券'+today_nodot+'.xlsx')\n",
    "guoxin['折算率'] = 0.6\n",
    "huatai = pd.read_excel('华泰证券'+today_nodot+'.xlsx')\n",
    "pingan = pd.read_excel('平安证券'+today_nodot+'.xlsx')\n",
    "guosheng = pd.read_excel('国盛证券'+today_nodot+'.xlsx')\n",
    "caitong = pd.read_excel('财通证券'+today_nodot+'.xlsx')\n",
    "caitong['折算率'] = 0.6\n",
    "zhongxin = pd.read_excel('中信证券'+today_nodot+'.xlsx')\n",
    "changcheng = pd.read_excel('长城证券'+today_nodot+'.xlsx')\n",
    "data = pd.read_csv('tsdata_'+str(int_yesterday)+'.csv',encoding='gbk')\n",
    "all_stocks = [int(i[-6:]) for i in data['代码']]\n",
    "subyinhe = yinhe.set_index('证券代码')['折算率']\n",
    "subyinhe.name = '银河'\n",
    "subyinhe = subyinhe[subyinhe.index.isin(all_stocks)].index.tolist()\n",
    "subhuafu = huafu.set_index('证券代码')['折算率']\n",
    "subhuafu.name = '华福'\n",
    "subhuafu = subhuafu[subhuafu.index.isin(all_stocks)].index.tolist()\n",
    "subhaitong = haitong.set_index('证券代码')['本期折算率']\n",
    "subhaitong.name = '海通'\n",
    "subhaitong = subhaitong[subhaitong.index.isin(all_stocks)].index.tolist() + [755]\n",
    "sublianxun = lianxun.set_index('股票代码')['折算率']\n",
    "sublianxun.name = '联讯'\n",
    "sublianxun = sublianxun[sublianxun.index.isin(all_stocks)].index.tolist()\n",
    "subguoxin = guoxin.set_index('证券代码')['折算率']\n",
    "subguoxin.name = '国信'\n",
    "subguoxin = subguoxin[subguoxin.index.isin(all_stocks)].index.tolist()\n",
    "subhuatai = huatai.set_index('证券代码')['担保折算率']\n",
    "subhuatai.name = '华泰'\n",
    "subhuatai = subhuatai[subhuatai.index.isin(all_stocks)].index.tolist()\n",
    "subpingan = pingan.set_index('证券代码')['担保折算率']\n",
    "subpingan.name = '平安'\n",
    "subpingan = subpingan[subpingan.index.isin(all_stocks)].index.tolist()\n",
    "subcaitong = caitong.set_index('证券代码')['折算率']\n",
    "subcaitong.name = '财通'\n",
    "subcaitong = subcaitong[subcaitong.index.isin(all_stocks)].index.tolist()\n",
    "subchangcheng = changcheng.set_index('股票代码')['折算率']\n",
    "subchangcheng.name = '长城'\n",
    "subchangcheng = subchangcheng[subchangcheng.index.isin(all_stocks)].index.tolist()\n",
    "subzhongxin = zhongxin.set_index('证券代码')['担保折算率']\n",
    "subzhongxin.name = '中信'\n",
    "subzhongxin = [szx for szx in subzhongxin[subzhongxin.index.isin(all_stocks)].index.tolist() if szx not in [600016]]\n",
    "subguosheng = guosheng.set_index('证券代码')['担保折算率']\n",
    "subguosheng.name = '国盛'\n",
    "subguosheng = subguosheng[subguosheng.index.isin(all_stocks)].index.tolist()"
   ]
  },
  {
   "cell_type": "code",
   "execution_count": null,
   "metadata": {
    "ExecuteTime": {
     "end_time": "2019-08-23T01:00:39.806696Z",
     "start_time": "2019-08-23T01:00:39.688997Z"
    },
    "collapsed": true,
    "scrolled": true
   },
   "outputs": [],
   "source": [
    "os.chdir(r'C:/Users/bj/Desktop/刘泽丹/Code/')\n",
    "full_cont['I4'].loc[20190822] = pd.read_csv('prospect_I4_20190822.csv',header = None).iloc[:,-1].tolist()\n",
    "full_cont['I5'].loc[20190822] = pd.read_csv('prospect_I5_20190822.csv',header = None).iloc[:,-1].tolist()\n",
    "\n",
    "full_cont['I4'].loc[20190821] = pd.read_csv('prospect_I4_20190821.csv',header = None).iloc[:,-1].tolist()\n",
    "full_cont['I5'].loc[20190821] = pd.read_csv('prospect_I5_20190821.csv',header = None).iloc[:,-1].tolist()\n",
    "\n",
    "full_cont['I4'].loc[20190820] = pd.read_csv('prospect_I4_20190820.csv',header = None).iloc[:,-1].tolist()\n",
    "full_cont['I4'].loc[20190819] = pd.read_csv('prospect_I4_20190819.csv',header = None).iloc[:,-1].tolist()\n",
    "full_cont['I4'].loc[20190816] = pd.read_csv('prospect_I4_20190816.csv',header = None).iloc[:,-1].tolist()\n",
    "full_cont['I4'].loc[20190815] = pd.read_csv('prospect_I4_20190815.csv',header = None).iloc[:,-1].tolist()\n",
    "full_cont['I4'].loc[20190814] = pd.read_csv('prospect_I4_20190814.csv',header = None).iloc[:,-1].tolist()\n",
    "full_cont['I4'].loc[20190813] = pd.read_csv('prospect_I4_20190813.csv',header = None).iloc[:,-1].tolist()\n",
    "full_cont['I4'].loc[20190812] = pd.read_csv('prospect_I4_20190812.csv',header = None).iloc[:,-1].tolist()\n",
    "full_cont['I5'].loc[20190820] = pd.read_csv('prospect_I5_20190820.csv',header = None).iloc[:,-1].tolist()\n",
    "full_cont['I5'].loc[20190819] = pd.read_csv('prospect_I5_20190819.csv',header = None).iloc[:,-1].tolist()\n",
    "full_cont['I5'].loc[20190816] = pd.read_csv('prospect_I5_20190816.csv',header = None).iloc[:,-1].tolist()\n",
    "full_cont['I5'].loc[20190815] = pd.read_csv('prospect_I5_20190815.csv',header = None).iloc[:,-1].tolist()\n",
    "full_cont['I5'].loc[20190814] = pd.read_csv('prospect_I5_20190814.csv',header = None).iloc[:,-1].tolist()\n",
    "full_cont['I5'].loc[20190813] = pd.read_csv('prospect_I5_20190813.csv',header = None).iloc[:,-1].tolist()\n",
    "full_cont['I5'].loc[20190812] = pd.read_csv('prospect_I5_20190812.csv',header = None).iloc[:,-1].tolist()"
   ]
  },
  {
   "cell_type": "code",
   "execution_count": null,
   "metadata": {
    "collapsed": true
   },
   "outputs": [],
   "source": []
  },
  {
   "cell_type": "code",
   "execution_count": null,
   "metadata": {
    "collapsed": true
   },
   "outputs": [],
   "source": []
  },
  {
   "cell_type": "code",
   "execution_count": null,
   "metadata": {
    "collapsed": true
   },
   "outputs": [],
   "source": []
  },
  {
   "cell_type": "code",
   "execution_count": null,
   "metadata": {
    "ExecuteTime": {
     "end_time": "2019-08-23T01:00:39.819661Z",
     "start_time": "2019-08-23T01:00:39.812667Z"
    },
    "collapsed": true
   },
   "outputs": [],
   "source": [
    "#正常买的模型"
   ]
  },
  {
   "cell_type": "code",
   "execution_count": null,
   "metadata": {
    "ExecuteTime": {
     "end_time": "2019-08-23T01:00:39.835612Z",
     "start_time": "2019-08-23T01:00:39.827626Z"
    },
    "code_folding": [
     1,
     3
    ],
    "collapsed": true
   },
   "outputs": [],
   "source": [
    "os.chdir(r'C:/Users/bj/Desktop/刘泽丹/Code/')\n",
    "try:\n",
    "    os.chdir('自用篮子组合'+str(int_today))\n",
    "except FileNotFoundError:\n",
    "    print('new directory created!')\n",
    "    os.mkdir('自用篮子组合'+str(int_today))"
   ]
  },
  {
   "cell_type": "code",
   "execution_count": null,
   "metadata": {
    "ExecuteTime": {
     "end_time": "2019-08-23T01:00:40.023103Z",
     "start_time": "2019-08-23T01:00:39.841599Z"
    },
    "collapsed": true
   },
   "outputs": [],
   "source": [
    "os.chdir(r'C:/Users/bj/Desktop/刘泽丹/Code/')\n",
    "account_info = pd.read_excel('account_info.xlsx',index_col = 2)\n",
    "account_info = account_info.loc[:,['账户备注',int_today]].dropna()\n",
    "capital = pd.read_excel('账户资金'+today_nodot+'.xlsx',index_col = 0)\n",
    "checking_account_info = account_info.copy().reset_index()\n",
    "checking_account_info['产品标识'] = pd.Series(info[0] for info in checking_account_info['产品标识'].str.split(','))\n",
    "checking_account_info.set_index('产品标识', inplace = True)"
   ]
  },
  {
   "cell_type": "code",
   "execution_count": null,
   "metadata": {
    "ExecuteTime": {
     "end_time": "2019-08-23T01:00:40.305348Z",
     "start_time": "2019-08-23T01:00:40.040065Z"
    },
    "code_folding": [
     1
    ],
    "scrolled": true
   },
   "outputs": [],
   "source": [
    "needed_code = []\n",
    "for i in capital.index.unique():\n",
    "    print(capital.loc[[i]]['名称'].iloc[0])\n",
    "    print('+'.join(capital.loc[[i]]['买入股票'].tolist()).replace(' ','_').replace('__','_').replace('+',' + '))\n",
    "    try:\n",
    "        print(' + '.join(sorted(checking_account_info[int_today].xs(i).replace(' * 20%', '').replace(' * 80%', '').replace(' * 66.6%', '')\\\n",
    "              .replace(' * 33.3%', '').replace(' * 30%', '').replace(' * 70%', '').replace(' * 50%', '')\\\n",
    "              .replace(' * 100%', '').replace('(','').replace(')','').split(' + '))))\n",
    "    except:\n",
    "        print('###############################################')\n",
    "        print(capital.loc[[i]]['名称'].tolist(),i)\n",
    "    print()\n",
    "    needed_code.append(i)\n",
    "checking_account_info = checking_account_info.loc[needed_code]"
   ]
  },
  {
   "cell_type": "code",
   "execution_count": null,
   "metadata": {
    "ExecuteTime": {
     "end_time": "2019-08-23T01:00:40.319318Z",
     "start_time": "2019-08-23T01:00:40.313325Z"
    },
    "collapsed": true
   },
   "outputs": [],
   "source": [
    "os.chdir(r'C:/Users/bj/Desktop/刘泽丹/Code/')"
   ]
  },
  {
   "cell_type": "code",
   "execution_count": null,
   "metadata": {
    "ExecuteTime": {
     "end_time": "2019-08-23T01:00:40.350255Z",
     "start_time": "2019-08-23T01:00:40.327288Z"
    },
    "collapsed": true,
    "scrolled": true
   },
   "outputs": [],
   "source": [
    "changing_model_portfolio = np.array(pd.read_excel('补仓账户资金'+today_nodot+'.xlsx')).tolist()"
   ]
  },
  {
   "cell_type": "code",
   "execution_count": null,
   "metadata": {
    "ExecuteTime": {
     "end_time": "2019-08-23T01:00:40.381145Z",
     "start_time": "2019-08-23T01:00:40.360202Z"
    },
    "scrolled": true
   },
   "outputs": [],
   "source": [
    "changing_model_portfolio"
   ]
  },
  {
   "cell_type": "code",
   "execution_count": null,
   "metadata": {
    "ExecuteTime": {
     "end_time": "2019-08-23T01:00:40.395134Z",
     "start_time": "2019-08-23T01:00:40.389124Z"
    },
    "collapsed": true
   },
   "outputs": [],
   "source": [
    "#正常买的部分"
   ]
  },
  {
   "cell_type": "code",
   "execution_count": null,
   "metadata": {
    "ExecuteTime": {
     "end_time": "2019-08-23T01:00:40.416054Z",
     "start_time": "2019-08-23T01:00:40.402088Z"
    },
    "collapsed": true
   },
   "outputs": [],
   "source": [
    "full_txt_df = pd.DataFrame()\n",
    "os.chdir(r'C:/Users/bj/Desktop/刘泽丹/Code/自用篮子组合'+str(int_today)+'/')"
   ]
  },
  {
   "cell_type": "code",
   "execution_count": null,
   "metadata": {
    "ExecuteTime": {
     "end_time": "2019-08-23T01:00:49.310261Z",
     "start_time": "2019-08-23T01:00:40.425027Z"
    },
    "code_folding": [
     0,
     1,
     3,
     8,
     46,
     57,
     134,
     194,
     336,
     341
    ],
    "scrolled": true
   },
   "outputs": [],
   "source": [
    "for account_code in checking_account_info.index:\n",
    "    if int_today in prest_kick.index.tolist():\n",
    "        today_prest_kick = prest_kick.xs(int_today).dropna().tolist()\n",
    "    else:\n",
    "        today_prest_kick = []\n",
    "    print(today_prest_kick)\n",
    "    account_name = checking_account_info.loc[account_code,'账户备注']\n",
    "    account_str = checking_account_info.loc[account_code,int_today].split('+')\n",
    "    if account_code in special_treat:\n",
    "        special_flag = 1\n",
    "        if account_name in ['金湖宏观量化一期','金湖一号','金湖AI对冲十三期','德聚仁和三号','红墙泰和对冲六号','对冲二十五期']:\n",
    "            keeping = subhaitong\n",
    "            dealer = '海通'\n",
    "        elif account_name in ['于微','金湖AI对冲十八期']:\n",
    "            keeping = subhuafu\n",
    "            dealer = '华福'\n",
    "        elif account_name in ['金湖AI对冲五十期','金湖AI对冲二十二期','九期龙哥','金湖增强四期','金湖AI对冲十期','无量稳健六号',\\\n",
    "                              '私享五号信用','金湖中性对冲六号','红墙泰和指数增强七期']:\n",
    "            keeping = subyinhe\n",
    "            dealer = '银河'\n",
    "        elif account_name in ['']:\n",
    "            keeping = subguoxin\n",
    "            dealer = '国信'\n",
    "        elif account_name in ['金湖AI对冲五十七期']:\n",
    "            keeping = subguosheng\n",
    "            dealer = '国盛'\n",
    "        elif account_name in ['圭源金湖启航','无量稳健二号','无量稳健二号分仓']:\n",
    "            keeping = subhuatai\n",
    "            dealer = '华泰'\n",
    "        elif account_name in ['金湖聚乐盈1号','金湖聚乐盈1号(旧)']:\n",
    "            keeping = subchangcheng\n",
    "            dealer = '长城'\n",
    "        elif account_name in ['圭源腾飞10号信用']:\n",
    "            keeping = subpingan\n",
    "            dealer = '平安'\n",
    "        elif account_name in ['金湖AI对冲四十五期','金湖AI对冲四十五期分仓']:\n",
    "            keeping = sublianxun\n",
    "            dealer = '联讯'\n",
    "        elif account_name in ['私享八号']:\n",
    "            keeping = subcaitong\n",
    "            dealer = '财通'\n",
    "        elif account_name in ['金湖AI对冲十五期']:\n",
    "            keeping = subzhongxin\n",
    "            dealer = '中信'\n",
    "        else:\n",
    "            print('#######################################################################################')\n",
    "    else:\n",
    "        special_flag = 0\n",
    "        keeping = all_stocks\n",
    "        dealer = '非信用'\n",
    "    STcode = [int(stock) for stock in STcode_by_date.xs(int_yesterday).dropna().tolist()]\n",
    "    print(account_name)\n",
    "    for single_account_str in account_str:\n",
    "        model = single_account_str.split('(')[-1].split('_')[0]\n",
    "        if preset_hold_days(model) == 2:\n",
    "            continue\n",
    "        universe = preset_hold_days(model, return_universe = 'long')[1]\n",
    "        if '市值' in single_account_str:\n",
    "            divider = 2; multiplier = 0\n",
    "            special = '市值'\n",
    "            first_n = int(single_account_str.split('支')[0].split('_')[-2])\n",
    "            ind_num = int(single_account_str.split('支')[0].split('_')[-3])\n",
    "            ranked_stock_universe = pd.Series(full_cont[model].xs(int_today))[\\\n",
    "                                        (~pd.Series(full_cont[model].xs(int_today)).isin(STcode))].tolist()\n",
    "            yester_mkt_cap = mkt_cap_ard.xs(int_yesterday).loc[ranked_stock_universe]\n",
    "            def aa(df):\n",
    "                def standardize(ts):\n",
    "                    ts = ts.copy().dropna()\n",
    "                    return (ts - ts.mean()) / ts.std()\n",
    "                return(standardize(df.iloc[:,1]).sort_values(ascending=False))\n",
    "            ranked_with_industry_ind = industry_ind.loc[ranked_stock_universe]\n",
    "            standardized_yester_mkt_cap = pd.concat([ranked_with_industry_ind,yester_mkt_cap],axis=1).groupby('ind').apply(aa)\n",
    "            standardized_yester_mkt_cap.fillna(0,inplace=True)\n",
    "            ranked_with_industry_ind['rank'] = range(len(ranked_with_industry_ind))\n",
    "            portfolio = []\n",
    "            #for ind in ranked_with_industry_ind.groupby('ind').mean().sort_values('rank').index.tolist()[:first_n]:\n",
    "            for ind in ((ranked_with_industry_ind.drop_duplicates(subset = ['ind'], keep = 'first').set_index('ind')*multiplier + \\\n",
    "                ranked_with_industry_ind.iloc[:int(len(ranked_with_industry_ind)*(1/divider))].groupby('ind').mean())['rank']).loc[\\\n",
    "                ranked_with_industry_ind.iloc[:int(len(ranked_with_industry_ind)*(1/divider))].groupby('ind').count()['rank'][\\\n",
    "                ranked_with_industry_ind.iloc[:int(len(ranked_with_industry_ind)*(1/divider))].groupby('ind').count()['rank']>=ind_num\n",
    "                ].index.tolist()].sort_values().index.tolist()[:first_n]:\n",
    "                if account_code in ['HQHX1',] and int_today >= 20190718:\n",
    "                    print('HQHX1')\n",
    "                    portfolio += ranked_with_industry_ind[(ranked_with_industry_ind.index.isin(keeping))&\\\n",
    "                        (ranked_with_industry_ind['ind'] == ind)&\\\n",
    "                        (~ranked_with_industry_ind.index.isin(today_prest_kick))&\\\n",
    "                        (~ranked_with_industry_ind.index.isin([18,601258,600255,600518,587,\\\n",
    "                        603101,600172,600221,600515,600555,600568,600856,506,603619,\\\n",
    "                        600525,600119,835,981,600069,600715,662,600112,760,600651,600086,2606,408,\\\n",
    "                        600083,600179,806,752,600891,600462,820,600687,600615,600747,982,600485,2477,571,\\\n",
    "                        600634,971,600701,600240,939,48,600614,600666,600807,600289]))].iloc[:ind_num].index.tolist()\n",
    "                else:\n",
    "                    portfolio += ranked_with_industry_ind[(ranked_with_industry_ind.index.isin(keeping))&\\\n",
    "                        (ranked_with_industry_ind['ind'] == ind)&\\\n",
    "                        (~ranked_with_industry_ind.index.isin(today_prest_kick))].iloc[:ind_num].index.tolist()\n",
    "            portfolio_origin = []\n",
    "            #for ind in ranked_with_industry_ind.groupby('ind').mean().sort_values('rank').index.tolist()[:first_n]:\n",
    "            for ind in ((ranked_with_industry_ind.drop_duplicates(subset = ['ind'], keep = 'first').set_index('ind')*multiplier + \\\n",
    "                ranked_with_industry_ind.iloc[:int(len(ranked_with_industry_ind)*(1/divider))].groupby('ind').mean())['rank']).loc[\\\n",
    "                ranked_with_industry_ind.iloc[:int(len(ranked_with_industry_ind)*(1/divider))].groupby('ind').count()['rank'][\\\n",
    "                ranked_with_industry_ind.iloc[:int(len(ranked_with_industry_ind)*(1/divider))].groupby('ind').count()['rank']>=ind_num\n",
    "                ].index.tolist()].sort_values().index.tolist()[:first_n]:\n",
    "                portfolio_origin += ranked_with_industry_ind[(ranked_with_industry_ind['ind'] == ind)].iloc[:ind_num].index.tolist()\n",
    "            standardized_yester_mkt_cap = standardized_yester_mkt_cap.reset_index().set_index('level_1').loc[portfolio]\n",
    "            standardized_yester_mkt_cap['quantile'] = scs.norm.cdf(standardized_yester_mkt_cap.reset_index().set_index('level_1').\\\n",
    "                loc[portfolio].iloc[:,1])\n",
    "            portfolio_weight = pd.Series([stock_weight/standardized_yester_mkt_cap['quantile'].sum() \\\n",
    "                for stock_weight in standardized_yester_mkt_cap['quantile']],index=portfolio)\n",
    "            while(True):\n",
    "                if portfolio_weight.max() / portfolio_weight.min() <= 3:\n",
    "                    break\n",
    "                else:\n",
    "                    portfolio_weight = portfolio_weight - (portfolio_weight - portfolio_weight.mean())/2\n",
    "            df = industry_ind.loc[portfolio]\n",
    "            df['weight'] = portfolio_weight\n",
    "            df['indcode'] = industry_ind.loc[df.index]\n",
    "            df['name'] = code_to_name.loc[df.index]\n",
    "            df.reset_index(inplace=True)\n",
    "            df = df.loc[:,['name','index','ind','indcode','weight']]\n",
    "            df.columns = ['股票名称','股票代码','所属行业','行业代码','资金占比']\n",
    "            txt_df = pd.DataFrame()\n",
    "            txt_df['证券代码'] = ['0'*(6-len(str(i)))+str(i) for i in df['股票代码']]\n",
    "            txt_df['证券名称'] = df['股票名称']\n",
    "            txt_df['每股份数'] = 100.00\n",
    "            txt_df['金额比例'] = [round(i*100,4) for i in df['资金占比']]\n",
    "            txt_df[''] = ''\n",
    "            print('共计：',df['股票代码'].isin(keeping).sum(),'   受影响：',([stock for stock in portfolio_origin if stock not in portfolio]),\\\n",
    "                '   替换为：',([stock for stock in portfolio if stock not in portfolio_origin]))\n",
    "            if special_flag == 1:\n",
    "                generated_str = model+'_'+version_num[model]+'_'+universe+'_'+today_nodot+'_市值行业_'+str(ind_num)+'_'+str(first_n)+'（'+account_name+'）'+'.txt'\n",
    "                print(dealer)\n",
    "            else:\n",
    "                generated_str = model+'_'+version_num[model]+'_'+universe+'_'+today_nodot+'_市值行业_'+str(ind_num)+'_'+str(first_n)+'.txt'\n",
    "            print(generated_str)\n",
    "        elif '原味' in single_account_str:\n",
    "            special = '原味'\n",
    "            buy_num = int(single_account_str.split('支')[0].split('_')[-1])\n",
    "            amt_limitation = 0\n",
    "            if amt_limitation != 0:\n",
    "                yester_amt = amt.xs(int_yesterday).fillna(0)\n",
    "                yester_amt = yester_amt[~(yester_amt>amt_limitation)].index.tolist()\n",
    "            else:\n",
    "                yester_amt = []\n",
    "            if account_code in ['HQHX1',] and int_today >= 20190718:\n",
    "                print('HQHX1')\n",
    "                ranked_stock_universe = pd.Series(full_cont[model].xs(int_today))[\\\n",
    "                                        (~pd.Series(full_cont[model].xs(int_today)).isin(STcode)) & \\\n",
    "                                        (~pd.Series(full_cont[model].xs(int_today)).isin(yester_amt)) & \\\n",
    "                                        (~pd.Series(full_cont[model].xs(int_today)).isin(today_prest_kick)) & \\\n",
    "                                        (pd.Series(full_cont[model].xs(int_today)).isin(keeping)) & \\\n",
    "                                        (~pd.Series(full_cont[model].xs(int_today)).isin([18,601258,600255,600518,587,\\\n",
    "                                                    603101,600172,600221,600515,600555,600568,600856,506,603619,\\\n",
    "                                                    600525,600119,835,981,600069,600715,662,600112,760,600651,600086,2606,408,\\\n",
    "                                                    600083,600179,806,752,600891,600462,820,600687,600615,600747,982,600485,2477,571,\\\n",
    "                                                    600634,971,600701,600240,939,48,600614,600666,600807,600289]))].tolist()\n",
    "            else:\n",
    "                ranked_stock_universe = pd.Series(full_cont[model].xs(int_today))[\\\n",
    "                                        (~pd.Series(full_cont[model].xs(int_today)).isin(STcode)) & \\\n",
    "                                        (~pd.Series(full_cont[model].xs(int_today)).isin(yester_amt)) & \\\n",
    "                                        (~pd.Series(full_cont[model].xs(int_today)).isin(today_prest_kick)) & \\\n",
    "                                        (pd.Series(full_cont[model].xs(int_today)).isin(keeping))].tolist()\n",
    "            portfolio = ranked_stock_universe[:buy_num]\n",
    "            ranked_stock_universe_origin = pd.Series(full_cont[model].xs(int_today))[\\\n",
    "                                        (~pd.Series(full_cont[model].xs(int_today)).isin(STcode)) & \\\n",
    "                                        (~pd.Series(full_cont[model].xs(int_today)).isin(yester_amt))].tolist()\n",
    "            portfolio_origin = ranked_stock_universe_origin[:buy_num]\n",
    "            portfolio_weight = pd.Series([1/len(portfolio)]*len(portfolio),index=portfolio)\n",
    "            df = industry_ind.loc[portfolio]\n",
    "            df['weight'] = portfolio_weight\n",
    "            df['indcode'] = industry_ind.loc[df.index]\n",
    "            df['name'] = code_to_name.loc[df.index]\n",
    "            df.reset_index(inplace=True)\n",
    "            df = df.loc[:,['name','index','ind','indcode','weight']]\n",
    "            df.columns = ['股票名称','股票代码','所属行业','行业代码','资金占比']\n",
    "            txt_df = pd.DataFrame()\n",
    "            txt_df['证券代码'] = ['0'*(6-len(str(i)))+str(i) for i in df['股票代码']]\n",
    "            txt_df['证券名称'] = df['股票名称']\n",
    "            txt_df['每股份数'] = 100.00\n",
    "            txt_df['金额比例'] = [round(i*100,4) for i in df['资金占比']]\n",
    "            txt_df[''] = ''\n",
    "            print('共计：',df['股票代码'].isin(keeping).sum(),'   受影响：',([stock for stock in portfolio_origin if stock not in portfolio]),\\\n",
    "                      '   替换为：',([stock for stock in portfolio if stock not in portfolio_origin]))\n",
    "            if special_flag == 1:\n",
    "                if amt_limitation == 0:\n",
    "                    generated_str = model+'_'+version_num[model]+'_'+universe+'_'+str(buy_num)+'支（原汁原味）'+'_'+today_nodot+'（'+account_name+'）'+'.txt'\n",
    "                else:\n",
    "                    generated_str = model+'_'+version_num[model]+'_'+universe+'_'+str(buy_num)+'支'+'_'+today_nodot+'（'+account_name+'）'+'.txt'\n",
    "                print(dealer)\n",
    "            else:\n",
    "                if amt_limitation == 0:\n",
    "                    generated_str = model+'_'+version_num[model]+'_'+universe+'_'+str(buy_num)+'支（原汁原味）'+'_'+today_nodot+'.txt'\n",
    "                else:\n",
    "                    generated_str = model+'_'+version_num[model]+'_'+universe+'_'+str(buy_num)+'支'+'_'+today_nodot+'.txt'\n",
    "            print(generated_str)\n",
    "        elif '沪深' in single_account_str:\n",
    "            special = '沪深'\n",
    "            buy_num = int(single_account_str.split('支')[0].split('_')[-1])\n",
    "            amt_limitation = 50000000\n",
    "            if amt_limitation != 0:\n",
    "                yester_amt = amt.xs(int_yesterday).fillna(0)\n",
    "                yester_amt = yester_amt[~(yester_amt>amt_limitation)].index.tolist()\n",
    "            else:\n",
    "                yester_amt = []\n",
    "            ranked_stock_universe =  pd.Series(full_cont[model].xs(int_today))[\\\n",
    "                                        (~pd.Series(full_cont[model].xs(int_today)).isin(STcode)) & \\\n",
    "                                        (~pd.Series(full_cont[model].xs(int_today)).isin(yester_amt))].tolist()\n",
    "            origin = ranked_stock_universe[:buy_num]\n",
    "            #HS300行业权重\n",
    "            members = hs300members.xs(int_yesterday).tolist()\n",
    "            mid_members_industry = (pd.concat([(\\\n",
    "                adjusted_weight_coef.xs(int_yesterday).loc[members]/\\\n",
    "                adjusted_weight_coef.xs(int_yesterday).loc[members]\\\n",
    "                .sum()).sort_values(),industry_ind['ind'].loc[members]],axis=1).groupby('ind').sum().iloc[:,0]*100)\\\n",
    "                .sort_values(ascending=False)\n",
    "            #ranked_stock_universe个股行业\n",
    "            ranked_with_industry = industry_ind.loc[ranked_stock_universe].dropna()\n",
    "            ranked_with_industry['rrank'] = range(len(ranked_with_industry))\n",
    "            exp = ranked_with_industry.sort_values('rrank').dropna()\n",
    "            exp['rank'] = range(1,len(exp)+1)\n",
    "            adj_list = []\n",
    "            name_list = []\n",
    "            for included_ind in exp['ind'].unique():\n",
    "                sub = exp[exp['ind'] == included_ind]\n",
    "                adjust = (exp['rank'].mean() - sub['rank'].mean()) * len(sub)\n",
    "                adj_list.append(adjust)\n",
    "                name_list.append(included_ind)\n",
    "            adj_list = [i/np.max(adj_list) * 20 for i in adj_list]\n",
    "            members_industry = pd.DataFrame(list(zip(name_list,adj_list))).set_index(0)[1] + mid_members_industry\n",
    "            members_industry = members_industry[members_industry>0]\n",
    "            members_industry = members_industry/members_industry.sum()\n",
    "            members_industry = round(members_industry.sort_values(ascending=False)*buy_num)\n",
    "            res = pd.concat([industry_ind.loc[origin]['ind'].value_counts()/buy_num * 100,\\\n",
    "                       members_industry/members_industry.sum() * 100,\\\n",
    "                       mid_members_industry],axis=1)\n",
    "            res.columns = ['origin','adjusted','hs300']\n",
    "            res.fillna(0,inplace=True)\n",
    "            res['result'] = (res['origin'] - res['adjusted']) * 1/2 + res['adjusted']\n",
    "            members_industry = round(res['result']/res['result'].sum() * buy_num)\n",
    "            portfolio = []\n",
    "            for indname in members_industry.index:\n",
    "                add = ranked_with_industry[(ranked_with_industry['ind'] == indname) &\\\n",
    "                    (ranked_with_industry.index.isin(keeping)) & (~ranked_with_industry.index.isin(today_prest_kick))].\\\n",
    "                    index.tolist()[:int(members_industry.xs(indname))]\n",
    "                portfolio += add\n",
    "            portfolio_origin = []\n",
    "            for indname in members_industry.index:\n",
    "                add = ranked_with_industry[(ranked_with_industry['ind'] == indname)].\\\n",
    "                    index.tolist()[:int(members_industry.xs(indname))]\n",
    "                portfolio_origin += add\n",
    "            p_data = adjusted_weight_coef.xs(int_yesterday).loc[portfolio]\n",
    "            portfolio_weight = p_data/(p_data.sum())\n",
    "            portfolio_weight = (portfolio_weight - (portfolio_weight - portfolio_weight.mean())/2).sort_values()\n",
    "            df = industry_ind.loc[portfolio]\n",
    "            df['weight'] = portfolio_weight\n",
    "            df['indcode'] = industry_ind.loc[df.index]\n",
    "            df['name'] = code_to_name.loc[df.index]\n",
    "            df.reset_index(inplace=True)\n",
    "            df = df.loc[:,['name','index','ind','indcode','weight']]\n",
    "            df.columns = ['股票名称','股票代码','所属行业','行业代码','资金占比']\n",
    "            txt_df = pd.DataFrame()\n",
    "            txt_df['证券代码'] = ['0'*(6-len(str(i)))+str(i) for i in df['股票代码']]\n",
    "            txt_df['证券名称'] = df['股票名称']\n",
    "            txt_df['每股份数'] = 100.00\n",
    "            txt_df['金额比例'] = [round(i*100,4) for i in df['资金占比']]\n",
    "            txt_df[''] = ''\n",
    "            print('共计：',df['股票代码'].isin(keeping).sum(),'   受影响：',([stock for stock in portfolio_origin if stock not in portfolio]),\\\n",
    "                      '   替换为：',([stock for stock in portfolio if stock not in portfolio_origin]))\n",
    "            if special_flag == 1:\n",
    "                generated_str = model+'_'+version_num[model]+'_'+universe+'_'+today_nodot+'_HS300增强_'+str(buy_num)+'（'+account_name+'）'+'.txt'\n",
    "                print(dealer)\n",
    "            else:\n",
    "                generated_str = model+'_'+version_num[model]+'_'+universe+'_'+today_nodot+'_HS300增强_'+str(buy_num)+'.txt'\n",
    "            print(generated_str)\n",
    "        else:\n",
    "            special = ''\n",
    "            buy_num = int(single_account_str.split('支')[0].split('_')[-1])\n",
    "            amt_limitation = 50000000\n",
    "            if out:\n",
    "                ranked_stock_universe = pd.Series(full_cont[model].xs(int_today))[\n",
    "                                            (~pd.Series(full_cont[model].xs(int_today)).isin(STcode)) & \\\n",
    "                                            (pd.Series(full_cont[model].xs(int_today)).isin(keeping))].tolist()\n",
    "            else:\n",
    "                if amt_limitation != 0:\n",
    "                    yester_amt = amt.xs(int_yesterday).fillna(0)\n",
    "                    yester_amt = yester_amt[~(yester_amt>amt_limitation)].index.tolist()\n",
    "                else:\n",
    "                    yester_amt = []\n",
    "                if account_code in ['HQHX1',] and int_today >= 20190718:\n",
    "                    print('HQHX1')\n",
    "                    ranked_stock_universe = pd.Series(full_cont[model].xs(int_today))[\\\n",
    "                                            (~pd.Series(full_cont[model].xs(int_today)).isin(STcode)) & \\\n",
    "                                            (~pd.Series(full_cont[model].xs(int_today)).isin(yester_amt)) & \\\n",
    "                                            (~pd.Series(full_cont[model].xs(int_today)).isin(today_prest_kick)) & \\\n",
    "                                            (pd.Series(full_cont[model].xs(int_today)).isin(keeping)) & \\\n",
    "                                            (~pd.Series(full_cont[model].xs(int_today)).isin([18,601258,600255,600518,587,\\\n",
    "                                                        603101,600172,600221,600515,600555,600568,600856,506,603619,\\\n",
    "                                                        600525,600119,835,981,600069,600715,662,600112,760,600651,600086,2606,408,\\\n",
    "                                                        600083,600179,806,752,600891,600462,820,600687,600615,600747,982,600485,2477,571,\\\n",
    "                                                        600634,971,600701,600240,939,48,600614,600666,600807,600289]))].tolist()\n",
    "                else:\n",
    "                    ranked_stock_universe = pd.Series(full_cont[model].xs(int_today))[\\\n",
    "                                            (~pd.Series(full_cont[model].xs(int_today)).isin(STcode)) & \\\n",
    "                                            (~pd.Series(full_cont[model].xs(int_today)).isin(yester_amt)) & \\\n",
    "                                            (~pd.Series(full_cont[model].xs(int_today)).isin(today_prest_kick)) & \\\n",
    "                                            (pd.Series(full_cont[model].xs(int_today)).isin(keeping))].tolist()\n",
    "            portfolio = ranked_stock_universe[:buy_num]\n",
    "            portfolio_weight = pd.Series([1/len(portfolio)]*len(portfolio),index=portfolio)\n",
    "            df = industry_ind.loc[portfolio]\n",
    "            df['weight'] = portfolio_weight\n",
    "            df['indcode'] = industry_ind.loc[df.index]\n",
    "            df['name'] = code_to_name.loc[df.index]\n",
    "            df.reset_index(inplace=True)\n",
    "            df = df.loc[:,['name','index','ind','indcode','weight']]\n",
    "            df.columns = ['股票名称','股票代码','所属行业','行业代码','资金占比']\n",
    "            txt_df = pd.DataFrame()\n",
    "            txt_df['证券代码'] = ['0'*(6-len(str(i)))+str(i) for i in df['股票代码']]\n",
    "            txt_df['证券名称'] = df['股票名称']\n",
    "            txt_df['每股份数'] = 100.00\n",
    "            txt_df['金额比例'] = [round(i*100,4) for i in df['资金占比']]\n",
    "            txt_df[''] = ''\n",
    "            if special_flag == 1:\n",
    "                if amt_limitation == 0:\n",
    "                    generated_str = model+'_'+version_num[model]+'_'+universe+'_'+str(buy_num)+'支（原汁原味）'+'_'+today_nodot+'（'+account_name+'）'+'.txt'\n",
    "                else:\n",
    "                    generated_str = model+'_'+version_num[model]+'_'+universe+'_'+str(buy_num)+'支'+'_'+today_nodot+'（'+account_name+'）'+'.txt'\n",
    "                print(dealer)\n",
    "            else:\n",
    "                if amt_limitation == 0:\n",
    "                    generated_str = model+'_'+version_num[model]+'_'+universe+'_'+str(buy_num)+'支（原汁原味）'+'_'+today_nodot+'.txt'\n",
    "                else:\n",
    "                    generated_str = model+'_'+version_num[model]+'_'+universe+'_'+str(buy_num)+'支'+'_'+today_nodot+'.txt'\n",
    "            print(generated_str)\n",
    "        model = single_account_str.split('(')[-1].split('_')[0]\n",
    "        txt_df.to_csv(generated_str, encoding = 'gbk', index=False)\n",
    "        txt_df['产品标识'] = account_code\n",
    "        model_capital = capital.loc[[account_code]]\n",
    "        if special == '':\n",
    "            model_capital = model_capital[(~((model_capital['买入股票'].str.contains('沪深')) | \\\n",
    "                                            (model_capital['买入股票'].str.contains('市值')) | \\\n",
    "                                            (model_capital['买入股票'].str.contains('原味')))) & \\\n",
    "                                            (model_capital['买入股票'].str[:2] == model)]['要买资金'][account_code]\n",
    "        else:\n",
    "            model_capital = model_capital[(model_capital['买入股票'].str.contains(special)) & (model_capital['买入股票'].str[:2] == model)]['要买资金'][account_code]\n",
    "        txt_df['任务资金'] = round(txt_df['金额比例']/100 * model_capital)\n",
    "        txt_df['模型'] = model\n",
    "        full_txt_df = pd.concat([full_txt_df, txt_df])\n",
    "        print(type(model_capital), model_capital)\n",
    "        print()"
   ]
  },
  {
   "cell_type": "code",
   "execution_count": null,
   "metadata": {
    "ExecuteTime": {
     "end_time": "2019-08-23T01:00:55.484742Z",
     "start_time": "2019-08-23T01:00:49.322231Z"
    },
    "code_folding": [
     0,
     6,
     10,
     45,
     49,
     51,
     61,
     138,
     197
    ],
    "scrolled": true
   },
   "outputs": [],
   "source": [
    "for changing_model_portfolio_info in changing_model_portfolio:\n",
    "    account_name = changing_model_portfolio_info[1]\n",
    "    account_code = changing_model_portfolio_info[0]\n",
    "    account_str = changing_model_portfolio_info[2].split('+')\n",
    "    changing_model_date = changing_model_portfolio_info[3]\n",
    "    changing_model_date_yesterday = int(get_n_week_date_before(str(changing_model_date)))\n",
    "    if changing_model_date == 20190308 and account_code != 'HQYH9':\n",
    "        changing_model_date_yesterday = 20190311\n",
    "    changing_model_capital = changing_model_portfolio_info[4]\n",
    "    changing_model_marker = changing_model_portfolio_info[5]\n",
    "    if account_code in special_treat:\n",
    "        special_flag = 1\n",
    "        if account_name in ['金湖宏观量化一期','金湖一号','金湖AI对冲十三期','德聚仁和三号','红墙泰和对冲六号','对冲二十五期']:\n",
    "            keeping = subhaitong\n",
    "            dealer = '海通'\n",
    "        elif account_name in ['于微','金湖AI对冲十八期']:\n",
    "            keeping = subhuafu\n",
    "            dealer = '华福'\n",
    "        elif account_name in ['金湖AI对冲五十期','金湖AI对冲二十二期','九期龙哥','金湖增强四期','金湖AI对冲十期','无量稳健六号',\\\n",
    "                              '私享五号信用','金湖中性对冲六号','红墙泰和指数增强七期']:\n",
    "            keeping = subyinhe\n",
    "            dealer = '银河'\n",
    "        elif account_name in ['']:\n",
    "            keeping = subguoxin\n",
    "            dealer = '国信'\n",
    "        elif account_name in ['金湖AI对冲五十七期']:\n",
    "            keeping = subguosheng\n",
    "            dealer = '国盛'\n",
    "        elif account_name in ['圭源金湖启航','金湖聚乐盈1号','无量稳健二号','无量稳健二号分仓']:\n",
    "            keeping = subhuatai\n",
    "            dealer = '华泰'\n",
    "        elif account_name in ['圭源腾飞10号信用']:\n",
    "            keeping = subpingan\n",
    "            dealer = '平安'\n",
    "        elif account_name in ['金湖AI对冲四十五期','金湖AI对冲四十五期分仓']:\n",
    "            keeping = sublianxun\n",
    "            dealer = '联讯'\n",
    "        elif account_name in ['私享八号']:\n",
    "            keeping = subcaitong\n",
    "            dealer = '财通'\n",
    "        elif account_name in ['金湖AI对冲十五期']:\n",
    "            keeping = subzhongxin\n",
    "            dealer = '中信'\n",
    "        else:\n",
    "            print('#######################################################################################')\n",
    "    else:\n",
    "        special_flag = 0\n",
    "        keeping = all_stocks\n",
    "        dealer = '非信用'\n",
    "    if int_today in prest_kick.index.tolist():\n",
    "        today_prest_kick = prest_kick.xs(int_today).dropna().tolist()\n",
    "    else:\n",
    "        today_prest_kick = []\n",
    "    print(today_prest_kick)\n",
    "    ###\n",
    "    STcode = [int(stock) for stock in STcode_by_date.xs(int_yesterday).dropna().tolist()]\n",
    "    print(account_name)\n",
    "    for single_account_str in account_str:\n",
    "        print(today_prest_kick)\n",
    "        model = single_account_str.split('(')[-1].split('_')[0]\n",
    "        universe = preset_hold_days(model, return_universe = 'long')[1]\n",
    "        if '市值' in single_account_str:\n",
    "            divider = 2; multiplier = 0\n",
    "            special = '市值'\n",
    "            first_n = int(single_account_str.split('支')[0].split('_')[-2])\n",
    "            ind_num = int(single_account_str.split('支')[0].split('_')[-3])\n",
    "            ranked_stock_universe = pd.Series(full_cont[model].xs(changing_model_date))[\\\n",
    "                                        (~pd.Series(full_cont[model].xs(changing_model_date)).isin(STcode))].tolist()\n",
    "            yester_mkt_cap = mkt_cap_ard.xs(changing_model_date_yesterday).loc[ranked_stock_universe]\n",
    "            def aa(df):\n",
    "                def standardize(ts):\n",
    "                    ts = ts.copy().dropna()\n",
    "                    return (ts - ts.mean()) / ts.std()\n",
    "                return(standardize(df.iloc[:,1]).sort_values(ascending=False))\n",
    "            ranked_with_industry_ind = industry_ind.loc[ranked_stock_universe]\n",
    "            standardized_yester_mkt_cap = pd.concat([ranked_with_industry_ind,yester_mkt_cap],axis=1).groupby('ind').apply(aa)\n",
    "            standardized_yester_mkt_cap.fillna(0,inplace=True)\n",
    "            ranked_with_industry_ind['rank'] = range(len(ranked_with_industry_ind))\n",
    "            portfolio = []\n",
    "            #for ind in ranked_with_industry_ind.groupby('ind').mean().sort_values('rank').index.tolist()[:first_n]:\n",
    "            for ind in ((ranked_with_industry_ind.drop_duplicates(subset = ['ind'], keep = 'first').set_index('ind')*multiplier + \\\n",
    "                ranked_with_industry_ind.iloc[:int(len(ranked_with_industry_ind)*(1/divider))].groupby('ind').mean())['rank']).loc[\\\n",
    "                ranked_with_industry_ind.iloc[:int(len(ranked_with_industry_ind)*(1/divider))].groupby('ind').count()['rank'][\\\n",
    "                ranked_with_industry_ind.iloc[:int(len(ranked_with_industry_ind)*(1/divider))].groupby('ind').count()['rank']>=ind_num\n",
    "                ].index.tolist()].sort_values().index.tolist()[:first_n]:\n",
    "                if account_code in ['HQHX1',] and int_today >= 20190718:\n",
    "                    print('HQHX1')\n",
    "                    portfolio += ranked_with_industry_ind[(ranked_with_industry_ind.index.isin(keeping))&\\\n",
    "                        (ranked_with_industry_ind['ind'] == ind)&\n",
    "                        (~ranked_with_industry_ind.index.isin(today_prest_kick))&\n",
    "                        (~ranked_with_industry_ind.index.isin([18,601258,600255,600518,587,\\\n",
    "                        603101,600172,600221,600515,600555,600568,600856,506,603619,\\\n",
    "                        600525,600119,835,981,600069,600715,662,600112,760,600651,600086,2606,408,\\\n",
    "                        600083,600179,806,752,600891,600462,820,600687,600615,600747,982,600485,2477,571,\\\n",
    "                        600634,971,600701,600240,939,48,600614,600666,600807,600289]))].iloc[:ind_num].index.tolist()\n",
    "                else:\n",
    "                    portfolio += ranked_with_industry_ind[(ranked_with_industry_ind.index.isin(keeping))&\\\n",
    "                        (ranked_with_industry_ind['ind'] == ind)&\n",
    "                        (~ranked_with_industry_ind.index.isin(today_prest_kick))].iloc[:ind_num].index.tolist()\n",
    "            portfolio_origin = []\n",
    "            #for ind in ranked_with_industry_ind.groupby('ind').mean().sort_values('rank').index.tolist()[:first_n]:\n",
    "            for ind in ((ranked_with_industry_ind.drop_duplicates(subset = ['ind'], keep = 'first').set_index('ind')*multiplier + \\\n",
    "                ranked_with_industry_ind.iloc[:int(len(ranked_with_industry_ind)*(1/divider))].groupby('ind').mean())['rank']).loc[\\\n",
    "                ranked_with_industry_ind.iloc[:int(len(ranked_with_industry_ind)*(1/divider))].groupby('ind').count()['rank'][\\\n",
    "                ranked_with_industry_ind.iloc[:int(len(ranked_with_industry_ind)*(1/divider))].groupby('ind').count()['rank']>=ind_num\n",
    "                ].index.tolist()].sort_values().index.tolist()[:first_n]:\n",
    "                portfolio_origin += ranked_with_industry_ind[(ranked_with_industry_ind['ind'] == ind)].iloc[:ind_num].index.tolist()\n",
    "            standardized_yester_mkt_cap = standardized_yester_mkt_cap.reset_index().set_index('level_1').loc[portfolio]\n",
    "            standardized_yester_mkt_cap['quantile'] = scs.norm.cdf(standardized_yester_mkt_cap.reset_index().set_index('level_1').\\\n",
    "                loc[portfolio].iloc[:,1])\n",
    "            portfolio_weight = pd.Series([stock_weight/standardized_yester_mkt_cap['quantile'].sum() \\\n",
    "                for stock_weight in standardized_yester_mkt_cap['quantile']],index=portfolio)\n",
    "            while(True):\n",
    "                if portfolio_weight.max() / portfolio_weight.min() <= 3:\n",
    "                    break\n",
    "                else:\n",
    "                    portfolio_weight = portfolio_weight - (portfolio_weight - portfolio_weight.mean())/2\n",
    "            df = industry_ind.loc[portfolio]\n",
    "            df['weight'] = portfolio_weight\n",
    "            df['indcode'] = industry_ind.loc[df.index]\n",
    "            df['name'] = code_to_name.loc[df.index]\n",
    "            df.reset_index(inplace=True)\n",
    "            df = df.loc[:,['name','index','ind','indcode','weight']]\n",
    "            df.columns = ['股票名称','股票代码','所属行业','行业代码','资金占比']\n",
    "            txt_df = pd.DataFrame()\n",
    "            txt_df['证券代码'] = ['0'*(6-len(str(i)))+str(i) for i in df['股票代码']]\n",
    "            txt_df['证券名称'] = df['股票名称']\n",
    "            txt_df['每股份数'] = 100.00\n",
    "            txt_df['金额比例'] = [round(i*100,4) for i in df['资金占比']]\n",
    "            txt_df[''] = ''\n",
    "            print('共计：',df['股票代码'].isin(keeping).sum(),'   受影响：',([stock for stock in portfolio_origin if stock not in portfolio]),\\\n",
    "                      '   替换为：',([stock for stock in portfolio if stock not in portfolio_origin]))\n",
    "            if special_flag == 1:\n",
    "                generated_str = model+'_'+version_num[model]+'_'+universe+'_'+str(changing_model_date)+'_市值行业_'+str(ind_num)+'_'+str(first_n)+'（'+account_name+'）'+'.txt'\n",
    "                print(dealer)\n",
    "            else:\n",
    "                generated_str = model+'_'+version_num[model]+'_'+universe+'_'+str(changing_model_date)+'_市值行业_'+str(ind_num)+'_'+str(first_n)+'.txt'\n",
    "            print(generated_str)\n",
    "        elif '原味' in single_account_str:\n",
    "            special = '原味'\n",
    "            buy_num = int(single_account_str.split('支')[0].split('_')[-1])\n",
    "            amt_limitation = 0\n",
    "            if amt_limitation != 0:\n",
    "                yester_amt = amt.xs(changing_model_date_yesterday).fillna(0)\n",
    "                yester_amt = yester_amt[~(yester_amt>amt_limitation)].index.tolist()\n",
    "            else:\n",
    "                yester_amt = []\n",
    "            if account_code in ['HQHX1',] and int_today >= 20190718:\n",
    "                print('HQHX1')\n",
    "                ranked_stock_universe = pd.Series(full_cont[model].xs(changing_model_date))[\\\n",
    "                                        (~pd.Series(full_cont[model].xs(changing_model_date)).isin(STcode)) & \\\n",
    "                                        (~pd.Series(full_cont[model].xs(changing_model_date)).isin(yester_amt)) & \\\n",
    "                                        (~pd.Series(full_cont[model].xs(changing_model_date)).isin(today_prest_kick)) & \\\n",
    "                                        (pd.Series(full_cont[model].xs(changing_model_date)).isin(keeping)) & \\\n",
    "                                        (~pd.Series(full_cont[model].xs(changing_model_date)).isin([18,601258,600255,600518,587,\\\n",
    "                                                    603101,600172,600221,600515,600555,600568,600856,506,603619,\\\n",
    "                                                    600525,600119,835,981,600069,600715,662,600112,760,600651,600086,2606,408,\\\n",
    "                                                    600083,600179,806,752,600891,600462,820,600687,600615,600747,982,600485,2477,571,\\\n",
    "                                                    600634,971,600701,600240,939,48,600614,600666,600807,600289]))].tolist()\n",
    "            else:\n",
    "                ranked_stock_universe = pd.Series(full_cont[model].xs(changing_model_date))[\\\n",
    "                                        (~pd.Series(full_cont[model].xs(changing_model_date)).isin(STcode)) & \\\n",
    "                                        (~pd.Series(full_cont[model].xs(changing_model_date)).isin(yester_amt)) & \\\n",
    "                                        (~pd.Series(full_cont[model].xs(changing_model_date)).isin(today_prest_kick)) & \\\n",
    "                                        (pd.Series(full_cont[model].xs(changing_model_date)).isin(keeping))].tolist()\n",
    "            portfolio = ranked_stock_universe[:buy_num]\n",
    "            ranked_stock_universe_origin = [st for st in full_cont[model].xs(changing_model_date) if st not in STcode \\\n",
    "                                            and st not in yester_amt]\n",
    "            portfolio_origin = ranked_stock_universe_origin[:buy_num]\n",
    "            portfolio_weight = pd.Series([1/len(portfolio)]*len(portfolio),index=portfolio)\n",
    "            df = industry_ind.loc[portfolio]\n",
    "            df['weight'] = portfolio_weight\n",
    "            df['indcode'] = industry_ind.loc[df.index]\n",
    "            df['name'] = code_to_name.loc[df.index]\n",
    "            df.reset_index(inplace=True)\n",
    "            df = df.loc[:,['name','index','ind','indcode','weight']]\n",
    "            df.columns = ['股票名称','股票代码','所属行业','行业代码','资金占比']\n",
    "            txt_df = pd.DataFrame()\n",
    "            txt_df['证券代码'] = ['0'*(6-len(str(i)))+str(i) for i in df['股票代码']]\n",
    "            txt_df['证券名称'] = df['股票名称']\n",
    "            txt_df['每股份数'] = 100.00\n",
    "            txt_df['金额比例'] = [round(i*100,4) for i in df['资金占比']]\n",
    "            txt_df[''] = ''\n",
    "            print('共计：',df['股票代码'].isin(keeping).sum(),'   受影响：',([stock for stock in portfolio_origin if stock not in portfolio]),\\\n",
    "                      '   替换为：',([stock for stock in portfolio if stock not in portfolio_origin]))\n",
    "            if special_flag == 1:\n",
    "                if amt_limitation == 0:\n",
    "                    generated_str = model+'_'+version_num[model]+'_'+universe+'_'+str(buy_num)+'支（原汁原味）'+'_'+str(changing_model_date)+'（'+account_name+'）'+'.txt'\n",
    "                else:\n",
    "                    generated_str = model+'_'+version_num[model]+'_'+universe+'_'+str(buy_num)+'支'+'_'+str(changing_model_date)+'（'+account_name+'）'+'.txt'\n",
    "                print(dealer)\n",
    "            else:\n",
    "                if amt_limitation == 0:\n",
    "                    generated_str = model+'_'+version_num[model]+'_'+universe+'_'+str(buy_num)+'支（原汁原味）'+'_'+str(changing_model_date)+'.txt'\n",
    "                else:\n",
    "                    generated_str = model+'_'+version_num[model]+'_'+universe+'_'+str(buy_num)+'支'+'_'+str(changing_model_date)+'.txt'\n",
    "            print(generated_str)\n",
    "        elif '沪深' in single_account_str:\n",
    "            special = '沪深'\n",
    "            buy_num = int(single_account_str.split('支')[0].split('_')[-1])\n",
    "            amt_limitation = 50000000\n",
    "            if amt_limitation != 0:\n",
    "                yester_amt = amt.xs(changing_model_date_yesterday).fillna(0)\n",
    "                yester_amt = yester_amt[~(yester_amt>amt_limitation)].index.tolist()\n",
    "            else:\n",
    "                yester_amt = []\n",
    "            ranked_stock_universe = pd.Series(full_cont[model].xs(changing_model_date))[\\\n",
    "                                    (~pd.Series(full_cont[model].xs(changing_model_date)).isin(STcode)) & \\\n",
    "                                    (~pd.Series(full_cont[model].xs(changing_model_date)).isin(yester_amt))].tolist()\n",
    "            origin = ranked_stock_universe[:buy_num]\n",
    "            #HS300行业权重\n",
    "            members = hs300members.xs(changing_model_date_yesterday).tolist()\n",
    "            mid_members_industry = (pd.concat([(\\\n",
    "                adjusted_weight_coef.xs(changing_model_date_yesterday).loc[members]/\\\n",
    "                adjusted_weight_coef.xs(changing_model_date_yesterday).loc[members]\\\n",
    "                .sum()).sort_values(),industry_ind['ind'].loc[members]],axis=1).groupby('ind').sum().iloc[:,0]*100)\\\n",
    "                .sort_values(ascending=False)\n",
    "            #ranked_stock_universe个股行业\n",
    "            ranked_with_industry = industry_ind.loc[ranked_stock_universe].dropna()\n",
    "            ranked_with_industry['rrank'] = range(len(ranked_with_industry))\n",
    "            exp = ranked_with_industry.sort_values('rrank').dropna()\n",
    "            exp['rank'] = range(1,len(exp)+1)\n",
    "            adj_list = []\n",
    "            name_list = []\n",
    "            for included_ind in exp['ind'].unique():\n",
    "                sub = exp[exp['ind'] == included_ind]\n",
    "                adjust = (exp['rank'].mean() - sub['rank'].mean()) * len(sub)\n",
    "                adj_list.append(adjust)\n",
    "                name_list.append(included_ind)\n",
    "            adj_list = [i/np.max(adj_list) * 20 for i in adj_list]\n",
    "            members_industry = pd.DataFrame(list(zip(name_list,adj_list))).set_index(0)[1] + mid_members_industry\n",
    "            members_industry = members_industry[members_industry>0]\n",
    "            members_industry = members_industry/members_industry.sum()\n",
    "            members_industry = round(members_industry.sort_values(ascending=False)*buy_num)\n",
    "            res = pd.concat([industry_ind.loc[origin]['ind'].value_counts()/buy_num * 100,\\\n",
    "                       members_industry/members_industry.sum() * 100,\\\n",
    "                       mid_members_industry],axis=1)\n",
    "            res.columns = ['origin','adjusted','hs300']\n",
    "            res.fillna(0,inplace=True)\n",
    "            res['result'] = (res['origin'] - res['adjusted']) * 1/2 + res['adjusted']\n",
    "            members_industry = round(res['result']/res['result'].sum() * buy_num)\n",
    "            portfolio = []\n",
    "            for indname in members_industry.index:\n",
    "                add = ranked_with_industry[(ranked_with_industry['ind'] == indname) &\\\n",
    "                    (ranked_with_industry.index.isin(keeping)) &\\\n",
    "                    (~ranked_with_industry.index.isin(today_prest_kick))].\\\n",
    "                    index.tolist()[:int(members_industry.xs(indname))]\n",
    "                portfolio += add\n",
    "            portfolio_origin = []\n",
    "            for indname in members_industry.index:\n",
    "                add = ranked_with_industry[(ranked_with_industry['ind'] == indname)].\\\n",
    "                    index.tolist()[:int(members_industry.xs(indname))]\n",
    "                portfolio_origin += add\n",
    "            p_data = adjusted_weight_coef.xs(changing_model_date_yesterday).loc[portfolio]\n",
    "            portfolio_weight = p_data/(p_data.sum())\n",
    "            portfolio_weight = (portfolio_weight - (portfolio_weight - portfolio_weight.mean())/2).sort_values()\n",
    "            df = industry_ind.loc[portfolio]\n",
    "            df['weight'] = portfolio_weight\n",
    "            df['indcode'] = industry_ind.loc[df.index]\n",
    "            df['name'] = code_to_name.loc[df.index]\n",
    "            df.reset_index(inplace=True)\n",
    "            df = df.loc[:,['name','index','ind','indcode','weight']]\n",
    "            df.columns = ['股票名称','股票代码','所属行业','行业代码','资金占比']\n",
    "            txt_df = pd.DataFrame()\n",
    "            txt_df['证券代码'] = ['0'*(6-len(str(i)))+str(i) for i in df['股票代码']]\n",
    "            txt_df['证券名称'] = df['股票名称']\n",
    "            txt_df['每股份数'] = 100.00\n",
    "            txt_df['金额比例'] = [round(i*100,4) for i in df['资金占比']]\n",
    "            txt_df[''] = ''\n",
    "            print('共计：',df['股票代码'].isin(keeping).sum(),'   受影响：',([stock for stock in portfolio_origin if stock not in portfolio]),\\\n",
    "                      '   替换为：',([stock for stock in portfolio if stock not in portfolio_origin]))\n",
    "            if special_flag == 1:\n",
    "                generated_str = model+'_'+version_num[model]+'_'+universe+'_'+str(changing_model_date)+'_HS300增强_'+str(buy_num)+'（'+account_name+'）'+'.txt'\n",
    "                print(dealer)\n",
    "            else:\n",
    "                generated_str = model+'_'+version_num[model]+'_'+universe+'_'+str(changing_model_date)+'_HS300增强_'+str(buy_num)+'.txt'\n",
    "            print(generated_str)\n",
    "        else:\n",
    "            special = ''\n",
    "            buy_num = int(single_account_str.split('支')[0].split('_')[-1])\n",
    "            amt_limitation = 50000000\n",
    "            if out:\n",
    "                ranked_stock_universe = pd.Series(full_cont[model].xs(changing_model_date))[\n",
    "                                            (~pd.Series(full_cont[model].xs(changing_model_date)).isin(STcode)) & \\\n",
    "                                            (pd.Series(full_cont[model].xs(changing_model_date)).isin(keeping))].tolist()\n",
    "            else:\n",
    "                if amt_limitation != 0:\n",
    "                    yester_amt = amt.xs(changing_model_date_yesterday).fillna(0)\n",
    "                    yester_amt = yester_amt[~(yester_amt>amt_limitation)].index.tolist()\n",
    "                else:\n",
    "                    yester_amt = []\n",
    "                if account_code in ['HQHX1',] and int_today >= 20190718:\n",
    "                    print('HQHX1')\n",
    "                    ranked_stock_universe = pd.Series(full_cont[model].xs(changing_model_date))[\\\n",
    "                                            (~pd.Series(full_cont[model].xs(changing_model_date)).isin(STcode)) & \\\n",
    "                                            (~pd.Series(full_cont[model].xs(changing_model_date)).isin(yester_amt)) & \\\n",
    "                                            (~pd.Series(full_cont[model].xs(changing_model_date)).isin(today_prest_kick)) & \\\n",
    "                                            (pd.Series(full_cont[model].xs(changing_model_date)).isin(keeping)) & \\\n",
    "                                            (~pd.Series(full_cont[model].xs(changing_model_date)).isin([18,601258,600255,600518,587,\\\n",
    "                                                        603101,600172,600221,600515,600555,600568,600856,506,603619,\\\n",
    "                                                        600525,600119,835,981,600069,600715,662,600112,760,600651,600086,2606,408,\\\n",
    "                                                        600083,600179,806,752,600891,600462,820,600687,600615,600747,982,600485,2477,571,\\\n",
    "                                                        600634,971,600701,600240,939,48,600614,600666,600807,600289]))].tolist()\n",
    "                else:\n",
    "                    ranked_stock_universe = pd.Series(full_cont[model].xs(changing_model_date))[\\\n",
    "                                            (~pd.Series(full_cont[model].xs(changing_model_date)).isin(STcode)) & \\\n",
    "                                            (~pd.Series(full_cont[model].xs(changing_model_date)).isin(yester_amt)) & \\\n",
    "                                            (~pd.Series(full_cont[model].xs(changing_model_date)).isin(today_prest_kick)) & \\\n",
    "                                            (pd.Series(full_cont[model].xs(changing_model_date)).isin(keeping))].tolist()\n",
    "            portfolio = ranked_stock_universe[:buy_num]\n",
    "            portfolio_weight = pd.Series([1/len(portfolio)]*len(portfolio),index=portfolio)\n",
    "            df = industry_ind.loc[portfolio]\n",
    "            df['weight'] = portfolio_weight\n",
    "            df['indcode'] = industry_ind.loc[df.index]\n",
    "            df['name'] = code_to_name.loc[df.index]\n",
    "            df.reset_index(inplace=True)\n",
    "            df = df.loc[:,['name','index','ind','indcode','weight']]\n",
    "            df.columns = ['股票名称','股票代码','所属行业','行业代码','资金占比']\n",
    "            txt_df = pd.DataFrame()\n",
    "            txt_df['证券代码'] = ['0'*(6-len(str(i)))+str(i) for i in df['股票代码']]\n",
    "            txt_df['证券名称'] = df['股票名称']\n",
    "            txt_df['每股份数'] = 100.00\n",
    "            txt_df['金额比例'] = [round(i*100,4) for i in df['资金占比']]\n",
    "            txt_df[''] = ''\n",
    "            if special_flag == 1:\n",
    "                if amt_limitation == 0:\n",
    "                    generated_str = model+'_'+version_num[model]+'_'+universe+'_'+str(buy_num)+'支（原汁原味）'+'_'+str(changing_model_date)+'（'+account_name+'）'+'.txt'\n",
    "                else:\n",
    "                    generated_str = model+'_'+version_num[model]+'_'+universe+'_'+str(buy_num)+'支'+'_'+str(changing_model_date)+'（'+account_name+'）'+'.txt'\n",
    "                print(dealer)\n",
    "            else:\n",
    "                if amt_limitation == 0:\n",
    "                    generated_str = model+'_'+version_num[model]+'_'+universe+'_'+str(buy_num)+'支（原汁原味）'+'_'+str(changing_model_date)+'.txt'\n",
    "                else:\n",
    "                    generated_str = model+'_'+version_num[model]+'_'+universe+'_'+str(buy_num)+'支'+'_'+str(changing_model_date)+'.txt'\n",
    "            print(generated_str)\n",
    "        model = single_account_str.split('(')[-1].split('_')[0]\n",
    "        #txt_df.to_csv(generated_str, encoding = 'gbk', index=False)\n",
    "        txt_df['产品标识'] = account_code\n",
    "        model_capital = changing_model_capital\n",
    "        txt_df['任务资金'] = round(txt_df['金额比例']/100 * model_capital)\n",
    "        txt_df['模型'] = changing_model_marker\n",
    "        full_txt_df = pd.concat([full_txt_df, txt_df])\n",
    "        print(type(model_capital), model_capital)\n",
    "        print()"
   ]
  },
  {
   "cell_type": "code",
   "execution_count": null,
   "metadata": {
    "ExecuteTime": {
     "end_time": "2019-08-23T01:00:55.500700Z",
     "start_time": "2019-08-23T01:00:55.490754Z"
    },
    "collapsed": true
   },
   "outputs": [],
   "source": [
    "full_txt_df['证券代码'] = full_txt_df['证券代码'].astype(int)\n",
    "full_txt_df['任务资金'] = full_txt_df['任务资金'].astype(int)\n",
    "full_txt_df['任务股数'] = np.nan\n",
    "full_txt_df['方向'] = '多'"
   ]
  },
  {
   "cell_type": "code",
   "execution_count": null,
   "metadata": {
    "collapsed": true
   },
   "outputs": [],
   "source": []
  },
  {
   "cell_type": "code",
   "execution_count": null,
   "metadata": {
    "collapsed": true
   },
   "outputs": [],
   "source": []
  },
  {
   "cell_type": "code",
   "execution_count": null,
   "metadata": {
    "ExecuteTime": {
     "end_time": "2019-08-23T01:22:35.681198Z",
     "start_time": "2019-08-23T01:22:35.675213Z"
    },
    "collapsed": true
   },
   "outputs": [],
   "source": [
    "#2日要买的部分"
   ]
  },
  {
   "cell_type": "code",
   "execution_count": null,
   "metadata": {
    "ExecuteTime": {
     "end_time": "2019-08-23T01:22:35.900612Z",
     "start_time": "2019-08-23T01:22:35.890638Z"
    },
    "collapsed": true
   },
   "outputs": [],
   "source": [
    "os.chdir(r'C:/Users/bj/Desktop/刘泽丹/Code/')"
   ]
  },
  {
   "cell_type": "code",
   "execution_count": null,
   "metadata": {
    "ExecuteTime": {
     "end_time": "2019-08-23T01:22:36.169918Z",
     "start_time": "2019-08-23T01:22:36.010342Z"
    },
    "collapsed": true
   },
   "outputs": [],
   "source": [
    "special_treatment = np.array(pd.read_excel('两日模型要买资金.xlsx')[pd.read_excel('两日模型要买资金.xlsx')['买入资金']!=0]).tolist()"
   ]
  },
  {
   "cell_type": "code",
   "execution_count": null,
   "metadata": {
    "ExecuteTime": {
     "end_time": "2019-08-23T01:22:36.188849Z",
     "start_time": "2019-08-23T01:22:36.176873Z"
    },
    "scrolled": true
   },
   "outputs": [],
   "source": [
    "special_treatment"
   ]
  },
  {
   "cell_type": "code",
   "execution_count": null,
   "metadata": {
    "ExecuteTime": {
     "end_time": "2019-08-23T01:22:36.346431Z",
     "start_time": "2019-08-23T01:22:36.322482Z"
    },
    "code_folding": [],
    "scrolled": true
   },
   "outputs": [],
   "source": [
    "if use_excel:\n",
    "    print('in track')\n",
    "    os.chdir(r'C:/Users/bj/Desktop/刘泽丹/Code/')\n",
    "    full_cont['K4'].loc[int_today] = pd.read_csv('prospect_K4.csv',header = None).iloc[:,-1].tolist()\n",
    "    #full_cont['K5'].loc[int_today] = pd.read_csv('prospect_K5.csv',header = None).iloc[:,-1].tolist()\n",
    "    full_cont['K6'].loc[int_today] = pd.read_csv('prospect_K6.csv',header = None).iloc[:,-1].tolist()\n",
    "    full_cont['K7'].loc[int_today] = pd.read_csv('prospect_K7.csv',header = None).iloc[:,-1].tolist()"
   ]
  },
  {
   "cell_type": "code",
   "execution_count": null,
   "metadata": {
    "ExecuteTime": {
     "end_time": "2019-08-23T01:23:02.976204Z",
     "start_time": "2019-08-23T01:22:36.510979Z"
    },
    "code_folding": [
     2,
     9,
     44,
     48,
     50,
     60,
     136,
     194
    ],
    "scrolled": true
   },
   "outputs": [],
   "source": [
    "full_special_treatment = pd.DataFrame()\n",
    "full_special_treatment_personal = pd.DataFrame()\n",
    "for special_treatment_portfolio_info in special_treatment:\n",
    "    account_code = special_treatment_portfolio_info[0]\n",
    "    account_name = special_treatment_portfolio_info[1]\n",
    "    account_str = special_treatment_portfolio_info[2].split('+')\n",
    "    special_treatment_date = int_today\n",
    "    special_treatment_date_yesterday = int_yesterday\n",
    "    special_treatment_capital = special_treatment_portfolio_info[3]\n",
    "    if account_code.replace('TH','HQ') in special_treat:\n",
    "        special_flag = 1\n",
    "        if account_name in ['金湖宏观量化一期','金湖一号','金湖AI对冲十三期','德聚仁和三号','红墙泰和对冲六号','对冲二十五期']:\n",
    "            keeping = subhaitong\n",
    "            dealer = '海通'\n",
    "        elif account_name in ['于微','金湖AI对冲十八期']:\n",
    "            keeping = subhuafu\n",
    "            dealer = '华福'\n",
    "        elif account_name in ['金湖AI对冲五十期','金湖AI对冲二十二期','九期龙哥','金湖增强四期','金湖AI对冲十期','无量稳健六号',\\\n",
    "                              '私享五号信用','金湖中性对冲六号','红墙泰和指数增强七期']:\n",
    "            keeping = subyinhe\n",
    "            dealer = '银河'\n",
    "        elif account_name in ['']:\n",
    "            keeping = subguoxin\n",
    "            dealer = '国信'\n",
    "        elif account_name in ['金湖AI对冲五十七期']:\n",
    "            keeping = subguosheng\n",
    "            dealer = '国盛'\n",
    "        elif account_name in ['圭源金湖启航','金湖聚乐盈1号','无量稳健二号','无量稳健二号分仓']:\n",
    "            keeping = subhuatai\n",
    "            dealer = '华泰'\n",
    "        elif account_name in ['圭源腾飞10号信用']:\n",
    "            keeping = subpingan\n",
    "            dealer = '平安'\n",
    "        elif account_name in ['金湖AI对冲四十五期','金湖AI对冲四十五期分仓']:\n",
    "            keeping = sublianxun\n",
    "            dealer = '联讯'\n",
    "        elif account_name in ['私享八号']:\n",
    "            keeping = subcaitong\n",
    "            dealer = '财通'\n",
    "        elif account_name in ['金湖AI对冲十五期']:\n",
    "            keeping = subzhongxin\n",
    "            dealer = '中信'\n",
    "        else:\n",
    "            print('#######################################################################################')\n",
    "    else:\n",
    "        special_flag = 0\n",
    "        keeping = all_stocks\n",
    "        dealer = '非信用'\n",
    "    if int_today in prest_kick.index.tolist():\n",
    "        today_prest_kick = prest_kick.xs(int_today).dropna().tolist()\n",
    "    else:\n",
    "        today_prest_kick = []\n",
    "    print(today_prest_kick)\n",
    "    ###\n",
    "    STcode = [int(stock) for stock in STcode_by_date.xs(int_yesterday).dropna().tolist()]\n",
    "    print(account_name)\n",
    "    for single_account_str in account_str:\n",
    "        print(today_prest_kick)\n",
    "        model = single_account_str.split('(')[-1].split('_')[0]\n",
    "        universe = preset_hold_days(model, return_universe = 'long')[1]\n",
    "        if '市值' in single_account_str:\n",
    "            divider = 2; multiplier = 0\n",
    "            special = '市值'\n",
    "            first_n = int(single_account_str.split('支')[0].split('_')[-2])\n",
    "            ind_num = int(single_account_str.split('支')[0].split('_')[-3])\n",
    "            ranked_stock_universe = pd.Series(full_cont[model].xs(special_treatment_date))[\\\n",
    "                                        (~pd.Series(full_cont[model].xs(special_treatment_date)).isin(STcode))].tolist()\n",
    "            yester_mkt_cap = mkt_cap_ard.xs(special_treatment_date_yesterday).loc[ranked_stock_universe]\n",
    "            def aa(df):\n",
    "                def standardize(ts):\n",
    "                    ts = ts.copy().dropna()\n",
    "                    return (ts - ts.mean()) / ts.std()\n",
    "                return(standardize(df.iloc[:,1]).sort_values(ascending=False))\n",
    "            ranked_with_industry_ind = industry_ind.loc[ranked_stock_universe]\n",
    "            standardized_yester_mkt_cap = pd.concat([ranked_with_industry_ind,yester_mkt_cap],axis=1).groupby('ind').apply(aa)\n",
    "            standardized_yester_mkt_cap.fillna(0,inplace=True)\n",
    "            ranked_with_industry_ind['rank'] = range(len(ranked_with_industry_ind))\n",
    "            portfolio = []\n",
    "            #for ind in ranked_with_industry_ind.groupby('ind').mean().sort_values('rank').index.tolist()[:first_n]:\n",
    "            for ind in ((ranked_with_industry_ind.drop_duplicates(subset = ['ind'], keep = 'first').set_index('ind')*multiplier + \\\n",
    "                ranked_with_industry_ind.iloc[:int(len(ranked_with_industry_ind)*(1/divider))].groupby('ind').mean())['rank']).loc[\\\n",
    "                ranked_with_industry_ind.iloc[:int(len(ranked_with_industry_ind)*(1/divider))].groupby('ind').count()['rank'][\\\n",
    "                ranked_with_industry_ind.iloc[:int(len(ranked_with_industry_ind)*(1/divider))].groupby('ind').count()['rank']>=ind_num\n",
    "                ].index.tolist()].sort_values().index.tolist()[:first_n]:\n",
    "                if account_code in ['HQHX1',] and int_today >= 20190718:\n",
    "                    portfolio += ranked_with_industry_ind[(ranked_with_industry_ind.index.isin(keeping))&\\\n",
    "                        (ranked_with_industry_ind['ind'] == ind)&\\\n",
    "                        (~ranked_with_industry_ind.index.isin(today_prest_kick))&\\\n",
    "                        (~ranked_with_industry_ind.index.isin([18,601258,600255,600518,587,\\\n",
    "                        603101,600172,600221,600515,600555,600568,600856,506,603619,\\\n",
    "                        600525,600119,835,981,600069,600715,662,600112,760,600651,600086,2606,408,\\\n",
    "                        600083,600179,806,752,600891,600462,820,600687,600615,600747,982,600485,2477,571,\\\n",
    "                        600634,971,600701,600240,939,48,600614,600666,600807,600289]))].iloc[:ind_num].index.tolist()\n",
    "                else:\n",
    "                    portfolio += ranked_with_industry_ind[(ranked_with_industry_ind.index.isin(keeping))&\\\n",
    "                        (ranked_with_industry_ind['ind'] == ind)&\\\n",
    "                        (~ranked_with_industry_ind.index.isin(today_prest_kick))].iloc[:ind_num].index.tolist()\n",
    "            portfolio_origin = []\n",
    "            #for ind in ranked_with_industry_ind.groupby('ind').mean().sort_values('rank').index.tolist()[:first_n]:\n",
    "            for ind in ((ranked_with_industry_ind.drop_duplicates(subset = ['ind'], keep = 'first').set_index('ind')*multiplier + \\\n",
    "                ranked_with_industry_ind.iloc[:int(len(ranked_with_industry_ind)*(1/divider))].groupby('ind').mean())['rank']).loc[\\\n",
    "                ranked_with_industry_ind.iloc[:int(len(ranked_with_industry_ind)*(1/divider))].groupby('ind').count()['rank'][\\\n",
    "                ranked_with_industry_ind.iloc[:int(len(ranked_with_industry_ind)*(1/divider))].groupby('ind').count()['rank']>=ind_num\n",
    "                ].index.tolist()].sort_values().index.tolist()[:first_n]:\n",
    "                portfolio_origin += ranked_with_industry_ind[(ranked_with_industry_ind['ind'] == ind)].iloc[:ind_num].index.tolist()\n",
    "            standardized_yester_mkt_cap = standardized_yester_mkt_cap.reset_index().set_index('level_1').loc[portfolio]\n",
    "            standardized_yester_mkt_cap['quantile'] = scs.norm.cdf(standardized_yester_mkt_cap.reset_index().set_index('level_1').\\\n",
    "                loc[portfolio].iloc[:,1])\n",
    "            portfolio_weight = pd.Series([stock_weight/standardized_yester_mkt_cap['quantile'].sum() \\\n",
    "                for stock_weight in standardized_yester_mkt_cap['quantile']],index=portfolio)\n",
    "            while(True):\n",
    "                if portfolio_weight.max() / portfolio_weight.min() <= 3:\n",
    "                    break\n",
    "                else:\n",
    "                    portfolio_weight = portfolio_weight - (portfolio_weight - portfolio_weight.mean())/2\n",
    "            df = industry_ind.loc[portfolio]\n",
    "            df['weight'] = portfolio_weight\n",
    "            df['indcode'] = industry_ind.loc[df.index]\n",
    "            df['name'] = code_to_name.loc[df.index]\n",
    "            df.reset_index(inplace=True)\n",
    "            df = df.loc[:,['name','index','ind','indcode','weight']]\n",
    "            df.columns = ['股票名称','股票代码','所属行业','行业代码','资金占比']\n",
    "            txt_df = pd.DataFrame()\n",
    "            txt_df['股票代码'] = ['0'*(6-len(str(i)))+str(i) for i in df['股票代码']]\n",
    "            txt_df['股票名称'] = df['股票名称']\n",
    "            txt_df['每股份数'] = 100.00\n",
    "            txt_df['金额比例'] = [round(i*100,4) for i in df['资金占比']]\n",
    "            txt_df[''] = ''\n",
    "            print('共计：',df['股票代码'].isin(keeping).sum(),'   受影响：',([stock for stock in portfolio_origin if stock not in portfolio]),\\\n",
    "                      '   替换为：',([stock for stock in portfolio if stock not in portfolio_origin]))\n",
    "            if special_flag == 1:\n",
    "                generated_str = model+'_'+version_num[model]+'_'+universe+'_'+str(special_treatment_date)+'_市值行业_'+str(ind_num)+'_'+str(first_n)+'（'+account_name+'）'+'.txt'\n",
    "                print(dealer)\n",
    "            else:\n",
    "                generated_str = model+'_'+version_num[model]+'_'+universe+'_'+str(special_treatment_date)+'_市值行业_'+str(ind_num)+'_'+str(first_n)+'.txt'\n",
    "            print(generated_str)\n",
    "        elif '原味' in single_account_str:\n",
    "            special = '原味'\n",
    "            buy_num = int(single_account_str.split('支')[0].split('_')[-1])\n",
    "            amt_limitation = 0\n",
    "            if amt_limitation != 0:\n",
    "                yester_amt = amt.xs(special_treatment_date_yesterday).fillna(0)\n",
    "                yester_amt = yester_amt[~(yester_amt>amt_limitation)].index.tolist()\n",
    "            else:\n",
    "                yester_amt = []\n",
    "            if account_code in ['HQHX1',] and int_today >= 20190718:\n",
    "                ranked_stock_universe = pd.Series(full_cont[model].xs(int_today))[\\\n",
    "                                        (~pd.Series(full_cont[model].xs(int_today)).isin(STcode)) & \\\n",
    "                                        (~pd.Series(full_cont[model].xs(int_today)).isin(yester_amt)) & \\\n",
    "                                        (~pd.Series(full_cont[model].xs(int_today)).isin(today_prest_kick)) & \\\n",
    "                                        (pd.Series(full_cont[model].xs(int_today)).isin(keeping)) & \\\n",
    "                                        (~pd.Series(full_cont[model].xs(int_today)).isin([18,601258,600255,600518,587,\\\n",
    "                                                    603101,600172,600221,600515,600555,600568,600856,506,603619,\\\n",
    "                                                    600525,600119,835,981,600069,600715,662,600112,760,600651,600086,2606,408,\\\n",
    "                                                    600083,600179,806,752,600891,600462,820,600687,600615,600747,982,600485,2477,571,\\\n",
    "                                                    600634,971,600701,600240,939,48,600614,600666,600807,600289]))].tolist()\n",
    "            else:\n",
    "                ranked_stock_universe = pd.Series(full_cont[model].xs(int_today))[\\\n",
    "                                        (~pd.Series(full_cont[model].xs(int_today)).isin(STcode)) & \\\n",
    "                                        (~pd.Series(full_cont[model].xs(int_today)).isin(yester_amt)) & \\\n",
    "                                        (~pd.Series(full_cont[model].xs(int_today)).isin(today_prest_kick)) & \\\n",
    "                                        (pd.Series(full_cont[model].xs(int_today)).isin(keeping))].tolist()\n",
    "            portfolio = ranked_stock_universe[:buy_num]\n",
    "            ranked_stock_universe_origin = [st for st in full_cont[model].xs(special_treatment_date) if st not in STcode \\\n",
    "                                            and st not in yester_amt]\n",
    "            portfolio_origin = ranked_stock_universe_origin[:buy_num]\n",
    "            portfolio_weight = pd.Series([1/len(portfolio)]*len(portfolio),index=portfolio)\n",
    "            df = industry_ind.loc[portfolio]\n",
    "            df['weight'] = portfolio_weight\n",
    "            df['indcode'] = industry_ind.loc[df.index]\n",
    "            df['name'] = code_to_name.loc[df.index]\n",
    "            df.reset_index(inplace=True)\n",
    "            df = df.loc[:,['name','index','ind','indcode','weight']]\n",
    "            df.columns = ['股票名称','股票代码','所属行业','行业代码','资金占比']\n",
    "            txt_df = pd.DataFrame()\n",
    "            txt_df['股票代码'] = ['0'*(6-len(str(i)))+str(i) for i in df['股票代码']]\n",
    "            txt_df['股票名称'] = df['股票名称']\n",
    "            txt_df['每股份数'] = 100.00\n",
    "            txt_df['金额比例'] = [round(i*100,4) for i in df['资金占比']]\n",
    "            txt_df[''] = ''\n",
    "            print('共计：',df['股票代码'].isin(keeping).sum(),'   受影响：',([stock for stock in portfolio_origin if stock not in portfolio]),\\\n",
    "                      '   替换为：',([stock for stock in portfolio if stock not in portfolio_origin]))\n",
    "            if special_flag == 1:\n",
    "                if amt_limitation == 0:\n",
    "                    generated_str = model+'_'+version_num[model]+'_'+universe+'_'+str(buy_num)+'支（原汁原味）'+'_'+str(special_treatment_date)+'（'+account_name+'）'+'.txt'\n",
    "                else:\n",
    "                    generated_str = model+'_'+version_num[model]+'_'+universe+'_'+str(buy_num)+'支'+'_'+str(special_treatment_date)+'（'+account_name+'）'+'.txt'\n",
    "                print(dealer)\n",
    "            else:\n",
    "                if amt_limitation == 0:\n",
    "                    generated_str = model+'_'+version_num[model]+'_'+universe+'_'+str(buy_num)+'支（原汁原味）'+'_'+str(special_treatment_date)+'.txt'\n",
    "                else:\n",
    "                    generated_str = model+'_'+version_num[model]+'_'+universe+'_'+str(buy_num)+'支'+'_'+str(special_treatment_date)+'.txt'\n",
    "            print(generated_str)\n",
    "        elif '沪深' in single_account_str:\n",
    "            special = '沪深'\n",
    "            buy_num = int(single_account_str.split('支')[0].split('_')[-1])\n",
    "            amt_limitation = 50000000\n",
    "            if amt_limitation != 0:\n",
    "                yester_amt = amt.xs(special_treatment_date_yesterday).fillna(0)\n",
    "                yester_amt = yester_amt[~(yester_amt>amt_limitation)].index.tolist()\n",
    "            else:\n",
    "                yester_amt = []\n",
    "            ranked_stock_universe = pd.Series(full_cont[model].xs(special_treatment_date))[\\\n",
    "                                    (~pd.Series(full_cont[model].xs(special_treatment_date)).isin(STcode)) & \\\n",
    "                                    (~pd.Series(full_cont[model].xs(special_treatment_date)).isin(yester_amt))].tolist()\n",
    "            origin = ranked_stock_universe[:buy_num]\n",
    "            #HS300行业权重\n",
    "            members = hs300members.xs(special_treatment_date_yesterday).tolist()\n",
    "            mid_members_industry = (pd.concat([(\\\n",
    "                adjusted_weight_coef.xs(special_treatment_date_yesterday).loc[members]/\\\n",
    "                adjusted_weight_coef.xs(special_treatment_date_yesterday).loc[members]\\\n",
    "                .sum()).sort_values(),industry_ind['ind'].loc[members]],axis=1).groupby('ind').sum().iloc[:,0]*100)\\\n",
    "                .sort_values(ascending=False)\n",
    "            #ranked_stock_universe个股行业\n",
    "            ranked_with_industry = industry_ind.loc[ranked_stock_universe].dropna()\n",
    "            ranked_with_industry['rrank'] = range(len(ranked_with_industry))\n",
    "            exp = ranked_with_industry.sort_values('rrank').dropna()\n",
    "            exp['rank'] = range(1,len(exp)+1)\n",
    "            adj_list = []\n",
    "            name_list = []\n",
    "            for included_ind in exp['ind'].unique():\n",
    "                sub = exp[exp['ind'] == included_ind]\n",
    "                adjust = (exp['rank'].mean() - sub['rank'].mean()) * len(sub)\n",
    "                adj_list.append(adjust)\n",
    "                name_list.append(included_ind)\n",
    "            adj_list = [i/np.max(adj_list) * 20 for i in adj_list]\n",
    "            members_industry = pd.DataFrame(list(zip(name_list,adj_list))).set_index(0)[1] + mid_members_industry\n",
    "            members_industry = members_industry[members_industry>0]\n",
    "            members_industry = members_industry/members_industry.sum()\n",
    "            members_industry = round(members_industry.sort_values(ascending=False)*buy_num)\n",
    "            res = pd.concat([industry_ind.loc[origin]['ind'].value_counts()/buy_num * 100,\\\n",
    "                       members_industry/members_industry.sum() * 100,\\\n",
    "                       mid_members_industry],axis=1)\n",
    "            res.columns = ['origin','adjusted','hs300']\n",
    "            res.fillna(0,inplace=True)\n",
    "            res['result'] = (res['origin'] - res['adjusted']) * 1/2 + res['adjusted']\n",
    "            members_industry = round(res['result']/res['result'].sum() * buy_num)\n",
    "            portfolio = []\n",
    "            for indname in members_industry.index:\n",
    "                add = ranked_with_industry[(ranked_with_industry['ind'] == indname) &\\\n",
    "                    (ranked_with_industry.index.isin(keeping)) &\\\n",
    "                    (~ranked_with_industry.index.isin(today_prest_kick))].\\\n",
    "                    index.tolist()[:int(members_industry.xs(indname))]\n",
    "                portfolio += add\n",
    "            portfolio_origin = []\n",
    "            for indname in members_industry.index:\n",
    "                add = ranked_with_industry[(ranked_with_industry['ind'] == indname)].\\\n",
    "                    index.tolist()[:int(members_industry.xs(indname))]\n",
    "                portfolio_origin += add\n",
    "            p_data = adjusted_weight_coef.xs(special_treatment_date_yesterday).loc[portfolio]\n",
    "            portfolio_weight = p_data/(p_data.sum())\n",
    "            portfolio_weight = (portfolio_weight - (portfolio_weight - portfolio_weight.mean())/2).sort_values()\n",
    "            df = industry_ind.loc[portfolio]\n",
    "            df['weight'] = portfolio_weight\n",
    "            df['indcode'] = industry_ind.loc[df.index]\n",
    "            df['name'] = code_to_name.loc[df.index]\n",
    "            df.reset_index(inplace=True)\n",
    "            df = df.loc[:,['name','index','ind','indcode','weight']]\n",
    "            df.columns = ['股票名称','股票代码','所属行业','行业代码','资金占比']\n",
    "            txt_df = pd.DataFrame()\n",
    "            txt_df['股票代码'] = ['0'*(6-len(str(i)))+str(i) for i in df['股票代码']]\n",
    "            txt_df['股票名称'] = df['股票名称']\n",
    "            txt_df['每股份数'] = 100.00\n",
    "            txt_df['金额比例'] = [round(i*100,4) for i in df['资金占比']]\n",
    "            txt_df[''] = ''\n",
    "            print('共计：',df['股票代码'].isin(keeping).sum(),'   受影响：',([stock for stock in portfolio_origin if stock not in portfolio]),\\\n",
    "                      '   替换为：',([stock for stock in portfolio if stock not in portfolio_origin]))\n",
    "            if special_flag == 1:\n",
    "                generated_str = model+'_'+version_num[model]+'_'+universe+'_'+str(special_treatment_date)+'_HS300增强_'+str(buy_num)+'（'+account_name+'）'+'.txt'\n",
    "                print(dealer)\n",
    "            else:\n",
    "                generated_str = model+'_'+version_num[model]+'_'+universe+'_'+str(special_treatment_date)+'_HS300增强_'+str(buy_num)+'.txt'\n",
    "            print(generated_str)\n",
    "        else:\n",
    "            special = ''\n",
    "            buy_num = int(single_account_str.split('支')[0].split('_')[-1])\n",
    "            amt_limitation = 50000000\n",
    "            if out:\n",
    "                ranked_stock_universe = pd.Series(full_cont[model].xs(int_today))[\n",
    "                                            (~pd.Series(full_cont[model].xs(int_today)).isin(STcode)) & \\\n",
    "                                            (pd.Series(full_cont[model].xs(int_today)).isin(keeping))].tolist()\n",
    "            else:\n",
    "                if amt_limitation != 0:\n",
    "                    yester_amt = amt.xs(special_treatment_date_yesterday).fillna(0)\n",
    "                    yester_amt = yester_amt[~(yester_amt>amt_limitation)].index.tolist()\n",
    "                else:\n",
    "                    yester_amt = []\n",
    "                if account_code in ['HQHX1',] and int_today >= 20190718:\n",
    "                    ranked_stock_universe = pd.Series(full_cont[model].xs(int_today))[\\\n",
    "                                            (~pd.Series(full_cont[model].xs(int_today)).isin(STcode)) & \\\n",
    "                                            (~pd.Series(full_cont[model].xs(int_today)).isin(yester_amt)) & \\\n",
    "                                            (~pd.Series(full_cont[model].xs(int_today)).isin(today_prest_kick)) & \\\n",
    "                                            (pd.Series(full_cont[model].xs(int_today)).isin(keeping)) & \\\n",
    "                                            (~pd.Series(full_cont[model].xs(int_today)).isin([18,601258,600255,600518,587,\\\n",
    "                                                        603101,600172,600221,600515,600555,600568,600856,506,603619,\\\n",
    "                                                        600525,600119,835,981,600069,600715,662,600112,760,600651,600086,2606,408,\\\n",
    "                                                        600083,600179,806,752,600891,600462,820,600687,600615,600747,982,600485,2477,571,\\\n",
    "                                                        600634,971,600701,600240,939,48,600614,600666,600807,600289]))].tolist()\n",
    "                else:\n",
    "                    ranked_stock_universe = pd.Series(full_cont[model].xs(int_today))[\\\n",
    "                                            (~pd.Series(full_cont[model].xs(int_today)).isin(STcode)) & \\\n",
    "                                            (~pd.Series(full_cont[model].xs(int_today)).isin(yester_amt)) & \\\n",
    "                                            (~pd.Series(full_cont[model].xs(int_today)).isin(today_prest_kick)) & \\\n",
    "                                            (pd.Series(full_cont[model].xs(int_today)).isin(keeping))].tolist()\n",
    "            portfolio = ranked_stock_universe[:buy_num]\n",
    "            portfolio_weight = pd.Series([1/len(portfolio)]*len(portfolio),index=portfolio)\n",
    "            df = industry_ind.loc[portfolio]\n",
    "            df['weight'] = portfolio_weight\n",
    "            df['indcode'] = industry_ind.loc[df.index]\n",
    "            df['name'] = code_to_name.loc[df.index]\n",
    "            df.reset_index(inplace=True)\n",
    "            df = df.loc[:,['name','index','ind','indcode','weight']]\n",
    "            df.columns = ['股票名称','股票代码','所属行业','行业代码','资金占比']\n",
    "            txt_df = pd.DataFrame()\n",
    "            txt_df['股票代码'] = ['0'*(6-len(str(i)))+str(i) for i in df['股票代码']]\n",
    "            txt_df['股票名称'] = df['股票名称']\n",
    "            txt_df['每股份数'] = 100.00\n",
    "            txt_df['金额比例'] = [round(i*100,4) for i in df['资金占比']]\n",
    "            txt_df[''] = ''\n",
    "        model = single_account_str.split('(')[-1].split('_')[0]\n",
    "        model_capital = special_treatment_capital\n",
    "        txt_df['任务资金'] = round(txt_df['金额比例']/100 * model_capital)\n",
    "        txt_df['昨收'] = close.iloc[-1].loc[txt_df['股票代码'].astype(int)].tolist()\n",
    "        txt_df['总股数'] = ((txt_df['任务资金']/txt_df['昨收'])//100*100).tolist()\n",
    "        txt_df.dropna(inplace = True)\n",
    "        personal_txt_df = txt_df[['股票代码','股票名称','任务资金','总股数']]\n",
    "        txt_df = txt_df[['股票代码','股票名称','总股数']]\n",
    "        txt_df['总股数'] = txt_df['总股数'].astype(int)\n",
    "        txt_df['产品标识'] = account_code\n",
    "        personal_txt_df['模型'] = model\n",
    "        personal_txt_df['产品标识'] = account_code\n",
    "        full_special_treatment = pd.concat([full_special_treatment, txt_df])\n",
    "        full_special_treatment_personal = pd.concat([full_special_treatment_personal, personal_txt_df])\n",
    "        print(type(model_capital), model_capital)\n",
    "        print()\n",
    "full_special_treatment.to_excel('2days.xlsx', index = False, encoding = 'gbk')\n",
    "full_special_treatment_personal.to_excel(str(int_today)+'_2days.xlsx', index = False, encoding = 'gbk')"
   ]
  },
  {
   "cell_type": "code",
   "execution_count": null,
   "metadata": {
    "ExecuteTime": {
     "end_time": "2019-08-23T01:23:03.005104Z",
     "start_time": "2019-08-23T01:23:02.982161Z"
    },
    "collapsed": true
   },
   "outputs": [],
   "source": [
    "full = full_special_treatment_personal.groupby(['产品标识','股票代码']).sum().reset_index()\n",
    "full['股票名称'] = code_to_name.loc[full['股票代码'].astype(int)].tolist()"
   ]
  },
  {
   "cell_type": "markdown",
   "metadata": {
    "ExecuteTime": {
     "end_time": "2019-08-21T06:19:54.152984Z",
     "start_time": "2019-08-21T06:19:40.524108Z"
    },
    "code_folding": [
     0
    ],
    "collapsed": true
   },
   "source": [
    "for account_code in full['产品标识'].unique().tolist():\n",
    "    account_name = pd.read_excel('两日模型要买资金.xlsx')[pd.read_excel('两日模型要买资金.xlsx')['代码'] == account_code].iloc[0,1]\n",
    "    sub = full[full['产品标识'] == account_code]\n",
    "    sub[''] = ''\n",
    "    sub = sub[['股票代码','股票名称','总股数','任务资金','',]]\n",
    "    sub[['总股数','任务资金',]] = sub[['总股数','任务资金',]].astype(int)\n",
    "    sub['任务资金'] = round(sub['任务资金']/sub['任务资金'].sum()*100,4)\n",
    "    sub.columns = [['证券代码','证券名称','总股数','金额比例','']]\n",
    "    sub.to_csv(account_code+account_name+' '+str(int_today)+'.txt',index=False,encoding='gbk')"
   ]
  },
  {
   "cell_type": "markdown",
   "metadata": {
    "ExecuteTime": {
     "end_time": "2019-08-20T00:45:44.439026Z",
     "start_time": "2019-08-20T00:45:31.098875Z"
    },
    "code_folding": [
     0
    ],
    "collapsed": true
   },
   "source": [
    "for account_code in full['产品标识'].unique().tolist():\n",
    "    account_name = pd.read_excel('两日模型要买资金.xlsx')[pd.read_excel('两日模型要买资金.xlsx')['代码'] == account_code].iloc[0,1]\n",
    "    sub = full[full['产品标识'] == account_code]\n",
    "    sub[''] = ''\n",
    "    sub = sub[['股票代码','股票名称','总股数','任务资金','',]]\n",
    "    sub[['总股数','任务资金',]] = sub[['总股数','任务资金',]].astype(int)\n",
    "    sub['任务资金'] = sub['任务资金']/sub['任务资金'].sum()*100\n",
    "    sub.columns = ['证券代码','证券名称','每股份数','金额比例','']\n",
    "    sub.to_excel(account_code+account_name+' '+str(int_today)+'_s.xlsx',index=False,encoding='gbk')"
   ]
  },
  {
   "cell_type": "code",
   "execution_count": null,
   "metadata": {
    "ExecuteTime": {
     "end_time": "2019-08-23T01:23:14.008726Z",
     "start_time": "2019-08-23T01:23:03.017068Z"
    },
    "code_folding": [
     0
    ],
    "collapsed": true
   },
   "outputs": [],
   "source": [
    "for account_code in full['产品标识'].unique().tolist():\n",
    "    account_name = pd.read_excel('两日模型要买资金.xlsx')[pd.read_excel('两日模型要买资金.xlsx')['代码'] == account_code].iloc[0,1]\n",
    "    sub = full[full['产品标识'] == account_code]\n",
    "    sub[''] = ''\n",
    "    sub = sub[['股票代码','股票名称','任务资金','总股数',]]\n",
    "    sub[['任务资金','总股数']] = sub[['任务资金','总股数']].astype(int)\n",
    "    sub['成交数量'] = sub['总股数']\n",
    "    sub.columns = ['证券代码','证券名称','任务资金','委托数量','成交数量']\n",
    "    sub.to_excel(account_code+account_name+' '+str(int_today)+'委托单.xlsx',index=False,encoding='gbk')"
   ]
  },
  {
   "cell_type": "code",
   "execution_count": null,
   "metadata": {
    "ExecuteTime": {
     "end_time": "2019-08-23T01:23:14.045626Z",
     "start_time": "2019-08-23T01:23:14.019696Z"
    },
    "collapsed": true
   },
   "outputs": [],
   "source": [
    "full_special_treatment_buy = full_special_treatment_personal.copy()\n",
    "full_special_treatment_buy['任务股数'] = np.nan\n",
    "full_special_treatment_buy['方向'] = '多'\n",
    "full_special_treatment_buy = full_special_treatment_buy[['产品标识','股票代码','任务资金','任务股数','方向']]"
   ]
  },
  {
   "cell_type": "code",
   "execution_count": null,
   "metadata": {
    "ExecuteTime": {
     "end_time": "2019-08-23T01:23:14.348821Z",
     "start_time": "2019-08-23T01:23:14.055601Z"
    },
    "collapsed": true
   },
   "outputs": [],
   "source": [
    "full_special_treatment_buy.to_excel('总任务管理表_买入_2日.xlsx', index = False, encoding = 'gbk')"
   ]
  },
  {
   "cell_type": "code",
   "execution_count": null,
   "metadata": {
    "ExecuteTime": {
     "end_time": "2019-08-23T01:23:15.052931Z",
     "start_time": "2019-08-23T01:23:14.363775Z"
    },
    "collapsed": true
   },
   "outputs": [],
   "source": [
    "pd.concat([full_special_treatment_buy, pd.read_excel('总任务管理表_卖出_2日.xlsx')]).to_excel('总任务管理表_2日.xlsx', index = False, encoding = 'gbk')"
   ]
  },
  {
   "cell_type": "code",
   "execution_count": null,
   "metadata": {
    "collapsed": true
   },
   "outputs": [],
   "source": []
  },
  {
   "cell_type": "code",
   "execution_count": null,
   "metadata": {
    "collapsed": true
   },
   "outputs": [],
   "source": []
  },
  {
   "cell_type": "code",
   "execution_count": null,
   "metadata": {
    "collapsed": true
   },
   "outputs": [],
   "source": []
  },
  {
   "cell_type": "code",
   "execution_count": null,
   "metadata": {
    "ExecuteTime": {
     "end_time": "2019-08-23T01:47:36.473700Z",
     "start_time": "2019-08-23T01:47:36.469710Z"
    },
    "collapsed": true
   },
   "outputs": [],
   "source": [
    "#建仓、补仓要买的部分"
   ]
  },
  {
   "cell_type": "code",
   "execution_count": null,
   "metadata": {
    "ExecuteTime": {
     "end_time": "2019-08-23T01:47:36.656210Z",
     "start_time": "2019-08-23T01:47:36.647234Z"
    },
    "collapsed": true
   },
   "outputs": [],
   "source": [
    "os.chdir(r'C:/Users/bj/Desktop/刘泽丹/Code/')"
   ]
  },
  {
   "cell_type": "code",
   "execution_count": null,
   "metadata": {
    "ExecuteTime": {
     "end_time": "2019-08-23T01:47:37.291537Z",
     "start_time": "2019-08-23T01:47:36.869640Z"
    },
    "collapsed": true
   },
   "outputs": [],
   "source": [
    "special_treatment = np.array(pd.read_excel('手动补仓模型要买资金.xlsx')[pd.read_excel('手动补仓模型要买资金.xlsx')['买入资金']!=0]).tolist()"
   ]
  },
  {
   "cell_type": "code",
   "execution_count": null,
   "metadata": {
    "ExecuteTime": {
     "end_time": "2019-08-23T01:47:37.321431Z",
     "start_time": "2019-08-23T01:47:37.302481Z"
    },
    "scrolled": true
   },
   "outputs": [],
   "source": [
    "special_treatment"
   ]
  },
  {
   "cell_type": "code",
   "execution_count": null,
   "metadata": {
    "ExecuteTime": {
     "end_time": "2019-08-23T01:47:43.914825Z",
     "start_time": "2019-08-23T01:47:38.116363Z"
    },
    "code_folding": [
     2,
     9,
     45,
     49,
     51,
     61,
     137,
     195,
     275
    ],
    "scrolled": true
   },
   "outputs": [],
   "source": [
    "full_special_treatment = pd.DataFrame()\n",
    "full_special_treatment_personal = pd.DataFrame()\n",
    "for special_treatment_portfolio_info in special_treatment:\n",
    "    account_code = special_treatment_portfolio_info[0]\n",
    "    account_name = special_treatment_portfolio_info[1]\n",
    "    account_str = special_treatment_portfolio_info[2].split('+')\n",
    "    special_treatment_date = special_treatment_portfolio_info[4]\n",
    "    special_treatment_date_yesterday = int(get_n_week_date_before(str(special_treatment_date)))\n",
    "    special_treatment_capital = special_treatment_portfolio_info[3]\n",
    "    if account_code.replace('RB','HQ') in special_treat:\n",
    "        special_flag = 1\n",
    "        if account_name in ['金湖宏观量化一期','金湖一号','金湖AI对冲十三期','德聚仁和三号','红墙泰和对冲六号','对冲二十五期']:\n",
    "            keeping = subhaitong\n",
    "            dealer = '海通'\n",
    "        elif account_name in ['于微','金湖AI对冲十八期']:\n",
    "            keeping = subhuafu\n",
    "            dealer = '华福'\n",
    "        elif account_name in ['金湖AI对冲五十期','金湖AI对冲二十二期','九期龙哥','金湖增强四期','金湖AI对冲十期','无量稳健六号',\\\n",
    "                              '私享五号信用','金湖中性对冲六号','红墙泰和指数增强七期']:\n",
    "            keeping = subyinhe\n",
    "            dealer = '银河'\n",
    "        elif account_name in ['']:\n",
    "            keeping = subguoxin\n",
    "            dealer = '国信'\n",
    "        elif account_name in ['金湖AI对冲五十七期']:\n",
    "            keeping = subguosheng\n",
    "            dealer = '国盛'\n",
    "        elif account_name in ['圭源金湖启航','金湖聚乐盈1号','无量稳健二号','无量稳健二号分仓']:\n",
    "            keeping = subhuatai\n",
    "            dealer = '华泰'\n",
    "        elif account_name in ['圭源腾飞10号信用']:\n",
    "            keeping = subpingan\n",
    "            dealer = '平安'\n",
    "        elif account_name in ['金湖AI对冲四十五期','金湖AI对冲四十五期分仓']:\n",
    "            keeping = sublianxun\n",
    "            dealer = '联讯'\n",
    "        elif account_name in ['私享八号']:\n",
    "            keeping = subcaitong\n",
    "            dealer = '财通'\n",
    "        elif account_name in ['金湖AI对冲十五期']:\n",
    "            keeping = subzhongxin\n",
    "            dealer = '中信'\n",
    "        else:\n",
    "            print('#######################################################################################')\n",
    "        print(dealer)\n",
    "    else:\n",
    "        special_flag = 0\n",
    "        keeping = all_stocks\n",
    "        dealer = '非信用'\n",
    "    if int_today in prest_kick.index.tolist():\n",
    "        today_prest_kick = prest_kick.xs(int_today).dropna().tolist()\n",
    "    else:\n",
    "        today_prest_kick = []\n",
    "    print(today_prest_kick)\n",
    "    ###\n",
    "    STcode = [int(stock) for stock in STcode_by_date.xs(int_yesterday).dropna().tolist()]\n",
    "    print(account_name)\n",
    "    for single_account_str in account_str:\n",
    "        print(today_prest_kick)\n",
    "        model = single_account_str.split('(')[-1].split('_')[0]\n",
    "        universe = preset_hold_days(model, return_universe = 'long')[1]\n",
    "        if '市值' in single_account_str:\n",
    "            divider = 2; multiplier = 0\n",
    "            special = '市值'\n",
    "            first_n = int(single_account_str.split('支')[0].split('_')[-2])\n",
    "            ind_num = int(single_account_str.split('支')[0].split('_')[-3])\n",
    "            ranked_stock_universe = pd.Series(full_cont[model].xs(special_treatment_date))[\\\n",
    "                                        (~pd.Series(full_cont[model].xs(special_treatment_date)).isin(STcode))].tolist()\n",
    "            yester_mkt_cap = mkt_cap_ard.xs(special_treatment_date_yesterday).loc[ranked_stock_universe]\n",
    "            def aa(df):\n",
    "                def standardize(ts):\n",
    "                    ts = ts.copy().dropna()\n",
    "                    return (ts - ts.mean()) / ts.std()\n",
    "                return(standardize(df.iloc[:,1]).sort_values(ascending=False))\n",
    "            ranked_with_industry_ind = industry_ind.loc[ranked_stock_universe]\n",
    "            standardized_yester_mkt_cap = pd.concat([ranked_with_industry_ind,yester_mkt_cap],axis=1).groupby('ind').apply(aa)\n",
    "            standardized_yester_mkt_cap.fillna(0,inplace=True)\n",
    "            ranked_with_industry_ind['rank'] = range(len(ranked_with_industry_ind))\n",
    "            portfolio = []\n",
    "            #for ind in ranked_with_industry_ind.groupby('ind').mean().sort_values('rank').index.tolist()[:first_n]:\n",
    "            for ind in ((ranked_with_industry_ind.drop_duplicates(subset = ['ind'], keep = 'first').set_index('ind')*multiplier + \\\n",
    "                ranked_with_industry_ind.iloc[:int(len(ranked_with_industry_ind)*(1/divider))].groupby('ind').mean())['rank']).loc[\\\n",
    "                ranked_with_industry_ind.iloc[:int(len(ranked_with_industry_ind)*(1/divider))].groupby('ind').count()['rank'][\\\n",
    "                ranked_with_industry_ind.iloc[:int(len(ranked_with_industry_ind)*(1/divider))].groupby('ind').count()['rank']>=ind_num\n",
    "                ].index.tolist()].sort_values().index.tolist()[:first_n]:\n",
    "                if account_code in ['HQHX1',] and special_treatment_date >= 20190718:\n",
    "                    portfolio += ranked_with_industry_ind[(ranked_with_industry_ind.index.isin(keeping))&\\\n",
    "                        (ranked_with_industry_ind['ind'] == ind)&\\\n",
    "                        (~ranked_with_industry_ind.index.isin(today_prest_kick))&\\\n",
    "                        (~ranked_with_industry_ind.index.isin([18,601258,600255,600518,587,\\\n",
    "                        603101,600172,600221,600515,600555,600568,600856,506,603619,\\\n",
    "                        600525,600119,835,981,600069,600715,662,600112,760,600651,600086,2606,408,\\\n",
    "                        600083,600179,806,752,600891,600462,820,600687,600615,600747,982,600485,2477,571,\\\n",
    "                        600634,971,600701,600240,939,48,600614,600666,600807,600289]))].iloc[:ind_num].index.tolist()\n",
    "                else:\n",
    "                    portfolio += ranked_with_industry_ind[(ranked_with_industry_ind.index.isin(keeping))&\\\n",
    "                        (ranked_with_industry_ind['ind'] == ind)&\\\n",
    "                        (~ranked_with_industry_ind.index.isin(today_prest_kick))].iloc[:ind_num].index.tolist()\n",
    "            portfolio_origin = []\n",
    "            #for ind in ranked_with_industry_ind.groupby('ind').mean().sort_values('rank').index.tolist()[:first_n]:\n",
    "            for ind in ((ranked_with_industry_ind.drop_duplicates(subset = ['ind'], keep = 'first').set_index('ind')*multiplier + \\\n",
    "                ranked_with_industry_ind.iloc[:int(len(ranked_with_industry_ind)*(1/divider))].groupby('ind').mean())['rank']).loc[\\\n",
    "                ranked_with_industry_ind.iloc[:int(len(ranked_with_industry_ind)*(1/divider))].groupby('ind').count()['rank'][\\\n",
    "                ranked_with_industry_ind.iloc[:int(len(ranked_with_industry_ind)*(1/divider))].groupby('ind').count()['rank']>=ind_num\n",
    "                ].index.tolist()].sort_values().index.tolist()[:first_n]:\n",
    "                portfolio_origin += ranked_with_industry_ind[(ranked_with_industry_ind['ind'] == ind)].iloc[:ind_num].index.tolist()\n",
    "            standardized_yester_mkt_cap = standardized_yester_mkt_cap.reset_index().set_index('level_1').loc[portfolio]\n",
    "            standardized_yester_mkt_cap['quantile'] = scs.norm.cdf(standardized_yester_mkt_cap.reset_index().set_index('level_1').\\\n",
    "                loc[portfolio].iloc[:,1])\n",
    "            portfolio_weight = pd.Series([stock_weight/standardized_yester_mkt_cap['quantile'].sum() \\\n",
    "                for stock_weight in standardized_yester_mkt_cap['quantile']],index=portfolio)\n",
    "            while(True):\n",
    "                if portfolio_weight.max() / portfolio_weight.min() <= 3:\n",
    "                    break\n",
    "                else:\n",
    "                    portfolio_weight = portfolio_weight - (portfolio_weight - portfolio_weight.mean())/2\n",
    "            df = industry_ind.loc[portfolio]\n",
    "            df['weight'] = portfolio_weight\n",
    "            df['indcode'] = industry_ind.loc[df.index]\n",
    "            df['name'] = code_to_name.loc[df.index]\n",
    "            df.reset_index(inplace=True)\n",
    "            df = df.loc[:,['name','index','ind','indcode','weight']]\n",
    "            df.columns = ['股票名称','股票代码','所属行业','行业代码','资金占比']\n",
    "            txt_df = pd.DataFrame()\n",
    "            txt_df['股票代码'] = ['0'*(6-len(str(i)))+str(i) for i in df['股票代码']]\n",
    "            txt_df['股票名称'] = df['股票名称']\n",
    "            txt_df['每股份数'] = 100.00\n",
    "            txt_df['金额比例'] = [round(i*100,4) for i in df['资金占比']]\n",
    "            txt_df[''] = ''\n",
    "            print('共计：',df['股票代码'].isin(keeping).sum(),'   受影响：',([stock for stock in portfolio_origin if stock not in portfolio]),\\\n",
    "                      '   替换为：',([stock for stock in portfolio if stock not in portfolio_origin]))\n",
    "            if special_flag == 1:\n",
    "                generated_str = model+'_'+version_num[model]+'_'+universe+'_'+str(special_treatment_date)+'_市值行业_'+str(ind_num)+'_'+str(first_n)+'（'+account_name+'）'+'.txt'\n",
    "                print(dealer)\n",
    "            else:\n",
    "                generated_str = model+'_'+version_num[model]+'_'+universe+'_'+str(special_treatment_date)+'_市值行业_'+str(ind_num)+'_'+str(first_n)+'.txt'\n",
    "            print(generated_str)\n",
    "        elif '原味' in single_account_str:\n",
    "            special = '原味'\n",
    "            buy_num = int(single_account_str.split('支')[0].split('_')[-1])\n",
    "            amt_limitation = 0\n",
    "            if amt_limitation != 0:\n",
    "                yester_amt = amt.xs(special_treatment_date_yesterday).fillna(0)\n",
    "                yester_amt = yester_amt[~(yester_amt>amt_limitation)].index.tolist()\n",
    "            else:\n",
    "                yester_amt = []\n",
    "            if account_code in ['HQHX1',] and special_treatment_date >= 20190718:\n",
    "                ranked_stock_universe = pd.Series(full_cont[model].xs(special_treatment_date))[\\\n",
    "                                        (~pd.Series(full_cont[model].xs(special_treatment_date)).isin(STcode)) & \\\n",
    "                                        (~pd.Series(full_cont[model].xs(special_treatment_date)).isin(yester_amt)) & \\\n",
    "                                        (~pd.Series(full_cont[model].xs(special_treatment_date)).isin(today_prest_kick)) & \\\n",
    "                                        (pd.Series(full_cont[model].xs(special_treatment_date)).isin(keeping)) & \\\n",
    "                                        (~pd.Series(full_cont[model].xs(special_treatment_date)).isin([18,601258,600255,600518,587,\\\n",
    "                                                    603101,600172,600221,600515,600555,600568,600856,506,603619,\\\n",
    "                                                    600525,600119,835,981,600069,600715,662,600112,760,600651,600086,2606,408,\\\n",
    "                                                    600083,600179,806,752,600891,600462,820,600687,600615,600747,982,600485,2477,571,\\\n",
    "                                                    600634,971,600701,600240,939,48,600614,600666,600807,600289]))].tolist()\n",
    "            else:\n",
    "                ranked_stock_universe = pd.Series(full_cont[model].xs(special_treatment_date))[\\\n",
    "                                        (~pd.Series(full_cont[model].xs(special_treatment_date)).isin(STcode)) & \\\n",
    "                                        (~pd.Series(full_cont[model].xs(special_treatment_date)).isin(yester_amt)) & \\\n",
    "                                        (~pd.Series(full_cont[model].xs(special_treatment_date)).isin(today_prest_kick)) & \\\n",
    "                                        (pd.Series(full_cont[model].xs(special_treatment_date)).isin(keeping))].tolist()\n",
    "            portfolio = ranked_stock_universe[:buy_num]\n",
    "            ranked_stock_universe_origin = [st for st in full_cont[model].xs(special_treatment_date) if st not in STcode \\\n",
    "                                            and st not in yester_amt]\n",
    "            portfolio_origin = ranked_stock_universe_origin[:buy_num]\n",
    "            portfolio_weight = pd.Series([1/len(portfolio)]*len(portfolio),index=portfolio)\n",
    "            df = industry_ind.loc[portfolio]\n",
    "            df['weight'] = portfolio_weight\n",
    "            df['indcode'] = industry_ind.loc[df.index]\n",
    "            df['name'] = code_to_name.loc[df.index]\n",
    "            df.reset_index(inplace=True)\n",
    "            df = df.loc[:,['name','index','ind','indcode','weight']]\n",
    "            df.columns = ['股票名称','股票代码','所属行业','行业代码','资金占比']\n",
    "            txt_df = pd.DataFrame()\n",
    "            txt_df['股票代码'] = ['0'*(6-len(str(i)))+str(i) for i in df['股票代码']]\n",
    "            txt_df['股票名称'] = df['股票名称']\n",
    "            txt_df['每股份数'] = 100.00\n",
    "            txt_df['金额比例'] = [round(i*100,4) for i in df['资金占比']]\n",
    "            txt_df[''] = ''\n",
    "            print('共计：',df['股票代码'].isin(keeping).sum(),'   受影响：',([stock for stock in portfolio_origin if stock not in portfolio]),\\\n",
    "                      '   替换为：',([stock for stock in portfolio if stock not in portfolio_origin]))\n",
    "            if special_flag == 1:\n",
    "                if amt_limitation == 0:\n",
    "                    generated_str = model+'_'+version_num[model]+'_'+universe+'_'+str(buy_num)+'支（原汁原味）'+'_'+str(special_treatment_date)+'（'+account_name+'）'+'.txt'\n",
    "                else:\n",
    "                    generated_str = model+'_'+version_num[model]+'_'+universe+'_'+str(buy_num)+'支'+'_'+str(special_treatment_date)+'（'+account_name+'）'+'.txt'\n",
    "                print(dealer)\n",
    "            else:\n",
    "                if amt_limitation == 0:\n",
    "                    generated_str = model+'_'+version_num[model]+'_'+universe+'_'+str(buy_num)+'支（原汁原味）'+'_'+str(special_treatment_date)+'.txt'\n",
    "                else:\n",
    "                    generated_str = model+'_'+version_num[model]+'_'+universe+'_'+str(buy_num)+'支'+'_'+str(special_treatment_date)+'.txt'\n",
    "            print(generated_str)\n",
    "        elif '沪深' in single_account_str:\n",
    "            special = '沪深'\n",
    "            buy_num = int(single_account_str.split('支')[0].split('_')[-1])\n",
    "            amt_limitation = 50000000\n",
    "            if amt_limitation != 0:\n",
    "                yester_amt = amt.xs(special_treatment_date_yesterday).fillna(0)\n",
    "                yester_amt = yester_amt[~(yester_amt>amt_limitation)].index.tolist()\n",
    "            else:\n",
    "                yester_amt = []\n",
    "            ranked_stock_universe = pd.Series(full_cont[model].xs(special_treatment_date))[\\\n",
    "                                    (~pd.Series(full_cont[model].xs(special_treatment_date)).isin(STcode)) & \\\n",
    "                                    (~pd.Series(full_cont[model].xs(special_treatment_date)).isin(yester_amt))].tolist()\n",
    "            origin = ranked_stock_universe[:buy_num]\n",
    "            #HS300行业权重\n",
    "            members = hs300members.xs(special_treatment_date_yesterday).tolist()\n",
    "            mid_members_industry = (pd.concat([(\\\n",
    "                adjusted_weight_coef.xs(special_treatment_date_yesterday).loc[members]/\\\n",
    "                adjusted_weight_coef.xs(special_treatment_date_yesterday).loc[members]\\\n",
    "                .sum()).sort_values(),industry_ind['ind'].loc[members]],axis=1).groupby('ind').sum().iloc[:,0]*100)\\\n",
    "                .sort_values(ascending=False)\n",
    "            #ranked_stock_universe个股行业\n",
    "            ranked_with_industry = industry_ind.loc[ranked_stock_universe].dropna()\n",
    "            ranked_with_industry['rrank'] = range(len(ranked_with_industry))\n",
    "            exp = ranked_with_industry.sort_values('rrank').dropna()\n",
    "            exp['rank'] = range(1,len(exp)+1)\n",
    "            adj_list = []\n",
    "            name_list = []\n",
    "            for included_ind in exp['ind'].unique():\n",
    "                sub = exp[exp['ind'] == included_ind]\n",
    "                adjust = (exp['rank'].mean() - sub['rank'].mean()) * len(sub)\n",
    "                adj_list.append(adjust)\n",
    "                name_list.append(included_ind)\n",
    "            adj_list = [i/np.max(adj_list) * 20 for i in adj_list]\n",
    "            members_industry = pd.DataFrame(list(zip(name_list,adj_list))).set_index(0)[1] + mid_members_industry\n",
    "            members_industry = members_industry[members_industry>0]\n",
    "            members_industry = members_industry/members_industry.sum()\n",
    "            members_industry = round(members_industry.sort_values(ascending=False)*buy_num)\n",
    "            res = pd.concat([industry_ind.loc[origin]['ind'].value_counts()/buy_num * 100,\\\n",
    "                       members_industry/members_industry.sum() * 100,\\\n",
    "                       mid_members_industry],axis=1)\n",
    "            res.columns = ['origin','adjusted','hs300']\n",
    "            res.fillna(0,inplace=True)\n",
    "            res['result'] = (res['origin'] - res['adjusted']) * 1/2 + res['adjusted']\n",
    "            members_industry = round(res['result']/res['result'].sum() * buy_num)\n",
    "            portfolio = []\n",
    "            for indname in members_industry.index:\n",
    "                add = ranked_with_industry[(ranked_with_industry['ind'] == indname) &\\\n",
    "                    (ranked_with_industry.index.isin(keeping)) &\\\n",
    "                    (~ranked_with_industry.index.isin(today_prest_kick))].\\\n",
    "                    index.tolist()[:int(members_industry.xs(indname))]\n",
    "                portfolio += add\n",
    "            portfolio_origin = []\n",
    "            for indname in members_industry.index:\n",
    "                add = ranked_with_industry[(ranked_with_industry['ind'] == indname)].\\\n",
    "                    index.tolist()[:int(members_industry.xs(indname))]\n",
    "                portfolio_origin += add\n",
    "            p_data = adjusted_weight_coef.xs(special_treatment_date_yesterday).loc[portfolio]\n",
    "            portfolio_weight = p_data/(p_data.sum())\n",
    "            portfolio_weight = (portfolio_weight - (portfolio_weight - portfolio_weight.mean())/2).sort_values()\n",
    "            df = industry_ind.loc[portfolio]\n",
    "            df['weight'] = portfolio_weight\n",
    "            df['indcode'] = industry_ind.loc[df.index]\n",
    "            df['name'] = code_to_name.loc[df.index]\n",
    "            df.reset_index(inplace=True)\n",
    "            df = df.loc[:,['name','index','ind','indcode','weight']]\n",
    "            df.columns = ['股票名称','股票代码','所属行业','行业代码','资金占比']\n",
    "            txt_df = pd.DataFrame()\n",
    "            txt_df['股票代码'] = ['0'*(6-len(str(i)))+str(i) for i in df['股票代码']]\n",
    "            txt_df['股票名称'] = df['股票名称']\n",
    "            txt_df['每股份数'] = 100.00\n",
    "            txt_df['金额比例'] = [round(i*100,4) for i in df['资金占比']]\n",
    "            txt_df[''] = ''\n",
    "            print('共计：',df['股票代码'].isin(keeping).sum(),'   受影响：',([stock for stock in portfolio_origin if stock not in portfolio]),\\\n",
    "                      '   替换为：',([stock for stock in portfolio if stock not in portfolio_origin]))\n",
    "            if special_flag == 1:\n",
    "                generated_str = model+'_'+version_num[model]+'_'+universe+'_'+str(special_treatment_date)+'_HS300增强_'+str(buy_num)+'（'+account_name+'）'+'.txt'\n",
    "                print(dealer)\n",
    "            else:\n",
    "                generated_str = model+'_'+version_num[model]+'_'+universe+'_'+str(special_treatment_date)+'_HS300增强_'+str(buy_num)+'.txt'\n",
    "            print(generated_str)\n",
    "        else:\n",
    "            special = ''\n",
    "            buy_num = int(single_account_str.split('支')[0].split('_')[-1])\n",
    "            amt_limitation = 50000000\n",
    "            if out:\n",
    "                ranked_stock_universe = pd.Series(full_cont[model].xs(special_treatment_date))[\n",
    "                                            (~pd.Series(full_cont[model].xs(special_treatment_date)).isin(STcode)) & \\\n",
    "                                            (pd.Series(full_cont[model].xs(special_treatment_date)).isin(keeping))].tolist()\n",
    "            else:\n",
    "                if amt_limitation != 0:\n",
    "                    yester_amt = amt.xs(special_treatment_date_yesterday).fillna(0)\n",
    "                    yester_amt = yester_amt[~(yester_amt>amt_limitation)].index.tolist()\n",
    "                else:\n",
    "                    yester_amt = []\n",
    "                if account_code in ['HQHX1',] and special_treatment_date >= 20190718:\n",
    "                    ranked_stock_universe = pd.Series(full_cont[model].xs(special_treatment_date))[\\\n",
    "                                            (~pd.Series(full_cont[model].xs(special_treatment_date)).isin(STcode)) & \\\n",
    "                                            (~pd.Series(full_cont[model].xs(special_treatment_date)).isin(yester_amt)) & \\\n",
    "                                            (~pd.Series(full_cont[model].xs(special_treatment_date)).isin(today_prest_kick)) & \\\n",
    "                                            (pd.Series(full_cont[model].xs(special_treatment_date)).isin(keeping)) & \\\n",
    "                                            (~pd.Series(full_cont[model].xs(special_treatment_date)).isin([18,601258,600255,600518,587,\\\n",
    "                                                        603101,600172,600221,600515,600555,600568,600856,506,603619,\\\n",
    "                                                        600525,600119,835,981,600069,600715,662,600112,760,600651,600086,2606,408,\\\n",
    "                                                        600083,600179,806,752,600891,600462,820,600687,600615,600747,982,600485,2477,571,\\\n",
    "                                                        600634,971,600701,600240,939,48,600614,600666,600807,600289]))].tolist()\n",
    "                else:\n",
    "                    ranked_stock_universe = pd.Series(full_cont[model].xs(special_treatment_date))[\\\n",
    "                                            (~pd.Series(full_cont[model].xs(special_treatment_date)).isin(STcode)) & \\\n",
    "                                            (~pd.Series(full_cont[model].xs(special_treatment_date)).isin(yester_amt)) & \\\n",
    "                                            (~pd.Series(full_cont[model].xs(special_treatment_date)).isin(today_prest_kick)) & \\\n",
    "                                            (pd.Series(full_cont[model].xs(special_treatment_date)).isin(keeping))].tolist()\n",
    "            portfolio = ranked_stock_universe[:buy_num]\n",
    "            portfolio_weight = pd.Series([1/len(portfolio)]*len(portfolio),index=portfolio)\n",
    "            df = industry_ind.loc[portfolio]\n",
    "            df['weight'] = portfolio_weight\n",
    "            df['indcode'] = industry_ind.loc[df.index]\n",
    "            df['name'] = code_to_name.loc[df.index]\n",
    "            df.reset_index(inplace=True)\n",
    "            df = df.loc[:,['name','index','ind','indcode','weight']]\n",
    "            df.columns = ['股票名称','股票代码','所属行业','行业代码','资金占比']\n",
    "            txt_df = pd.DataFrame()\n",
    "            txt_df['股票代码'] = ['0'*(6-len(str(i)))+str(i) for i in df['股票代码']]\n",
    "            txt_df['股票名称'] = df['股票名称']\n",
    "            txt_df['每股份数'] = 100.00\n",
    "            txt_df['金额比例'] = [round(i*100,4) for i in df['资金占比']]\n",
    "            txt_df[''] = ''\n",
    "        model = single_account_str.split('(')[-1].split('_')[0]\n",
    "        model_capital = special_treatment_capital\n",
    "        txt_df['任务资金'] = round(txt_df['金额比例']/100 * model_capital)\n",
    "        txt_df['昨收'] = close.iloc[-1].loc[txt_df['股票代码'].astype(int)].tolist()\n",
    "        txt_df['总股数'] = ((txt_df['任务资金']/txt_df['昨收'])//100*100).tolist()\n",
    "        txt_df.dropna(inplace = True)\n",
    "        personal_txt_df = txt_df[['股票代码','股票名称','任务资金','总股数']]\n",
    "        txt_df = txt_df[['股票代码','股票名称','总股数']]\n",
    "        txt_df['总股数'] = txt_df['总股数'].astype(int)\n",
    "        txt_df['产品标识'] = account_code\n",
    "        txt_df['买入日期'] = special_treatment_date\n",
    "        personal_txt_df['模型'] = model\n",
    "        personal_txt_df['产品标识'] = account_code\n",
    "        personal_txt_df['买入日期'] = special_treatment_date\n",
    "        full_special_treatment = pd.concat([full_special_treatment, txt_df])\n",
    "        full_special_treatment_personal = pd.concat([full_special_treatment_personal, personal_txt_df])\n",
    "        print(type(model_capital), model_capital)\n",
    "        print()\n",
    "full_special_treatment.to_excel('2handadd.xlsx', index = False, encoding = 'gbk')\n",
    "full_special_treatment_personal.to_excel(str(int_today)+'_2handadd.xlsx', index = False, encoding = 'gbk')"
   ]
  },
  {
   "cell_type": "code",
   "execution_count": null,
   "metadata": {
    "ExecuteTime": {
     "end_time": "2019-08-23T01:47:43.946737Z",
     "start_time": "2019-08-23T01:47:43.929812Z"
    },
    "collapsed": true
   },
   "outputs": [],
   "source": [
    "full = full_special_treatment_personal.groupby(['产品标识','股票代码']).sum().reset_index()\n",
    "full['股票名称'] = code_to_name.loc[full['股票代码'].astype(int)].tolist()"
   ]
  },
  {
   "cell_type": "code",
   "execution_count": null,
   "metadata": {
    "ExecuteTime": {
     "end_time": "2019-08-23T01:47:44.383077Z",
     "start_time": "2019-08-23T01:47:43.953718Z"
    },
    "code_folding": [
     0
    ],
    "collapsed": true
   },
   "outputs": [],
   "source": [
    "for account_code in full['产品标识'].unique().tolist():\n",
    "    account_name = pd.read_excel('手动补仓模型要买资金.xlsx')[pd.read_excel('手动补仓模型要买资金.xlsx')['代码'] == account_code].iloc[0,1]\n",
    "    sub = full[full['产品标识'] == account_code]\n",
    "    sub[''] = ''\n",
    "    sub = sub[['股票代码','股票名称','总股数','任务资金','',]]\n",
    "    sub[['总股数','任务资金',]] = sub[['总股数','任务资金',]].astype(int)\n",
    "    sub['任务资金'] = round(sub['任务资金']/sub['任务资金'].sum()*100,4)\n",
    "    sub.columns = ['证券代码','证券名称','每股份数','金额比例','']\n",
    "    sub.to_excel(account_code+account_name+' '+str(int_today)+'_handadd.xlsx',index=False,encoding='gbk')"
   ]
  },
  {
   "cell_type": "code",
   "execution_count": null,
   "metadata": {
    "ExecuteTime": {
     "end_time": "2019-08-23T01:23:22.265140Z",
     "start_time": "2019-08-23T01:23:22.250180Z"
    },
    "collapsed": true
   },
   "outputs": [],
   "source": [
    "full_special_treatment_buy = full_special_treatment_personal.copy()\n",
    "full_special_treatment_buy['任务股数'] = np.nan\n",
    "full_special_treatment_buy['方向'] = '多'\n",
    "full_special_treatment_buy = full_special_treatment_buy[['产品标识','股票代码','任务资金','任务股数','方向']]"
   ]
  },
  {
   "cell_type": "code",
   "execution_count": null,
   "metadata": {
    "ExecuteTime": {
     "end_time": "2019-08-23T01:23:22.317000Z",
     "start_time": "2019-08-23T01:23:22.281097Z"
    },
    "collapsed": true
   },
   "outputs": [],
   "source": [
    "full_special_treatment_buy.to_excel('总任务管理表_买入_补.xlsx', index = False, encoding = 'gbk')"
   ]
  },
  {
   "cell_type": "code",
   "execution_count": null,
   "metadata": {
    "ExecuteTime": {
     "end_time": "2019-08-23T01:23:22.338944Z",
     "start_time": "2019-08-23T01:23:22.325980Z"
    },
    "collapsed": true
   },
   "outputs": [],
   "source": [
    "#（总任务管理表_卖出_补 这个就是一个空文件）"
   ]
  },
  {
   "cell_type": "code",
   "execution_count": null,
   "metadata": {
    "ExecuteTime": {
     "end_time": "2019-08-23T01:23:22.400777Z",
     "start_time": "2019-08-23T01:23:22.344927Z"
    },
    "collapsed": true
   },
   "outputs": [],
   "source": [
    "pd.concat([full_special_treatment_buy, pd.read_excel('总任务管理表_卖出_补.xlsx')]).to_excel('总任务管理表_补.xlsx', index = False, encoding = 'gbk')"
   ]
  },
  {
   "cell_type": "code",
   "execution_count": null,
   "metadata": {
    "ExecuteTime": {
     "end_time": "2019-08-23T01:23:22.426708Z",
     "start_time": "2019-08-23T01:23:22.410750Z"
    },
    "collapsed": true
   },
   "outputs": [],
   "source": [
    "output = full_special_treatment_personal[full_special_treatment_personal['总股数'] != 0]"
   ]
  },
  {
   "cell_type": "code",
   "execution_count": null,
   "metadata": {
    "ExecuteTime": {
     "end_time": "2019-08-23T01:23:23.295392Z",
     "start_time": "2019-08-23T01:23:22.435706Z"
    },
    "code_folding": [
     1
    ],
    "collapsed": true
   },
   "outputs": [],
   "source": [
    "sell_date = []\n",
    "for i in range(len(output)):\n",
    "    m = output.iloc[i,4]\n",
    "    h = preset_hold_days(m)\n",
    "    b = output.iloc[i,6]\n",
    "    sell_date.append(int(get_n_week_date_after(str(b),h-1)))\n",
    "output['卖出'] = sell_date\n",
    "output['1'] = 1\n",
    "output['2'] = 1\n",
    "output = output[['产品标识','股票代码','卖出','1','2','总股数']]\n",
    "output['产品标识'] = output['产品标识'].str.replace('RB','HQ')\n",
    "output['股票代码'] = output['股票代码'].astype(int)\n",
    "output.to_excel(str(int_today)+'_handadd_add_to_hold.xlsx', index = False, encoding = 'gbk')"
   ]
  },
  {
   "cell_type": "code",
   "execution_count": null,
   "metadata": {
    "collapsed": true
   },
   "outputs": [],
   "source": []
  },
  {
   "cell_type": "code",
   "execution_count": null,
   "metadata": {
    "collapsed": true
   },
   "outputs": [],
   "source": []
  },
  {
   "cell_type": "code",
   "execution_count": null,
   "metadata": {
    "collapsed": true
   },
   "outputs": [],
   "source": []
  },
  {
   "cell_type": "code",
   "execution_count": null,
   "metadata": {
    "ExecuteTime": {
     "end_time": "2019-08-23T01:01:43.549061Z",
     "start_time": "2019-08-23T01:01:43.535098Z"
    },
    "code_folding": [],
    "collapsed": true
   },
   "outputs": [],
   "source": [
    "#制作管理表"
   ]
  },
  {
   "cell_type": "code",
   "execution_count": null,
   "metadata": {
    "ExecuteTime": {
     "end_time": "2019-08-23T01:01:43.568010Z",
     "start_time": "2019-08-23T01:01:43.561029Z"
    },
    "collapsed": true
   },
   "outputs": [],
   "source": [
    "os.chdir(r'C:/Users/bj/Desktop/刘泽丹/Code/')"
   ]
  },
  {
   "cell_type": "code",
   "execution_count": null,
   "metadata": {
    "ExecuteTime": {
     "end_time": "2019-08-23T01:01:44.499518Z",
     "start_time": "2019-08-23T01:01:43.576000Z"
    }
   },
   "outputs": [],
   "source": [
    "full_txt_df.to_excel('未修改_买入.xlsx',encoding='gbk',index=False)"
   ]
  },
  {
   "cell_type": "code",
   "execution_count": null,
   "metadata": {
    "ExecuteTime": {
     "end_time": "2019-08-23T01:01:44.515475Z",
     "start_time": "2019-08-23T01:01:44.506500Z"
    },
    "collapsed": true
   },
   "outputs": [],
   "source": [
    "#如果需要手动修改，直接按格式出去改excel文件即可"
   ]
  },
  {
   "cell_type": "code",
   "execution_count": null,
   "metadata": {
    "ExecuteTime": {
     "end_time": "2019-08-23T01:01:45.011277Z",
     "start_time": "2019-08-23T01:01:44.527443Z"
    },
    "collapsed": true
   },
   "outputs": [],
   "source": [
    "full_txt_df = pd.read_excel('未修改_买入.xlsx',encoding='gbk')"
   ]
  },
  {
   "cell_type": "code",
   "execution_count": null,
   "metadata": {
    "ExecuteTime": {
     "end_time": "2019-08-23T01:01:45.190700Z",
     "start_time": "2019-08-23T01:01:45.015142Z"
    },
    "code_folding": [
     1,
     4
    ],
    "collapsed": true
   },
   "outputs": [],
   "source": [
    "shiyan_guanlibiao = full_txt_df.loc[:,['产品标识','证券代码','任务资金','任务股数','方向','模型']].rename(columns={'证券代码':'股票代码'})\n",
    "mairu = pd.concat([full_txt_df.loc[:,['产品标识','证券代码','任务资金','任务股数','方向']].rename(columns={'证券代码':'股票代码'}),\\\n",
    "           pd.read_excel('买入_未完成_'+str(int_yesterday)+'.xlsx')])\n",
    "zong = pd.concat([full_txt_df.loc[:,['产品标识','证券代码','任务资金','任务股数','方向']].rename(columns={'证券代码':'股票代码'}),\\\n",
    "           pd.read_excel('买入_未完成_'+str(int_yesterday)+'.xlsx'),\\\n",
    "           pd.read_excel('总任务管理表_卖出.xlsx')])"
   ]
  },
  {
   "cell_type": "code",
   "execution_count": null,
   "metadata": {
    "ExecuteTime": {
     "end_time": "2019-08-23T01:01:45.837943Z",
     "start_time": "2019-08-23T01:01:45.198650Z"
    },
    "collapsed": true
   },
   "outputs": [],
   "source": [
    "shiyan_guanlibiao.to_excel('实验_总任务管理表_买入_'+today_nodot+'.xlsx',index = False, encoding = 'gbk')"
   ]
  },
  {
   "cell_type": "code",
   "execution_count": null,
   "metadata": {
    "ExecuteTime": {
     "end_time": "2019-08-23T01:01:46.227922Z",
     "start_time": "2019-08-23T01:01:45.844920Z"
    },
    "collapsed": true
   },
   "outputs": [],
   "source": [
    "mairu.to_excel('总任务管理表_买入.xlsx',index = False, encoding = 'gbk')"
   ]
  },
  {
   "cell_type": "code",
   "execution_count": null,
   "metadata": {
    "ExecuteTime": {
     "end_time": "2019-08-23T01:01:47.281087Z",
     "start_time": "2019-08-23T01:01:46.236872Z"
    },
    "collapsed": true
   },
   "outputs": [],
   "source": [
    "zong.to_excel('总任务管理表.xlsx',index = False, encoding = 'gbk')"
   ]
  },
  {
   "cell_type": "code",
   "execution_count": null,
   "metadata": {
    "collapsed": true
   },
   "outputs": [],
   "source": []
  },
  {
   "cell_type": "code",
   "execution_count": null,
   "metadata": {
    "collapsed": true
   },
   "outputs": [],
   "source": []
  },
  {
   "cell_type": "code",
   "execution_count": null,
   "metadata": {
    "collapsed": true
   },
   "outputs": [],
   "source": []
  },
  {
   "cell_type": "code",
   "execution_count": null,
   "metadata": {
    "ExecuteTime": {
     "end_time": "2019-08-23T01:27:07.880654Z",
     "start_time": "2019-08-23T01:27:05.354413Z"
    },
    "code_folding": [
     0
    ],
    "collapsed": true,
    "scrolled": true
   },
   "outputs": [],
   "source": [
    "#morebuy\n",
    "os.chdir(r'C:/Users/bj/Desktop/刘泽丹/Code/')\n",
    "close_data = pd.read_csv('tsdata_nonright_'+str(int_yesterday)+'.csv', encoding='gbk',index_col=0).iloc[:,5].replace('<NIL>',np.nan).astype(float)\n",
    "close_data.index = close_data.index.str[2:].astype(int)\n",
    "buy = pd.read_excel('总任务管理表_买入_合_'+today_nodot+'.xlsx')\n",
    "sxf = pd.read_excel('sxf策略'+today_nodot[-4:]+'买.xlsx')\n",
    "more_buy = pd.read_excel('实验_总任务管理表_买入_未完成_'+str(int_yesterday)+'.xlsx')\n",
    "more_buy['close'] = close_data.loc[more_buy['股票代码']].tolist()\n",
    "more_buy['任务股数'] = more_buy['完成资金']/more_buy['close']\n",
    "more_buy = more_buy[more_buy['模型'] > int_today]\n",
    "def process(df, valve_capital, valve_share):\n",
    "    if (df.sum()['完成资金']>= valve_capital) & (df.sum()['任务股数']>= valve_share):\n",
    "        return 1\n",
    "    else:\n",
    "        return 0\n",
    "#去掉2000块、100股以下的\n",
    "capitalnshare_filter = more_buy.groupby(['产品标识','股票代码']).apply(process, 2000, 100)\n",
    "more_buy = more_buy.set_index(['产品标识','股票代码'])\n",
    "more_buy['完成资金'] = (more_buy['完成资金']*capitalnshare_filter).replace(0,np.nan)\n",
    "more_buy.dropna(inplace = True)\n",
    "more_buy.reset_index(inplace = True)\n",
    "more_buy['任务资金'] = more_buy['完成资金']\n",
    "more_buy['完成资金'] = np.nan\n",
    "more_buy = more_buy.loc[:,['产品标识','股票代码','模型','任务资金','完成资金']]"
   ]
  },
  {
   "cell_type": "code",
   "execution_count": null,
   "metadata": {
    "ExecuteTime": {
     "end_time": "2019-08-23T01:27:07.895615Z",
     "start_time": "2019-08-23T01:27:07.888634Z"
    },
    "collapsed": true
   },
   "outputs": [],
   "source": [
    "#一些核对项，正常应该输出True,0,空的Series等"
   ]
  },
  {
   "cell_type": "code",
   "execution_count": null,
   "metadata": {
    "ExecuteTime": {
     "end_time": "2019-08-23T01:27:08.051200Z",
     "start_time": "2019-08-23T01:27:07.903596Z"
    },
    "scrolled": false
   },
   "outputs": [],
   "source": [
    "len(buy.groupby(['产品标识','股票代码']).sum().sort_index()['任务资金']) == \\\n",
    "len(pd.concat([full_txt_df.rename(columns={'证券代码':'股票代码'}), sxf, more_buy]).groupby(['产品标识','股票代码']).sum().sort_index()['任务资金'])"
   ]
  },
  {
   "cell_type": "code",
   "execution_count": null,
   "metadata": {
    "ExecuteTime": {
     "end_time": "2019-08-23T01:27:08.127994Z",
     "start_time": "2019-08-23T01:27:08.062170Z"
    },
    "code_folding": [
     0,
     2
    ]
   },
   "outputs": [],
   "source": [
    "(pd.concat([buy.groupby(['产品标识','股票代码']).sum().sort_index()['任务资金'], pd.concat([full_txt_df.rename(columns={'证券代码':'股票代码'}),\\\n",
    "    sxf, more_buy]).groupby(['产品标识','股票代码']).sum().sort_index()['任务资金']],axis=1).fillna(0).iloc[:,0] - \\\n",
    "pd.concat([buy.groupby(['产品标识','股票代码']).sum().sort_index()['任务资金'], pd.concat([full_txt_df.rename(columns={'证券代码':'股票代码'}),\\\n",
    "    sxf, more_buy]).groupby(['产品标识','股票代码']).sum().sort_index()['任务资金']],axis=1).fillna(0).iloc[:,1])\\\n",
    ".replace(0,np.nan).replace(1,np.nan).replace(-1,np.nan).replace(2,np.nan).replace(-2,np.nan)\\\n",
    ".dropna().sort_values().reset_index()['产品标识'].unique()"
   ]
  },
  {
   "cell_type": "code",
   "execution_count": null,
   "metadata": {
    "ExecuteTime": {
     "end_time": "2019-08-23T01:27:08.200799Z",
     "start_time": "2019-08-23T01:27:08.133979Z"
    },
    "scrolled": true
   },
   "outputs": [],
   "source": [
    "(pd.concat([buy.groupby(['产品标识','股票代码']).sum().sort_index()['任务资金'], pd.concat([full_txt_df.rename(columns={'证券代码':'股票代码'}),\\\n",
    "    sxf, more_buy]).groupby(['产品标识','股票代码']).sum().sort_index()['任务资金']],axis=1).fillna(0).iloc[:,0] - \\\n",
    "pd.concat([buy.groupby(['产品标识','股票代码']).sum().sort_index()['任务资金'], pd.concat([full_txt_df.rename(columns={'证券代码':'股票代码'}),\\\n",
    "    sxf, more_buy]).groupby(['产品标识','股票代码']).sum().sort_index()['任务资金']],axis=1).fillna(0).iloc[:,1])\\\n",
    ".replace(0,np.nan).replace(1,np.nan).replace(-1,np.nan).replace(2,np.nan).replace(-2,np.nan).dropna().sort_index()"
   ]
  },
  {
   "cell_type": "code",
   "execution_count": null,
   "metadata": {
    "ExecuteTime": {
     "end_time": "2019-08-23T01:27:08.270612Z",
     "start_time": "2019-08-23T01:27:08.209775Z"
    }
   },
   "outputs": [],
   "source": [
    "(pd.concat([buy.groupby(['产品标识','股票代码']).sum().sort_index()['任务资金'], pd.concat([full_txt_df.rename(columns={'证券代码':'股票代码'}),\\\n",
    "    sxf, more_buy]).groupby(['产品标识','股票代码']).sum().sort_index()['任务资金']],axis=1).fillna(0).iloc[:,0] - \\\n",
    "pd.concat([buy.groupby(['产品标识','股票代码']).sum().sort_index()['任务资金'], pd.concat([full_txt_df.rename(columns={'证券代码':'股票代码'}),\\\n",
    "    sxf, more_buy]).groupby(['产品标识','股票代码']).sum().sort_index()['任务资金']],axis=1).fillna(0).iloc[:,1])\\\n",
    ".replace(0,np.nan).replace(1,np.nan).replace(-1,np.nan).replace(2,np.nan).replace(-2,np.nan).dropna().sort_index().reset_index()['股票代码'].unique()"
   ]
  },
  {
   "cell_type": "code",
   "execution_count": null,
   "metadata": {
    "ExecuteTime": {
     "end_time": "2019-08-23T01:27:08.292553Z",
     "start_time": "2019-08-23T01:27:08.275598Z"
    },
    "collapsed": true
   },
   "outputs": [],
   "source": [
    "sxf['模型'] = 'sxf'\n",
    "updated_buy = pd.concat([full_txt_df.loc[:,['产品标识','证券代码','任务资金','任务股数','方向','模型']]\\\n",
    ".rename(columns={'证券代码':'股票代码'}), sxf, more_buy])"
   ]
  },
  {
   "cell_type": "code",
   "execution_count": null,
   "metadata": {
    "ExecuteTime": {
     "end_time": "2019-08-23T01:27:08.348404Z",
     "start_time": "2019-08-23T01:27:08.297541Z"
    },
    "scrolled": true
   },
   "outputs": [],
   "source": [
    "(pd.concat([buy.groupby(['产品标识','股票代码']).sum().sort_index()['任务资金'], \\\n",
    "            updated_buy.groupby(['产品标识','股票代码']).sum().sort_index()['任务资金']],axis=1).fillna(0).iloc[:,0] - \\\n",
    "pd.concat([buy.groupby(['产品标识','股票代码']).sum().sort_index()['任务资金'], \\\n",
    "           updated_buy.groupby(['产品标识','股票代码']).sum().sort_index()['任务资金']],axis=1).fillna(0).iloc[:,1])\\\n",
    ".replace(0,np.nan).replace(1,np.nan).replace(-1,np.nan).replace(2,np.nan).replace(-2,np.nan).dropna().sort_values()"
   ]
  },
  {
   "cell_type": "code",
   "execution_count": null,
   "metadata": {
    "ExecuteTime": {
     "end_time": "2019-08-23T01:27:08.382322Z",
     "start_time": "2019-08-23T01:27:08.355385Z"
    }
   },
   "outputs": [],
   "source": [
    "len(buy.groupby(['产品标识','股票代码']).sum()) == \\\n",
    "len(updated_buy.groupby(['产品标识','股票代码']).sum())"
   ]
  },
  {
   "cell_type": "code",
   "execution_count": null,
   "metadata": {
    "ExecuteTime": {
     "end_time": "2019-08-23T01:27:08.409242Z",
     "start_time": "2019-08-23T01:27:08.392286Z"
    },
    "collapsed": true
   },
   "outputs": [],
   "source": [
    "updated_buy = updated_buy.reset_index()[~updated_buy.reset_index()['产品标识'].isin(['HQGS2','HQZX3','HQHT5','HQCT5','HQHT13'])]"
   ]
  },
  {
   "cell_type": "code",
   "execution_count": null,
   "metadata": {
    "ExecuteTime": {
     "end_time": "2019-08-23T01:27:09.327784Z",
     "start_time": "2019-08-23T01:27:08.416223Z"
    },
    "collapsed": true,
    "scrolled": true
   },
   "outputs": [],
   "source": [
    "updated_buy.to_excel('实验_总任务管理表_买入_'+today_nodot+'.xlsx',index = False, encoding = 'gbk')"
   ]
  },
  {
   "cell_type": "code",
   "execution_count": null,
   "metadata": {
    "ExecuteTime": {
     "end_time": "2019-08-23T01:27:09.342743Z",
     "start_time": "2019-08-23T01:27:09.331772Z"
    }
   },
   "outputs": [],
   "source": [
    "updated_buy['模型'].unique()"
   ]
  },
  {
   "cell_type": "code",
   "execution_count": null,
   "metadata": {
    "ExecuteTime": {
     "end_time": "2019-08-23T01:27:09.366680Z",
     "start_time": "2019-08-23T01:27:09.350723Z"
    },
    "collapsed": true,
    "scrolled": true
   },
   "outputs": [],
   "source": [
    "updated_buy = updated_buy.set_index(['产品标识','股票代码'])"
   ]
  },
  {
   "cell_type": "code",
   "execution_count": null,
   "metadata": {
    "ExecuteTime": {
     "end_time": "2019-08-23T01:27:09.385630Z",
     "start_time": "2019-08-23T01:27:09.376653Z"
    },
    "collapsed": true
   },
   "outputs": [],
   "source": [
    "updated_buy = updated_buy.dropna(subset = ['任务资金'])"
   ]
  },
  {
   "cell_type": "code",
   "execution_count": null,
   "metadata": {
    "ExecuteTime": {
     "end_time": "2019-08-23T01:27:09.403608Z",
     "start_time": "2019-08-23T01:27:09.394605Z"
    },
    "collapsed": true
   },
   "outputs": [],
   "source": [
    "updated_buy_unfinished = updated_buy.copy()"
   ]
  },
  {
   "cell_type": "markdown",
   "metadata": {
    "ExecuteTime": {
     "end_time": "2019-08-21T06:27:51.240632Z",
     "start_time": "2019-08-21T06:27:51.230629Z"
    },
    "collapsed": true
   },
   "source": [
    "### 早上运行到这里结束"
   ]
  },
  {
   "cell_type": "code",
   "execution_count": null,
   "metadata": {
    "collapsed": true
   },
   "outputs": [],
   "source": []
  },
  {
   "cell_type": "code",
   "execution_count": null,
   "metadata": {
    "collapsed": true
   },
   "outputs": [],
   "source": []
  },
  {
   "cell_type": "code",
   "execution_count": null,
   "metadata": {
    "collapsed": true
   },
   "outputs": [],
   "source": []
  },
  {
   "cell_type": "code",
   "execution_count": null,
   "metadata": {
    "ExecuteTime": {
     "end_time": "2019-08-23T01:51:55.434225Z",
     "start_time": "2019-08-23T01:51:55.422257Z"
    },
    "collapsed": true
   },
   "outputs": [],
   "source": [
    "os.chdir(r'C:/Users/bj/Desktop/刘泽丹/Code/')"
   ]
  },
  {
   "cell_type": "code",
   "execution_count": null,
   "metadata": {
    "ExecuteTime": {
     "end_time": "2019-08-23T01:51:56.449518Z",
     "start_time": "2019-08-23T01:51:55.684555Z"
    },
    "collapsed": true,
    "scrolled": true
   },
   "outputs": [],
   "source": [
    "end_of_day_result = pd.read_excel('任务管理_管理员_'+today.replace('.','-')+'.xlsx')\n",
    "#end_of_day_result = pd.read_excel('任务管理_管理员_'+today.replace('.','-')+'-集合.xlsx')"
   ]
  },
  {
   "cell_type": "code",
   "execution_count": null,
   "metadata": {
    "ExecuteTime": {
     "end_time": "2019-08-23T01:51:56.481460Z",
     "start_time": "2019-08-23T01:51:56.456499Z"
    },
    "scrolled": true
   },
   "outputs": [],
   "source": [
    "(end_of_day_result.groupby(['产品标识','方向']).sum().xs('多',level=1)['完成资金']/\\\n",
    "end_of_day_result.groupby(['产品标识','方向']).sum().xs('多',level=1)['任务资金']).sort_values()"
   ]
  },
  {
   "cell_type": "code",
   "execution_count": null,
   "metadata": {
    "ExecuteTime": {
     "end_time": "2019-08-23T01:51:57.521650Z",
     "start_time": "2019-08-23T01:51:57.497713Z"
    },
    "scrolled": true
   },
   "outputs": [],
   "source": [
    "(end_of_day_result.groupby(['产品标识','方向']).sum().xs('空',level=1)['完成股数']/\\\n",
    "end_of_day_result.groupby(['产品标识','方向']).sum().xs('空',level=1)['任务股数']).sort_values()"
   ]
  },
  {
   "cell_type": "code",
   "execution_count": null,
   "metadata": {
    "ExecuteTime": {
     "end_time": "2019-08-23T01:51:58.800229Z",
     "start_time": "2019-08-23T01:51:58.785269Z"
    },
    "collapsed": true
   },
   "outputs": [],
   "source": [
    "end_of_day_result = end_of_day_result[end_of_day_result['方向'] == '多']\n",
    "end_of_day_result = end_of_day_result.groupby(['产品标识','股票代码']).sum()"
   ]
  },
  {
   "cell_type": "code",
   "execution_count": null,
   "metadata": {
    "ExecuteTime": {
     "end_time": "2019-08-23T01:52:02.904277Z",
     "start_time": "2019-08-23T01:51:59.451487Z"
    },
    "code_folding": [
     0
    ],
    "collapsed": true
   },
   "outputs": [],
   "source": [
    "def process(df):\n",
    "    return df.set_index('模型')['任务资金']/df.set_index('模型')['任务资金'].sum()\n",
    "updated_buy = updated_buy.reset_index().groupby(['产品标识','股票代码']).apply(process).reset_index().set_index(['产品标识','股票代码'])"
   ]
  },
  {
   "cell_type": "code",
   "execution_count": null,
   "metadata": {
    "ExecuteTime": {
     "end_time": "2019-08-23T01:52:02.948134Z",
     "start_time": "2019-08-23T01:52:02.909237Z"
    },
    "scrolled": true
   },
   "outputs": [],
   "source": [
    "[i for i in updated_buy.index if i not in end_of_day_result.index]"
   ]
  },
  {
   "cell_type": "code",
   "execution_count": null,
   "metadata": {
    "ExecuteTime": {
     "end_time": "2019-08-23T01:52:03.090750Z",
     "start_time": "2019-08-23T01:52:02.954118Z"
    },
    "scrolled": true
   },
   "outputs": [],
   "source": [
    "[i for i in end_of_day_result.index if i not in updated_buy.index]"
   ]
  },
  {
   "cell_type": "code",
   "execution_count": null,
   "metadata": {
    "ExecuteTime": {
     "end_time": "2019-08-22T09:30:09.138796Z",
     "start_time": "2019-08-22T09:30:09.118866Z"
    },
    "collapsed": true,
    "scrolled": true
   },
   "outputs": [],
   "source": [
    "updated_buy['完成资金'] = (updated_buy['任务资金'] * end_of_day_result['完成资金']).dropna()\n",
    "updated_buy['完成股数'] = (updated_buy['任务资金'] * end_of_day_result['完成股数']).dropna()"
   ]
  },
  {
   "cell_type": "code",
   "execution_count": null,
   "metadata": {
    "ExecuteTime": {
     "end_time": "2019-08-22T09:30:20.340845Z",
     "start_time": "2019-08-22T09:30:20.295937Z"
    }
   },
   "outputs": [],
   "source": [
    "updated_buy.sort_values('完成股数')"
   ]
  },
  {
   "cell_type": "code",
   "execution_count": null,
   "metadata": {
    "ExecuteTime": {
     "end_time": "2019-08-22T09:30:22.829443Z",
     "start_time": "2019-08-22T09:30:20.480444Z"
    },
    "code_folding": [
     0
    ],
    "collapsed": true,
    "scrolled": true
   },
   "outputs": [],
   "source": [
    "def process(df):\n",
    "    zero = [0] * len(df)\n",
    "    zero[(df%100).tolist().index(max(df%100))] = round((df%100).sum())\n",
    "    return pd.Series(zero,index=df.index) + df//100*100\n",
    "updated_buy['完成股数'] = updated_buy['完成股数'].groupby(level=[0,1]).apply(process)"
   ]
  },
  {
   "cell_type": "code",
   "execution_count": null,
   "metadata": {
    "ExecuteTime": {
     "end_time": "2019-08-22T09:30:22.870335Z",
     "start_time": "2019-08-22T09:30:22.836425Z"
    }
   },
   "outputs": [],
   "source": [
    "np.isclose(updated_buy['完成资金'].sum(), end_of_day_result['完成资金'].sum())"
   ]
  },
  {
   "cell_type": "code",
   "execution_count": null,
   "metadata": {
    "ExecuteTime": {
     "end_time": "2019-08-22T09:30:22.898283Z",
     "start_time": "2019-08-22T09:30:22.878314Z"
    }
   },
   "outputs": [],
   "source": [
    "updated_buy['完成股数'].sum() == end_of_day_result['完成股数'].sum()"
   ]
  },
  {
   "cell_type": "code",
   "execution_count": null,
   "metadata": {
    "ExecuteTime": {
     "end_time": "2019-08-22T09:30:22.929176Z",
     "start_time": "2019-08-22T09:30:22.902279Z"
    },
    "scrolled": true
   },
   "outputs": [],
   "source": [
    "(updated_buy.groupby(level=[0,1]).sum()['完成股数'] != end_of_day_result.groupby(level=[0,1]).sum()['完成股数']).sum()"
   ]
  },
  {
   "cell_type": "code",
   "execution_count": null,
   "metadata": {
    "ExecuteTime": {
     "end_time": "2019-08-22T09:30:23.587518Z",
     "start_time": "2019-08-22T09:30:22.934165Z"
    },
    "collapsed": true
   },
   "outputs": [],
   "source": [
    "updated_buy.reset_index().to_excel('实验_总任务管理表_买入_完成_'+today_nodot+'.xlsx',index = False, encoding = 'gbk')"
   ]
  },
  {
   "cell_type": "code",
   "execution_count": null,
   "metadata": {
    "collapsed": true
   },
   "outputs": [],
   "source": []
  },
  {
   "cell_type": "code",
   "execution_count": null,
   "metadata": {
    "collapsed": true
   },
   "outputs": [],
   "source": []
  },
  {
   "cell_type": "code",
   "execution_count": null,
   "metadata": {
    "collapsed": true
   },
   "outputs": [],
   "source": []
  },
  {
   "cell_type": "code",
   "execution_count": null,
   "metadata": {
    "ExecuteTime": {
     "end_time": "2019-08-22T09:30:33.299074Z",
     "start_time": "2019-08-22T09:30:32.702669Z"
    },
    "collapsed": true
   },
   "outputs": [],
   "source": [
    "end_of_day_result_unfinished = pd.read_excel('任务管理_管理员_'+today.replace('.','-')+'.xlsx')\n",
    "end_of_day_result_unfinished = end_of_day_result_unfinished[end_of_day_result_unfinished['方向'] == '多']\n",
    "end_of_day_result_unfinished = end_of_day_result_unfinished.groupby(['产品标识','股票代码']).sum()\n",
    "end_of_day_result_unfinished = (end_of_day_result_unfinished['任务资金'] - end_of_day_result_unfinished['完成资金'])\n",
    "warning_part = end_of_day_result_unfinished[end_of_day_result_unfinished<0]\n",
    "end_of_day_result_unfinished.name = '任务资金'\n",
    "end_of_day_result_unfinished = end_of_day_result_unfinished[end_of_day_result_unfinished>0].reset_index().groupby(['产品标识','股票代码']).sum()"
   ]
  },
  {
   "cell_type": "code",
   "execution_count": null,
   "metadata": {
    "ExecuteTime": {
     "end_time": "2019-08-22T09:30:36.725905Z",
     "start_time": "2019-08-22T09:30:33.305057Z"
    },
    "code_folding": [
     0
    ],
    "collapsed": true
   },
   "outputs": [],
   "source": [
    "def process(df):\n",
    "    return df.set_index('模型')['任务资金']/df.set_index('模型')['任务资金'].sum()\n",
    "updated_buy_unfinished = updated_buy_unfinished.reset_index().groupby(['产品标识','股票代码'])\\\n",
    ".apply(process).reset_index().set_index(['产品标识','股票代码'])"
   ]
  },
  {
   "cell_type": "code",
   "execution_count": null,
   "metadata": {
    "ExecuteTime": {
     "end_time": "2019-08-22T09:30:36.773782Z",
     "start_time": "2019-08-22T09:30:36.740868Z"
    },
    "collapsed": true,
    "scrolled": true
   },
   "outputs": [],
   "source": [
    "updated_buy_unfinished['完成资金'] = end_of_day_result_unfinished['任务资金'] * updated_buy_unfinished['任务资金']"
   ]
  },
  {
   "cell_type": "code",
   "execution_count": null,
   "metadata": {
    "ExecuteTime": {
     "end_time": "2019-08-22T09:30:36.804695Z",
     "start_time": "2019-08-22T09:30:36.781759Z"
    },
    "scrolled": true
   },
   "outputs": [],
   "source": [
    "np.isclose(updated_buy_unfinished['完成资金'].sum(), end_of_day_result_unfinished['任务资金'].sum())"
   ]
  },
  {
   "cell_type": "code",
   "execution_count": null,
   "metadata": {
    "ExecuteTime": {
     "end_time": "2019-08-22T09:30:36.833617Z",
     "start_time": "2019-08-22T09:30:36.814668Z"
    }
   },
   "outputs": [],
   "source": [
    "updated_buy_unfinished['完成资金'].sum()"
   ]
  },
  {
   "cell_type": "code",
   "execution_count": null,
   "metadata": {
    "ExecuteTime": {
     "end_time": "2019-08-22T09:30:36.965266Z",
     "start_time": "2019-08-22T09:30:36.838604Z"
    },
    "code_folding": [
     0
    ],
    "collapsed": true
   },
   "outputs": [],
   "source": [
    "#replace date\n",
    "updated_buy_unfinished['完成资金'] = updated_buy_unfinished['完成资金']//1\n",
    "for mm in preset_n_days_model_combined(range(100)):\n",
    "    updated_buy_unfinished['模型'] = updated_buy_unfinished['模型'].replace(mm,int(get_n_week_date_after(today_nodot,preset_hold_days(mm)-1)))\n",
    "for dd in range(100):\n",
    "    updated_buy_unfinished['模型'] = updated_buy_unfinished['模型'].replace(dd,int(get_n_week_date_after(today_nodot,dd-1)))"
   ]
  },
  {
   "cell_type": "code",
   "execution_count": null,
   "metadata": {
    "ExecuteTime": {
     "end_time": "2019-08-22T09:30:36.989201Z",
     "start_time": "2019-08-22T09:30:36.970253Z"
    },
    "collapsed": true
   },
   "outputs": [],
   "source": [
    "updated_buy_unfinished['完成资金'] = updated_buy_unfinished['完成资金'].replace(0,np.nan)\n",
    "updated_buy_unfinished = updated_buy_unfinished.dropna(subset = ['完成资金'])"
   ]
  },
  {
   "cell_type": "code",
   "execution_count": null,
   "metadata": {
    "ExecuteTime": {
     "end_time": "2019-08-22T09:30:37.022114Z",
     "start_time": "2019-08-22T09:30:36.995185Z"
    },
    "scrolled": true
   },
   "outputs": [],
   "source": [
    "updated_buy_unfinished.groupby(level=0).sum()['完成资金'].sort_values()"
   ]
  },
  {
   "cell_type": "code",
   "execution_count": null,
   "metadata": {
    "ExecuteTime": {
     "end_time": "2019-08-22T09:30:37.056024Z",
     "start_time": "2019-08-22T09:30:37.032086Z"
    },
    "collapsed": true
   },
   "outputs": [],
   "source": [
    "updated_buy_unfinished = updated_buy_unfinished.reset_index()[~updated_buy_unfinished.reset_index()['产品标识']\\\n",
    "    .isin([])].set_index(['产品标识','股票代码'])\n",
    "updated_buy_unfinished = updated_buy_unfinished.reset_index()[~updated_buy_unfinished.reset_index()['股票代码']\\\n",
    "    .isin([])].set_index(['产品标识','股票代码'])"
   ]
  },
  {
   "cell_type": "code",
   "execution_count": null,
   "metadata": {
    "ExecuteTime": {
     "end_time": "2019-08-22T09:30:37.667391Z",
     "start_time": "2019-08-22T09:30:37.068987Z"
    },
    "collapsed": true
   },
   "outputs": [],
   "source": [
    "updated_buy_unfinished.reset_index().to_excel('实验_总任务管理表_买入_未完成_'+today_nodot+'.xlsx',index = False, encoding = 'gbk')"
   ]
  },
  {
   "cell_type": "code",
   "execution_count": null,
   "metadata": {
    "ExecuteTime": {
     "end_time": "2019-08-22T09:30:37.698303Z",
     "start_time": "2019-08-22T09:30:37.672374Z"
    },
    "collapsed": true
   },
   "outputs": [],
   "source": [
    "result = updated_buy_unfinished[(updated_buy_unfinished['模型']>int(get_n_week_date_after(str(int_today))))]"
   ]
  },
  {
   "cell_type": "code",
   "execution_count": null,
   "metadata": {
    "ExecuteTime": {
     "end_time": "2019-08-22T09:30:37.994511Z",
     "start_time": "2019-08-22T09:30:37.704289Z"
    },
    "collapsed": true,
    "scrolled": true
   },
   "outputs": [],
   "source": [
    "result = result.groupby(['产品标识','股票代码']).sum()['完成资金']\n",
    "result.name = '任务资金'\n",
    "result = result.reset_index()\n",
    "result['任务股数'] = ''\n",
    "result['方向'] = '多'\n",
    "close_data = pd.read_csv('tsdata_nonright_'+today_nodot+'.csv', encoding='gbk',index_col=0).iloc[:,5].replace('<NIL>',np.nan).astype(float)\n",
    "close_data.index = close_data.index.str[2:].astype(int)\n",
    "#close_data = pd.read_csv('close.csv',index_col=0).iloc[-1]\n",
    "#close_data.index = close_data.index.astype(int)\n",
    "result['close'] = close_data.loc[result['股票代码']].tolist()\n",
    "result['任务股数'] = result['任务资金']/result['close']\n",
    "result = result[(result['任务股数']>=100)&(result['任务资金']>=2000)]\n",
    "result['任务股数'] = ''\n",
    "result = result.loc[:,['产品标识','股票代码','任务资金','任务股数','方向']]"
   ]
  },
  {
   "cell_type": "code",
   "execution_count": null,
   "metadata": {
    "ExecuteTime": {
     "end_time": "2019-08-22T09:30:38.033435Z",
     "start_time": "2019-08-22T09:30:37.999498Z"
    },
    "collapsed": true
   },
   "outputs": [],
   "source": [
    "result.to_excel('买入_未完成_'+today_nodot+'.xlsx',index = False, encoding = 'gbk')"
   ]
  },
  {
   "cell_type": "code",
   "execution_count": null,
   "metadata": {
    "ExecuteTime": {
     "end_time": "2019-08-22T09:30:38.068315Z",
     "start_time": "2019-08-22T09:30:38.038394Z"
    },
    "scrolled": true
   },
   "outputs": [],
   "source": [
    "result.groupby('产品标识').sum().sort_values('任务资金')"
   ]
  },
  {
   "cell_type": "code",
   "execution_count": null,
   "metadata": {
    "ExecuteTime": {
     "end_time": "2019-08-22T09:30:38.100259Z",
     "start_time": "2019-08-22T09:30:38.073302Z"
    }
   },
   "outputs": [],
   "source": [
    "result['任务资金'].sum()"
   ]
  },
  {
   "cell_type": "code",
   "execution_count": null,
   "metadata": {
    "ExecuteTime": {
     "end_time": "2019-08-22T09:30:38.131148Z",
     "start_time": "2019-08-22T09:30:38.104219Z"
    },
    "scrolled": true
   },
   "outputs": [],
   "source": [
    "result.groupby('股票代码').sum()['任务资金'].sort_values()"
   ]
  },
  {
   "cell_type": "code",
   "execution_count": null,
   "metadata": {
    "ExecuteTime": {
     "end_time": "2019-08-22T09:30:38.177026Z",
     "start_time": "2019-08-22T09:30:38.138128Z"
    },
    "scrolled": true
   },
   "outputs": [],
   "source": [
    "result.groupby('股票代码').sum()['任务资金'].sort_values()[result.groupby('股票代码').sum()['任务资金'].sort_values()>1000000].index.tolist()"
   ]
  },
  {
   "cell_type": "code",
   "execution_count": null,
   "metadata": {
    "collapsed": true
   },
   "outputs": [],
   "source": []
  },
  {
   "cell_type": "code",
   "execution_count": null,
   "metadata": {
    "collapsed": true
   },
   "outputs": [],
   "source": []
  },
  {
   "cell_type": "code",
   "execution_count": null,
   "metadata": {
    "collapsed": true
   },
   "outputs": [],
   "source": []
  }
 ],
 "metadata": {
  "kernelspec": {
   "display_name": "Python 3",
   "language": "python",
   "name": "python3"
  },
  "language_info": {
   "codemirror_mode": {
    "name": "ipython",
    "version": 3
   },
   "file_extension": ".py",
   "mimetype": "text/x-python",
   "name": "python",
   "nbconvert_exporter": "python",
   "pygments_lexer": "ipython3",
   "version": "3.6.4"
  },
  "varInspector": {
   "cols": {
    "lenName": 16,
    "lenType": 16,
    "lenVar": 40
   },
   "kernels_config": {
    "python": {
     "delete_cmd_postfix": "",
     "delete_cmd_prefix": "del ",
     "library": "var_list.py",
     "varRefreshCmd": "print(var_dic_list())"
    },
    "r": {
     "delete_cmd_postfix": ") ",
     "delete_cmd_prefix": "rm(",
     "library": "var_list.r",
     "varRefreshCmd": "cat(var_dic_list()) "
    }
   },
   "types_to_exclude": [
    "module",
    "function",
    "builtin_function_or_method",
    "instance",
    "_Feature"
   ],
   "window_display": false
  }
 },
 "nbformat": 4,
 "nbformat_minor": 2
}
