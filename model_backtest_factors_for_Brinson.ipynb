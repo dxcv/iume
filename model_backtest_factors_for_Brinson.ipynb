{
 "cells": [
  {
   "cell_type": "code",
   "execution_count": 1,
   "metadata": {
    "ExecuteTime": {
     "end_time": "2019-08-18T09:07:44.701392Z",
     "start_time": "2019-08-18T09:07:42.283737Z"
    },
    "code_folding": [
     0
    ],
    "collapsed": true
   },
   "outputs": [],
   "source": [
    "#import\n",
    "import warnings\n",
    "warnings.filterwarnings(\"ignore\")\n",
    "%matplotlib inline\n",
    "import matplotlib.pyplot as plt\n",
    "import datetime\n",
    "import pandas as pd\n",
    "import numpy as np\n",
    "import pymysql\n",
    "import operator\n",
    "import os\n",
    "from scipy import stats\n",
    "from statsmodels.regression.linear_model import OLS\n",
    "from datetime import *\n",
    "import scipy.io as sio\n",
    "import h5py\n",
    "import copy\n",
    "import shutil\n",
    "import rarfile\n",
    "from general_function import *\n",
    "import scipy.stats as scs\n",
    "from matplotlib_venn import venn3\n",
    "from matplotlib_venn import venn2\n",
    "import seaborn as sns\n",
    "import matplotlib.pyplot as plt\n",
    "import matplotlib.gridspec as gridspec\n",
    "from matplotlib.font_manager import FontProperties\n",
    "plt.rcParams['font.sans-serif'] = ['SimHei']  #用来正常显示中文标签\n",
    "plt.rcParams['axes.unicode_minus'] = False  #用来正常显示负号\n",
    "sns.set(style=\"whitegrid\")\n",
    "myfont = FontProperties(fname=r'C:\\Windows\\Fonts\\simhei.ttf', size=10)\n",
    "sns.set(\n",
    "    font=myfont.get_name(),\n",
    "    style=\"whitegrid\",\n",
    "    palette=\"muted\",\n",
    "    color_codes=True)"
   ]
  },
  {
   "cell_type": "code",
   "execution_count": 2,
   "metadata": {
    "ExecuteTime": {
     "end_time": "2019-08-18T09:07:44.810992Z",
     "start_time": "2019-08-18T09:07:44.702252Z"
    },
    "code_folding": [
     0
    ],
    "collapsed": true
   },
   "outputs": [],
   "source": [
    "#data and preprocess 1\n",
    "zzIcData = pd.read_csv('zz500_from_db.csv')\n",
    "zzIcData.columns = [int(i) for i in zzIcData.columns]\n",
    "zzIcData[1] = [pd.datetime.strptime(str(date.fromordinal(int(i)-366)).replace('-',''),'%Y%m%d') for i in zzIcData[1]]\n",
    "zzIcData = zzIcData[zzIcData[1]>=datetime(2015,1,1)]\n",
    "zzIcData.set_index(1,inplace=True)\n",
    "benchmark_return = (zzIcData[5]/zzIcData[5].shift(1)-1).dropna()"
   ]
  },
  {
   "cell_type": "code",
   "execution_count": 3,
   "metadata": {
    "ExecuteTime": {
     "end_time": "2019-08-18T09:07:51.707027Z",
     "start_time": "2019-08-18T09:07:44.814985Z"
    },
    "code_folding": [],
    "collapsed": true
   },
   "outputs": [],
   "source": [
    "#data and preprocess 2\n",
    "dateparse = lambda dates: pd.datetime.strptime(dates, '%Y%m%d')\n",
    "mkt_cap_ard = pd.read_csv('mkt_cap_ard.csv',index_col=0,date_parser=dateparse).replace(0,np.nan)\n",
    "mkt_cap_ard.columns = mkt_cap_ard.columns.astype(int)\n",
    "mkt_cap_ard.fillna(method='ffill',inplace=True)\n",
    "mkt_cap_ard = mkt_cap_ard[mkt_cap_ard.index>=datetime(2015,1,1)]\n",
    "volume = pd.read_csv('volume.csv',index_col=0,date_parser=dateparse)\n",
    "volume.columns = volume.columns.astype(int)\n",
    "volume.fillna(0,inplace=True)\n",
    "free_float_shares = pd.read_csv('free_float_shares.csv',index_col=0,date_parser=dateparse)\n",
    "free_float_shares.columns = free_float_shares.columns.astype(int)\n",
    "free_float_shares.fillna(method='ffill',inplace=True)\n",
    "free_float_turn = volume/free_float_shares"
   ]
  },
  {
   "cell_type": "code",
   "execution_count": 4,
   "metadata": {
    "ExecuteTime": {
     "end_time": "2019-08-18T09:08:01.971800Z",
     "start_time": "2019-08-18T09:07:51.715004Z"
    },
    "code_folding": [
     0
    ],
    "collapsed": true
   },
   "outputs": [],
   "source": [
    "#data and preprocess 3\n",
    "pcf_ocf_ttm = pd.read_csv('pcf_ocf_ttm.csv',index_col=0,date_parser=dateparse)\n",
    "pcf_ocf_ttm.columns = pcf_ocf_ttm.columns.astype(int)\n",
    "pcf_ocf_ttm = pcf_ocf_ttm[pcf_ocf_ttm.index>=datetime(2015,1,1)]\n",
    "pb_lf = pd.read_csv('pb_lf.csv',index_col=0,date_parser=dateparse)\n",
    "pb_lf.columns = pb_lf.columns.astype(int)\n",
    "pb_lf = pb_lf[pb_lf.index>=datetime(2015,1,1)]\n",
    "pe_ttm = pd.read_csv('pe_ttm.csv',index_col=0,date_parser=dateparse)\n",
    "pe_ttm.columns = pe_ttm.columns.astype(int)\n",
    "pe_ttm = pe_ttm[pe_ttm.index>=datetime(2015,1,1)]\n",
    "qfa_yoyprofit = pd.read_csv('qfa_yoyprofit.csv',index_col=0,date_parser=dateparse)\n",
    "qfa_yoyprofit.columns = qfa_yoyprofit.columns.astype(int)\n",
    "qfa_yoyprofit = qfa_yoyprofit[qfa_yoyprofit.index>=datetime(2015,1,1)]\n",
    "qfa_yoysales = pd.read_csv('qfa_yoysales.csv',index_col=0,date_parser=dateparse)\n",
    "qfa_yoysales.columns = qfa_yoysales.columns.astype(int)\n",
    "qfa_yoysales = qfa_yoysales[qfa_yoysales.index>=datetime(2015,1,1)]\n",
    "tot_liab = pd.read_csv('tot_liab.csv',index_col=0,date_parser=dateparse)\n",
    "tot_liab.columns = tot_liab.columns.astype(int)\n",
    "tot_liab = tot_liab[tot_liab.index>=datetime(2015,1,1)]\n",
    "tot_assets = pd.read_csv('tot_assets.csv',index_col=0,date_parser=dateparse)\n",
    "tot_assets.columns = tot_assets.columns.astype(int)\n",
    "tot_assets = tot_assets[tot_assets.index>=datetime(2015,1,1)]\n",
    "tot_non_cur_liab = pd.read_csv('tot_non_cur_liab.csv',index_col=0,date_parser=dateparse)\n",
    "tot_non_cur_liab.columns = tot_non_cur_liab.columns.astype(int)\n",
    "tot_non_cur_liab = tot_non_cur_liab[tot_non_cur_liab.index>=datetime(2015,1,1)]\n",
    "tot_equity = pd.read_csv('tot_equity.csv',index_col=0,date_parser=dateparse)\n",
    "tot_equity.columns = tot_equity.columns.astype(int)\n",
    "tot_equity = tot_equity[tot_equity.index>=datetime(2015,1,1)]"
   ]
  },
  {
   "cell_type": "code",
   "execution_count": 5,
   "metadata": {
    "ExecuteTime": {
     "end_time": "2019-08-18T09:08:08.082452Z",
     "start_time": "2019-08-18T09:08:01.974791Z"
    },
    "code_folding": [
     0
    ],
    "collapsed": true,
    "scrolled": true
   },
   "outputs": [],
   "source": [
    "#data and preprocess 4\n",
    "close_p = pd.read_csv('close.csv',index_col = 0, date_parser=dateparse)\n",
    "amt = pd.read_csv('amt.csv',index_col = 0, date_parser=dateparse)\n",
    "adjfactor = pd.read_csv('adjfactor.csv',index_col = 0, date_parser=dateparse)\n",
    "close_p.columns = close_p.columns.astype(int)\n",
    "amt.columns = amt.columns.astype(int)\n",
    "adjfactor.columns = adjfactor.columns.astype(int)\n",
    "close_p = close_p[close_p.index>=datetime(2015,1,1)]\n",
    "amt = amt[amt.index>=datetime(2015,1,1)]\n",
    "adjfactor = adjfactor[adjfactor.index>=datetime(2015,1,1)]\n",
    "adjclose = adjfactor * close_p\n",
    "adjclose.fillna(method='ffill',inplace=True)\n",
    "adjpreclose = adjclose.shift(1)\n",
    "close_to_close = adjclose/adjpreclose - 1\n",
    "amt = amt.replace(0,np.nan)\n",
    "amt = amt.T.dropna(how='all').T\n",
    "#close_to_close = close_to_close[pd.notnull(amt)].dropna(how='all')\n",
    "close_to_close = close_to_close.dropna(how='all')"
   ]
  },
  {
   "cell_type": "code",
   "execution_count": 6,
   "metadata": {
    "ExecuteTime": {
     "end_time": "2019-08-18T09:09:55.536477Z",
     "start_time": "2019-08-18T09:08:08.084446Z"
    },
    "code_folding": [
     0
    ],
    "collapsed": true
   },
   "outputs": [],
   "source": [
    "#data and preprocess 5\n",
    "def expontial_decay_weight(n,half_life,normalize = False):\n",
    "    alpha = 1 - np.exp((np.log(0.5))/half_life)\n",
    "    weight_array = np.arange(n-1,-1,-1)\n",
    "    weight_array = (1-alpha)**weight_array\n",
    "    if normalize:\n",
    "        weight_array = weight_array/weight_array.sum()\n",
    "    return weight_array\n",
    "benchmark_return_df = pd.DataFrame()\n",
    "for i in close_to_close.columns:\n",
    "    add = benchmark_return.copy()\n",
    "    add.name = i\n",
    "    benchmark_return_df = pd.concat([benchmark_return_df,add],axis=1)\n",
    "excess_close_to_close = close_to_close - benchmark_return_df"
   ]
  },
  {
   "cell_type": "code",
   "execution_count": 7,
   "metadata": {
    "ExecuteTime": {
     "end_time": "2019-08-18T09:09:55.559391Z",
     "start_time": "2019-08-18T09:09:55.538445Z"
    },
    "code_folding": [
     0
    ],
    "collapsed": true
   },
   "outputs": [],
   "source": [
    "def Schimidt(factors_ori):\n",
    "    col_name = factors_ori.columns\n",
    "    factors = factors_ori.values\n",
    "\n",
    "    R = np.zeros((factors.shape[1], factors.shape[1]))\n",
    "    Q = np.zeros(factors.shape)\n",
    "    for k in range(0, factors.shape[1]):\n",
    "        R[k, k] = np.sqrt(np.dot(factors[:, k], factors[:, k]))\n",
    "        Q[:, k] = factors[:, k]/R[k, k]\n",
    "        for j in range(k+1, factors.shape[1]):\n",
    "            R[k, j] = np.dot(Q[:, k], factors[:, j])\n",
    "            factors[:, j] = factors[:, j] - R[k, j]*Q[:, k]\n",
    "\n",
    "    Q = pd.DataFrame(Q,columns = col_name,index = factors_ori.index)\n",
    "    return Q"
   ]
  },
  {
   "cell_type": "code",
   "execution_count": null,
   "metadata": {
    "collapsed": true
   },
   "outputs": [],
   "source": []
  },
  {
   "cell_type": "code",
   "execution_count": null,
   "metadata": {
    "collapsed": true
   },
   "outputs": [],
   "source": []
  },
  {
   "cell_type": "code",
   "execution_count": null,
   "metadata": {
    "collapsed": true
   },
   "outputs": [],
   "source": []
  },
  {
   "cell_type": "code",
   "execution_count": 8,
   "metadata": {
    "ExecuteTime": {
     "end_time": "2019-08-18T09:09:55.605297Z",
     "start_time": "2019-08-18T09:09:55.563379Z"
    },
    "collapsed": true
   },
   "outputs": [],
   "source": [
    "SIZE = np.log(mkt_cap_ard)"
   ]
  },
  {
   "cell_type": "code",
   "execution_count": 9,
   "metadata": {
    "ExecuteTime": {
     "end_time": "2019-08-18T09:11:59.679369Z",
     "start_time": "2019-08-18T09:09:55.608257Z"
    },
    "code_folding": [
     0
    ],
    "collapsed": true
   },
   "outputs": [],
   "source": [
    "def process(df):\n",
    "    df = df[:-21]\n",
    "    df[np.isnan(df)]=0\n",
    "    weight = expontial_decay_weight(len(df),126,normalize=True)\n",
    "    return np.sum(np.log(df+1)*weight)\n",
    "RSTR = close_to_close.rolling(window = 504, min_periods=42).apply(process)"
   ]
  },
  {
   "cell_type": "code",
   "execution_count": 10,
   "metadata": {
    "ExecuteTime": {
     "end_time": "2019-08-18T09:13:34.180552Z",
     "start_time": "2019-08-18T09:11:59.681332Z"
    },
    "code_folding": [
     0
    ],
    "collapsed": true,
    "scrolled": true
   },
   "outputs": [],
   "source": [
    "def process(df):\n",
    "    df[np.isnan(df)]=0\n",
    "    weight = expontial_decay_weight(len(df),42,normalize=True)\n",
    "    return np.sqrt(np.sum(np.square(df)*weight))\n",
    "DASTD = excess_close_to_close.rolling(window = 252, min_periods=42).apply(process)"
   ]
  },
  {
   "cell_type": "code",
   "execution_count": 11,
   "metadata": {
    "ExecuteTime": {
     "end_time": "2019-08-18T09:18:54.873621Z",
     "start_time": "2019-08-18T09:13:34.182519Z"
    },
    "code_folding": [
     0
    ],
    "collapsed": true
   },
   "outputs": [],
   "source": [
    "def process(df):\n",
    "    df[np.isnan(df)]=0\n",
    "    Z_12 = np.exp(np.sum(np.log(1+df)))-1\n",
    "    Z_11 = np.exp(np.sum(np.log(1+df[1*21:])))-1\n",
    "    Z_10 = np.exp(np.sum(np.log(1+df[2*21:])))-1\n",
    "    Z_9 = np.exp(np.sum(np.log(1+df[3*21:])))-1\n",
    "    Z_8 = np.exp(np.sum(np.log(1+df[4*21:])))-1\n",
    "    Z_7 = np.exp(np.sum(np.log(1+df[5*21:])))-1\n",
    "    Z_6 = np.exp(np.sum(np.log(1+df[6*21:])))-1\n",
    "    Z_5 = np.exp(np.sum(np.log(1+df[7*21:])))-1\n",
    "    Z_4 = np.exp(np.sum(np.log(1+df[8*21:])))-1\n",
    "    Z_3 = np.exp(np.sum(np.log(1+df[9*21:])))-1\n",
    "    Z_2 = np.exp(np.sum(np.log(1+df[10*21:])))-1\n",
    "    Z_1 = np.exp(np.sum(np.log(1+df[11*21:])))-1\n",
    "    return np.log(1 + np.max([Z_12,Z_11,Z_10,Z_9,Z_8,Z_7,Z_6,Z_5,Z_4,Z_3,Z_2,Z_1])) - \\\n",
    "           np.log(1 + np.min([Z_12,Z_11,Z_10,Z_9,Z_8,Z_7,Z_6,Z_5,Z_4,Z_3,Z_2,Z_1]))\n",
    "CMRA = close_to_close.rolling(window = 12*21).apply(process)"
   ]
  },
  {
   "cell_type": "code",
   "execution_count": 12,
   "metadata": {
    "ExecuteTime": {
     "end_time": "2019-08-18T09:35:24.050337Z",
     "start_time": "2019-08-18T09:18:54.875587Z"
    },
    "code_folding": [],
    "collapsed": true,
    "scrolled": true
   },
   "outputs": [],
   "source": [
    "beta_calculation_mid = pd.concat([close_to_close.stack(),benchmark_return_df.stack()],axis=1)\n",
    "cov_df = pd.DataFrame()\n",
    "for i in close_to_close.columns.tolist():\n",
    "    add = beta_calculation_mid.xs(i,level=1).ewm(min_periods = 42, halflife=63).cov().xs(1,level=1)[0]\n",
    "    add.name = i\n",
    "    cov_df = pd.concat([cov_df,add],axis=1)\n",
    "BETA = cov_df/(benchmark_return_df.ewm(min_periods = 42, halflife=63).std()**2)"
   ]
  },
  {
   "cell_type": "code",
   "execution_count": 13,
   "metadata": {
    "ExecuteTime": {
     "end_time": "2019-08-18T09:36:24.664177Z",
     "start_time": "2019-08-18T09:35:24.052300Z"
    },
    "code_folding": [
     1
    ],
    "collapsed": true
   },
   "outputs": [],
   "source": [
    "HSIGMA = pd.DataFrame()\n",
    "for i in close_to_close.index:\n",
    "    sub_close_to_close = close_to_close[close_to_close.index<=i]\n",
    "    sub_benchmark_return_df =benchmark_return_df[benchmark_return_df.index<=i]\n",
    "    add = (sub_close_to_close.iloc[-252:] - sub_benchmark_return_df.iloc[-252:] * BETA.loc[i]).std()\n",
    "    add.name = i\n",
    "    HSIGMA = pd.concat([HSIGMA,add.to_frame().T])"
   ]
  },
  {
   "cell_type": "code",
   "execution_count": 14,
   "metadata": {
    "ExecuteTime": {
     "end_time": "2019-08-18T09:36:24.884587Z",
     "start_time": "2019-08-18T09:36:24.666143Z"
    },
    "collapsed": true
   },
   "outputs": [],
   "source": [
    "NonLinerSize = (1/np.square((SIZE.T - SIZE.mean(axis=1))/SIZE.std(axis=1))).T"
   ]
  },
  {
   "cell_type": "code",
   "execution_count": 15,
   "metadata": {
    "ExecuteTime": {
     "end_time": "2019-08-18T09:36:26.326729Z",
     "start_time": "2019-08-18T09:36:24.886555Z"
    },
    "collapsed": true
   },
   "outputs": [],
   "source": [
    "STOM = np.log(free_float_turn.replace(0,np.nan).rolling(window=21).mean())\n",
    "STOQ = np.log(free_float_turn.replace(0,np.nan).rolling(window=63).mean())\n",
    "STOA = np.log(free_float_turn.replace(0,np.nan).rolling(window=252).mean())"
   ]
  },
  {
   "cell_type": "code",
   "execution_count": 16,
   "metadata": {
    "ExecuteTime": {
     "end_time": "2019-08-18T09:36:26.541155Z",
     "start_time": "2019-08-18T09:36:26.328696Z"
    },
    "collapsed": true
   },
   "outputs": [],
   "source": [
    "BP = 1/pb_lf\n",
    "CETOP = 1/pcf_ocf_ttm\n",
    "ETOP = 1/pe_ttm\n",
    "YOYProfit = qfa_yoyprofit\n",
    "YOYSales = qfa_yoysales\n",
    "MLEV = (mkt_cap_ard + tot_non_cur_liab) / mkt_cap_ard\n",
    "DTOA = tot_assets / tot_liab\n",
    "BLEV = (tot_equity + tot_non_cur_liab) / tot_equity"
   ]
  },
  {
   "cell_type": "code",
   "execution_count": null,
   "metadata": {
    "collapsed": true
   },
   "outputs": [],
   "source": []
  },
  {
   "cell_type": "code",
   "execution_count": null,
   "metadata": {
    "collapsed": true
   },
   "outputs": [],
   "source": []
  },
  {
   "cell_type": "code",
   "execution_count": null,
   "metadata": {
    "collapsed": true
   },
   "outputs": [],
   "source": []
  },
  {
   "cell_type": "code",
   "execution_count": 17,
   "metadata": {
    "ExecuteTime": {
     "end_time": "2019-08-18T09:36:27.903514Z",
     "start_time": "2019-08-18T09:36:26.543139Z"
    },
    "code_folding": [
     0
    ],
    "collapsed": true
   },
   "outputs": [],
   "source": [
    "#origin\n",
    "AGG_BETA = 1 * BETA\n",
    "AGG_SIZE = 1 * SIZE\n",
    "AGG_MOMENTUM = 1 * RSTR\n",
    "AGG_VOLATILITY = (0.7 * DASTD.fillna(0) + 0.15 * CMRA.fillna(0) + 0.15 * HSIGMA.fillna(0)).replace(0, np.nan)\n",
    "AGG_NonLinerSize = 1 * NonLinerSize\n",
    "AGG_VALUE = 1 * BP\n",
    "AGG_LIQUIDITY = (0.5 * STOM.fillna(0) + 0.25 * STOQ.fillna(0) + 0.25 * STOA.fillna(0)).replace(0, np.nan)\n",
    "AGG_PROFITABILITY = (0.5 * CETOP.fillna(0) + 0.5 * ETOP.fillna(0)).replace(0, np.nan)\n",
    "AGG_GROWTH = (0.5 * YOYProfit.fillna(0) + 0.5 * YOYSales.fillna(0)).replace(0, np.nan)\n",
    "AGG_LEVERAGE = (1/3 * MLEV.fillna(0) + 1/3 * DTOA.fillna(0) + 1/3 * BLEV.fillna(0)).replace(0, np.nan)"
   ]
  },
  {
   "cell_type": "code",
   "execution_count": 18,
   "metadata": {
    "ExecuteTime": {
     "end_time": "2019-08-18T09:37:35.718062Z",
     "start_time": "2019-08-18T09:36:27.905478Z"
    },
    "code_folding": [
     0
    ],
    "collapsed": true
   },
   "outputs": [],
   "source": [
    "#write\n",
    "AGG_BETA.dropna(how='all').to_csv('Non_Neutralized_BETA.csv',encoding='gbk')\n",
    "AGG_SIZE.dropna(how='all').to_csv('Non_Neutralized_SIZE.csv',encoding='gbk')\n",
    "AGG_MOMENTUM.dropna(how='all').to_csv('Non_Neutralized_MOMENTUM.csv',encoding='gbk')\n",
    "AGG_VOLATILITY.dropna(how='all').to_csv('Non_Neutralized_VOLATILITY.csv',encoding='gbk')\n",
    "AGG_NonLinerSize.dropna(how='all').to_csv('Non_Neutralized_NonLinerSize.csv',encoding='gbk')\n",
    "AGG_VALUE.dropna(how='all').to_csv('Non_Neutralized_VALUE.csv',encoding='gbk')\n",
    "AGG_LIQUIDITY.dropna(how='all').to_csv('Non_Neutralized_LIQUIDITY.csv',encoding='gbk')\n",
    "AGG_PROFITABILITY.dropna(how='all').to_csv('Non_Neutralized_PROFITABILITY.csv',encoding='gbk')\n",
    "AGG_GROWTH.dropna(how='all').to_csv('Non_Neutralized_GROWTH.csv',encoding='gbk')\n",
    "AGG_LEVERAGE.dropna(how='all').to_csv('Non_Neutralized_LEVERAGE.csv',encoding='gbk')"
   ]
  },
  {
   "cell_type": "code",
   "execution_count": 19,
   "metadata": {
    "ExecuteTime": {
     "end_time": "2019-08-18T09:37:45.419138Z",
     "start_time": "2019-08-18T09:37:35.721054Z"
    },
    "code_folding": [
     0
    ],
    "collapsed": true,
    "scrolled": true
   },
   "outputs": [],
   "source": [
    "#neutralize\n",
    "AGG_BETA = ((AGG_BETA.T - (((mkt_cap_ard[pd.notnull(AGG_BETA)].T/\\\n",
    "    mkt_cap_ard[pd.notnull(AGG_BETA)].sum(axis=1)).T)* AGG_BETA).sum(axis=1))/AGG_BETA.std(axis=1)).T\n",
    "AGG_SIZE = ((AGG_SIZE.T - (((mkt_cap_ard[pd.notnull(AGG_SIZE)].T/\\\n",
    "    mkt_cap_ard[pd.notnull(AGG_SIZE)].sum(axis=1)).T)* AGG_SIZE).sum(axis=1))/AGG_SIZE.std(axis=1)).T\n",
    "AGG_MOMENTUM = ((AGG_MOMENTUM.T - (((mkt_cap_ard[pd.notnull(AGG_MOMENTUM)].T/\\\n",
    "    mkt_cap_ard[pd.notnull(AGG_MOMENTUM)].sum(axis=1)).T)* AGG_MOMENTUM).sum(axis=1))/AGG_MOMENTUM.std(axis=1)).T\n",
    "AGG_VOLATILITY = ((AGG_VOLATILITY.T - (((mkt_cap_ard[pd.notnull(AGG_VOLATILITY)].T/\\\n",
    "    mkt_cap_ard[pd.notnull(AGG_VOLATILITY)].sum(axis=1)).T)* AGG_VOLATILITY).sum(axis=1))/AGG_VOLATILITY.std(axis=1)).T\n",
    "AGG_NonLinerSize = ((AGG_NonLinerSize.T - (((mkt_cap_ard[pd.notnull(AGG_NonLinerSize)].T/\\\n",
    "    mkt_cap_ard[pd.notnull(AGG_NonLinerSize)].sum(axis=1)).T)* AGG_NonLinerSize).sum(axis=1))/AGG_NonLinerSize.std(axis=1)).T\n",
    "AGG_VALUE = ((AGG_VALUE.T - (((mkt_cap_ard[pd.notnull(AGG_VALUE)].T/\\\n",
    "    mkt_cap_ard[pd.notnull(AGG_VALUE)].sum(axis=1)).T)* AGG_VALUE).sum(axis=1))/AGG_VALUE.std(axis=1)).T\n",
    "AGG_LIQUIDITY = ((AGG_LIQUIDITY.T - (((mkt_cap_ard[pd.notnull(AGG_LIQUIDITY)].T/\\\n",
    "    mkt_cap_ard[pd.notnull(AGG_LIQUIDITY)].sum(axis=1)).T)* AGG_LIQUIDITY).sum(axis=1))/AGG_LIQUIDITY.std(axis=1)).T\n",
    "AGG_PROFITABILITY = ((AGG_PROFITABILITY.T - (((mkt_cap_ard[pd.notnull(AGG_PROFITABILITY)].T/\\\n",
    "    mkt_cap_ard[pd.notnull(AGG_PROFITABILITY)].sum(axis=1)).T)* AGG_PROFITABILITY).sum(axis=1))/AGG_PROFITABILITY.std(axis=1)).T\n",
    "AGG_GROWTH = ((AGG_GROWTH.T - (((mkt_cap_ard[pd.notnull(AGG_GROWTH)].T/\\\n",
    "    mkt_cap_ard[pd.notnull(AGG_GROWTH)].sum(axis=1)).T)* AGG_GROWTH).sum(axis=1))/AGG_GROWTH.std(axis=1)).T\n",
    "AGG_LEVERAGE = ((AGG_LEVERAGE.T - (((mkt_cap_ard[pd.notnull(AGG_LEVERAGE)].T/\\\n",
    "    mkt_cap_ard[pd.notnull(AGG_LEVERAGE)].sum(axis=1)).T)* AGG_LEVERAGE).sum(axis=1))/AGG_LEVERAGE.std(axis=1)).T"
   ]
  },
  {
   "cell_type": "code",
   "execution_count": 20,
   "metadata": {
    "ExecuteTime": {
     "end_time": "2019-08-18T09:38:54.640924Z",
     "start_time": "2019-08-18T09:37:45.421105Z"
    },
    "code_folding": [
     0
    ],
    "collapsed": true
   },
   "outputs": [],
   "source": [
    "#write\n",
    "AGG_BETA.dropna(how='all').to_csv('AGG_BETA.csv',encoding='gbk')\n",
    "AGG_SIZE.dropna(how='all').to_csv('AGG_SIZE.csv',encoding='gbk')\n",
    "AGG_MOMENTUM.dropna(how='all').to_csv('AGG_MOMENTUM.csv',encoding='gbk')\n",
    "AGG_VOLATILITY.dropna(how='all').to_csv('AGG_VOLATILITY.csv',encoding='gbk')\n",
    "AGG_NonLinerSize.dropna(how='all').to_csv('AGG_NonLinerSize.csv',encoding='gbk')\n",
    "AGG_VALUE.dropna(how='all').to_csv('AGG_VALUE.csv',encoding='gbk')\n",
    "AGG_LIQUIDITY.dropna(how='all').to_csv('AGG_LIQUIDITY.csv',encoding='gbk')\n",
    "AGG_PROFITABILITY.dropna(how='all').to_csv('AGG_PROFITABILITY.csv',encoding='gbk')\n",
    "AGG_GROWTH.dropna(how='all').to_csv('AGG_GROWTH.csv',encoding='gbk')\n",
    "AGG_LEVERAGE.dropna(how='all').to_csv('AGG_LEVERAGE.csv',encoding='gbk')"
   ]
  },
  {
   "cell_type": "code",
   "execution_count": null,
   "metadata": {
    "collapsed": true
   },
   "outputs": [],
   "source": []
  },
  {
   "cell_type": "code",
   "execution_count": null,
   "metadata": {
    "collapsed": true
   },
   "outputs": [],
   "source": []
  },
  {
   "cell_type": "code",
   "execution_count": null,
   "metadata": {
    "collapsed": true
   },
   "outputs": [],
   "source": []
  }
 ],
 "metadata": {
  "kernelspec": {
   "display_name": "Python 3",
   "language": "python",
   "name": "python3"
  },
  "language_info": {
   "codemirror_mode": {
    "name": "ipython",
    "version": 3
   },
   "file_extension": ".py",
   "mimetype": "text/x-python",
   "name": "python",
   "nbconvert_exporter": "python",
   "pygments_lexer": "ipython3",
   "version": "3.6.4"
  }
 },
 "nbformat": 4,
 "nbformat_minor": 2
}
